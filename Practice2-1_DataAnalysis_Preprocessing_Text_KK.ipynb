{
 "cells": [
  {
   "cell_type": "markdown",
   "metadata": {},
   "source": [
    "# **알고리즘의 데이터 학습을 위한 전처리**\n",
    "\n",
    "[![Open in Colab](http://colab.research.google.com/assets/colab-badge.svg)](https://colab.research.google.com/github/thekimk/Tutorial-Python-Programming/blob/main/Practice1-8_Basic_DataFrameAdvance_KK.ipynb)\n",
    "\n",
    "<center><img src='Image/Advanced/Bigdata_Algorithm.png' width='600'></center>"
   ]
  },
  {
   "cell_type": "markdown",
   "metadata": {},
   "source": [
    "## 자연어 처리(Natural Language Processing)\n",
    "\n",
    "**1) Text Analytics:** `컴퓨터와 인간언어의 상호작용` 분야에서 출발했으며, 기계가 `인간의 언어를 이해하고 해석`하기 위해 `텍스트에서`에서 `의미있는 정보를 추출`하는 기술\n",
    "\n",
    "| **분석 기법** | **설명** |\n",
    "|:---|:---|\n",
    "| **텍스트 요약(Summarization)** | 텍스트 내 의미있는 `주요 주제나 중심 사상`을 추출하는 `토픽 모델링(Topic Modeling)`에 활용 |\n",
    "| **텍스트 예측(Text Prediction)** | 기존의 문서나 말의 내용을 기반으로 `향후 등장할 단어나 문장을 예측` <br> `지도학습` 방식으로 주로 학습하여   `구글번역, 이메일 자동완성, 챗봇 등`에 활용 |\n",
    "| **텍스트 분류(Text Classification)** | 문서가 `특정 분류 또는 카테고리`에 속하는 지 예측 <br> `지도 학습` 방식으로 주로 학습하여 `기사 카테고리 분류   및 스팸 메일 검출 등`에 활용 |\n",
    "| **텍스트 군집화(Clustering)** | `비슷한 유형의 문서`를 모아 `유사도 기반 군집화`를 수행 <br> 빈번하게 출현하는 유의미한 `동시 출현 단어쌍`들을 네트워크 분석으로 관계 파악 |\n",
    "| **감정 분석(Sentiment Analysis)** | `텍스트에서 나타나는 의견이나 감정`을 분석하는 기법 <br> `소셜 미디어 감정 분석, 영화나 제품의 리뷰 긍부정 분석, 사회 이슈파악, 여론분석이나 심리분석 등` <br> 텍스트 분석에서 가장 활발하게 활용 |\n",
    "\n",
    "---\n",
    "\n",
    "**2) 자연어 전처리(Natural Language Preprocessing):**\n",
    "\n",
    "> **\"`텍스트마이닝` 적용을 위해 `문제 용도와 알고리즘에 맞게 텍스트 코퍼스(Corpus)를 처리하는 것` (`비구조화 데이터` $\\rightarrow$ `구조화 데이터`)\"**\n",
    ">\n",
    "> - **Corpus:** 컴퓨터에 저장된 체계적인 `자연어 디지털 데이터 모음`으로 `언어의 구성`을 알아내는데 사용하며 `말뭉치`라고도 함\n",
    "\n",
    "<center><img src='Image/Advanced/NLP_Process2.png' width='700'>(https://brunch.co.kr/@geumjaelee/4)</center>\n",
    "\n",
    "---\n",
    "\n",
    "<center><img src='Image/Advanced/NLP_Process.png' width='700'>(https://gritmind.blog/2021/03/27/search_nlp/)</center>\n",
    "\n",
    "---\n",
    "\n",
    "```python\n",
    "# 설치\n",
    "# NLTK(National Language Toolkit for Python)\n",
    "# 파이썬의 가장 대표적인 NLP 패키지로 모든 영역을 커버\n",
    "# 많은 NLP 패키지가 NLTK의 영향을 받음\n",
    "# 속도에서 아쉬운 부분이 있어 빅데이터에서 제대로 활용되지 못함\n",
    "!pip install nltk\n",
    "import nltk\n",
    "nltk.download()    # Just Once\n",
    "```"
   ]
  },
  {
   "cell_type": "code",
   "execution_count": 1,
   "metadata": {},
   "outputs": [
    {
     "name": "stdout",
     "output_type": "stream",
     "text": [
      "Requirement already satisfied: nltk in c:\\users\\kk\\anaconda3\\lib\\site-packages (3.7)\n",
      "Requirement already satisfied: regex>=2021.8.3 in c:\\users\\kk\\anaconda3\\lib\\site-packages (from nltk) (2022.7.9)\n",
      "Requirement already satisfied: tqdm in c:\\users\\kk\\anaconda3\\lib\\site-packages (from nltk) (4.64.0)\n",
      "Requirement already satisfied: click in c:\\users\\kk\\anaconda3\\lib\\site-packages (from nltk) (8.0.4)\n",
      "Requirement already satisfied: joblib in c:\\users\\kk\\appdata\\roaming\\python\\python39\\site-packages (from nltk) (1.0.1)\n",
      "Requirement already satisfied: colorama in c:\\users\\kk\\anaconda3\\lib\\site-packages (from click->nltk) (0.4.5)\n",
      "\n",
      "[notice] A new release of pip available: 22.2 -> 22.2.2\n",
      "[notice] To update, run: python.exe -m pip install --upgrade pip\n",
      "Requirement already satisfied: tensorflow in c:\\users\\kk\\appdata\\roaming\\python\\python39\\site-packages (2.9.1)\n",
      "Requirement already satisfied: gast<=0.4.0,>=0.2.1 in c:\\users\\kk\\appdata\\roaming\\python\\python39\\site-packages (from tensorflow) (0.4.0)\n",
      "Requirement already satisfied: grpcio<2.0,>=1.24.3 in c:\\users\\kk\\anaconda3\\lib\\site-packages (from tensorflow) (1.44.0)\n",
      "Requirement already satisfied: tensorboard<2.10,>=2.9 in c:\\users\\kk\\appdata\\roaming\\python\\python39\\site-packages (from tensorflow) (2.9.1)\n",
      "Requirement already satisfied: packaging in c:\\users\\kk\\anaconda3\\lib\\site-packages (from tensorflow) (21.3)\n",
      "Requirement already satisfied: six>=1.12.0 in c:\\users\\kk\\anaconda3\\lib\\site-packages (from tensorflow) (1.16.0)\n",
      "Requirement already satisfied: h5py>=2.9.0 in c:\\users\\kk\\anaconda3\\lib\\site-packages (from tensorflow) (3.6.0)\n",
      "Requirement already satisfied: typing-extensions>=3.6.6 in c:\\users\\kk\\anaconda3\\lib\\site-packages (from tensorflow) (4.1.1)\n",
      "Requirement already satisfied: libclang>=13.0.0 in c:\\users\\kk\\anaconda3\\lib\\site-packages (from tensorflow) (13.0.0)\n",
      "Requirement already satisfied: numpy>=1.20 in c:\\users\\kk\\anaconda3\\lib\\site-packages (from tensorflow) (1.21.6)\n",
      "Requirement already satisfied: astunparse>=1.6.0 in c:\\users\\kk\\anaconda3\\lib\\site-packages (from tensorflow) (1.6.3)\n",
      "Requirement already satisfied: keras-preprocessing>=1.1.1 in c:\\users\\kk\\anaconda3\\lib\\site-packages (from tensorflow) (1.1.2)\n",
      "Requirement already satisfied: setuptools in c:\\users\\kk\\anaconda3\\lib\\site-packages (from tensorflow) (61.2.0)\n",
      "Requirement already satisfied: flatbuffers<2,>=1.12 in c:\\users\\kk\\appdata\\roaming\\python\\python39\\site-packages (from tensorflow) (1.12)\n",
      "Requirement already satisfied: termcolor>=1.1.0 in c:\\users\\kk\\anaconda3\\lib\\site-packages (from tensorflow) (1.1.0)\n",
      "Requirement already satisfied: keras<2.10.0,>=2.9.0rc0 in c:\\users\\kk\\appdata\\roaming\\python\\python39\\site-packages (from tensorflow) (2.9.0)\n",
      "Requirement already satisfied: tensorflow-estimator<2.10.0,>=2.9.0rc0 in c:\\users\\kk\\appdata\\roaming\\python\\python39\\site-packages (from tensorflow) (2.9.0)\n",
      "Requirement already satisfied: google-pasta>=0.1.1 in c:\\users\\kk\\anaconda3\\lib\\site-packages (from tensorflow) (0.2.0)\n",
      "Requirement already satisfied: absl-py>=1.0.0 in c:\\users\\kk\\anaconda3\\lib\\site-packages (from tensorflow) (1.0.0)\n",
      "Requirement already satisfied: opt-einsum>=2.3.2 in c:\\users\\kk\\anaconda3\\lib\\site-packages (from tensorflow) (3.3.0)\n",
      "Requirement already satisfied: wrapt>=1.11.0 in c:\\users\\kk\\anaconda3\\lib\\site-packages (from tensorflow) (1.12.1)\n",
      "Requirement already satisfied: protobuf<3.20,>=3.9.2 in c:\\users\\kk\\appdata\\roaming\\python\\python39\\site-packages (from tensorflow) (3.19.4)\n",
      "Requirement already satisfied: tensorflow-io-gcs-filesystem>=0.23.1 in c:\\users\\kk\\anaconda3\\lib\\site-packages (from tensorflow) (0.24.0)\n",
      "Requirement already satisfied: wheel<1.0,>=0.23.0 in c:\\users\\kk\\anaconda3\\lib\\site-packages (from astunparse>=1.6.0->tensorflow) (0.37.1)\n",
      "Requirement already satisfied: tensorboard-plugin-wit>=1.6.0 in c:\\users\\kk\\anaconda3\\lib\\site-packages (from tensorboard<2.10,>=2.9->tensorflow) (1.8.1)\n",
      "Requirement already satisfied: requests<3,>=2.21.0 in c:\\users\\kk\\anaconda3\\lib\\site-packages (from tensorboard<2.10,>=2.9->tensorflow) (2.28.1)\n",
      "Requirement already satisfied: markdown>=2.6.8 in c:\\users\\kk\\anaconda3\\lib\\site-packages (from tensorboard<2.10,>=2.9->tensorflow) (3.3.6)\n",
      "Requirement already satisfied: google-auth<3,>=1.6.3 in c:\\users\\kk\\anaconda3\\lib\\site-packages (from tensorboard<2.10,>=2.9->tensorflow) (2.6.0)\n",
      "Requirement already satisfied: google-auth-oauthlib<0.5,>=0.4.1 in c:\\users\\kk\\anaconda3\\lib\\site-packages (from tensorboard<2.10,>=2.9->tensorflow) (0.4.6)\n",
      "Requirement already satisfied: tensorboard-data-server<0.7.0,>=0.6.0 in c:\\users\\kk\\anaconda3\\lib\\site-packages (from tensorboard<2.10,>=2.9->tensorflow) (0.6.1)\n",
      "Requirement already satisfied: werkzeug>=1.0.1 in c:\\users\\kk\\anaconda3\\lib\\site-packages (from tensorboard<2.10,>=2.9->tensorflow) (2.0.3)\n",
      "Requirement already satisfied: pyparsing!=3.0.5,>=2.0.2 in c:\\users\\kk\\anaconda3\\lib\\site-packages (from packaging->tensorflow) (3.0.4)\n",
      "Requirement already satisfied: rsa<5,>=3.1.4 in c:\\users\\kk\\anaconda3\\lib\\site-packages (from google-auth<3,>=1.6.3->tensorboard<2.10,>=2.9->tensorflow) (4.8)\n",
      "Requirement already satisfied: cachetools<6.0,>=2.0.0 in c:\\users\\kk\\anaconda3\\lib\\site-packages (from google-auth<3,>=1.6.3->tensorboard<2.10,>=2.9->tensorflow) (5.0.0)\n",
      "Requirement already satisfied: pyasn1-modules>=0.2.1 in c:\\users\\kk\\anaconda3\\lib\\site-packages (from google-auth<3,>=1.6.3->tensorboard<2.10,>=2.9->tensorflow) (0.2.8)\n",
      "Requirement already satisfied: requests-oauthlib>=0.7.0 in c:\\users\\kk\\anaconda3\\lib\\site-packages (from google-auth-oauthlib<0.5,>=0.4.1->tensorboard<2.10,>=2.9->tensorflow) (1.3.1)\n",
      "Requirement already satisfied: importlib-metadata>=4.4 in c:\\users\\kk\\anaconda3\\lib\\site-packages (from markdown>=2.6.8->tensorboard<2.10,>=2.9->tensorflow) (4.11.3)\n",
      "Requirement already satisfied: charset-normalizer<3,>=2 in c:\\users\\kk\\anaconda3\\lib\\site-packages (from requests<3,>=2.21.0->tensorboard<2.10,>=2.9->tensorflow) (2.0.4)\n",
      "Requirement already satisfied: idna<4,>=2.5 in c:\\users\\kk\\anaconda3\\lib\\site-packages (from requests<3,>=2.21.0->tensorboard<2.10,>=2.9->tensorflow) (3.3)\n",
      "Requirement already satisfied: urllib3<1.27,>=1.21.1 in c:\\users\\kk\\anaconda3\\lib\\site-packages (from requests<3,>=2.21.0->tensorboard<2.10,>=2.9->tensorflow) (1.26.9)\n",
      "Requirement already satisfied: certifi>=2017.4.17 in c:\\users\\kk\\anaconda3\\lib\\site-packages (from requests<3,>=2.21.0->tensorboard<2.10,>=2.9->tensorflow) (2022.6.15)\n",
      "Requirement already satisfied: zipp>=0.5 in c:\\users\\kk\\anaconda3\\lib\\site-packages (from importlib-metadata>=4.4->markdown>=2.6.8->tensorboard<2.10,>=2.9->tensorflow) (3.8.0)\n",
      "Requirement already satisfied: pyasn1<0.5.0,>=0.4.6 in c:\\users\\kk\\anaconda3\\lib\\site-packages (from pyasn1-modules>=0.2.1->google-auth<3,>=1.6.3->tensorboard<2.10,>=2.9->tensorflow) (0.4.8)\n",
      "Requirement already satisfied: oauthlib>=3.0.0 in c:\\users\\kk\\anaconda3\\lib\\site-packages (from requests-oauthlib>=0.7.0->google-auth-oauthlib<0.5,>=0.4.1->tensorboard<2.10,>=2.9->tensorflow) (3.2.0)\n",
      "\n",
      "[notice] A new release of pip available: 22.2 -> 22.2.2\n",
      "[notice] To update, run: python.exe -m pip install --upgrade pip\n",
      "Requirement already satisfied: keras in c:\\users\\kk\\appdata\\roaming\\python\\python39\\site-packages (2.9.0)\n",
      "\n",
      "[notice] A new release of pip available: 22.2 -> 22.2.2\n",
      "[notice] To update, run: python.exe -m pip install --upgrade pip\n",
      "Requirement already satisfied: wordcloud in c:\\users\\kk\\anaconda3\\lib\\site-packages (1.8.2.2)\n",
      "Requirement already satisfied: pillow in c:\\users\\kk\\anaconda3\\lib\\site-packages (from wordcloud) (9.2.0)\n",
      "Requirement already satisfied: matplotlib in c:\\users\\kk\\anaconda3\\lib\\site-packages (from wordcloud) (3.5.1)\n",
      "Requirement already satisfied: numpy>=1.6.1 in c:\\users\\kk\\anaconda3\\lib\\site-packages (from wordcloud) (1.21.6)\n",
      "Requirement already satisfied: python-dateutil>=2.7 in c:\\users\\kk\\anaconda3\\lib\\site-packages (from matplotlib->wordcloud) (2.8.2)\n",
      "Requirement already satisfied: fonttools>=4.22.0 in c:\\users\\kk\\anaconda3\\lib\\site-packages (from matplotlib->wordcloud) (4.25.0)\n",
      "Requirement already satisfied: kiwisolver>=1.0.1 in c:\\users\\kk\\anaconda3\\lib\\site-packages (from matplotlib->wordcloud) (1.4.2)\n",
      "Requirement already satisfied: cycler>=0.10 in c:\\users\\kk\\anaconda3\\lib\\site-packages (from matplotlib->wordcloud) (0.11.0)\n",
      "Requirement already satisfied: pyparsing>=2.2.1 in c:\\users\\kk\\anaconda3\\lib\\site-packages (from matplotlib->wordcloud) (3.0.4)\n",
      "Requirement already satisfied: packaging>=20.0 in c:\\users\\kk\\anaconda3\\lib\\site-packages (from matplotlib->wordcloud) (21.3)\n",
      "Requirement already satisfied: six>=1.5 in c:\\users\\kk\\anaconda3\\lib\\site-packages (from python-dateutil>=2.7->matplotlib->wordcloud) (1.16.0)\n",
      "\n",
      "[notice] A new release of pip available: 22.2 -> 22.2.2\n",
      "[notice] To update, run: python.exe -m pip install --upgrade pip\n",
      "Requirement already satisfied: gensim in c:\\users\\kk\\anaconda3\\lib\\site-packages (4.1.2)\n",
      "Requirement already satisfied: smart-open>=1.8.1 in c:\\users\\kk\\anaconda3\\lib\\site-packages (from gensim) (5.2.1)\n",
      "Requirement already satisfied: scipy>=0.18.1 in c:\\users\\kk\\anaconda3\\lib\\site-packages (from gensim) (1.7.3)\n",
      "Requirement already satisfied: numpy>=1.17.0 in c:\\users\\kk\\anaconda3\\lib\\site-packages (from gensim) (1.21.6)\n",
      "\n",
      "[notice] A new release of pip available: 22.2 -> 22.2.2\n",
      "[notice] To update, run: python.exe -m pip install --upgrade pip\n"
     ]
    }
   ],
   "source": [
    "!pip install nltk\n",
    "import nltk\n",
    "# nltk.download()    # Just Once\n",
    "!pip install tensorflow\n",
    "!pip install keras\n",
    "!pip install wordcloud\n",
    "!pip install gensim"
   ]
  },
  {
   "cell_type": "markdown",
   "metadata": {},
   "source": [
    "# **토큰화(Tokenization)**\n",
    "\n",
    "> **\"`코퍼스(Corpus)에서 토큰(Token)`이라 불리는 단위로 나누는 작업으로, 문서에서 문장을 분리하는 `문장 토큰화`와 문장에서 단어를 분리하는 `단어 토큰화`로 이루어짐\"**\n",
    ">\n",
    "> **\"텍스트 데이터는 `분석 목적과 용도`에 따라 `수동적 전처리가 필수`이지만, `다양한 의미로 표현 가능`하기 때문에 `최소화 필요`\"**"
   ]
  },
  {
   "cell_type": "markdown",
   "metadata": {},
   "source": [
    "## 문장 토큰화(Sentence Tokenization)\n",
    "\n",
    "> **\"코퍼스를 `문장단위로 구분`하는 작업으로, `문장 분류(Sentence Segmentation)`라고도 함\"**\n",
    ">\n",
    "> - `마침표(.)나 특수기호`로 문장을 구분할 수 있겠지만, `일반화 하기 어려움` (ex. IP주소)\n",
    "> - `나라와 문화`마다 문장 종료에 대해 `직접 규칙마련` 하는 것이 중요\n",
    "\n",
    "```python\n",
    "# 불러오기\n",
    "from nltk.tokenize import sent_tokenize\n",
    "\n",
    "# 한국어 문장토큰화 설치\n",
    "# kss(Korean Sentence Splitter)는 정교한 패턴기반 뛰어난 성능과 속도\n",
    "!pip install kss\n",
    "\n",
    "# 한국어 문장토큰화 불러오기\n",
    "from kss import split_sentences\n",
    "```"
   ]
  },
  {
   "cell_type": "code",
   "execution_count": 2,
   "metadata": {},
   "outputs": [
    {
     "data": {
      "text/plain": [
       "['A machine learning methodology is used to analyze time-varying clusters of efficiency in the global financial market, and a complex network structure is applied to evaluate its collective dynamics.',\n",
       " 'The market efficiency is stable only for a short period of time, however, the clustering based on the long-term behavior may not include important characteristics of short-term interactions.',\n",
       " 'Not only systemic risk may occur due to the spread of low-efficiency, but also high-efficiency may appear at the global level as well.']"
      ]
     },
     "execution_count": 2,
     "metadata": {},
     "output_type": "execute_result"
    }
   ],
   "source": [
    "# sent_tokenize 방법론 적용\n",
    "from nltk.tokenize import sent_tokenize\n",
    "\n",
    "sentence = 'A machine learning methodology is used to analyze time-varying clusters of efficiency in the global financial market, and a complex network structure is applied to evaluate its collective dynamics. \\\n",
    "            The market efficiency is stable only for a short period of time, however, the clustering based on the long-term behavior may not include important characteristics of short-term interactions. \\\n",
    "            Not only systemic risk may occur due to the spread of low-efficiency, but also high-efficiency may appear at the global level as well.'\n",
    "sent_tokenize(sentence)"
   ]
  },
  {
   "cell_type": "code",
   "execution_count": 3,
   "metadata": {},
   "outputs": [
    {
     "data": {
      "text/plain": [
       "['The Ph.D. AI is used to analyze time-varying clusters of efficiency in the global financial market, and a complex network structure is applied to evaluate its collective dynamics.',\n",
       " 'The market efficiency is stable only for a short period of time, however, the clustering based on the long-term behavior may not include important characteristics of short-term interactions.',\n",
       " 'Not only systemic risk may occur due to the spread of low-efficiency, but also high-efficiency may appear at the global level as well.']"
      ]
     },
     "execution_count": 3,
     "metadata": {},
     "output_type": "execute_result"
    }
   ],
   "source": [
    "# sent_tokenize 방법론 적용\n",
    "# 단순히 마침표로 문장을 종결시키지 않음\n",
    "from nltk.tokenize import sent_tokenize\n",
    "\n",
    "sentence = 'The Ph.D. AI is used to analyze time-varying clusters of efficiency in the global financial market, and a complex network structure is applied to evaluate its collective dynamics. \\\n",
    "            The market efficiency is stable only for a short period of time, however, the clustering based on the long-term behavior may not include important characteristics of short-term interactions. \\\n",
    "            Not only systemic risk may occur due to the spread of low-efficiency, but also high-efficiency may appear at the global level as well.'\n",
    "sent_tokenize(sentence)"
   ]
  },
  {
   "cell_type": "code",
   "execution_count": 4,
   "metadata": {},
   "outputs": [
    {
     "data": {
      "text/plain": [
       "[\"디지털경제는 재화와 서비스의 생산, 분배, 소비 등 주요 경제활동이 '디지털화되고 네트워크화된 정보와 지식'이라는 생산요소에 주로 의존하는 경제를 의미합니다.\",\n",
       " '디지털화가 급격하게 확산되고 있는 것은 정보와 지식에 대한 욕구 증대라는 수요측면과 IT기술의 비약적인 발전이라는 공급측면의 요인이 상호 작용하고 있기 때문입니다.']"
      ]
     },
     "execution_count": 4,
     "metadata": {},
     "output_type": "execute_result"
    }
   ],
   "source": [
    "# 한국어 문장토큰화 적용\n",
    "from nltk.tokenize import sent_tokenize\n",
    "\n",
    "sentence = \"디지털경제는 재화와 서비스의 생산, 분배, 소비 등 주요 경제활동이 '디지털화되고 네트워크화된 정보와 지식'이라는 생산요소에 주로 의존하는 경제를 의미합니다. \\\n",
    "            디지털화가 급격하게 확산되고 있는 것은 정보와 지식에 대한 욕구 증대라는 수요측면과 IT기술의 비약적인 발전이라는 공급측면의 요인이 상호 작용하고 있기 때문입니다.\"\n",
    "sent_tokenize(sentence)"
   ]
  },
  {
   "cell_type": "code",
   "execution_count": 5,
   "metadata": {},
   "outputs": [
    {
     "name": "stdout",
     "output_type": "stream",
     "text": [
      "Requirement already satisfied: kss in c:\\users\\kk\\anaconda3\\lib\\site-packages (3.5.6)\n",
      "Requirement already satisfied: regex in c:\\users\\kk\\anaconda3\\lib\\site-packages (from kss) (2022.7.9)\n",
      "Requirement already satisfied: more-itertools in c:\\users\\kk\\anaconda3\\lib\\site-packages (from kss) (8.14.0)\n",
      "Requirement already satisfied: emoji==1.2.0 in c:\\users\\kk\\anaconda3\\lib\\site-packages (from kss) (1.2.0)\n",
      "\n",
      "[notice] A new release of pip available: 22.2 -> 22.2.2\n",
      "[notice] To update, run: python.exe -m pip install --upgrade pip\n"
     ]
    }
   ],
   "source": [
    "# 한국어 문장토큰화 kss 설치\n",
    "!pip install kss"
   ]
  },
  {
   "cell_type": "code",
   "execution_count": 6,
   "metadata": {},
   "outputs": [
    {
     "name": "stderr",
     "output_type": "stream",
     "text": [
      "[Korean Sentence Splitter]: Initializing Pynori...\n"
     ]
    },
    {
     "data": {
      "text/plain": [
       "[\"디지털경제는 재화와 서비스의 생산, 분배, 소비 등 주요 경제활동이 '디지털화되고 네트워크화된 정보와 지식'이라는 생산요소에 주로 의존하는 경제를 의미합니다.\",\n",
       " '디지털화가 급격하게 확산되고 있는 것은 정보와 지식에 대한 욕구 증대라는 수요측면과 IT기술의 비약적인 발전이라는 공급측면의 요인이 상호 작용하고 있기 때문입니다.']"
      ]
     },
     "execution_count": 6,
     "metadata": {},
     "output_type": "execute_result"
    }
   ],
   "source": [
    "# 한국어 문장토큰화 kss 적용\n",
    "from kss import split_sentences\n",
    "\n",
    "sentence = \"디지털경제는 재화와 서비스의 생산, 분배, 소비 등 주요 경제활동이 '디지털화되고 네트워크화된 정보와 지식'이라는 생산요소에 주로 의존하는 경제를 의미합니다. \\\n",
    "            디지털화가 급격하게 확산되고 있는 것은 정보와 지식에 대한 욕구 증대라는 수요측면과 IT기술의 비약적인 발전이라는 공급측면의 요인이 상호 작용하고 있기 때문입니다.\"\n",
    "split_sentences(sentence)"
   ]
  },
  {
   "cell_type": "markdown",
   "metadata": {},
   "source": [
    "## 단어 토큰화(Word Tokenization)\n",
    "\n",
    "**1) 구두점(Punctuation Mark)이나 특수문자의 단순삭제 주의!**\n",
    "\n",
    "- `마침표`는 의미는 없지만 `문장의 경계`를 파악하는데 도움\n",
    "- `$`의 경우 `가격 데이터를 파악`하게 하고 `/`의 경우 `날짜 데이터 파악`에 도움\n",
    "- `,(comma)`의 경우 문장의 구분 뿐만 아니라 `숫자 단위` 의미 가능"
   ]
  },
  {
   "cell_type": "markdown",
   "metadata": {},
   "source": [
    "**2) 줄임말이나 띄어쓰기의 의미구분 주의!**\n",
    "\n",
    "- `아포스트로피(')`는 단어를 줄이고 펼치는 역할 (we're $\\rightarrow$ we are)\n",
    "- `띄어쓰기`는 의미기준으로 `어디까지를 하나의 단어`로 판단할지 고민 필요 (New Yort $\\rightarrow$ New + York)\n",
    "\n",
    "```python\n",
    "# 불러오기\n",
    "from nltk.tokenize import word_tokenize, WordPunctTokenizer, TreebankWordTokenizer\n",
    "from keras.preprocessing.text import text_to_word_sequence\n",
    "```"
   ]
  },
  {
   "cell_type": "code",
   "execution_count": 7,
   "metadata": {},
   "outputs": [
    {
     "data": {
      "text/plain": [
       "['How',\n",
       " 'does',\n",
       " 'market',\n",
       " \"'s\",\n",
       " 'informational',\n",
       " 'efficiency',\n",
       " 'reveal',\n",
       " 'collective',\n",
       " 'dynamics',\n",
       " 'during',\n",
       " 'COVID-19',\n",
       " 'pandemic',\n",
       " '?',\n",
       " 'A',\n",
       " 'clustering-based',\n",
       " 'machine',\n",
       " 'learning',\n",
       " 'approach',\n",
       " 'in',\n",
       " 'financial',\n",
       " 'markests',\n",
       " '!']"
      ]
     },
     "execution_count": 7,
     "metadata": {},
     "output_type": "execute_result"
    }
   ],
   "source": [
    "# Woword_tokenize 방법론 적용\n",
    "from nltk.tokenize import word_tokenize, WordPunctTokenizer, TreebankWordTokenizer\n",
    "\n",
    "text = \"How does market's informational efficiency reveal collective dynamics during COVID-19 pandemic? A clustering-based machine learning approach in financial markests!\"\n",
    "token_wt = word_tokenize(text)\n",
    "token_wt"
   ]
  },
  {
   "cell_type": "code",
   "execution_count": 8,
   "metadata": {},
   "outputs": [
    {
     "data": {
      "text/plain": [
       "['How',\n",
       " 'does',\n",
       " 'market',\n",
       " \"'\",\n",
       " 's',\n",
       " 'informational',\n",
       " 'efficiency',\n",
       " 'reveal',\n",
       " 'collective',\n",
       " 'dynamics',\n",
       " 'during',\n",
       " 'COVID',\n",
       " '-',\n",
       " '19',\n",
       " 'pandemic',\n",
       " '?',\n",
       " 'A',\n",
       " 'clustering',\n",
       " '-',\n",
       " 'based',\n",
       " 'machine',\n",
       " 'learning',\n",
       " 'approach',\n",
       " 'in',\n",
       " 'financial',\n",
       " 'markests',\n",
       " '!']"
      ]
     },
     "execution_count": 8,
     "metadata": {},
     "output_type": "execute_result"
    }
   ],
   "source": [
    "# WordPunctTokenizer 방법론 적용\n",
    "from nltk.tokenize import word_tokenize, WordPunctTokenizer, TreebankWordTokenizer\n",
    "\n",
    "text = \"How does market's informational efficiency reveal collective dynamics during COVID-19 pandemic? A clustering-based machine learning approach in financial markests!\"\n",
    "tokenizer = WordPunctTokenizer()\n",
    "token_wp = tokenizer.tokenize(text)\n",
    "token_wp"
   ]
  },
  {
   "cell_type": "code",
   "execution_count": 9,
   "metadata": {},
   "outputs": [
    {
     "data": {
      "text/plain": [
       "['How',\n",
       " 'does',\n",
       " 'market',\n",
       " \"'s\",\n",
       " 'informational',\n",
       " 'efficiency',\n",
       " 'reveal',\n",
       " 'collective',\n",
       " 'dynamics',\n",
       " 'during',\n",
       " 'COVID-19',\n",
       " 'pandemic',\n",
       " '?',\n",
       " 'A',\n",
       " 'clustering-based',\n",
       " 'machine',\n",
       " 'learning',\n",
       " 'approach',\n",
       " 'in',\n",
       " 'financial',\n",
       " 'markests',\n",
       " '!']"
      ]
     },
     "execution_count": 9,
     "metadata": {},
     "output_type": "execute_result"
    }
   ],
   "source": [
    "# Penn Treeback Tokenization 방법론 적용\n",
    "from nltk.tokenize import word_tokenize, WordPunctTokenizer, TreebankWordTokenizer\n",
    "\n",
    "text = \"How does market's informational efficiency reveal collective dynamics during COVID-19 pandemic? A clustering-based machine learning approach in financial markests!\"\n",
    "tokenizer = TreebankWordTokenizer()\n",
    "token_twt = tokenizer.tokenize(text)\n",
    "token_twt"
   ]
  },
  {
   "cell_type": "code",
   "execution_count": 10,
   "metadata": {},
   "outputs": [
    {
     "data": {
      "text/plain": [
       "['how',\n",
       " 'does',\n",
       " \"market's\",\n",
       " 'informational',\n",
       " 'efficiency',\n",
       " 'reveal',\n",
       " 'collective',\n",
       " 'dynamics',\n",
       " 'during',\n",
       " 'covid',\n",
       " '19',\n",
       " 'pandemic',\n",
       " 'a',\n",
       " 'clustering',\n",
       " 'based',\n",
       " 'machine',\n",
       " 'learning',\n",
       " 'approach',\n",
       " 'in',\n",
       " 'financial',\n",
       " 'markests']"
      ]
     },
     "execution_count": 10,
     "metadata": {},
     "output_type": "execute_result"
    }
   ],
   "source": [
    "# Keras 텍스트처리 방법론 적용\n",
    "from keras.preprocessing.text import text_to_word_sequence\n",
    "\n",
    "text = \"How does market's informational efficiency reveal collective dynamics during COVID-19 pandemic? A clustering-based machine learning approach in financial markests!\"\n",
    "token_tws = text_to_word_sequence(text)\n",
    "token_tws"
   ]
  },
  {
   "cell_type": "code",
   "execution_count": 11,
   "metadata": {},
   "outputs": [
    {
     "data": {
      "text/html": [
       "<div>\n",
       "<style scoped>\n",
       "    .dataframe tbody tr th:only-of-type {\n",
       "        vertical-align: middle;\n",
       "    }\n",
       "\n",
       "    .dataframe tbody tr th {\n",
       "        vertical-align: top;\n",
       "    }\n",
       "\n",
       "    .dataframe thead th {\n",
       "        text-align: right;\n",
       "    }\n",
       "</style>\n",
       "<table border=\"1\" class=\"dataframe\">\n",
       "  <thead>\n",
       "    <tr style=\"text-align: right;\">\n",
       "      <th></th>\n",
       "      <th>word_tokenize</th>\n",
       "      <th>WordPunctTokenizer</th>\n",
       "      <th>TreebankWordTokenizer</th>\n",
       "      <th>text_to_word_sequence</th>\n",
       "    </tr>\n",
       "  </thead>\n",
       "  <tbody>\n",
       "    <tr>\n",
       "      <th>0</th>\n",
       "      <td>How</td>\n",
       "      <td>How</td>\n",
       "      <td>how</td>\n",
       "      <td>How</td>\n",
       "    </tr>\n",
       "    <tr>\n",
       "      <th>1</th>\n",
       "      <td>does</td>\n",
       "      <td>does</td>\n",
       "      <td>does</td>\n",
       "      <td>does</td>\n",
       "    </tr>\n",
       "    <tr>\n",
       "      <th>2</th>\n",
       "      <td>market</td>\n",
       "      <td>market</td>\n",
       "      <td>market's</td>\n",
       "      <td>market</td>\n",
       "    </tr>\n",
       "    <tr>\n",
       "      <th>3</th>\n",
       "      <td>'s</td>\n",
       "      <td>'</td>\n",
       "      <td>informational</td>\n",
       "      <td>'s</td>\n",
       "    </tr>\n",
       "    <tr>\n",
       "      <th>4</th>\n",
       "      <td>informational</td>\n",
       "      <td>s</td>\n",
       "      <td>efficiency</td>\n",
       "      <td>informational</td>\n",
       "    </tr>\n",
       "    <tr>\n",
       "      <th>5</th>\n",
       "      <td>efficiency</td>\n",
       "      <td>informational</td>\n",
       "      <td>reveal</td>\n",
       "      <td>efficiency</td>\n",
       "    </tr>\n",
       "    <tr>\n",
       "      <th>6</th>\n",
       "      <td>reveal</td>\n",
       "      <td>efficiency</td>\n",
       "      <td>collective</td>\n",
       "      <td>reveal</td>\n",
       "    </tr>\n",
       "    <tr>\n",
       "      <th>7</th>\n",
       "      <td>collective</td>\n",
       "      <td>reveal</td>\n",
       "      <td>dynamics</td>\n",
       "      <td>collective</td>\n",
       "    </tr>\n",
       "    <tr>\n",
       "      <th>8</th>\n",
       "      <td>dynamics</td>\n",
       "      <td>collective</td>\n",
       "      <td>during</td>\n",
       "      <td>dynamics</td>\n",
       "    </tr>\n",
       "    <tr>\n",
       "      <th>9</th>\n",
       "      <td>during</td>\n",
       "      <td>dynamics</td>\n",
       "      <td>covid</td>\n",
       "      <td>during</td>\n",
       "    </tr>\n",
       "    <tr>\n",
       "      <th>10</th>\n",
       "      <td>COVID-19</td>\n",
       "      <td>during</td>\n",
       "      <td>19</td>\n",
       "      <td>COVID-19</td>\n",
       "    </tr>\n",
       "    <tr>\n",
       "      <th>11</th>\n",
       "      <td>pandemic</td>\n",
       "      <td>COVID</td>\n",
       "      <td>pandemic</td>\n",
       "      <td>pandemic</td>\n",
       "    </tr>\n",
       "    <tr>\n",
       "      <th>12</th>\n",
       "      <td>?</td>\n",
       "      <td>-</td>\n",
       "      <td>a</td>\n",
       "      <td>?</td>\n",
       "    </tr>\n",
       "    <tr>\n",
       "      <th>13</th>\n",
       "      <td>A</td>\n",
       "      <td>19</td>\n",
       "      <td>clustering</td>\n",
       "      <td>A</td>\n",
       "    </tr>\n",
       "    <tr>\n",
       "      <th>14</th>\n",
       "      <td>clustering-based</td>\n",
       "      <td>pandemic</td>\n",
       "      <td>based</td>\n",
       "      <td>clustering-based</td>\n",
       "    </tr>\n",
       "    <tr>\n",
       "      <th>15</th>\n",
       "      <td>machine</td>\n",
       "      <td>?</td>\n",
       "      <td>machine</td>\n",
       "      <td>machine</td>\n",
       "    </tr>\n",
       "    <tr>\n",
       "      <th>16</th>\n",
       "      <td>learning</td>\n",
       "      <td>A</td>\n",
       "      <td>learning</td>\n",
       "      <td>learning</td>\n",
       "    </tr>\n",
       "    <tr>\n",
       "      <th>17</th>\n",
       "      <td>approach</td>\n",
       "      <td>clustering</td>\n",
       "      <td>approach</td>\n",
       "      <td>approach</td>\n",
       "    </tr>\n",
       "    <tr>\n",
       "      <th>18</th>\n",
       "      <td>in</td>\n",
       "      <td>-</td>\n",
       "      <td>in</td>\n",
       "      <td>in</td>\n",
       "    </tr>\n",
       "    <tr>\n",
       "      <th>19</th>\n",
       "      <td>financial</td>\n",
       "      <td>based</td>\n",
       "      <td>financial</td>\n",
       "      <td>financial</td>\n",
       "    </tr>\n",
       "    <tr>\n",
       "      <th>20</th>\n",
       "      <td>markests</td>\n",
       "      <td>machine</td>\n",
       "      <td>markests</td>\n",
       "      <td>markests</td>\n",
       "    </tr>\n",
       "    <tr>\n",
       "      <th>21</th>\n",
       "      <td>!</td>\n",
       "      <td>learning</td>\n",
       "      <td></td>\n",
       "      <td>!</td>\n",
       "    </tr>\n",
       "    <tr>\n",
       "      <th>22</th>\n",
       "      <td></td>\n",
       "      <td>approach</td>\n",
       "      <td></td>\n",
       "      <td></td>\n",
       "    </tr>\n",
       "    <tr>\n",
       "      <th>23</th>\n",
       "      <td></td>\n",
       "      <td>in</td>\n",
       "      <td></td>\n",
       "      <td></td>\n",
       "    </tr>\n",
       "    <tr>\n",
       "      <th>24</th>\n",
       "      <td></td>\n",
       "      <td>financial</td>\n",
       "      <td></td>\n",
       "      <td></td>\n",
       "    </tr>\n",
       "    <tr>\n",
       "      <th>25</th>\n",
       "      <td></td>\n",
       "      <td>markests</td>\n",
       "      <td></td>\n",
       "      <td></td>\n",
       "    </tr>\n",
       "    <tr>\n",
       "      <th>26</th>\n",
       "      <td></td>\n",
       "      <td>!</td>\n",
       "      <td></td>\n",
       "      <td></td>\n",
       "    </tr>\n",
       "  </tbody>\n",
       "</table>\n",
       "</div>"
      ],
      "text/plain": [
       "       word_tokenize WordPunctTokenizer TreebankWordTokenizer  \\\n",
       "0                How                How                   how   \n",
       "1               does               does                  does   \n",
       "2             market             market              market's   \n",
       "3                 's                  '         informational   \n",
       "4      informational                  s            efficiency   \n",
       "5         efficiency      informational                reveal   \n",
       "6             reveal         efficiency            collective   \n",
       "7         collective             reveal              dynamics   \n",
       "8           dynamics         collective                during   \n",
       "9             during           dynamics                 covid   \n",
       "10          COVID-19             during                    19   \n",
       "11          pandemic              COVID              pandemic   \n",
       "12                 ?                  -                     a   \n",
       "13                 A                 19            clustering   \n",
       "14  clustering-based           pandemic                 based   \n",
       "15           machine                  ?               machine   \n",
       "16          learning                  A              learning   \n",
       "17          approach         clustering              approach   \n",
       "18                in                  -                    in   \n",
       "19         financial              based             financial   \n",
       "20          markests            machine              markests   \n",
       "21                 !           learning                         \n",
       "22                             approach                         \n",
       "23                                   in                         \n",
       "24                            financial                         \n",
       "25                             markests                         \n",
       "26                                    !                         \n",
       "\n",
       "   text_to_word_sequence  \n",
       "0                    How  \n",
       "1                   does  \n",
       "2                 market  \n",
       "3                     's  \n",
       "4          informational  \n",
       "5             efficiency  \n",
       "6                 reveal  \n",
       "7             collective  \n",
       "8               dynamics  \n",
       "9                 during  \n",
       "10              COVID-19  \n",
       "11              pandemic  \n",
       "12                     ?  \n",
       "13                     A  \n",
       "14      clustering-based  \n",
       "15               machine  \n",
       "16              learning  \n",
       "17              approach  \n",
       "18                    in  \n",
       "19             financial  \n",
       "20              markests  \n",
       "21                     !  \n",
       "22                        \n",
       "23                        \n",
       "24                        \n",
       "25                        \n",
       "26                        "
      ]
     },
     "execution_count": 11,
     "metadata": {},
     "output_type": "execute_result"
    }
   ],
   "source": [
    "# 토큰화 결과비교\n",
    "# WordPunctTokenizer는 특수문자를 별도로 분류하는 특징\n",
    "# TreebankWordTokenizer는 대문자를 소문자로 바꾸면서 특수문자 삭제하고 아포스트로피는 보존\n",
    "# text_to_word_sequence는 word_tokenize와 유사한 결과\n",
    "import pandas as pd\n",
    "\n",
    "token_results = pd.concat([pd.Series(token_wt), \n",
    "                           pd.Series(token_wp),\n",
    "                           pd.Series(token_tws), \n",
    "                           pd.Series(token_twt)], axis=1)\n",
    "token_results.columns = ['word_tokenize', 'WordPunctTokenizer', \n",
    "                         'TreebankWordTokenizer', 'text_to_word_sequence']\n",
    "token_results.fillna('', inplace=True)\n",
    "token_results"
   ]
  },
  {
   "cell_type": "markdown",
   "metadata": {},
   "source": [
    "## 한국어 형태소 토큰화(Morpheme Tokenization)\n",
    "\n",
    "**1) 교착어 특성:** `단어가 결합`되어 `의미가 변경`되는 특성\n",
    "\n",
    "- 영어는 `독립적인 단어`를 띄어쓰기 단위로 구분하지만, 한국어는 `단어 + 조사 등`이 독립적인 단어의 역할을 하기에 `띄어쓰기만으로 토큰화 어려움`\n",
    "- 같은 단어에도 `서로 다른 조사`가 붙어서 `다른 의미의 단어로 인식`되기 때문에 대부분의 한국어 자연어처리에서는 `조사 분리 필요`\n",
    "- 뜻을 가진 가장 작은 말의 단위로 더 이상 쪼개면 뜻을 잃어버리는 `형태소(Morpheme)`를 기준으로 전처리 필요 $\\rightarrow$ `Feature Engineering`\n",
    "\n",
    "> **(1) 자립 형태소:** 접사, 어미, 조사와 상관없이 `단어 자체의 의미만으로 자립`될 수 있는 형태소로 `명사, 대명사, 수사, 부사, 감탄사 등`\n",
    ">\n",
    "> - **예시:** 경원이가 책을 읽었다 $\\rightarrow$ `경원이`, `책`\n",
    ">\n",
    "> **(2) 의존 형태소:** 다른 형태소와 `결합되어야 의미가 확실한` 형태소로 `접사, 어미, 조사, 어간 등`\n",
    ">\n",
    "> - **예시:** 경원이가 책을 읽었다 $\\rightarrow$ `-가`, `-을`, `읽-`, `-었`, `-다`\n",
    "\n",
    "---\n",
    "\n",
    "**2) 띄어쓰기가 없이 이해 가능**\n",
    "\n",
    "- 한국어에 띄어쓰기가 보편화 된 것은 `1933년 한글맞춤법통일안`\n",
    "- 단어로 구분하여 문장을 `풀어쓰는 영어`와 달리 단어를 `모아서 문장을 만드는 영어`의 특성 때문에, `띄어쓰기가 무시되는 경우`가 많아 전처리 어려움\n",
    "\n",
    "> - **예시:** 제가이렇게띄어쓰기를전혀하지않고글을썼다고하더라도글을이해할수있습니다.\n",
    ">\n",
    "> - **예시:** Tobeornottobethatisthequestion\n",
    "\n",
    "---\n",
    "\n",
    "**3) 품사 태깅(Part of Speech Tagging, POS Tagging):** 분류된 형태소의 `품사 라벨`을 붙여 주로 `분석에 필요한 품사` 필터링에 사용\n",
    "\n",
    "**(1) POS Tag:** 태깅시 사용하는 `약속된 품사`\n",
    "> - 한국어와 영어는 `품사의 종류 차이` 존재\n",
    "\n",
    "| **순서** | **품사명** | **한국어** | **영어** | **예시** |\n",
    "|:---:|:---|:---:|:---:|:---|\n",
    "| 1 | 명사(noun) | O | O | 가구, 가방, 가요, 가정 … |\n",
    "| 2 | 대명사(pronoun) | O | O | 거기, 그곳, 너희, 누구, 당신, 무엇, 어느덧, 어디, 언제, 얼마, 이곳, 이분, … |\n",
    "| 3 | 동사(verb) | O | O | 감동하다, 가사하다, 걸리다, 거어가다, … |\n",
    "| 4 | 형용사(adjective) | O | O | 가깝다, 가난하다, 가늘하다, 가능하다, 가볍다, … |\n",
    "| 5 | 관형사 |  |  | 각, 그, 그런, 내(나의), 네(너의), 만(나이), 첫, 한(500명), … |\n",
    "| 6 | 수사 | O |  | 하나, 둘, 셋, 백, 수천, 아홉, 오홉째, 억, … |\n",
    "| 7 | 부사(adverb) | O | O | 가까이, 가끔, 가득, 가만히, 각각, 각자, 간단히, 굉장히, 그리고, 금방, 다행히, 단순히, 대체로, 더욱, … |\n",
    "| 8 | 조사 | O |  | 은, 는, 이, 가, … |\n",
    "| 9 | 감탄사 | O |  | 그래, 그럼, 글쎄, 아, 아니, 아니요, 아이고, 안녕, 야, 어머, 여보, 여보세요, 예, 와, 응, 자, … |\n",
    "| 10 | 관사(article) |  | O |  |\n",
    "| 11 | 전치사(preposition) |  | O |  |\n",
    "| 12 | 접속사(conjunction) |  | O |  |\n",
    "\n",
    "**(2) Tag Set:** 약속된 품사들의 `태그 모음`\n",
    "\n",
    "- **[한국어](https://docs.google.com/spreadsheets/d/1OGAjUvalBuX-oZvZ_-9tEfYD2gQe7hTGsgUpiiBSXI8/edit#gid=0):** 분석기 라이브러리에 따라 `Tagset` 분류 `차이 존재`\n",
    "\n",
    "- **영어:** NLTK 라이브러리에서는 [`펜 트리뱅크 태그셋(Penn Treebank Tagset)`](https://www.ling.upenn.edu/courses/Fall_2003/ling001/penn_treebank_pos.html) 사용\n",
    "\n",
    "| **순서** | **품사 태그** | **설명** | **예시** | **NLTK** |\n",
    "|:---:|:---|:---|:---|:---:|\n",
    "| 1 | CC | coordinating conjunction | and | O |\n",
    "| 2 | CD | cardinal number | 1, third | O |\n",
    "| 3 | DT | determiner | the | O |\n",
    "| 4 | EX | existential there | there is | O |\n",
    "| 5 | FW | foreign word | les | O |\n",
    "| 6 | IN | preposition, subordinating conjunction | in, of, like | O |\n",
    "| 7 | IN/that | that as subordinator | that | 　 |\n",
    "| 8 | JJ | adjective | green | O |\n",
    "| 9 | JJR | adjective, comparative | greener | O |\n",
    "| 10 | JJS | adjective, superlative | greenest | O |\n",
    "| 11 | LS | list marker | 1) | O |\n",
    "| 12 | MD | modal | could, will | O |\n",
    "| 13 | NN | noun, singular or mass | table | O |\n",
    "| 14 | NNS | noun plural | tables | O |\n",
    "| 15 | NP | proper noun, singular | John | O |\n",
    "| 16 | NPS | proper noun, plural | Vikings | O |\n",
    "| 17 | PDT | predeterminer | both the boys | O |\n",
    "| 18 | POS | possessive ending | friend’s | O |\n",
    "| 19 | PP | personal pronoun | I, he, it | O |\n",
    "| 20 | PP`$` | possessive pronoun | my, his | O |\n",
    "| 21 | RB | adverb | however, usually, naturally, here, good | O |\n",
    "| 22 | RBR | adverb, comparative | better | O |\n",
    "| 23 | RBS | adverb, superlative | best | O |\n",
    "| 24 | RP | particle | give up | O |\n",
    "| 25 | SENT | Sentence-break punctuation | . ! ? | 　 |\n",
    "| 26 | SYM | Symbol | / [ = * | 　 |\n",
    "| 27 | TO | infinitive ‘to’ | togo | O |\n",
    "| 28 | UH | interjection | uhhuhhuhh | O |\n",
    "| 29 | VB | verb be, base form | be | O |\n",
    "| 30 | VBD | verb be, past tense | was, were | O |\n",
    "| 31 | VBG | verb be, gerund/present participle | being | O |\n",
    "| 32 | VBN | verb be, past participle | been | O |\n",
    "| 33 | VBP | verb be, sing. present, non-3d | am, are | O |\n",
    "| 34 | VBZ | verb be, 3rd person sing. present | is | O |\n",
    "| 35 | VH | verb have, base form | have | 　 |\n",
    "| 36 | VHD | verb have, past tense | had | 　 |\n",
    "| 37 | VHG | verb have, gerund/present participle | having | 　 |\n",
    "| 38 | VHN | verb have, past participle | had | 　 |\n",
    "| 39 | VHP | verb have, sing. present, non-3d | have | 　 |\n",
    "| 40 | VHZ | verb have, 3rd person sing. present | has | 　 |\n",
    "| 41 | VV | verb, base form | take | 　 |\n",
    "| 42 | VVD | verb, past tense | took | 　 |\n",
    "| 43 | VVG | verb, gerund/present participle | taking | 　 |\n",
    "| 44 | VVN | verb, past participle | taken | 　 |\n",
    "| 45 | VVP | verb, sing. present, non-3d | take | 　 |\n",
    "| 46 | VVZ | verb, 3rd person sing. present | takes | 　 |\n",
    "| 47 | WDT | wh-determiner | which | O |\n",
    "| 48 | WP | wh-pronoun | who, what | O |\n",
    "| 49 | WP`$` | possessive wh-pronoun | whose | O |\n",
    "| 50 | WRB | wh-abverb | where, when | O |\n",
    "| 51 | # | # | # | 　 |\n",
    "| 52 | $ | $ | $ | 　 |\n",
    "| 53 | “ | Quotation marks | ‘ “ | 　 |\n",
    "| 54 | ```` \\| Opening quotation marks \\| ‘ “ \\| \\| | 　 | 　 | 　 |\n",
    "| 55 | ( | Opening brackets | ( { | 　 |\n",
    "| 56 | ) | Closing brackets | ) } | 　 |\n",
    "| 57 | , | Comma | , | 　 |\n",
    "| 58 | : | Punctuation | – ; : — … | 　 |"
   ]
  },
  {
   "cell_type": "code",
   "execution_count": 12,
   "metadata": {},
   "outputs": [
    {
     "name": "stdout",
     "output_type": "stream",
     "text": [
      "$: dollar\n",
      "    $ -$ --$ A$ C$ HK$ M$ NZ$ S$ U.S.$ US$\n",
      "'': closing quotation mark\n",
      "    ' ''\n",
      "(: opening parenthesis\n",
      "    ( [ {\n",
      "): closing parenthesis\n",
      "    ) ] }\n",
      ",: comma\n",
      "    ,\n",
      "--: dash\n",
      "    --\n",
      ".: sentence terminator\n",
      "    . ! ?\n",
      ":: colon or ellipsis\n",
      "    : ; ...\n",
      "CC: conjunction, coordinating\n",
      "    & 'n and both but either et for less minus neither nor or plus so\n",
      "    therefore times v. versus vs. whether yet\n",
      "CD: numeral, cardinal\n",
      "    mid-1890 nine-thirty forty-two one-tenth ten million 0.5 one forty-\n",
      "    seven 1987 twenty '79 zero two 78-degrees eighty-four IX '60s .025\n",
      "    fifteen 271,124 dozen quintillion DM2,000 ...\n",
      "DT: determiner\n",
      "    all an another any both del each either every half la many much nary\n",
      "    neither no some such that the them these this those\n",
      "EX: existential there\n",
      "    there\n",
      "FW: foreign word\n",
      "    gemeinschaft hund ich jeux habeas Haementeria Herr K'ang-si vous\n",
      "    lutihaw alai je jour objets salutaris fille quibusdam pas trop Monte\n",
      "    terram fiche oui corporis ...\n",
      "IN: preposition or conjunction, subordinating\n",
      "    astride among uppon whether out inside pro despite on by throughout\n",
      "    below within for towards near behind atop around if like until below\n",
      "    next into if beside ...\n",
      "JJ: adjective or numeral, ordinal\n",
      "    third ill-mannered pre-war regrettable oiled calamitous first separable\n",
      "    ectoplasmic battery-powered participatory fourth still-to-be-named\n",
      "    multilingual multi-disciplinary ...\n",
      "JJR: adjective, comparative\n",
      "    bleaker braver breezier briefer brighter brisker broader bumper busier\n",
      "    calmer cheaper choosier cleaner clearer closer colder commoner costlier\n",
      "    cozier creamier crunchier cuter ...\n",
      "JJS: adjective, superlative\n",
      "    calmest cheapest choicest classiest cleanest clearest closest commonest\n",
      "    corniest costliest crassest creepiest crudest cutest darkest deadliest\n",
      "    dearest deepest densest dinkiest ...\n",
      "LS: list item marker\n",
      "    A A. B B. C C. D E F First G H I J K One SP-44001 SP-44002 SP-44005\n",
      "    SP-44007 Second Third Three Two * a b c d first five four one six three\n",
      "    two\n",
      "MD: modal auxiliary\n",
      "    can cannot could couldn't dare may might must need ought shall should\n",
      "    shouldn't will would\n",
      "NN: noun, common, singular or mass\n",
      "    common-carrier cabbage knuckle-duster Casino afghan shed thermostat\n",
      "    investment slide humour falloff slick wind hyena override subhumanity\n",
      "    machinist ...\n",
      "NNP: noun, proper, singular\n",
      "    Motown Venneboerger Czestochwa Ranzer Conchita Trumplane Christos\n",
      "    Oceanside Escobar Kreisler Sawyer Cougar Yvette Ervin ODI Darryl CTCA\n",
      "    Shannon A.K.C. Meltex Liverpool ...\n",
      "NNPS: noun, proper, plural\n",
      "    Americans Americas Amharas Amityvilles Amusements Anarcho-Syndicalists\n",
      "    Andalusians Andes Andruses Angels Animals Anthony Antilles Antiques\n",
      "    Apache Apaches Apocrypha ...\n",
      "NNS: noun, common, plural\n",
      "    undergraduates scotches bric-a-brac products bodyguards facets coasts\n",
      "    divestitures storehouses designs clubs fragrances averages\n",
      "    subjectivists apprehensions muses factory-jobs ...\n",
      "PDT: pre-determiner\n",
      "    all both half many quite such sure this\n",
      "POS: genitive marker\n",
      "    ' 's\n",
      "PRP: pronoun, personal\n",
      "    hers herself him himself hisself it itself me myself one oneself ours\n",
      "    ourselves ownself self she thee theirs them themselves they thou thy us\n",
      "PRP$: pronoun, possessive\n",
      "    her his mine my our ours their thy your\n",
      "RB: adverb\n",
      "    occasionally unabatingly maddeningly adventurously professedly\n",
      "    stirringly prominently technologically magisterially predominately\n",
      "    swiftly fiscally pitilessly ...\n",
      "RBR: adverb, comparative\n",
      "    further gloomier grander graver greater grimmer harder harsher\n",
      "    healthier heavier higher however larger later leaner lengthier less-\n",
      "    perfectly lesser lonelier longer louder lower more ...\n",
      "RBS: adverb, superlative\n",
      "    best biggest bluntest earliest farthest first furthest hardest\n",
      "    heartiest highest largest least less most nearest second tightest worst\n",
      "RP: particle\n",
      "    aboard about across along apart around aside at away back before behind\n",
      "    by crop down ever fast for forth from go high i.e. in into just later\n",
      "    low more off on open out over per pie raising start teeth that through\n",
      "    under unto up up-pp upon whole with you\n",
      "SYM: symbol\n",
      "    % & ' '' ''. ) ). * + ,. < = > @ A[fj] U.S U.S.S.R * ** ***\n",
      "TO: \"to\" as preposition or infinitive marker\n",
      "    to\n",
      "UH: interjection\n",
      "    Goodbye Goody Gosh Wow Jeepers Jee-sus Hubba Hey Kee-reist Oops amen\n",
      "    huh howdy uh dammit whammo shucks heck anyways whodunnit honey golly\n",
      "    man baby diddle hush sonuvabitch ...\n",
      "VB: verb, base form\n",
      "    ask assemble assess assign assume atone attention avoid bake balkanize\n",
      "    bank begin behold believe bend benefit bevel beware bless boil bomb\n",
      "    boost brace break bring broil brush build ...\n",
      "VBD: verb, past tense\n",
      "    dipped pleaded swiped regummed soaked tidied convened halted registered\n",
      "    cushioned exacted snubbed strode aimed adopted belied figgered\n",
      "    speculated wore appreciated contemplated ...\n",
      "VBG: verb, present participle or gerund\n",
      "    telegraphing stirring focusing angering judging stalling lactating\n",
      "    hankerin' alleging veering capping approaching traveling besieging\n",
      "    encrypting interrupting erasing wincing ...\n",
      "VBN: verb, past participle\n",
      "    multihulled dilapidated aerosolized chaired languished panelized used\n",
      "    experimented flourished imitated reunifed factored condensed sheared\n",
      "    unsettled primed dubbed desired ...\n",
      "VBP: verb, present tense, not 3rd person singular\n",
      "    predominate wrap resort sue twist spill cure lengthen brush terminate\n",
      "    appear tend stray glisten obtain comprise detest tease attract\n",
      "    emphasize mold postpone sever return wag ...\n",
      "VBZ: verb, present tense, 3rd person singular\n",
      "    bases reconstructs marks mixes displeases seals carps weaves snatches\n",
      "    slumps stretches authorizes smolders pictures emerges stockpiles\n",
      "    seduces fizzes uses bolsters slaps speaks pleads ...\n",
      "WDT: WH-determiner\n",
      "    that what whatever which whichever\n",
      "WP: WH-pronoun\n",
      "    that what whatever whatsoever which who whom whosoever\n",
      "WP$: WH-pronoun, possessive\n",
      "    whose\n",
      "WRB: Wh-adverb\n",
      "    how however whence whenever where whereby whereever wherein whereof why\n",
      "``: opening quotation mark\n",
      "    ` ``\n"
     ]
    }
   ],
   "source": [
    "# nltk 라이브러리에서 확인 가능\n",
    "nltk.help.upenn_tagset()"
   ]
  },
  {
   "cell_type": "markdown",
   "metadata": {},
   "source": [
    "**4) 한국어 형태소 분석기 설치 및 로딩**\n",
    "\n",
    "> **\"`컴퓨터와 대부분의 알고리즘`은 `영미인이 개발`했기 때문에, 한국어에 `그대로 적용 어려움`\"**\n",
    "\n",
    "<center><img src='Image/Advanced/NLP_Korean_Difficult.png' width='500'></center>\n",
    "\n",
    "- **KoNLPy:** `형태소 추출, 명사 추출, 품사 태깅` 기능 라이브러리를 파이썬에서 쉽게 사용할 수 있도록 지원하며, 대한민국헌법 말뭉치 `kolaw`와 국회법안 말뭉치 `kobill` 제공\n",
    "\n",
    "| **라이브러리명** | **설명** | **링크** |\n",
    "|:---|:---|:---|\n",
    "| Hannanum | 한나눔. KAIST   Semantic Web Research Center 개발 | http://semanticweb.kaist.ac.kr/hannanum/ |\n",
    "| Kkma | 꼬꼬마. 서울대학교   IDS(Intelligent Data Systems) 연구실 개발 | http://kkma.snu.ac.kr/ |\n",
    "| Komoran | 코모란.   Shineware에서 개발 | https://github.com/shin285/KOMORAN |\n",
    "| Open   Korean Text | 오픈 소스 한국어 분석기.   과거 트위터 형태소 분석기 | https://github.com/open-korean-text/open-korean-text |\n",
    "| Mecab | 메카브. 일본어용 형태소   분석기를 한국어를 사용할 수 있도록 수정 | https://bitbucket.org/eunjeon/mecab-ko |\n",
    "\n",
    "- **장단점:** `한국어 형태소 분석기(POS) 분석: 형태소 분석기 비교 by metterian`\n",
    "\n",
    "|  | **Hannanum** | **Kkma** | **Komoran** | **Open Korean Text** | **Mecab** |\n",
    "|---|:---|:---|:---|:---|:---|\n",
    "| **장점** | 로딩시간이 빠른편 | 띄어쓰기 오류에 덜 민감 | 자소 분리 가능, 오탈자 분석 가능,   고유명사 분석 가능 | 띄어쓰기 성능이 가장 좋다,   stemming 가능, 이모티콘, 해쉬태그 같은 인터넷 텍스트에 강함 , 비속어, 비표준어도 분석 가능 | 새로운 사전 추가 가능, (twitter   공개전) 띄어쓰기에서 가장 좋은 성능, 속도, 정확도 |\n",
    "| **단점** | 띄어쓰기 없는 문장 분석에 매우 취약,   정제된 언어가 사용되지 않는 문서에 대한 형태소 분석 정확도가 높지 않은 문제점 | 분석 시간 오래 걸림, 정제된 언어가   사용되지 않는 문서에 대한 형태소 분석 정확도가 높지 않은 문제점 | 로딩 속도가 길다, 띄어쓰기 없는   문장분석에 취약하다 | 미등록어 처리 문제, 동음의어 처리문제,   분석 범주 적은편 | 미등록어 처리 문제, 동음의어 처리 문제 |\n",
    "\n",
    "- 여러가지 중 그나마 `mecab`이 성능이 뛰어난 것으로 알려져있고, 카카오 `khaiii` 오픈 소스도 성능 좋은 것 중 하나\n",
    "- 분석기 종류에 따라 `결과도 다르고 실행시간도 다르기`에 목적과 용도에 따라 `적절한 선택 필요`\n",
    "---\n",
    "\n",
    "```python\n",
    "# 설치\n",
    "# (1) JDK 설치: https://www.oracle.com/java/technologies/downloads/\n",
    "# (2) JAVA 환경변수 설정 확인\n",
    "import os\n",
    "'JAVA_HOME' in os.environ\n",
    "# (3) (2)에서 False가 나오면 JDK 설치경로를 직접 지정\n",
    "# C:\\Program Files\\Java\\jdk-18.0.2.1\\bin\\server\n",
    "os.environ['JAVA_HOME'] = r'C:\\Program Files\\Java\\jdk-18.0.2.1\\bin\\server'\n",
    "# (4) JAVA 환경변수 설정 True가 나오면 정상적 설치\n",
    "'JAVA_HOME' in os.environ\n",
    "# (5) Python 버전확인\n",
    "import sys\n",
    "sys.version\n",
    "# (6) JPype 설치: \n",
    "# (6-1) 아래링크에서 Python 버전과 운영체제에 맞는 파일 다운로드\n",
    "# https://www.lfd.uci.edu/~gohlke/pythonlibs/#jpype\n",
    "# (6-2) Anaconda Prompt에서 다운받은 파일 설치\n",
    "# pip install JPype1‑1.4.0‑cp39‑cp39‑win_amd64.whl\n",
    "# (7) Mecab 설치: \n",
    "# (7-1) C:\\mecab 폴더 생성\n",
    "# (7-2) 아래링크에서 윈도우 32bit/64bit 맞춰 다운로드 후 mecab폴더에 압출풀기\n",
    "# https://github.com/Pusnow/mecab-ko-msvc/releases\n",
    "# (7-3) 아래링크에서 최신파일을 다운로드 후 mecab폴더에 압출풀기\n",
    "# https://github.com/Pusnow/mecab-ko-dic-msvc/releases\n",
    "# (7-4) 아래링크에서 Python 버전과 운영체제에 맞는 파일 다운로드 후 site-package 폴더로 붙여넣기\n",
    "!python -m site\n",
    "# (7-5) Anaconda Prompt에서 다운받은 파일 설치\n",
    "# pip install mecab_python-0.996_ko_0.9.2_msvc-cp38-cp38-win_amd64.whl\n",
    "# https://github.com/Pusnow/mecab-python-msvc/releases\n",
    "# KoNLPy 설치\n",
    "!pip install konlpy\n",
    "\n",
    "# 불러오기\n",
    "from konlpy.tag import *\n",
    "\n",
    "hannanum = Hannanum()\n",
    "kkma = Kkma()\n",
    "komoran = Komoran()\n",
    "okt = Okt()\n",
    "mecab = Mecab()\n",
    "```"
   ]
  },
  {
   "cell_type": "code",
   "execution_count": 13,
   "metadata": {},
   "outputs": [
    {
     "name": "stdout",
     "output_type": "stream",
     "text": [
      "False\n",
      "3.9.7 (default, Sep 16 2021, 16:59:28) [MSC v.1916 64 bit (AMD64)]\n",
      "True\n",
      "sys.path = [\n",
      "    'C:\\\\DataScience\\\\Lecture\\\\[DataScience]',\n",
      "    'C:\\\\Users\\\\KK\\\\anaconda3\\\\python39.zip',\n",
      "    'C:\\\\Users\\\\KK\\\\anaconda3\\\\DLLs',\n",
      "    'C:\\\\Users\\\\KK\\\\anaconda3\\\\lib',\n",
      "    'C:\\\\Users\\\\KK\\\\anaconda3',\n",
      "    'C:\\\\Users\\\\KK\\\\AppData\\\\Roaming\\\\Python\\\\Python39\\\\site-packages',\n",
      "    'C:\\\\Users\\\\KK\\\\anaconda3\\\\lib\\\\site-packages',\n",
      "    'C:\\\\Users\\\\KK\\\\anaconda3\\\\lib\\\\site-packages\\\\win32',\n",
      "    'C:\\\\Users\\\\KK\\\\anaconda3\\\\lib\\\\site-packages\\\\win32\\\\lib',\n",
      "    'C:\\\\Users\\\\KK\\\\anaconda3\\\\lib\\\\site-packages\\\\Pythonwin',\n",
      "]\n",
      "USER_BASE: 'C:\\\\Users\\\\KK\\\\AppData\\\\Roaming\\\\Python' (exists)\n",
      "USER_SITE: 'C:\\\\Users\\\\KK\\\\AppData\\\\Roaming\\\\Python\\\\Python39\\\\site-packages' (exists)\n",
      "ENABLE_USER_SITE: True\n",
      "Requirement already satisfied: konlpy in c:\\users\\kk\\anaconda3\\lib\\site-packages (0.6.0)\n",
      "Requirement already satisfied: lxml>=4.1.0 in c:\\users\\kk\\anaconda3\\lib\\site-packages (from konlpy) (4.9.1)\n",
      "Requirement already satisfied: JPype1>=0.7.0 in c:\\users\\kk\\anaconda3\\lib\\site-packages (from konlpy) (1.4.0)\n",
      "Requirement already satisfied: numpy>=1.6 in c:\\users\\kk\\anaconda3\\lib\\site-packages (from konlpy) (1.21.6)\n",
      "\n",
      "[notice] A new release of pip available: 22.2 -> 22.2.2\n",
      "[notice] To update, run: python.exe -m pip install --upgrade pip\n"
     ]
    }
   ],
   "source": [
    "# KoNLPy 설치\n",
    "import os\n",
    "print('JAVA_HOME' in os.environ)\n",
    "import sys\n",
    "print(sys.version)\n",
    "os.environ['JAVA_HOME'] = r'C:\\Program Files\\Java\\jdk-18.0.2.1\\bin\\server'\n",
    "print('JAVA_HOME' in os.environ)\n",
    "!python -m site\n",
    "!pip install konlpy"
   ]
  },
  {
   "cell_type": "code",
   "execution_count": 14,
   "metadata": {},
   "outputs": [],
   "source": [
    "# 불러오기\n",
    "from konlpy.tag import *\n",
    "\n",
    "hannanum = Hannanum()\n",
    "kkma = Kkma()\n",
    "komoran = Komoran()\n",
    "okt = Okt()\n",
    "# mecab = Mecab()"
   ]
  },
  {
   "cell_type": "code",
   "execution_count": 15,
   "metadata": {},
   "outputs": [
    {
     "data": {
      "text/html": [
       "<div>\n",
       "<style scoped>\n",
       "    .dataframe tbody tr th:only-of-type {\n",
       "        vertical-align: middle;\n",
       "    }\n",
       "\n",
       "    .dataframe tbody tr th {\n",
       "        vertical-align: top;\n",
       "    }\n",
       "\n",
       "    .dataframe thead th {\n",
       "        text-align: right;\n",
       "    }\n",
       "</style>\n",
       "<table border=\"1\" class=\"dataframe\">\n",
       "  <thead>\n",
       "    <tr style=\"text-align: right;\">\n",
       "      <th></th>\n",
       "      <th>기호: hannanum</th>\n",
       "      <th>품사: hannanum</th>\n",
       "      <th>기호: kkma</th>\n",
       "      <th>품사: kkma</th>\n",
       "      <th>기호: komoran</th>\n",
       "      <th>품사: komoran</th>\n",
       "      <th>기호: okt</th>\n",
       "      <th>품사: okt</th>\n",
       "    </tr>\n",
       "  </thead>\n",
       "  <tbody>\n",
       "    <tr>\n",
       "      <th>0</th>\n",
       "      <td>E</td>\n",
       "      <td>어미</td>\n",
       "      <td>EC</td>\n",
       "      <td>연결 어미</td>\n",
       "      <td>EC</td>\n",
       "      <td>연결 어미</td>\n",
       "      <td>Adjective</td>\n",
       "      <td>형용사</td>\n",
       "    </tr>\n",
       "    <tr>\n",
       "      <th>1</th>\n",
       "      <td>EC</td>\n",
       "      <td>연결 어미</td>\n",
       "      <td>ECD</td>\n",
       "      <td>의존적 연결 어미</td>\n",
       "      <td>EF</td>\n",
       "      <td>종결 어미</td>\n",
       "      <td>Adverb</td>\n",
       "      <td>부사</td>\n",
       "    </tr>\n",
       "    <tr>\n",
       "      <th>2</th>\n",
       "      <td>EF</td>\n",
       "      <td>종결 어미</td>\n",
       "      <td>ECE</td>\n",
       "      <td>대등 연결 어미</td>\n",
       "      <td>EP</td>\n",
       "      <td>선어말어미</td>\n",
       "      <td>Alpha</td>\n",
       "      <td>알파벳</td>\n",
       "    </tr>\n",
       "    <tr>\n",
       "      <th>3</th>\n",
       "      <td>EP</td>\n",
       "      <td>선어말어미</td>\n",
       "      <td>ECS</td>\n",
       "      <td>보조적 연결 어미</td>\n",
       "      <td>ETM</td>\n",
       "      <td>관형형 전성 어미</td>\n",
       "      <td>Conjunction</td>\n",
       "      <td>접속사</td>\n",
       "    </tr>\n",
       "    <tr>\n",
       "      <th>4</th>\n",
       "      <td>ET</td>\n",
       "      <td>전성 어미</td>\n",
       "      <td>EF</td>\n",
       "      <td>종결 어미</td>\n",
       "      <td>ETN</td>\n",
       "      <td>명사형 전성 어미</td>\n",
       "      <td>Determiner</td>\n",
       "      <td>관형사</td>\n",
       "    </tr>\n",
       "    <tr>\n",
       "      <th>...</th>\n",
       "      <td>...</td>\n",
       "      <td>...</td>\n",
       "      <td>...</td>\n",
       "      <td>...</td>\n",
       "      <td>...</td>\n",
       "      <td>...</td>\n",
       "      <td>...</td>\n",
       "      <td>...</td>\n",
       "    </tr>\n",
       "    <tr>\n",
       "      <th>62</th>\n",
       "      <td></td>\n",
       "      <td></td>\n",
       "      <td>XPV</td>\n",
       "      <td>용언 접두사</td>\n",
       "      <td></td>\n",
       "      <td></td>\n",
       "      <td></td>\n",
       "      <td></td>\n",
       "    </tr>\n",
       "    <tr>\n",
       "      <th>63</th>\n",
       "      <td></td>\n",
       "      <td></td>\n",
       "      <td>XR</td>\n",
       "      <td>어근</td>\n",
       "      <td></td>\n",
       "      <td></td>\n",
       "      <td></td>\n",
       "      <td></td>\n",
       "    </tr>\n",
       "    <tr>\n",
       "      <th>64</th>\n",
       "      <td></td>\n",
       "      <td></td>\n",
       "      <td>XSA</td>\n",
       "      <td>형용사 파생 접미사</td>\n",
       "      <td></td>\n",
       "      <td></td>\n",
       "      <td></td>\n",
       "      <td></td>\n",
       "    </tr>\n",
       "    <tr>\n",
       "      <th>65</th>\n",
       "      <td></td>\n",
       "      <td></td>\n",
       "      <td>XSN</td>\n",
       "      <td>명사파생 접미사</td>\n",
       "      <td></td>\n",
       "      <td></td>\n",
       "      <td></td>\n",
       "      <td></td>\n",
       "    </tr>\n",
       "    <tr>\n",
       "      <th>66</th>\n",
       "      <td></td>\n",
       "      <td></td>\n",
       "      <td>XSV</td>\n",
       "      <td>동사 파생 접미사</td>\n",
       "      <td></td>\n",
       "      <td></td>\n",
       "      <td></td>\n",
       "      <td></td>\n",
       "    </tr>\n",
       "  </tbody>\n",
       "</table>\n",
       "<p>67 rows × 8 columns</p>\n",
       "</div>"
      ],
      "text/plain": [
       "   기호: hannanum 품사: hannanum 기호: kkma    품사: kkma 기호: komoran 품사: komoran  \\\n",
       "0             E           어미       EC       연결 어미          EC       연결 어미   \n",
       "1            EC        연결 어미      ECD   의존적 연결 어미          EF       종결 어미   \n",
       "2            EF        종결 어미      ECE    대등 연결 어미          EP       선어말어미   \n",
       "3            EP        선어말어미      ECS   보조적 연결 어미         ETM   관형형 전성 어미   \n",
       "4            ET        전성 어미       EF       종결 어미         ETN   명사형 전성 어미   \n",
       "..          ...          ...      ...         ...         ...         ...   \n",
       "62                                XPV      용언 접두사                           \n",
       "63                                 XR          어근                           \n",
       "64                                XSA  형용사 파생 접미사                           \n",
       "65                                XSN    명사파생 접미사                           \n",
       "66                                XSV   동사 파생 접미사                           \n",
       "\n",
       "        기호: okt 품사: okt  \n",
       "0     Adjective     형용사  \n",
       "1        Adverb      부사  \n",
       "2         Alpha     알파벳  \n",
       "3   Conjunction     접속사  \n",
       "4    Determiner     관형사  \n",
       "..          ...     ...  \n",
       "62                       \n",
       "63                       \n",
       "64                       \n",
       "65                       \n",
       "66                       \n",
       "\n",
       "[67 rows x 8 columns]"
      ]
     },
     "execution_count": 15,
     "metadata": {},
     "output_type": "execute_result"
    }
   ],
   "source": [
    "# 한국어 품사태깅 리스트\n",
    "tagset_ko = pd.DataFrame()\n",
    "for pkg in [hannanum, kkma, komoran, okt]:\n",
    "    tagset_ko = pd.concat([tagset_ko,\n",
    "                           pd.Series(pkg.tagset.keys()),\n",
    "                           pd.Series(pkg.tagset.values())],\n",
    "                          axis=1)\n",
    "tagset_ko.columns = ['기호: hannanum', '품사: hannanum',\n",
    "                     '기호: kkma', '품사: kkma',\n",
    "                     '기호: komoran', '품사: komoran',\n",
    "                     '기호: okt', '품사: okt']\n",
    "tagset_ko.fillna('', inplace=True)\n",
    "tagset_ko"
   ]
  },
  {
   "cell_type": "markdown",
   "metadata": {},
   "source": [
    "- **KoNLPy:** `형태소 추출, 명사 추출, 품사 태깅` 기능 라이브러리를 파이썬에서 쉽게 사용할 수 있도록 지원"
   ]
  },
  {
   "cell_type": "code",
   "execution_count": 16,
   "metadata": {},
   "outputs": [
    {
     "name": "stdout",
     "output_type": "stream",
     "text": [
      "단어 토큰화:  ['The', 'Ph.D.', 'AI', 'is', 'used', 'to', 'analyze', 'time-varying', 'clusters', 'of', 'efficiency', 'in', 'the', 'global', 'financial', 'market', ',', 'and', 'a', 'complex', 'network', 'structure', 'is', 'applied', 'to', 'evaluate', 'its', 'collective', 'dynamics', '.', 'The', 'market', 'efficiency', 'is', 'stable', 'only', 'for', 'a', 'short', 'period', 'of', 'time', ',', 'however', ',', 'the', 'clustering', 'based', 'on', 'the', 'long-term', 'behavior', 'may', 'not', 'include', 'important', 'characteristics', 'of', 'short-term', 'interactions', '.', 'Not', 'only', 'systemic', 'risk', 'may', 'occur', 'due', 'to', 'the', 'spread', 'of', 'low-efficiency', ',', 'but', 'also', 'high-efficiency', 'may', 'appear', 'at', 'the', 'global', 'level', 'as', 'well', '.']\n",
      "\n",
      "품사 태깅:  [('The', 'DT'), ('Ph.D.', 'NNP'), ('AI', 'NNP'), ('is', 'VBZ'), ('used', 'VBN'), ('to', 'TO'), ('analyze', 'VB'), ('time-varying', 'JJ'), ('clusters', 'NNS'), ('of', 'IN'), ('efficiency', 'NN'), ('in', 'IN'), ('the', 'DT'), ('global', 'JJ'), ('financial', 'JJ'), ('market', 'NN'), (',', ','), ('and', 'CC'), ('a', 'DT'), ('complex', 'JJ'), ('network', 'NN'), ('structure', 'NN'), ('is', 'VBZ'), ('applied', 'VBN'), ('to', 'TO'), ('evaluate', 'VB'), ('its', 'PRP$'), ('collective', 'JJ'), ('dynamics', 'NNS'), ('.', '.'), ('The', 'DT'), ('market', 'NN'), ('efficiency', 'NN'), ('is', 'VBZ'), ('stable', 'JJ'), ('only', 'RB'), ('for', 'IN'), ('a', 'DT'), ('short', 'JJ'), ('period', 'NN'), ('of', 'IN'), ('time', 'NN'), (',', ','), ('however', 'RB'), (',', ','), ('the', 'DT'), ('clustering', 'VBG'), ('based', 'VBN'), ('on', 'IN'), ('the', 'DT'), ('long-term', 'JJ'), ('behavior', 'NN'), ('may', 'MD'), ('not', 'RB'), ('include', 'VB'), ('important', 'JJ'), ('characteristics', 'NNS'), ('of', 'IN'), ('short-term', 'JJ'), ('interactions', 'NNS'), ('.', '.'), ('Not', 'RB'), ('only', 'RB'), ('systemic', 'JJ'), ('risk', 'NN'), ('may', 'MD'), ('occur', 'VB'), ('due', 'JJ'), ('to', 'TO'), ('the', 'DT'), ('spread', 'NN'), ('of', 'IN'), ('low-efficiency', 'NN'), (',', ','), ('but', 'CC'), ('also', 'RB'), ('high-efficiency', 'NN'), ('may', 'MD'), ('appear', 'VB'), ('at', 'IN'), ('the', 'DT'), ('global', 'JJ'), ('level', 'NN'), ('as', 'RB'), ('well', 'RB'), ('.', '.')]\n"
     ]
    }
   ],
   "source": [
    "# 영어 토큰화 및 품사 태깅\n",
    "from nltk.tokenize import word_tokenize\n",
    "from nltk.tag import pos_tag\n",
    "\n",
    "sentence = 'The Ph.D. AI is used to analyze time-varying clusters of efficiency in the global financial market, and a complex network structure is applied to evaluate its collective dynamics. \\\n",
    "            The market efficiency is stable only for a short period of time, however, the clustering based on the long-term behavior may not include important characteristics of short-term interactions. \\\n",
    "            Not only systemic risk may occur due to the spread of low-efficiency, but also high-efficiency may appear at the global level as well.'\n",
    "token_wt = word_tokenize(sentence)\n",
    "print('단어 토큰화: ', token_wt)\n",
    "print()\n",
    "print('품사 태깅: ', pos_tag(token_wt))"
   ]
  },
  {
   "cell_type": "code",
   "execution_count": 17,
   "metadata": {},
   "outputs": [
    {
     "name": "stdout",
     "output_type": "stream",
     "text": [
      "단어 토큰화:  ['디지털경제는', '재화와', '서비스의', '생산', ',', '분배', ',', '소비', '등', '주요', '경제활동이', \"'디지털화되고\", '네트워크화된', '정보와', \"지식'이라는\", '생산요소에', '주로', '의존하는', '경제를', '의미합니다', '.', '디지털화가', '급격하게', '확산되고', '있는', '것은', '정보와', '지식에', '대한', '욕구', '증대라는', '수요측면과', 'IT기술의', '비약적인', '발전이라는', '공급측면의', '요인이', '상호', '작용하고', '있기', '때문입니다', '.']\n",
      "\n",
      "품사 태깅:  [('디지털경제는', 'JJ'), ('재화와', 'NNP'), ('서비스의', 'NNP'), ('생산', 'NNP'), (',', ','), ('분배', 'NNP'), (',', ','), ('소비', 'NNP'), ('등', 'NNP'), ('주요', 'NNP'), ('경제활동이', 'NNP'), (\"'디지털화되고\", 'POS'), ('네트워크화된', 'NNP'), ('정보와', 'NNP'), (\"지식'이라는\", 'NNP'), ('생산요소에', 'NNP'), ('주로', 'NNP'), ('의존하는', 'NNP'), ('경제를', 'NNP'), ('의미합니다', 'NNP'), ('.', '.'), ('디지털화가', 'VB'), ('급격하게', 'JJ'), ('확산되고', 'NNP'), ('있는', 'NNP'), ('것은', 'NNP'), ('정보와', 'NNP'), ('지식에', 'NNP'), ('대한', 'NNP'), ('욕구', 'NNP'), ('증대라는', 'NNP'), ('수요측면과', 'NNP'), ('IT기술의', 'NNP'), ('비약적인', 'NNP'), ('발전이라는', 'NNP'), ('공급측면의', 'NNP'), ('요인이', 'NNP'), ('상호', 'NNP'), ('작용하고', 'NNP'), ('있기', 'NNP'), ('때문입니다', 'NNP'), ('.', '.')]\n"
     ]
    }
   ],
   "source": [
    "# 한국어 토큰화 및 품사 태깅\n",
    "# nltk.tag.pos_tag는 한국어 품사 태깅 어려움\n",
    "from nltk.tokenize import word_tokenize\n",
    "from nltk.tag import pos_tag\n",
    "\n",
    "sentence = \"디지털경제는 재화와 서비스의 생산, 분배, 소비 등 주요 경제활동이 '디지털화되고 네트워크화된 정보와 지식'이라는 생산요소에 주로 의존하는 경제를 의미합니다. \\\n",
    "            디지털화가 급격하게 확산되고 있는 것은 정보와 지식에 대한 욕구 증대라는 수요측면과 IT기술의 비약적인 발전이라는 공급측면의 요인이 상호 작용하고 있기 때문입니다.\"\n",
    "token_wt = word_tokenize(sentence)\n",
    "print('단어 토큰화: ', token_wt)\n",
    "print()\n",
    "print('품사 태깅: ', pos_tag(token_wt))"
   ]
  },
  {
   "cell_type": "code",
   "execution_count": 18,
   "metadata": {},
   "outputs": [
    {
     "name": "stdout",
     "output_type": "stream",
     "text": [
      "형태소 토큰화:  ['디지털경제', '는', '재화', '와', '서비스', '의', '생산', ',', '분배', ',', '소비', '등', '주요', '경제활동', '이', \"'\", '디지털화', '되', '고', '네트워크화', '되', 'ㄴ', '정보', '와', '지식', \"'\", '이', '라는', '생산요소', '에', '주로', '의존', '하', '는', '경제', '를', '의미', '하', 'ㅂ니다', '.', '디지털화', '가', '급격', '하', '게', '확산', '되', '고', '있', '는', '것', '은', '정보', '와', '지식', '에', '대하', 'ㄴ', '욕구', '증대', '라는', '수요측면', '과', 'IT', '기술', '의', '비약적', '이', 'ㄴ', '발전', '이', '라는', '공급측면', '의', '요인', '이', '상호', '작용', '하고', '있', '기', '때문', '이', 'ㅂ니다', '.']\n",
      "\n",
      "명사 태깅:  ['디지털경제', '재화', '서비스', '생산', '분배', '소비', '등', '주요', '경제활동', '디지털화', '네트워크화', '정보', '지식', '생산요소', '의존', '경제', '의미', '디지털화', '급격', '확산', '것', '정보', '지식', '욕구', '증대', '수요측면', '기술', '비약적', '발전', '공급측면', '요인', '작용', '때문']\n",
      "\n",
      "품사 태깅:  [('디지털경제', 'N'), ('는', 'J'), ('재화', 'N'), ('와', 'J'), ('서비스', 'N'), ('의', 'J'), ('생산', 'N'), (',', 'S'), ('분배', 'N'), (',', 'S'), ('소비', 'N'), ('등', 'N'), ('주요', 'N'), ('경제활동', 'N'), ('이', 'J'), (\"'\", 'S'), ('디지털화', 'N'), ('되', 'X'), ('고', 'E'), ('네트워크화', 'N'), ('되', 'X'), ('ㄴ', 'E'), ('정보', 'N'), ('와', 'J'), ('지식', 'N'), (\"'\", 'S'), ('이', 'J'), ('라는', 'E'), ('생산요소', 'N'), ('에', 'J'), ('주로', 'M'), ('의존', 'N'), ('하', 'X'), ('는', 'E'), ('경제', 'N'), ('를', 'J'), ('의미', 'N'), ('하', 'X'), ('ㅂ니다', 'E'), ('.', 'S'), ('디지털화', 'N'), ('가', 'J'), ('급격', 'N'), ('하', 'X'), ('게', 'E'), ('확산', 'N'), ('되', 'X'), ('고', 'E'), ('있', 'P'), ('는', 'E'), ('것', 'N'), ('은', 'J'), ('정보', 'N'), ('와', 'J'), ('지식', 'N'), ('에', 'J'), ('대하', 'P'), ('ㄴ', 'E'), ('욕구', 'N'), ('증대', 'N'), ('라는', 'J'), ('수요측면', 'N'), ('과', 'J'), ('IT', 'F'), ('기술', 'N'), ('의', 'J'), ('비약적', 'N'), ('이', 'J'), ('ㄴ', 'E'), ('발전', 'N'), ('이', 'J'), ('라는', 'E'), ('공급측면', 'N'), ('의', 'J'), ('요인', 'N'), ('이', 'J'), ('상호', 'M'), ('작용', 'N'), ('하고', 'J'), ('있', 'P'), ('기', 'E'), ('때문', 'N'), ('이', 'J'), ('ㅂ니다', 'E'), ('.', 'S')]\n"
     ]
    }
   ],
   "source": [
    "# KoNLPy 활용 한국어 토큰화 및 품사 태깅\n",
    "sentence = \"디지털경제는 재화와 서비스의 생산, 분배, 소비 등 주요 경제활동이 '디지털화되고 네트워크화된 정보와 지식'이라는 생산요소에 주로 의존하는 경제를 의미합니다. \\\n",
    "            디지털화가 급격하게 확산되고 있는 것은 정보와 지식에 대한 욕구 증대라는 수요측면과 IT기술의 비약적인 발전이라는 공급측면의 요인이 상호 작용하고 있기 때문입니다.\"\n",
    "print('형태소 토큰화: ', hannanum.morphs(sentence))\n",
    "print()\n",
    "print('명사 태깅: ', hannanum.nouns(sentence))\n",
    "print()\n",
    "print('품사 태깅: ', hannanum.pos(sentence))"
   ]
  },
  {
   "cell_type": "code",
   "execution_count": 19,
   "metadata": {},
   "outputs": [
    {
     "data": {
      "text/html": [
       "<div>\n",
       "<style scoped>\n",
       "    .dataframe tbody tr th:only-of-type {\n",
       "        vertical-align: middle;\n",
       "    }\n",
       "\n",
       "    .dataframe tbody tr th {\n",
       "        vertical-align: top;\n",
       "    }\n",
       "\n",
       "    .dataframe thead th {\n",
       "        text-align: right;\n",
       "    }\n",
       "</style>\n",
       "<table border=\"1\" class=\"dataframe\">\n",
       "  <thead>\n",
       "    <tr style=\"text-align: right;\">\n",
       "      <th></th>\n",
       "      <th>hannanum</th>\n",
       "      <th>kkma</th>\n",
       "      <th>komoran</th>\n",
       "      <th>okt</th>\n",
       "    </tr>\n",
       "  </thead>\n",
       "  <tbody>\n",
       "    <tr>\n",
       "      <th>0</th>\n",
       "      <td>디지털경제</td>\n",
       "      <td>디지털</td>\n",
       "      <td>디지털</td>\n",
       "      <td>디지털</td>\n",
       "    </tr>\n",
       "    <tr>\n",
       "      <th>1</th>\n",
       "      <td>는</td>\n",
       "      <td>경제</td>\n",
       "      <td>경제</td>\n",
       "      <td>경제</td>\n",
       "    </tr>\n",
       "    <tr>\n",
       "      <th>2</th>\n",
       "      <td>재화</td>\n",
       "      <td>는</td>\n",
       "      <td>는</td>\n",
       "      <td>는</td>\n",
       "    </tr>\n",
       "    <tr>\n",
       "      <th>3</th>\n",
       "      <td>와</td>\n",
       "      <td>재화</td>\n",
       "      <td>재화</td>\n",
       "      <td>재화</td>\n",
       "    </tr>\n",
       "    <tr>\n",
       "      <th>4</th>\n",
       "      <td>서비스</td>\n",
       "      <td>와</td>\n",
       "      <td>와</td>\n",
       "      <td>와</td>\n",
       "    </tr>\n",
       "    <tr>\n",
       "      <th>...</th>\n",
       "      <td>...</td>\n",
       "      <td>...</td>\n",
       "      <td>...</td>\n",
       "      <td>...</td>\n",
       "    </tr>\n",
       "    <tr>\n",
       "      <th>89</th>\n",
       "      <td></td>\n",
       "      <td>때문</td>\n",
       "      <td>때문</td>\n",
       "      <td></td>\n",
       "    </tr>\n",
       "    <tr>\n",
       "      <th>90</th>\n",
       "      <td></td>\n",
       "      <td>이</td>\n",
       "      <td>이</td>\n",
       "      <td></td>\n",
       "    </tr>\n",
       "    <tr>\n",
       "      <th>91</th>\n",
       "      <td></td>\n",
       "      <td>ㅂ니다</td>\n",
       "      <td>ㅂ니다</td>\n",
       "      <td></td>\n",
       "    </tr>\n",
       "    <tr>\n",
       "      <th>92</th>\n",
       "      <td></td>\n",
       "      <td>.</td>\n",
       "      <td>.</td>\n",
       "      <td></td>\n",
       "    </tr>\n",
       "    <tr>\n",
       "      <th>Execution Time</th>\n",
       "      <td>0.039002</td>\n",
       "      <td>7.399999</td>\n",
       "      <td>0.016001</td>\n",
       "      <td>5.260002</td>\n",
       "    </tr>\n",
       "  </tbody>\n",
       "</table>\n",
       "<p>94 rows × 4 columns</p>\n",
       "</div>"
      ],
      "text/plain": [
       "                hannanum      kkma   komoran       okt\n",
       "0                  디지털경제       디지털       디지털       디지털\n",
       "1                      는        경제        경제        경제\n",
       "2                     재화         는         는         는\n",
       "3                      와        재화        재화        재화\n",
       "4                    서비스         와         와         와\n",
       "...                  ...       ...       ...       ...\n",
       "89                              때문        때문          \n",
       "90                               이         이          \n",
       "91                             ㅂ니다       ㅂ니다          \n",
       "92                               .         .          \n",
       "Execution Time  0.039002  7.399999  0.016001  5.260002\n",
       "\n",
       "[94 rows x 4 columns]"
      ]
     },
     "execution_count": 19,
     "metadata": {},
     "output_type": "execute_result"
    }
   ],
   "source": [
    "# 라이브러리 별 한국어 형태소 토큰화 비교\n",
    "import time\n",
    "\n",
    "sentence = \"디지털경제는 재화와 서비스의 생산, 분배, 소비 등 주요 경제활동이 '디지털화되고 네트워크화된 정보와 지식'이라는 생산요소에 주로 의존하는 경제를 의미합니다. \\\n",
    "            디지털화가 급격하게 확산되고 있는 것은 정보와 지식에 대한 욕구 증대라는 수요측면과 IT기술의 비약적인 발전이라는 공급측면의 요인이 상호 작용하고 있기 때문입니다.\"\n",
    "\n",
    "morpheme_ko = pd.DataFrame()\n",
    "morpheme_time = []\n",
    "for pkg in [hannanum, kkma, komoran, okt]:\n",
    "    start = time.time()\n",
    "    result = pd.Series(pkg.morphs(sentence))\n",
    "    end = time.time()\n",
    "    morpheme_ko = pd.concat([morpheme_ko, result], axis=1)\n",
    "    morpheme_time.append(end-start)\n",
    "morpheme_time = pd.DataFrame(morpheme_time).T\n",
    "morpheme_time.index = ['Execution Time']\n",
    "morpheme_time.columns = ['hannanum', 'kkma', 'komoran', 'okt']\n",
    "morpheme_ko.columns = ['hannanum', 'kkma', 'komoran', 'okt']\n",
    "morpheme_ko = pd.concat([morpheme_ko, morpheme_time], axis=0)    \n",
    "morpheme_ko.fillna('', inplace=True)\n",
    "morpheme_ko"
   ]
  },
  {
   "cell_type": "markdown",
   "metadata": {},
   "source": [
    "# **정제 및 정규화(Cleaning & Normalization)**\n",
    "\n",
    "> **\"`토큰화 전/후`에, 텍스트 데이터를 용도에 맞게 `노이즈를 제거`하고 `의미 말뭉치로 정리`하기 위해 지속적으로 이루어지며 `완벽한 정답이 없어서 합의점 필요`\"**\n",
    ">\n",
    "> - **정제(Cleaning):** `코퍼스로부터 노이즈를 제거`하는 것을 의미하며, `토큰화 전후` 반복적으로 적용\n",
    "> - **정규화(Normalization):** `목적에 맞는 의미해석`에 따라 `단어를 통일 및 통합`하여 같은 단어로 적용\n",
    "> - `토큰화 전`에 정제 또는 정규화를 진행하면 `토큰화에 도움` 될 수 있고, `토큰화 후`에도 여전히 남아있는 `노이즈 제거`하기 위해 지속적 수행\n",
    "> - `최종 목표`는 보유하고 있는 코퍼스로부터 `복잡성을 줄이고 결과표현 효율을 높이는 것`\n",
    "\n",
    "| **정제** | **정규화** |\n",
    "|:---|:---|\n",
    "| - 빈도가 적은   단어 제거 <br> - 불필요한 불용어 제거 <br> - 길이가 짧은 단어 제거 | - 대문자와 소문자 통합 <br> - 표제어 및 어간 추출 |\n",
    "\n",
    "---\n",
    "\n",
    "**1) 불필요한 단어 제거?**\n",
    "\n",
    "- `특수문자 또는 수식단어 등`은 분석 목적에 맞지 않는 불필요 단어들을 `Noise Data`\n",
    "- `발생 빈도가 낮은 단어나 불용어`도 자연어 처리에서는 도움이 되지 않을 수 있음\n",
    "- **불용어:** `자주 등장하지만 분석목적에 큰 도움이 되지 않은 단어들`을 의미하며, 일반적으로 분석 목적에 따라 결국 `사용자/분석가가 직접 불용어 사전 구성`하는 경우가 많음\n",
    "\n",
    "**2) 길이가 짧은단어 제거?**\n",
    "\n",
    "- `영어`는 일반적으로 길이가 짧으면 `의미를 갖지 못하는 편`이라서 효과가 있을 수 있지만(a, it, the, by 등), `한국어`는 길이와 무관하나 `한자어도 많고 길이가 1인 단어들도 의미 내포하는 경우가 많은 편`\n",
    "- `분석 목적`과 `언어의 문화`에 따라 `길이 기준`이 필요하며, 일반적으로는 `1~2`길이의 단어는 `제거하는 편`이 좋음\n",
    "\n",
    "**3) 대문자와 소문자 통합?**\n",
    "\n",
    "- 필요성은 있으나 `무조건 통합해서는 안됨` (`US` != `us`)\n",
    "- `사람이름 또는 회사이름 등`은 단어 자체의미와는 다름\n",
    "- 예외 사항을 크게 고려하지 않고, `모든 corpus를 소문자로 바꾸는 것`이 해결책이 되기도\n",
    "\n",
    "> - **방법1:** 규칙을 정해 `문장의 맨 앞에 나오는 단어`만 소문자로 바꾸고, 나머지는 바꾸지 않음\n",
    "> - **방법2:** 더 많은 변수를 사용해 `소문자 변환을 위한 머신러닝 시퀀스 모델`을 사용\n",
    "\n",
    "**4) 같은 의미지만 표기가 다양한 단어들의 통합**\n",
    "\n",
    "- `United States = USA = US`는 모두 같은 의미지만 다양하게 표기하기에, 전처리로 의미가 달라지기 전에 `미리 통합 기준 필요`\n",
    "- `어간 추출(Stemming)`과 `표제어 추출(Lemmatization)`으로도 가능"
   ]
  },
  {
   "cell_type": "code",
   "execution_count": 20,
   "metadata": {},
   "outputs": [
    {
     "name": "stdout",
     "output_type": "stream",
     "text": [
      "Requirement already satisfied: soynlp in c:\\users\\kk\\anaconda3\\lib\\site-packages (0.0.493)\n",
      "Requirement already satisfied: psutil>=5.0.1 in c:\\users\\kk\\anaconda3\\lib\\site-packages (from soynlp) (5.9.0)\n",
      "Requirement already satisfied: numpy>=1.12.1 in c:\\users\\kk\\anaconda3\\lib\\site-packages (from soynlp) (1.21.6)\n",
      "Requirement already satisfied: scikit-learn>=0.20.0 in c:\\users\\kk\\anaconda3\\lib\\site-packages (from soynlp) (1.1.1)\n",
      "Requirement already satisfied: scipy>=1.1.0 in c:\\users\\kk\\anaconda3\\lib\\site-packages (from soynlp) (1.7.3)\n",
      "Requirement already satisfied: joblib>=1.0.0 in c:\\users\\kk\\appdata\\roaming\\python\\python39\\site-packages (from scikit-learn>=0.20.0->soynlp) (1.0.1)\n",
      "Requirement already satisfied: threadpoolctl>=2.0.0 in c:\\users\\kk\\anaconda3\\lib\\site-packages (from scikit-learn>=0.20.0->soynlp) (2.2.0)\n",
      "\n",
      "[notice] A new release of pip available: 22.2 -> 22.2.2\n",
      "[notice] To update, run: python.exe -m pip install --upgrade pip\n"
     ]
    }
   ],
   "source": [
    "# soynlp 설치\n",
    "# 불러오기\n",
    "!pip install soynlp\n",
    "\n",
    "from soynlp.normalizer import *"
   ]
  },
  {
   "cell_type": "code",
   "execution_count": 21,
   "metadata": {},
   "outputs": [],
   "source": [
    "# 정규화를 위한 예제 데이터 생성\n",
    "sentence = '훈화훈화훈화 말씀이말씀이말씀이 있겠다333!!! ABCDEFG 하하하하 ㅋㅋㅋㅋ'"
   ]
  },
  {
   "cell_type": "code",
   "execution_count": 22,
   "metadata": {},
   "outputs": [
    {
     "data": {
      "text/plain": [
       "'훈화훈화훈화 말씀이말씀이말씀이 있겠다333!!! ABCDEFG 하 ㅋ'"
      ]
     },
     "execution_count": 22,
     "metadata": {},
     "output_type": "execute_result"
    }
   ],
   "source": [
    "# 감정표현 정규화처리\n",
    "emoticon_normalize(sentence, num_repeats=1)"
   ]
  },
  {
   "cell_type": "code",
   "execution_count": 23,
   "metadata": {},
   "outputs": [
    {
     "data": {
      "text/plain": [
       "'훈화훈화훈화 말씀이말씀이말씀이 있겠다 하하하하 ㅋㅋㅋㅋ'"
      ]
     },
     "execution_count": 23,
     "metadata": {},
     "output_type": "execute_result"
    }
   ],
   "source": [
    "# 특수문자 및 영어 제거 정규화\n",
    "only_hangle(sentence)"
   ]
  },
  {
   "cell_type": "code",
   "execution_count": 24,
   "metadata": {},
   "outputs": [
    {
     "data": {
      "text/plain": [
       "'훈화훈화훈화 말씀이말씀이말씀이 있겠다333 하하하하 ㅋㅋㅋㅋ'"
      ]
     },
     "execution_count": 24,
     "metadata": {},
     "output_type": "execute_result"
    }
   ],
   "source": [
    "# 특수문자 및 영어 제거 정규화\n",
    "only_hangle_number(sentence)"
   ]
  },
  {
   "cell_type": "code",
   "execution_count": 25,
   "metadata": {},
   "outputs": [
    {
     "data": {
      "text/plain": [
       "'훈화훈화훈화 말씀이말씀이말씀이 있겠다333!!! ABCDEFG 하하하하 ㅋㅋㅋㅋ'"
      ]
     },
     "execution_count": 25,
     "metadata": {},
     "output_type": "execute_result"
    }
   ],
   "source": [
    "# 표현되지 않은 특수문자 제거 정규화\n",
    "only_text(sentence)"
   ]
  },
  {
   "cell_type": "markdown",
   "metadata": {},
   "source": [
    "## 표제어추출(Lemmatization) & 어간추출(Stemming)\n",
    "\n",
    "> **\"눈으로 봤을 때는 서로 다른 단어들이지만, `하나의 단어로 일반화`시킬 수 있다면 하나의 단어로 일반화시켜서 `문서 내 단어 수를 줄이는 방법`\"**\n",
    ">\n",
    "> - `단어 빈도수를 기반`으로 문제를 풀고자 하는 `BoW(Bag of Words) 표현`을 사용하는 자연어 처리 문제에서 주로 사용\n",
    "> - 결국 자연어 처리에서 `전처리 또는 정규화`의 지향점은 `코퍼스로부터 복잡성을 줄이는 것`\n",
    "\n",
    "---\n",
    "\n",
    "**1) 표제어추출(Lemmatization):** 단어들로부터 `표제어` 또는 `기본 사전형 단어`를 찾아가는 과정\n",
    "\n",
    "- 여러가지의 형태라 하더라도 `뿌리 단어(표제어)`를 찾아서 `단어의 갯수 감소 가능성 판단`(`am, are, is` $\\rightarrow$ `be`)\n",
    "- 의미를 가진 가장 작은 단위인 `형태소로부터` 핵심적 의미인 `어간`과 추가적 의미인 `접사`로 분리하는 작업(`cats` $\\rightarrow$ `cat + s`)\n",
    "> - **어간(Stem):** 단어의 의미를 담고 있는 단어의 `핵심 부분`\n",
    "> - **접사(Affix):** 단어에 `추가적인 의미`를 주는 부분\n",
    "\n",
    "```python\n",
    "# 불러오기\n",
    "from nltk.stem import WordNetLemmatizer\n",
    "```"
   ]
  },
  {
   "cell_type": "code",
   "execution_count": 26,
   "metadata": {},
   "outputs": [
    {
     "name": "stdout",
     "output_type": "stream",
     "text": [
      "표제어 추출 전: \n",
      " ['policy', 'doing', 'organization', 'have', 'going', 'love', 'lives', 'fly', 'dies', 'watched', 'has', 'starting']\n",
      "\n",
      "표제어 추출 후: \n",
      " ['policy', 'doing', 'organization', 'have', 'going', 'love', 'life', 'fly', 'dy', 'watched', 'ha', 'starting']\n"
     ]
    }
   ],
   "source": [
    "# 표제어 추출 방법\n",
    "from nltk.stem import WordNetLemmatizer\n",
    "\n",
    "words = ['policy', 'doing', 'organization', 'have', 'going', 'love', 'lives', 'fly', 'dies', 'watched', 'has', 'starting']\n",
    "lemmatizer = WordNetLemmatizer()\n",
    "\n",
    "print('표제어 추출 전: \\n', words)\n",
    "print()\n",
    "print('표제어 추출 후: \\n', [lemmatizer.lemmatize(word) for word in words])"
   ]
  },
  {
   "cell_type": "markdown",
   "metadata": {},
   "source": [
    "- 단어의 `형태는 적절히 보존`되는 양상\n",
    "- `dy, ha`와 같이 의미를 알 수 없는 `적절하지 못한 단어 출력` 존재\n",
    "- `단어의 품사정보`를 반영해야 하는 필요성"
   ]
  },
  {
   "cell_type": "code",
   "execution_count": 27,
   "metadata": {},
   "outputs": [
    {
     "name": "stdout",
     "output_type": "stream",
     "text": [
      "표제어 추출 후: \n",
      " ['policy', 'doing', 'organization', 'have', 'going', 'love', 'life', 'fly', 'die', 'watch', 'have', 'starting']\n"
     ]
    }
   ],
   "source": [
    "# 품사 정보를 반영하여 표제어 추출\n",
    "# 출력도 품사 정보를 반영\n",
    "lemma_result = []\n",
    "for word in words:\n",
    "    if word in ['dies', 'watched', 'has']:\n",
    "        lemma = lemmatizer.lemmatize(word, 'v')\n",
    "    else:\n",
    "        lemma = lemmatizer.lemmatize(word)\n",
    "    lemma_result.append(lemma)\n",
    "    \n",
    "print('표제어 추출 후: \\n', lemma_result)"
   ]
  },
  {
   "cell_type": "markdown",
   "metadata": {},
   "source": [
    "**2) 어간 추출(Stemming):** `특정 규칙(알고리즘)`으로 `어미를 잘라내어 핵심(Stem) 추출`\n",
    "\n",
    "- 섬세한 작업이 아닌 `어림짐작 작업`이기 때문에 `결과 단어는 사전에 존재하지 않을 수` 있음\n",
    "\n",
    "```python\n",
    "# 불러오기\n",
    "from nltk.stem import PorterStemmer, LancasterStemmer\n",
    "```"
   ]
  },
  {
   "cell_type": "code",
   "execution_count": 28,
   "metadata": {},
   "outputs": [
    {
     "name": "stdout",
     "output_type": "stream",
     "text": [
      "어간 추출 전 : ['formalize', 'allowance', 'electricical']\n",
      "\n",
      "어간 추출 후 : ['formal', 'allow', 'electric']\n"
     ]
    }
   ],
   "source": [
    "# 포터 알고리즘(Porter Algorithm) 활용 어간 추출\n",
    "from nltk.tokenize import word_tokenize\n",
    "from nltk.stem import PorterStemmer, LancasterStemmer\n",
    "\n",
    "words = ['formalize', 'allowance', 'electricical']\n",
    "stemmer = PorterStemmer()\n",
    "\n",
    "print('어간 추출 전 :',words)\n",
    "print()\n",
    "print('어간 추출 후 :',[stemmer.stem(word) for word in words])"
   ]
  },
  {
   "cell_type": "code",
   "execution_count": 29,
   "metadata": {},
   "outputs": [
    {
     "name": "stdout",
     "output_type": "stream",
     "text": [
      "어간 추출 전: \n",
      " ['The', 'Ph.D.', 'AI', 'is', 'used', 'to', 'analyze', 'time-varying', 'clusters', 'of', 'efficiency', 'in', 'the', 'global', 'financial', 'market', ',', 'and', 'a', 'complex', 'network', 'structure', 'is', 'applied', 'to', 'evaluate', 'its', 'collective', 'dynamics', '.', 'The', 'market', 'efficiency', 'is', 'stable', 'only', 'for', 'a', 'short', 'period', 'of', 'time', ',', 'however', ',', 'the', 'clustering', 'based', 'on', 'the', 'long-term', 'behavior', 'may', 'not', 'include', 'important', 'characteristics', 'of', 'short-term', 'interactions', '.', 'Not', 'only', 'systemic', 'risk', 'may', 'occur', 'due', 'to', 'the', 'spread', 'of', 'low-efficiency', ',', 'but', 'also', 'high-efficiency', 'may', 'appear', 'at', 'the', 'global', 'level', 'as', 'well', '.']\n",
      "\n",
      "어간 추출 후: \n",
      " ['the', 'ph.d.', 'ai', 'is', 'use', 'to', 'analyz', 'time-vari', 'cluster', 'of', 'effici', 'in', 'the', 'global', 'financi', 'market', ',', 'and', 'a', 'complex', 'network', 'structur', 'is', 'appli', 'to', 'evalu', 'it', 'collect', 'dynam', '.', 'the', 'market', 'effici', 'is', 'stabl', 'onli', 'for', 'a', 'short', 'period', 'of', 'time', ',', 'howev', ',', 'the', 'cluster', 'base', 'on', 'the', 'long-term', 'behavior', 'may', 'not', 'includ', 'import', 'characterist', 'of', 'short-term', 'interact', '.', 'not', 'onli', 'system', 'risk', 'may', 'occur', 'due', 'to', 'the', 'spread', 'of', 'low-effici', ',', 'but', 'also', 'high-effici', 'may', 'appear', 'at', 'the', 'global', 'level', 'as', 'well', '.']\n"
     ]
    }
   ],
   "source": [
    "# 포터 알고리즘(Porter Algorithm) 활용 어간 추출\n",
    "# 표제어 추출보다 일반적으로 속도가 빠르고 영어에선 준수한 편\n",
    "sentence = 'The Ph.D. AI is used to analyze time-varying clusters of efficiency in the global financial market, and a complex network structure is applied to evaluate its collective dynamics. \\\n",
    "            The market efficiency is stable only for a short period of time, however, the clustering based on the long-term behavior may not include important characteristics of short-term interactions. \\\n",
    "            Not only systemic risk may occur due to the spread of low-efficiency, but also high-efficiency may appear at the global level as well.'\n",
    "\n",
    "token_wt = word_tokenize(sentence)\n",
    "stemmer = PorterStemmer()\n",
    "\n",
    "print('어간 추출 전: \\n', token_wt)\n",
    "print()\n",
    "print('어간 추출 후: \\n', [stemmer.stem(word) for word in token_wt])"
   ]
  },
  {
   "cell_type": "code",
   "execution_count": 30,
   "metadata": {},
   "outputs": [
    {
     "name": "stdout",
     "output_type": "stream",
     "text": [
      "어간 추출 전: \n",
      " ['The', 'Ph.D.', 'AI', 'is', 'used', 'to', 'analyze', 'time-varying', 'clusters', 'of', 'efficiency', 'in', 'the', 'global', 'financial', 'market', ',', 'and', 'a', 'complex', 'network', 'structure', 'is', 'applied', 'to', 'evaluate', 'its', 'collective', 'dynamics', '.', 'The', 'market', 'efficiency', 'is', 'stable', 'only', 'for', 'a', 'short', 'period', 'of', 'time', ',', 'however', ',', 'the', 'clustering', 'based', 'on', 'the', 'long-term', 'behavior', 'may', 'not', 'include', 'important', 'characteristics', 'of', 'short-term', 'interactions', '.', 'Not', 'only', 'systemic', 'risk', 'may', 'occur', 'due', 'to', 'the', 'spread', 'of', 'low-efficiency', ',', 'but', 'also', 'high-efficiency', 'may', 'appear', 'at', 'the', 'global', 'level', 'as', 'well', '.']\n",
      "\n",
      "포터 스테머의 어간 추출 후: \n",
      " ['the', 'ph.d.', 'ai', 'is', 'use', 'to', 'analyz', 'time-vari', 'cluster', 'of', 'effici', 'in', 'the', 'global', 'financi', 'market', ',', 'and', 'a', 'complex', 'network', 'structur', 'is', 'appli', 'to', 'evalu', 'it', 'collect', 'dynam', '.', 'the', 'market', 'effici', 'is', 'stabl', 'onli', 'for', 'a', 'short', 'period', 'of', 'time', ',', 'howev', ',', 'the', 'cluster', 'base', 'on', 'the', 'long-term', 'behavior', 'may', 'not', 'includ', 'import', 'characterist', 'of', 'short-term', 'interact', '.', 'not', 'onli', 'system', 'risk', 'may', 'occur', 'due', 'to', 'the', 'spread', 'of', 'low-effici', ',', 'but', 'also', 'high-effici', 'may', 'appear', 'at', 'the', 'global', 'level', 'as', 'well', '.']\n",
      "\n",
      "랭커스터 스테머의 어간 추출 후: \n",
      " ['the', 'ph.d.', 'ai', 'is', 'us', 'to', 'analys', 'time-varying', 'clust', 'of', 'efficy', 'in', 'the', 'glob', 'fin', 'market', ',', 'and', 'a', 'complex', 'network', 'structure', 'is', 'apply', 'to', 'evalu', 'it', 'collect', 'dynam', '.', 'the', 'market', 'efficy', 'is', 'stabl', 'on', 'for', 'a', 'short', 'period', 'of', 'tim', ',', 'howev', ',', 'the', 'clust', 'bas', 'on', 'the', 'long-term', 'behavy', 'may', 'not', 'includ', 'import', 'charact', 'of', 'short-term', 'interact', '.', 'not', 'on', 'system', 'risk', 'may', 'occ', 'due', 'to', 'the', 'spread', 'of', 'low-efficiency', ',', 'but', 'also', 'high-efficiency', 'may', 'appear', 'at', 'the', 'glob', 'level', 'as', 'wel', '.']\n"
     ]
    }
   ],
   "source": [
    "# 랭커스터 스태머(Lancaster Stemmer) 알고리즘 활용 어간 추출 비교\n",
    "# 알고리즘에 따라 일반화가 잘 안되거나 지나치게 일반화 가능\n",
    "# 해당 코퍼스에 맞는 알고리즘 선택 필요\n",
    "sentence = 'The Ph.D. AI is used to analyze time-varying clusters of efficiency in the global financial market, and a complex network structure is applied to evaluate its collective dynamics. \\\n",
    "            The market efficiency is stable only for a short period of time, however, the clustering based on the long-term behavior may not include important characteristics of short-term interactions. \\\n",
    "            Not only systemic risk may occur due to the spread of low-efficiency, but also high-efficiency may appear at the global level as well.'\n",
    "\n",
    "token_wt = word_tokenize(sentence)\n",
    "stemmer_porter = PorterStemmer()\n",
    "stemmer_lancaster = LancasterStemmer()\n",
    "\n",
    "print('어간 추출 전: \\n', token_wt)\n",
    "print()\n",
    "print('포터 스테머의 어간 추출 후: \\n', [stemmer_porter.stem(word) for word in token_wt])\n",
    "print()\n",
    "print('랭커스터 스테머의 어간 추출 후: \\n', [stemmer_lancaster.stem(word) for word in token_wt])"
   ]
  },
  {
   "cell_type": "code",
   "execution_count": 31,
   "metadata": {},
   "outputs": [
    {
     "name": "stdout",
     "output_type": "stream",
     "text": [
      "표제어 추출 후 : ['am', 'the going', 'having']\n",
      "\n",
      "어간 추출 후 : ['am', 'the go', 'have']\n"
     ]
    }
   ],
   "source": [
    "# 표제어 추출과 어간 추출 비교\n",
    "from nltk.stem import WordNetLemmatizer\n",
    "from nltk.stem import PorterStemmer, LancasterStemmer\n",
    "\n",
    "words = ['am', 'the going', 'having']\n",
    "lemmatizer = WordNetLemmatizer()\n",
    "stemmer = PorterStemmer()\n",
    "\n",
    "print('표제어 추출 후 :',[lemmatizer.lemmatize(word) for word in words])\n",
    "print()\n",
    "print('어간 추출 후 :',[stemmer.stem(word) for word in words])"
   ]
  },
  {
   "cell_type": "markdown",
   "metadata": {},
   "source": [
    "## 한국어의 어간 추출 및 활용(Conjugation)\n",
    "\n",
    "**1) 어간 추출(Stemming):**\n",
    "\n",
    "> **\"한국어에서는 `동사와 형용사`가 형태가 변하기 때문에 `용언`이라고 부르며, 어간(Stem)과 어미(Ending)의 결합으로 구성되기에 `어간 추출` 필요\"**\n",
    ">\n",
    "> - **용언:** 명사, 수사, 감탄사 등과 달리 `문법적 기능을 하면서 단어가 아닌 형태소`를 말하며, 어간과 어미는 `그 자체가 단어이지 않고 결합되어서만 이용가능`\n",
    "> - **어간(Stem):** 일반적으로 `모양이 변하지 않는 부분`으로 `어미 앞`에 위치하여 `중심의미 내포`(예: 긋다, 긋고, 그어서, 그어라)\n",
    "> - **어미(Ending):** `어간 뒤`에 붙어 `변하는 부분`으로 여러 `문법적 기능`을 수행 목적"
   ]
  },
  {
   "cell_type": "code",
   "execution_count": 32,
   "metadata": {},
   "outputs": [],
   "source": [
    "# 불러오기\n",
    "from konlpy.tag import *\n",
    "\n",
    "hannanum = Hannanum()\n",
    "kkma = Kkma()\n",
    "komoran = Komoran()\n",
    "okt = Okt()\n",
    "# mecab = Mecab()"
   ]
  },
  {
   "cell_type": "code",
   "execution_count": 33,
   "metadata": {},
   "outputs": [
    {
     "name": "stdout",
     "output_type": "stream",
     "text": [
      "[('하', 'P'), ('었다', 'E')]\n",
      "[('하', 'VV'), ('었', 'EPT'), ('다', 'EFN')]\n",
      "[('하', 'VV'), ('았', 'EP'), ('다', 'EC')]\n",
      "[('했다', 'Verb')]\n"
     ]
    }
   ],
   "source": [
    "# 한국어 어간과 어미 분리\n",
    "for pkg in [hannanum, kkma, komoran, okt]:\n",
    "    print(pkg.pos('했다'))"
   ]
  },
  {
   "cell_type": "code",
   "execution_count": 34,
   "metadata": {},
   "outputs": [
    {
     "name": "stdout",
     "output_type": "stream",
     "text": [
      "하다\n",
      "하다\n",
      "하다\n",
      "했다\n"
     ]
    }
   ],
   "source": [
    "# 한국어 어간과 어미 분리 후 최종 어간 선택\n",
    "for pkg in [hannanum, kkma, komoran, okt]:\n",
    "    if pkg.pos('했다')[0][1] == 'P' or pkg.pos('했다')[0][1] == 'VV':\n",
    "        print(pkg.pos('했다')[0][0] + '다')\n",
    "    else:\n",
    "        print(pkg.pos('했다')[0][0])"
   ]
  },
  {
   "cell_type": "markdown",
   "metadata": {},
   "source": [
    "**2) 활용(Conjugation):** \n",
    "\n",
    "> **\"`어간추출과 반대`로 어간과 어미가 결합하여 `용언을 생성하는 것을 활용(Conjugation)`이라고 하며, 어간과 어미의 `형태가 유지되는 경우`도 있고 어간 또는 어미의 `형태가 변하는 경우`의 방법론이 다름\"**\n",
    ">\n",
    "> - `언어학 또는 문화적 이해`가 필요한 전처리라 `일반화가 어렵고 복잡한 편`\n",
    "\n",
    "|  | **규칙활용** | **불규칙활용** |\n",
    "|---|:---|:---|\n",
    "| **정의** | 어간과 어미가 결합될 때, `어간 모습이 일정한` 경우 | 어간과 어미가 결합될 때, `어간 모습이 변하거나 어미가 특수한 경우` |\n",
    "| **추출 방법** | `규칙 기반`으로 어미를 단순 분리 | 어간이 바뀌므로 단순 분리만 어렵고 좀 더 `복잡한 규칙이 필요` |\n",
    "| **예시** | - 잡다 $\\rightarrow$ 잡+아, 잡+고 <br> - 믿다 $\\rightarrow$ 믿+음 <br> - 굳다 $\\rightarrow$ 굳+을 | - 깨닫다 $\\rightarrow$ 깨달아 <br> - 긋다 $\\rightarrow$ 긋고, 그어서,그어라 <br> - 그러다 $\\rightarrow$ 그러+어 $\\rightarrow$ 그래 |"
   ]
  },
  {
   "cell_type": "code",
   "execution_count": 35,
   "metadata": {
    "code_folding": [
     7
    ]
   },
   "outputs": [
    {
     "name": "stdout",
     "output_type": "stream",
     "text": [
      "Requirement already satisfied: soynlp in c:\\users\\kk\\anaconda3\\lib\\site-packages (0.0.493)\n",
      "Requirement already satisfied: psutil>=5.0.1 in c:\\users\\kk\\anaconda3\\lib\\site-packages (from soynlp) (5.9.0)\n",
      "Requirement already satisfied: numpy>=1.12.1 in c:\\users\\kk\\anaconda3\\lib\\site-packages (from soynlp) (1.21.6)\n",
      "Requirement already satisfied: scikit-learn>=0.20.0 in c:\\users\\kk\\anaconda3\\lib\\site-packages (from soynlp) (1.1.1)\n",
      "Requirement already satisfied: scipy>=1.1.0 in c:\\users\\kk\\anaconda3\\lib\\site-packages (from soynlp) (1.7.3)\n",
      "Requirement already satisfied: joblib>=1.0.0 in c:\\users\\kk\\appdata\\roaming\\python\\python39\\site-packages (from scikit-learn>=0.20.0->soynlp) (1.0.1)\n",
      "Requirement already satisfied: threadpoolctl>=2.0.0 in c:\\users\\kk\\anaconda3\\lib\\site-packages (from scikit-learn>=0.20.0->soynlp) (2.2.0)\n",
      "\n",
      "[notice] A new release of pip available: 22.2 -> 22.2.2\n",
      "[notice] To update, run: python.exe -m pip install --upgrade pip\n"
     ]
    }
   ],
   "source": [
    "# soynlp 설치\n",
    "# 불러오기\n",
    "# 언어학 및 문화적 이해 기반 규칙과 단어 사전 구성\n",
    "!pip install soynlp\n",
    "\n",
    "from soynlp.hangle import compose, decompose\n",
    "\n",
    "def conjugate(stem, ending):\n",
    "\n",
    "    assert ending # ending must be inserted\n",
    "\n",
    "    l_len = len(stem)\n",
    "    l_last = decompose(stem[-1])\n",
    "    l_last_ = stem[-1]\n",
    "    r_first = decompose(ending[0])\n",
    "    r_first_ = compose(r_first[0], r_first[1], ' ') if r_first[1] != ' ' else ending[0]\n",
    "\n",
    "    candidates = set()\n",
    "    \n",
    "    # ㄷ 불규칙 활용: 깨달 + 아 -> 깨달아\n",
    "    if l_last[2] == 'ㄷ' and r_first[0] == 'ㅇ':\n",
    "        l = stem[:-1] + compose(l_last[0], l_last[1], 'ㄹ')\n",
    "        candidates.add(l + ending)\n",
    "\n",
    "    # 르 불규칙 활용: 구르 + 어 -> 굴러\n",
    "    if (l_last_ == '르') and (r_first_ == '아' or r_first_ == '어') and l_len >= 2:\n",
    "        c0, c1, c2 = decompose(stem[-2])\n",
    "        l = stem[:-2] + compose(c0, c1, 'ㄹ')\n",
    "        r = compose('ㄹ', r_first[1], r_first[2]) + ending[1:]\n",
    "        candidates.add(l + r)\n",
    "\n",
    "    # ㅂ 불규칙 활용:\n",
    "    # (모음조화) 더럽 + 어 -> 더러워 / 곱 + 아 -> 고와 \n",
    "    # (모음조화가 깨진 경우) 아름답 + 아 -> 아름다워 / (-답, -꼽, -깝, -롭)\n",
    "    if (l_last[2] == 'ㅂ') and (r_first_ == '어' or r_first_ == '아'):\n",
    "        l = stem[:-1] + compose(l_last[0], l_last[1], ' ')\n",
    "        if l_len >= 2 and (l_last_ == '답' or l_last_ == '곱' or l_last_ == '깝' or l_last_ == '롭'):\n",
    "            c1 = 'ㅝ'\n",
    "        elif r_first[1] == 'ㅗ':\n",
    "            c1 = 'ㅘ'\n",
    "        elif r_first[1] == 'ㅜ':\n",
    "            c1 = 'ㅝ'\n",
    "        elif r_first_ == '어':\n",
    "            c1 = 'ㅝ'\n",
    "        else: # r_first_ == '아'\n",
    "            c1 = 'ㅘ'\n",
    "        r = compose('ㅇ', c1, r_first[2]) + ending[1:]\n",
    "        candidates.add(l + r)\n",
    "\n",
    "    # 어미의 첫글자가 종성일 경우 (-ㄴ, -ㄹ, -ㅂ, -ㅆ)\n",
    "    # 이 + ㅂ니다 -> 입니다\n",
    "    if l_last[2] == ' ' and r_first[1] == ' ' and (r_first[0] == 'ㄴ' or r_first[0] == 'ㄹ' or r_first[0] == 'ㅂ' or r_first[0] == 'ㅆ'):\n",
    "        l = stem[:-1] + compose(l_last[0], l_last[1], r_first[0])\n",
    "        r = ending[1:]\n",
    "        candidates.add(l + r)\n",
    "\n",
    "    # ㅅ 불규칙 활용: 붓 + 어 -> 부어\n",
    "    # exception : 벗 + 어 -> 벗어    \n",
    "    if (l_last[2] == 'ㅅ') and (r_first[0] == 'ㅇ'):\n",
    "        if stem[-1] == '벗':\n",
    "            l = stem\n",
    "        else:\n",
    "            l = stem[:-1] + compose(l_last[0], l_last[1], ' ')\n",
    "        candidates.add(l + ending)\n",
    "\n",
    "    # 우 불규칙 활용: 푸 + 어 -> 퍼 / 주 + 어 -> 줘\n",
    "    if l_last[1] == 'ㅜ' and l_last[2] == ' ' and r_first[0] == 'ㅇ' and r_first[1] == 'ㅓ':\n",
    "        if l_last_ == '푸':\n",
    "            l = '퍼'\n",
    "        else:\n",
    "            l = stem[:-1] + compose(l_last[0], 'ㅝ', r_first[2])\n",
    "        r = ending[1:]\n",
    "        candidates.add(l + r)\n",
    "\n",
    "    # 오 활용: 오 + 았어 -> 왔어\n",
    "    if l_last[1] == 'ㅗ' and l_last[2] == ' ' and r_first[0] == 'ㅇ' and r_first[1] == 'ㅏ':\n",
    "        l = stem[:-1] + compose(l_last[0], 'ㅘ', r_first[2])\n",
    "        r = ending[1:]\n",
    "        candidates.add(l + r)\n",
    "\n",
    "    # ㅡ 탈락 불규칙 활용: 끄 + 어 -> 꺼 / 트 + 었다 -> 텄다\n",
    "    if (l_last_ == '끄' or l_last_ == '크' or l_last_ == '트') and (r_first[0] == 'ㅇ') and (r_first[1] == 'ㅓ'):\n",
    "        l = stem[:-1] + compose(l_last[0], r_first[1], r_first[2])\n",
    "        r = ending[1:]\n",
    "        candidates.add(l + r)\n",
    "\n",
    "    # 거라, 너라 불규칙 활용\n",
    "    # '-거라/-너라'를 어미로 취급하면 규칙 활용\n",
    "    if ending[:2] == '어라' or ending[:2] == '아라':\n",
    "        if l_last[1] == 'ㅏ':            \n",
    "            r = '거' + ending[1:]\n",
    "        elif l_last[1] == 'ㅗ':\n",
    "            r = '너' + ending[1:]\n",
    "        else:\n",
    "            r = ending\n",
    "        candidates.add(stem + r)\n",
    "\n",
    "    # 러 불규칙 활용: 이르 + 어 -> 이르러 / 이르 + 었다 -> 이르렀다\n",
    "    if l_last_ == '르' and r_first[0] == 'ㅇ' and r_first[1] == 'ㅓ':\n",
    "        r = compose('ㄹ', r_first[1], r_first[2]) + ending[1:]\n",
    "        candidates.add(stem + r)\n",
    "\n",
    "    # 여 불규칙 활용\n",
    "    # 하 + 았다 -> 하였다 / 하 + 었다 -> 하였다\n",
    "    if l_last_ == '하' and r_first[0] == 'ㅇ' and (r_first[1] == 'ㅏ' or r_first[1] == 'ㅓ'):\n",
    "        r = compose(r_first[0], 'ㅕ', r_first[2]) + ending[1:]\n",
    "        candidates.add(stem + r)\n",
    "\n",
    "    # ㅎ (탈락) 불규칙 활용\n",
    "    # 파라 + 면 -> 파랗다 / 동그랗 + ㄴ -> 동그란\n",
    "    if l_last[2] == 'ㅎ' and l_last_ != '좋' and not (r_first[1] == 'ㅏ' or r_first[1] == 'ㅓ'):\n",
    "        if r_first[1] == ' ':\n",
    "            l = l = stem[:-1] + compose(l_last[0], l_last[1], r_first[0])\n",
    "        else:\n",
    "            l = stem[:-1] + compose(l_last[0], l_last[1], ' ')\n",
    "        if r_first_ == '으':\n",
    "            r = ending[1:]\n",
    "        elif r_first[1] == ' ':            \n",
    "            r = ''\n",
    "        else:\n",
    "            r = ending\n",
    "        candidates.add(l + r)\n",
    "\n",
    "    # ㅎ (축약) 불규칙 할용\n",
    "    # 파랗 + 았다 -> 파랬다 / 시퍼렇 + 었다 -> 시퍼렜다\n",
    "    if l_last[2] == 'ㅎ' and l_last_ != '좋' and (r_first[1] == 'ㅏ' or r_first[1] == 'ㅓ'):\n",
    "        l = stem[:-1] + compose(l_last[0], 'ㅐ' if r_first[1] == 'ㅏ' else 'ㅔ', r_first[2])\n",
    "        r = ending[1:]\n",
    "        candidates.add(l + r)\n",
    "\n",
    "    # ㅎ + 네 불규칙 활용\n",
    "    # ㅎ 탈락과 ㅎ 유지 모두 맞음\n",
    "    if l_last[2] == 'ㅎ' and r_first[0] == 'ㄴ' and r_first[1] != ' ':\n",
    "        candidates.add(stem + ending)\n",
    "\n",
    "    if not candidates and r_first[1] != ' ':\n",
    "        candidates.add(stem + ending)\n",
    "\n",
    "    return candidates"
   ]
  },
  {
   "cell_type": "code",
   "execution_count": 36,
   "metadata": {
    "code_folding": [
     2
    ]
   },
   "outputs": [
    {
     "name": "stdout",
     "output_type": "stream",
     "text": [
      "깨닫 + 아 -> {'깨달아'}\n",
      "구르 + 어 -> {'굴러', '구르러'}\n",
      "구르 + 었다 -> {'구르렀다', '굴렀다'}\n",
      "덥 + 어 -> {'더워'}\n",
      "줍 + 어 -> {'주워'}\n",
      "곱 + 아 -> {'고와'}\n",
      "곱 + 어 -> {'고워'}\n",
      "곱 + 아서 -> {'고와서'}\n",
      "아름답 + 았다 -> {'아름다웠다'}\n",
      "아니꼽 + 어서 -> {'아니꼬워서'}\n",
      "아깝 + 아서 -> {'아까워서'}\n",
      "아깝 + 어서 -> {'아까워서'}\n",
      "감미롭 + 아서 -> {'감미로워서'}\n",
      "이 + ㅂ니다 -> {'입니다'}\n",
      "이 + ㄹ지라도 -> {'일지라도'}\n",
      "이 + ㄴ -> {'인'}\n",
      "이 + ㅆ다 -> {'있다'}\n",
      "벗 + 어서 -> {'벗어서'}\n",
      "긋 + 어서 -> {'그어서'}\n",
      "긋 + 었어 -> {'그었어'}\n",
      "낫 + 아야지 -> {'나아야지'}\n",
      "푸 + 어 -> {'퍼'}\n",
      "주 + 어 -> {'줘'}\n",
      "주 + 었다 -> {'줬다'}\n",
      "오 + 았어 -> {'왔어'}\n",
      "사오 + 았다 -> {'사왔다'}\n",
      "돌아오 + 았지용 -> {'돌아왔지용'}\n",
      "끄 + 었다 -> {'껐다'}\n",
      "끄 + 어 -> {'꺼'}\n",
      "트 + 었던건데 -> {'텄던건데'}\n",
      "들 + 었다 -> {'들었다'}\n",
      "가 + 아라 -> {'가거라'}\n",
      "삼가 + 어라 -> {'삼가거라'}\n",
      "삼가 + 아라니까 -> {'삼가거라니까'}\n",
      "돌아오 + 아라 -> {'돌아오너라', '돌아와라'}\n",
      "이르 + 어 -> {'일러', '이르러'}\n",
      "푸르 + 어 -> {'풀러', '푸르러'}\n",
      "이르 + 었다던 -> {'일렀다던', '이르렀다던'}\n",
      "아니하 + 았다 -> {'아니하였다'}\n",
      "영원하 + 었던 -> {'영원하였던'}\n",
      "파랗 + 으면 -> {'파라면'}\n",
      "파랗 + 면 -> {'파라면'}\n",
      "동그랗 + ㄴ -> {'동그란'}\n",
      "파랗 + 았다 -> {'파랬다'}\n",
      "시퍼렇 + 었다 -> {'시퍼렜다'}\n",
      "그렇 + 네 -> {'그러네', '그렇네'}\n",
      "파랗 + 네요 -> {'파랗네요', '파라네요'}\n",
      "좋 + 아 -> {'좋아'}\n",
      "좋 + 았어 -> {'좋았어'}\n",
      "하 + 았다 -> {'하였다'}\n",
      "하 + 었다 -> {'하였다'}\n"
     ]
    }
   ],
   "source": [
    "# 여러가지의 어간+어미 결합 형태의 일반화\n",
    "testset = [\n",
    "    ('깨닫', '아'), # ㄷ 불규칙\n",
    "    ('구르', '어'), ('구르', '었다'), # 르 불규칙\n",
    "    ('덥', '어'), ('줍', '어'), ('곱', '아'), ('곱', '어'), ('곱', '아서'),  # ㅂ 불규칙 모음조화\n",
    "    ('아름답', '았다'), ('아니꼽', '어서'), ('아깝', '아서'), ('아깝', '어서'), ('감미롭', '아서'), # ㅂ 불규칙 모음조화가 깨진 경우\n",
    "    ('이', 'ㅂ니다'), ('이', 'ㄹ지라도'), ('이', 'ㄴ'), ('이', 'ㅆ다'), # 어미의 첫글자가 초성일 경우\n",
    "    ('벗', '어서'), ('긋', '어서'), ('긋', '었어'), ('낫', '아야지'), # ㅅ 불규칙\n",
    "    ('푸', '어'), ('주', '어'), ('주', '었다'), # 우 불규칙\n",
    "    ('오', '았어'), ('사오', '았다'), ('돌아오', '았지용'), # 오 규칙 활용\n",
    "    ('끄', '었다'), ('끄', '어'), ('트', '었던건데'), ('들', '었다'),  # ㅡ 탈락 불규칙\n",
    "    ('가', '아라'), ('삼가', '어라'), ('삼가', '아라니까'), ('돌아오', '아라'), # 거라/너라 불규칙\n",
    "    ('이르', '어'), ('푸르', '어'), ('이르', '었다던'), # 러 불규칙\n",
    "    ('아니하', '았다'), ('영원하', '었던'), # 여 불규칙\n",
    "    ('파랗', '으면'), ('파랗', '면'), ('동그랗', 'ㄴ'), # ㅎ (탈락) 불규칙 \n",
    "    ('파랗', '았다'), ('시퍼렇', '었다'), # ㅎ (축약) 불규칙\n",
    "    ('그렇', '네'), ('파랗', '네요'), # ㅎ + 네 불규칙\n",
    "    ('좋', '아'), ('좋', '았어'), # ㅎ 불규칙 예외\n",
    "    ('하', '았다'), ('하', '었다') # 여 불규칙 (2)\n",
    "]\n",
    "\n",
    "for stem, eomi in testset:\n",
    "    print('{} + {} -> {}'.format(stem, eomi, conjugate(stem, eomi)))"
   ]
  },
  {
   "cell_type": "markdown",
   "metadata": {},
   "source": [
    "## 불용어(Stop Word) 처리\n",
    "\n",
    "> **\"데이터에서 유의미한 단어 토큰만을 선별하기 위해서는 `큰 의미가 없는 단어 토큰을 제거`하는 작업이 필요\"**\n",
    ">\n",
    "> - **불용어(Stop Word):** `I, my, is, the, a, will, me, over, 조사, 접미사 등` 의 문장 구성 `필수 문법`이지만 분석에 있어 도움/기여하는 바가 없는 `문맥적 큰 의미가 없는` 단어\n",
    "> - 불용어를 제거하지 않으면 그 빈번함으로 인해 `중요한 단어로 인지` 될 수 있고 `연산속도와 성능이 떨어질` 수 있음\n",
    "> - 분석 목적이나 환경 또는 `언어적 문화` 때문에 `분석가가 직접 지정`도 필요\n",
    "> - 언어 별 `스톱 워드가 목록화` 존재하며, `NLTK`에서는 100여개 이상의 `영어 단어 불용어`로 패키지 내 미리 `저장`"
   ]
  },
  {
   "cell_type": "code",
   "execution_count": 37,
   "metadata": {},
   "outputs": [
    {
     "name": "stdout",
     "output_type": "stream",
     "text": [
      "영어 stop word 개수:  179\n",
      "['i', 'me', 'my', 'myself', 'we', 'our', 'ours', 'ourselves', 'you', \"you're\", \"you've\", \"you'll\", \"you'd\", 'your', 'yours', 'yourself', 'yourselves', 'he', 'him', 'his', 'himself', 'she', \"she's\", 'her', 'hers', 'herself', 'it', \"it's\", 'its', 'itself', 'they', 'them', 'their', 'theirs', 'themselves', 'what', 'which', 'who', 'whom', 'this', 'that', \"that'll\", 'these', 'those', 'am', 'is', 'are', 'was', 'were', 'be', 'been', 'being', 'have', 'has', 'had', 'having', 'do', 'does', 'did', 'doing', 'a', 'an', 'the', 'and', 'but', 'if', 'or', 'because', 'as', 'until', 'while', 'of', 'at', 'by', 'for', 'with', 'about', 'against', 'between', 'into', 'through', 'during', 'before', 'after', 'above', 'below', 'to', 'from', 'up', 'down', 'in', 'out', 'on', 'off', 'over', 'under', 'again', 'further', 'then', 'once', 'here', 'there', 'when', 'where', 'why', 'how', 'all', 'any', 'both', 'each', 'few', 'more', 'most', 'other', 'some', 'such', 'no', 'nor', 'not', 'only', 'own', 'same', 'so', 'than', 'too', 'very', 's', 't', 'can', 'will', 'just', 'don', \"don't\", 'should', \"should've\", 'now', 'd', 'll', 'm', 'o', 're', 've', 'y', 'ain', 'aren', \"aren't\", 'couldn', \"couldn't\", 'didn', \"didn't\", 'doesn', \"doesn't\", 'hadn', \"hadn't\", 'hasn', \"hasn't\", 'haven', \"haven't\", 'isn', \"isn't\", 'ma', 'mightn', \"mightn't\", 'mustn', \"mustn't\", 'needn', \"needn't\", 'shan', \"shan't\", 'shouldn', \"shouldn't\", 'wasn', \"wasn't\", 'weren', \"weren't\", 'won', \"won't\", 'wouldn', \"wouldn't\"]\n"
     ]
    }
   ],
   "source": [
    "# 영어 불용어 리스트 확인\n",
    "from nltk.corpus import stopwords\n",
    "\n",
    "print('영어 stop word 개수: ', len(stopwords.words('english')))\n",
    "print(stopwords.words('english'))"
   ]
  },
  {
   "cell_type": "code",
   "execution_count": 38,
   "metadata": {},
   "outputs": [
    {
     "name": "stdout",
     "output_type": "stream",
     "text": [
      "불어 stop word 개수:  157\n",
      "['au', 'aux', 'avec', 'ce', 'ces', 'dans', 'de', 'des', 'du', 'elle', 'en', 'et', 'eux', 'il', 'ils', 'je', 'la', 'le', 'les', 'leur', 'lui', 'ma', 'mais', 'me', 'même', 'mes', 'moi', 'mon', 'ne', 'nos', 'notre', 'nous', 'on', 'ou', 'par', 'pas', 'pour', 'qu', 'que', 'qui', 'sa', 'se', 'ses', 'son', 'sur', 'ta', 'te', 'tes', 'toi', 'ton', 'tu', 'un', 'une', 'vos', 'votre', 'vous', 'c', 'd', 'j', 'l', 'à', 'm', 'n', 's', 't', 'y', 'été', 'étée', 'étées', 'étés', 'étant', 'étante', 'étants', 'étantes', 'suis', 'es', 'est', 'sommes', 'êtes', 'sont', 'serai', 'seras', 'sera', 'serons', 'serez', 'seront', 'serais', 'serait', 'serions', 'seriez', 'seraient', 'étais', 'était', 'étions', 'étiez', 'étaient', 'fus', 'fut', 'fûmes', 'fûtes', 'furent', 'sois', 'soit', 'soyons', 'soyez', 'soient', 'fusse', 'fusses', 'fût', 'fussions', 'fussiez', 'fussent', 'ayant', 'ayante', 'ayantes', 'ayants', 'eu', 'eue', 'eues', 'eus', 'ai', 'as', 'avons', 'avez', 'ont', 'aurai', 'auras', 'aura', 'aurons', 'aurez', 'auront', 'aurais', 'aurait', 'aurions', 'auriez', 'auraient', 'avais', 'avait', 'avions', 'aviez', 'avaient', 'eut', 'eûmes', 'eûtes', 'eurent', 'aie', 'aies', 'ait', 'ayons', 'ayez', 'aient', 'eusse', 'eusses', 'eût', 'eussions', 'eussiez', 'eussent']\n"
     ]
    }
   ],
   "source": [
    "# 불어 불용어 리스트 확인\n",
    "print('불어 stop word 개수: ', len(stopwords.words('french')))\n",
    "print(stopwords.words('french'))"
   ]
  },
  {
   "cell_type": "code",
   "execution_count": 39,
   "metadata": {},
   "outputs": [
    {
     "name": "stdout",
     "output_type": "stream",
     "text": [
      "불용어 제거 전:  ['Family', 'is', 'not', 'an', 'important', 'thing', '.', 'It', \"'s\", 'everything', '.']\n",
      "\n",
      "불용어 제거 후:  ['Family', 'important', 'thing', '.', 'It', \"'s\", 'everything', '.']\n"
     ]
    }
   ],
   "source": [
    "# 불용어 제거 예시\n",
    "from nltk.corpus import stopwords\n",
    "from nltk.tokenize import word_tokenize\n",
    "\n",
    "sentence = \"Family is not an important thing. It's everything.\"\n",
    "\n",
    "stop_words = stopwords.words('english')\n",
    "token_wt = word_tokenize(sentence)\n",
    "print('불용어 제거 전: ', token_wt)\n",
    "print()\n",
    "print('불용어 제거 후: ', [word for word in token_wt if word not in stop_words])"
   ]
  },
  {
   "cell_type": "code",
   "execution_count": 40,
   "metadata": {},
   "outputs": [
    {
     "name": "stdout",
     "output_type": "stream",
     "text": [
      "불용어 제거 전:  ['The', 'Ph.D.', 'AI', 'is', 'used', 'to', 'analyze', 'time-varying', 'clusters', 'of', 'efficiency', 'in', 'the', 'global', 'financial', 'market', ',', 'and', 'a', 'complex', 'network', 'structure', 'is', 'applied', 'to', 'evaluate', 'its', 'collective', 'dynamics', '.', 'The', 'market', 'efficiency', 'is', 'stable', 'only', 'for', 'a', 'short', 'period', 'of', 'time', ',', 'however', ',', 'the', 'clustering', 'based', 'on', 'the', 'long-term', 'behavior', 'may', 'not', 'include', 'important', 'characteristics', 'of', 'short-term', 'interactions', '.', 'Not', 'only', 'systemic', 'risk', 'may', 'occur', 'due', 'to', 'the', 'spread', 'of', 'low-efficiency', ',', 'but', 'also', 'high-efficiency', 'may', 'appear', 'at', 'the', 'global', 'level', 'as', 'well', '.']\n",
      "\n",
      "불용어 제거 후:  ['The', 'Ph.D.', 'AI', 'used', 'analyze', 'time-varying', 'clusters', 'efficiency', 'global', 'financial', 'market', ',', 'complex', 'network', 'structure', 'applied', 'evaluate', 'collective', 'dynamics', '.', 'The', 'market', 'efficiency', 'stable', 'short', 'period', 'time', ',', 'however', ',', 'clustering', 'based', 'long-term', 'behavior', 'may', 'include', 'important', 'characteristics', 'short-term', 'interactions', '.', 'Not', 'systemic', 'risk', 'may', 'occur', 'due', 'spread', 'low-efficiency', ',', 'also', 'high-efficiency', 'may', 'appear', 'global', 'level', 'well', '.']\n"
     ]
    }
   ],
   "source": [
    "# 불용어 제거 예시\n",
    "sentence = 'The Ph.D. AI is used to analyze time-varying clusters of efficiency in the global financial market, and a complex network structure is applied to evaluate its collective dynamics. \\\n",
    "            The market efficiency is stable only for a short period of time, however, the clustering based on the long-term behavior may not include important characteristics of short-term interactions. \\\n",
    "            Not only systemic risk may occur due to the spread of low-efficiency, but also high-efficiency may appear at the global level as well.'\n",
    "\n",
    "stop_words = stopwords.words('english')\n",
    "token_wt = word_tokenize(sentence)\n",
    "print('불용어 제거 전: ', token_wt)\n",
    "print()\n",
    "print('불용어 제거 후: ', [word for word in token_wt if word not in stop_words])"
   ]
  },
  {
   "cell_type": "markdown",
   "metadata": {},
   "source": [
    "- **한국어 stop word 종류:** https://www.ranks.nl/stopwords/korean\n",
    "\n",
    "> - 일반적으로 토큰화 후에 `조사, 접속사 등`을 제거\n",
    "> - `명사 형용사` 중 제거하고 싶은 것들이 생기면 `별도 불용어 리스트 제작`"
   ]
  },
  {
   "cell_type": "code",
   "execution_count": 41,
   "metadata": {},
   "outputs": [],
   "source": [
    "# 한국어 불용어 리스트\n",
    "stop_words_ko = ['아',\t'휴',\t'아이구',\t'아이쿠',\t'아이고',\t'어',\t'나',\t'우리',\t'저희',\t'따라',\t'의해',\n",
    "                 '을',\t'를',\t'에',\t'의',\t'가',\t'으로',\t'로',\t'에게',\t'뿐이다',\t'의거하여',\t'근거하여',\n",
    "                 '입각하여',\t'기준으로',\t'예하면',\t'예를 들면',\t'예를 들자면',\t'저',\t'소인',\t'소생',\t'저희',\n",
    "                 '지말고',\t'하지마',\t'하지마라',\t'다른',\t'물론',\t'또한',\t'그리고',\t'비길수 없다',\t'해서는 안된다',\n",
    "                 '뿐만 아니라',\t'만이 아니다',\t'만은 아니다',\t'막론하고',\t'관계없이',\t'그치지 않다',\t'그러나',\t'그런데',\n",
    "                 '하지만',\t'든간에',\t'논하지 않다',\t'따지지 않다',\t'설사',\t'비록',\t'더라도',\t'아니면',\t'만 못하다',\n",
    "                 '하는 편이 낫다',\t'불문하고',\t'향하여',\t'향해서',\t'향하다',\t'쪽으로',\t'틈타',\t'이용하여',\t'타다',\n",
    "                 '오르다',\t'제외하고',\t'이 외에',\t'이 밖에',\t'하여야',\t'비로소',\t'한다면 몰라도',\t'외에도',\t'이곳',\t'여기',\n",
    "                 '부터',\t'기점으로',\t'따라서',\t'할 생각이다',\t'하려고하다',\t'이리하여',\t'그리하여',\t'그렇게 함으로써',\n",
    "                 '하지만',\t'일때',\t'할때',\t'앞에서',\t'중에서',\t'보는데서',\t'으로써',\t'로써',\t'까지',\t'해야한다',\n",
    "                 '일것이다',\t'반드시',\t'할줄알다',\t'할수있다',\t'할수있어',\t'임에 틀림없다',\t'한다면',\t'등',\t'등등',\n",
    "                 '제',\t'겨우',\t'단지',\t'다만',\t'할뿐',\t'딩동',\t'댕그',\t'대해서',\t'대하여',\t'대하면',\t'훨씬',\n",
    "                 '얼마나',\t'얼마만큼',\t'얼마큼',\t'남짓',\t'여',\t'얼마간',\t'약간',\t'다소',\t'좀',\t'조금',\t'다수',\n",
    "                 '몇',\t'얼마',\t'지만',\t'하물며',\t'또한',\t'그러나',\t'그렇지만',\t'하지만',\t'이외에도',\t'대해 말하자면',\n",
    "                 '뿐이다',\t'다음에',\t'반대로',\t'반대로 말하자면',\t'이와 반대로',\t'바꾸어서 말하면',\t'바꾸어서 한다면',\t'만약',\n",
    "                 '그렇지않으면',\t'까악',\t'툭',\t'딱',\t'삐걱거리다',\t'보드득',\t'비걱거리다',\t'꽈당',\t'응당',\n",
    "                 '해야한다',\t'에 가서',\t'각',\t'각각',\t'여러분',\t'각종',\t'각자',\t'제각기',\t'하도록하다',\t'와',\n",
    "                 '과',\t'그러므로',\t'그래서',\t'고로',\t'한 까닭에',\t'하기 때문에',\t'거니와',\t'이지만',\t'대하여',\n",
    "                 '관하여',\t'관한',\t'과연',\t'실로',\t'아니나다를가',\t'생각한대로',\t'진짜로',\t'한적이있다',\n",
    "                 '하곤하였다',\t'하',\t'하하',\t'허허',\t'아하',\t'거바',\t'와',\t'오',\t'왜',\t'어째서',\n",
    "                 '무엇때문에',\t'어찌',\t'하겠는가',\t'무슨',\t'어디',\t'어느곳',\t'더군다나',\t'하물며',\t'더욱이는',\n",
    "                 '어느때',\t'언제',\t'야',\t'이봐',\t'어이',\t'여보시오',\t'흐흐',\t'흥',\t'휴',\t'헉헉',\t'헐떡헐떡',\n",
    "                 '영차',\t'여차',\t'어기여차',\t'끙끙',\t'아야',\t'앗',\t'아야',\t'콸콸',\t'졸졸',\t'좍좍',\t'뚝뚝',\n",
    "                 '주룩주룩',\t'솨',\t'우르르',\t'그래도',\t'또',\t'그리고',\t'바꾸어말하면',\t'바꾸어말하자면',\n",
    "                 '혹은',\t'혹시',\t'답다',\t'및',\t'그에 따르는',\t'때가 되어',\t'즉',\t'지든지',\t'설령',\t'가령',\n",
    "                 '하더라도',\t'할지라도',\t'일지라도',\t'지든지',\t'몇',\t'거의',\t'하마터면',\t'인젠',\t'이젠',\t'된바에야',\n",
    "                 '된이상',\t'만큼어찌됏든',\t'그위에',\t'게다가',\t'점에서 보아',\t'비추어 보아',\t'고려하면',\t'하게될것이다',\n",
    "                 '일것이다',\t'비교적',\t'좀',\t'보다더',\t'비하면',\t'시키다',\t'하게하다',\t'할만하다',\t'의해서',\t'연이서',\n",
    "                 '이어서',\t'잇따라',\t'뒤따라',\t'뒤이어',\t'결국',\t'의지하여',\t'기대여',\t'통하여',\t'자마자',\t'더욱더',\n",
    "                 '불구하고',\t'얼마든지',\t'마음대로',\t'주저하지 않고',\t'곧',\t'즉시',\t'바로',\t'당장',\t'하자마자',\n",
    "                 '밖에 안된다',\t'하면된다',\t'그래',\t'그렇지',\t'요컨대',\t'다시 말하자면',\t'바꿔 말하면',\t'즉',\n",
    "                 '구체적으로',\t'말하자면',\t'시작하여',\t'시초에',\t'이상',\t'허',\t'헉',\t'허걱',\t'바와같이',\n",
    "                 '해도좋다',\t'해도된다',\t'게다가',\t'더구나',\t'하물며',\t'와르르',\t'팍',\t'퍽',\t'펄렁',\t'동안',\n",
    "                 '이래',\t'하고있었다',\t'이었다',\t'에서',\t'로부터',\t'까지',\t'예하면',\t'했어요',\t'해요',\t'함께',\n",
    "                 '같이',\t'더불어',\t'마저',\t'마저도',\t'양자',\t'모두',\t'습니다',\t'가까스로',\t'하려고하다',\t'즈음하여',\n",
    "                 '다른',\t'다른 방면으로',\t'해봐요',\t'습니까',\t'했어요',\t'말할것도 없고',\t'무릎쓰고',\t'개의치않고',\n",
    "                 '하는것만 못하다',\t'하는것이 낫다',\t'매',\t'매번',\t'들',\t'모',\t'어느것',\t'어느',\t'로써',\n",
    "                 '갖고말하자면',\t'어디',\t'어느쪽',\t'어느것',\t'어느해',\t'어느 년도',\t'라 해도',\t'언젠가',\t'어떤것',\n",
    "                 '어느것',\t'저기',\t'저쪽',\t'저것',\t'그때',\t'그럼',\t'그러면',\t'요만한걸',\t'그래',\t'그때',\n",
    "                 '저것만큼',\t'그저',\t'이르기까지',\t'할 줄 안다',\t'할 힘이 있다',\t'너',\t'너희',\t'당신',\n",
    "                 '어찌',\t'설마',\t'차라리',\t'할지언정',\t'할지라도',\t'할망정',\t'할지언정',\t'구토하다',\t'게우다',\n",
    "                 '토하다',\t'메쓰겁다',\t'옆사람',\t'퉤',\t'쳇',\t'의거하여',\t'근거하여',\t'의해',\t'따라',\t'힘입어',\n",
    "                 '그',\t'다음',\t'버금',\t'두번째로',\t'기타',\t'첫번째로',\t'나머지는',\t'그중에서',\t'견지에서',\n",
    "                 '형식으로 쓰여',\t'입장에서',\t'위해서',\t'단지',\t'의해되다',\t'하도록시키다',\t'뿐만아니라',\t'반대로',\n",
    "                 '전후',\t'전자',\t'앞의것',\t'잠시',\t'잠깐',\t'하면서',\t'그렇지만',\t'다음에',\t'그러한즉',\t'그런즉',\n",
    "                 '남들',\t'아무거나',\t'어찌하든지',\t'같다',\t'비슷하다',\t'예컨대',\t'이럴정도로',\t'어떻게',\t'만약',\n",
    "                 '만일',\t'위에서 서술한바와같이',\t'인 듯하다',\t'하지 않는다면',\t'만약에',\t'무엇',\t'무슨',\t'어느',\n",
    "                 '어떤',\t'아래윗',\t'조차',\t'한데',\t'그럼에도 불구하고',\t'여전히',\t'심지어',\t'까지도',\t'조차도',\n",
    "                 '하지 않도록',\t'않기 위하여',\t'때',\t'시각',\t'무렵',\t'시간',\t'동안',\t'어때',\t'어떠한',\n",
    "                 '하여금',\t'네',\t'예',\t'우선',\t'누구',\t'누가 알겠는가',\t'아무도',\t'줄은모른다',\t'줄은 몰랏다',\n",
    "                 '하는 김에',\t'겸사겸사',\t'하는바',\t'그런 까닭에',\t'한 이유는',\t'그러니',\t'그러니까',\t'때문에',\n",
    "                 '그',\t'너희',\t'그들',\t'너희들',\t'타인',\t'것',\t'것들',\t'너',\t'위하여',\t'공동으로',\t'동시에',\n",
    "                 '하기 위하여',\t'어찌하여',\t'무엇때문에',\t'붕붕',\t'윙윙',\t'나',\t'우리',\t'엉엉',\t'휘익',\n",
    "                 '윙윙',\t'오호',\t'아하',\t'어쨋든',\t'만 못하다하기보다는',\t'차라리',\t'하는 편이 낫다',\t'흐흐',\n",
    "                 '놀라다',\t'상대적으로 말하자면',\t'마치',\t'아니라면',\t'쉿',\t'그렇지 않으면',\t'그렇지 않다면',\n",
    "                 '안 그러면',\t'아니었다면',\t'하든지',\t'아니면',\t'이라면',\t'좋아',\t'알았어',\t'하는것도',\t'그만이다',\n",
    "                 '어쩔수 없다',\t'하나',\t'일',\t'일반적으로',\t'일단',\t'한켠으로는',\t'오자마자',\t'이렇게되면',\n",
    "                 '이와같다면',\t'전부',\t'한마디',\t'한항목',\t'근거로',\t'하기에',\t'아울러',\t'하지 않도록',\t'않기 위해서',\n",
    "                 '이르기까지',\t'이 되다',\t'로 인하여',\t'까닭으로',\t'이유만으로',\t'이로 인하여',\t'그래서',\t'이 때문에',\n",
    "                 '그러므로',\t'그런 까닭에',\t'알 수 있다',\t'결론을 낼 수 있다',\t'으로 인하여',\t'있다',\t'어떤것',\n",
    "                 '관계가 있다',\t'관련이 있다',\t'연관되다',\t'어떤것들',\t'에 대해',\t'이리하여',\t'그리하여',\t'여부',\n",
    "                 '하기보다는',\t'하느니',\t'하면 할수록',\t'운운',\t'이러이러하다',\t'하구나',\t'하도다',\t'다시말하면',\n",
    "                 '다음으로',\t'에 있다',\t'에 달려 있다',\t'우리',\t'우리들',\t'오히려',\t'하기는한데',\t'어떻게',\n",
    "                 '어떻해',\t'어찌됏어',\t'어때',\t'어째서',\t'본대로',\t'자',\t'이',\t'이쪽',\t'여기',\t'이것',\t'이번',\n",
    "                 '이렇게말하자면',\t'이런',\t'이러한',\t'이와 같은',\t'요만큼',\t'요만한 것',\t'얼마 안 되는 것',\n",
    "                 '이만큼',\t'이 정도의',\t'이렇게 많은 것',\t'이와 같다',\t'이때',\t'이렇구나',\t'것과 같이',\t'끼익',\n",
    "                 '삐걱',\t'따위',\t'와 같은 사람들',\t'부류의 사람들',\t'왜냐하면',\t'중의하나',\t'오직',\t'오로지',\t'에 한하다',\n",
    "                 '하기만 하면',\t'도착하다',\t'까지 미치다',\t'도달하다',\t'정도에 이르다',\t'할 지경이다',\t'결과에 이르다',\n",
    "                 '관해서는',\t'여러분',\t'하고 있다',\t'한 후',\t'혼자',\t'자기',\t'자기집',\t'자신',\t'우에 종합한것과같이',\n",
    "                 '총적으로 보면',\t'총적으로 말하면',\t'총적으로',\t'대로 하다',\t'으로서',\t'참',\t'그만이다',\t'할 따름이다',\n",
    "                 '쿵',\t'탕탕',\t'쾅쾅',\t'둥둥',\t'봐',\t'봐라',\t'아이야',\t'아니',\t'와아',\t'응',\t'아이',\n",
    "                 '참나',\t'년',\t'월',\t'일',\t'령',\t'영',\t'일',\t'이',\t'삼',\t'사',\t'오',\t'육',\t'륙',\n",
    "                 '칠',\t'팔',\t'구',\t'이천육',\t'이천칠',\t'이천팔',\t'이천구',\t'하나',\t'둘',\t'셋',\t'넷',\n",
    "                 '다섯',\t'여섯',\t'일곱',\t'여덟',\t'아홉',\t'령',\t'영']"
   ]
  },
  {
   "cell_type": "code",
   "execution_count": 42,
   "metadata": {},
   "outputs": [
    {
     "name": "stdout",
     "output_type": "stream",
     "text": [
      "불용어 제거 전:  ['디지털경제', '는', '재화', '와', '서비스', '의', '생산', ',', '분배', ',', '소비', '등', '주요', '경제활동', '이', \"'\", '디지털화', '되', '고', '네트워크화', '되', 'ㄴ', '정보', '와', '지식', \"'\", '이', '라는', '생산요소', '에', '주로', '의존', '하', '는', '경제', '를', '의미', '하', 'ㅂ니다', '.', '디지털화', '가', '급격', '하', '게', '확산', '되', '고', '있', '는', '것', '은', '정보', '와', '지식', '에', '대하', 'ㄴ', '욕구', '증대', '라는', '수요측면', '과', 'IT', '기술', '의', '비약적', '이', 'ㄴ', '발전', '이', '라는', '공급측면', '의', '요인', '이', '상호', '작용', '하고', '있', '기', '때문', '이', 'ㅂ니다', '.']\n",
      "\n",
      "불용어 제거 후:  ['디지털경제', '는', '재화', '서비스', '생산', ',', '분배', ',', '소비', '주요', '경제활동', \"'\", '디지털화', '되', '고', '네트워크화', '되', 'ㄴ', '정보', '지식', \"'\", '라는', '생산요소', '주로', '의존', '는', '경제', '의미', 'ㅂ니다', '.', '디지털화', '급격', '게', '확산', '되', '고', '있', '는', '은', '정보', '지식', '대하', 'ㄴ', '욕구', '증대', '라는', '수요측면', 'IT', '기술', '비약적', 'ㄴ', '발전', '라는', '공급측면', '요인', '상호', '작용', '하고', '있', '기', '때문', 'ㅂ니다', '.']\n"
     ]
    }
   ],
   "source": [
    "# 불용어 제거 예시\n",
    "# 그 어떤 리스트도 정답이 될 수 없음\n",
    "sentence = \"디지털경제는 재화와 서비스의 생산, 분배, 소비 등 주요 경제활동이 '디지털화되고 네트워크화된 정보와 지식'이라는 생산요소에 주로 의존하는 경제를 의미합니다. \\\n",
    "            디지털화가 급격하게 확산되고 있는 것은 정보와 지식에 대한 욕구 증대라는 수요측면과 IT기술의 비약적인 발전이라는 공급측면의 요인이 상호 작용하고 있기 때문입니다.\"\n",
    "\n",
    "token_wt = hannanum.morphs(sentence)\n",
    "print('불용어 제거 전: ', token_wt)\n",
    "print()\n",
    "print('불용어 제거 후: ', [word for word in token_wt if word not in stop_words_ko])"
   ]
  },
  {
   "cell_type": "code",
   "execution_count": 43,
   "metadata": {},
   "outputs": [
    {
     "name": "stdout",
     "output_type": "stream",
     "text": [
      "불용어 제거 전:  ['디지털경제', '는', '재화', '와', '서비스', '의', '생산', ',', '분배', ',', '소비', '등', '주요', '경제활동', '이', \"'\", '디지털화', '되', '고', '네트워크화', '되', 'ㄴ', '정보', '와', '지식', \"'\", '이', '라는', '생산요소', '에', '주로', '의존', '하', '는', '경제', '를', '의미', '하', 'ㅂ니다', '.', '디지털화', '가', '급격', '하', '게', '확산', '되', '고', '있', '는', '것', '은', '정보', '와', '지식', '에', '대하', 'ㄴ', '욕구', '증대', '라는', '수요측면', '과', 'IT', '기술', '의', '비약적', '이', 'ㄴ', '발전', '이', '라는', '공급측면', '의', '요인', '이', '상호', '작용', '하고', '있', '기', '때문', '이', 'ㅂ니다', '.']\n",
      "\n",
      "불용어 제거 후:  ['디지털경제', '재화', '서비스', '생산', ',', '분배', ',', '소비', '경제활동', '디지털화', '네트워크화', '정보', '지식', '생산요소', '경제', '의미', '.', '디지털화', '급격', '확산', '정보', '지식', '욕구', '증대', '수요측면', 'IT', '기술', '비약적', '발전', '공급측면', '요인', '상호', '작용', '때문', '.']\n"
     ]
    }
   ],
   "source": [
    "# 불용어 리스트 직접 생성 및 불용어 제거\n",
    "stop_words_custom = stop_words_ko + ['는', '주요', '되', '고', 'ㄴ', \"'\", \n",
    "                                     '라는', '주로', '의존', 'ㅂ니다', '게',\n",
    "                                     '있', '은', '대하', '하고', '기']\n",
    "token_wt = hannanum.morphs(sentence)\n",
    "print('불용어 제거 전: ', token_wt)\n",
    "print()\n",
    "print('불용어 제거 후: ', [word for word in token_wt if word not in stop_words_custom])"
   ]
  },
  {
   "cell_type": "markdown",
   "metadata": {},
   "source": [
    "# **정규 표현식(Regular Expression)**\n",
    "\n",
    "> **\"파이썬에서는 `정규 표현식 = 정규식`을 사용하여 `Noise Data` 특징을 잡아내서 정제 및 정규화\"**\n",
    ">\n",
    "> **\"정규 표현식은 이러한 `코퍼스 내 계속해서 등장하는 글자들을 규칙에 기반하여 한 번에 제거`하는 방식으로서 매우 유용\"**\n",
    ">\n",
    "> **\"`복잡한 문자열을 처리` 할 때 사용하는 기법으로, 파이썬만의 고유 문법이 아니라 문자열을 처리하는 `모든 프로그래밍 언어`에서 사용\"**"
   ]
  },
  {
   "cell_type": "code",
   "execution_count": 44,
   "metadata": {},
   "outputs": [
    {
     "data": {
      "text/plain": [
       "'Kim 201212-3004812\\nKShin 300516-4662513\\nKMo 400811-4110332\\n'"
      ]
     },
     "execution_count": 44,
     "metadata": {},
     "output_type": "execute_result"
    }
   ],
   "source": [
    "# 예시: 주민번호가 있는 댓글이나 게시판에서 뒷자리를 * 문자로 변경\n",
    "data = '''Kim 201212-3004812\n",
    "KShin 300516-4662513\n",
    "KMo 400811-4110332\n",
    "'''\n",
    "data"
   ]
  },
  {
   "cell_type": "code",
   "execution_count": 45,
   "metadata": {},
   "outputs": [
    {
     "name": "stdout",
     "output_type": "stream",
     "text": [
      "Kim 201212-*******\n",
      "KShin 300516-*******\n",
      "KMo 400811-*******\n",
      "\n"
     ]
    }
   ],
   "source": [
    "# 반복문 기반\n",
    "# 줄바꿈 + 띄어쓰기분리 + 주민번호길이추출 + 숫자형태확인\n",
    "result = []\n",
    "for line in data.split(\"\\n\"):\n",
    "    word_result = []\n",
    "    for word in line.split(\" \"):\n",
    "        if len(word) == 14 and word[:6].isdigit() and word[7:].isdigit():\n",
    "            word = word[:6] + \"-\" + \"*******\"\n",
    "        word_result.append(word)\n",
    "    result.append(\" \".join(word_result))\n",
    "print(\"\\n\".join(result))"
   ]
  },
  {
   "cell_type": "code",
   "execution_count": 46,
   "metadata": {},
   "outputs": [
    {
     "name": "stdout",
     "output_type": "stream",
     "text": [
      "Kim 201212-*******\n",
      "KShin 300516-*******\n",
      "KMo 400811-*******\n",
      "\n"
     ]
    }
   ],
   "source": [
    "# 정규식 기반\n",
    "import re\n",
    "\n",
    "re_word = re.compile(\"(\\d{6})[-]\\d{7}\")\n",
    "print(re_word.sub(\"\\g<1>-*******\", data))"
   ]
  },
  {
   "cell_type": "markdown",
   "metadata": {},
   "source": [
    "## 메타문자(Meta Characters)\n",
    "\n",
    "> - 원래 문자의 뜻이 아닌 특별한 용도로 사용하는 `메타문자`를 사용하여 전처리\n",
    "\n",
    "| **특수 문자** | **설명** |\n",
    "|:---:|:---|\n",
    "| . | `한 개`의 임의의 문자 (줄바꿈 문자인 `\\n`는 제외) |\n",
    "| ? | 앞의 문자가 `존재할 수`도 있고, `존재하지 않을 수`도 있음 (문자가 0개 또는 1개) |\n",
    "| * | 앞의 문자가 `무한개로 존재할 수`도 있고, `존재하지 않을 수`도 있음 (문자가 0개 이상) |\n",
    "| + | 앞의 문자가 `최소 한 개 이상` 존재 (문자가 1개 이상) |\n",
    "| ^ | 뒤의 문자열로 `문자열이 시작` |\n",
    "| $ | 앞의 문자열로 `문자열이 끝` |\n",
    "| {숫자} | 숫자만큼 `반복` |\n",
    "| {숫자1, 숫자2} | `숫자1 이상 숫자2 이하`만큼 반복 (`?, *, + 대체` 가능) |\n",
    "| {숫자,} | `숫자 이상`만큼 반복합니다. |\n",
    "| [ ] | 대괄호 안의 문자들 중 `한 개의 문자와 매치` ([amk]: a 또는 m 또는 k 중 하나라도 존재하면 매치) |\n",
    "| [^문자] | 해당 문자를 `제외한 문자를 매치` |\n",
    "| l | AlB와 같이 쓰이며 `A 또는 B`의 의미를 가집니다. |\n"
   ]
  },
  {
   "cell_type": "markdown",
   "metadata": {},
   "source": [
    "**1) [ ]:** `[ ] 사이의 문자들을 매치`\n",
    "\n",
    "- `어떠한 문자`도 입력 가능하며, 데이터에서 `입력값과 동일 값 출력`\n",
    "- `하이픈(-)`을 사용하면 `두 문자 사이의 범위 의미([a-c])`"
   ]
  },
  {
   "cell_type": "code",
   "execution_count": 47,
   "metadata": {},
   "outputs": [
    {
     "data": {
      "text/plain": [
       "['b', 'a', 'a']"
      ]
     },
     "execution_count": 47,
     "metadata": {},
     "output_type": "execute_result"
    }
   ],
   "source": [
    "# abc와 매치되는 값 출력\n",
    "import re\n",
    "\n",
    "data = '''Kim 201212-3004812 before\n",
    "KShin 300516-4662513 after\n",
    "KMo 400811-4110332 final\n",
    "'''\n",
    "\n",
    "re_word = re.compile(\"[abc]\")\n",
    "re.findall(re_word, data)"
   ]
  },
  {
   "cell_type": "code",
   "execution_count": 48,
   "metadata": {},
   "outputs": [
    {
     "data": {
      "text/plain": [
       "['i',\n",
       " 'm',\n",
       " 'b',\n",
       " 'e',\n",
       " 'f',\n",
       " 'o',\n",
       " 'r',\n",
       " 'e',\n",
       " 'h',\n",
       " 'i',\n",
       " 'n',\n",
       " 'a',\n",
       " 'f',\n",
       " 't',\n",
       " 'e',\n",
       " 'r',\n",
       " 'o',\n",
       " 'f',\n",
       " 'i',\n",
       " 'n',\n",
       " 'a',\n",
       " 'l']"
      ]
     },
     "execution_count": 48,
     "metadata": {},
     "output_type": "execute_result"
    }
   ],
   "source": [
    "# a부터 z까지 매치되는 값 출력\n",
    "import re\n",
    "\n",
    "data = '''Kim 201212-3004812 before\n",
    "KShin 300516-4662513 after\n",
    "KMo 400811-4110332 final\n",
    "'''\n",
    "\n",
    "re_word = re.compile(\"[a-z]\")\n",
    "re.findall(re_word, data)"
   ]
  },
  {
   "cell_type": "code",
   "execution_count": 49,
   "metadata": {},
   "outputs": [
    {
     "data": {
      "text/plain": [
       "['K', 'K', 'S', 'K', 'M']"
      ]
     },
     "execution_count": 49,
     "metadata": {},
     "output_type": "execute_result"
    }
   ],
   "source": [
    "# A부터 Z까지 매치되는 값 출력\n",
    "import re\n",
    "\n",
    "data = '''Kim 201212-3004812 before\n",
    "KShin 300516-4662513 after\n",
    "KMo 400811-4110332 final\n",
    "'''\n",
    "\n",
    "re_word = re.compile(\"[A-Z]\")\n",
    "re.findall(re_word, data)"
   ]
  },
  {
   "cell_type": "code",
   "execution_count": 50,
   "metadata": {},
   "outputs": [
    {
     "data": {
      "text/plain": [
       "['K',\n",
       " 'i',\n",
       " 'm',\n",
       " 'b',\n",
       " 'e',\n",
       " 'f',\n",
       " 'o',\n",
       " 'r',\n",
       " 'e',\n",
       " 'K',\n",
       " 'S',\n",
       " 'h',\n",
       " 'i',\n",
       " 'n',\n",
       " 'a',\n",
       " 'f',\n",
       " 't',\n",
       " 'e',\n",
       " 'r',\n",
       " 'K',\n",
       " 'M',\n",
       " 'o',\n",
       " 'f',\n",
       " 'i',\n",
       " 'n',\n",
       " 'a',\n",
       " 'l']"
      ]
     },
     "execution_count": 50,
     "metadata": {},
     "output_type": "execute_result"
    }
   ],
   "source": [
    "# 소문자 + 대문자와 매치되는 값 출력\n",
    "import re\n",
    "\n",
    "data = '''Kim 201212-3004812 before\n",
    "KShin 300516-4662513 after\n",
    "KMo 400811-4110332 final\n",
    "'''\n",
    "\n",
    "re_word = re.compile(\"[a-zA-Z]\")\n",
    "re.findall(re_word, data)"
   ]
  },
  {
   "cell_type": "code",
   "execution_count": 51,
   "metadata": {},
   "outputs": [
    {
     "data": {
      "text/plain": [
       "['2',\n",
       " '0',\n",
       " '1',\n",
       " '2',\n",
       " '1',\n",
       " '2',\n",
       " '3',\n",
       " '0',\n",
       " '0',\n",
       " '4',\n",
       " '8',\n",
       " '1',\n",
       " '2',\n",
       " '3',\n",
       " '0',\n",
       " '0',\n",
       " '5',\n",
       " '1',\n",
       " '6',\n",
       " '4',\n",
       " '6',\n",
       " '6',\n",
       " '2',\n",
       " '5',\n",
       " '1',\n",
       " '3',\n",
       " '4',\n",
       " '0',\n",
       " '0',\n",
       " '8',\n",
       " '1',\n",
       " '1',\n",
       " '4',\n",
       " '1',\n",
       " '1',\n",
       " '0',\n",
       " '3',\n",
       " '3',\n",
       " '2']"
      ]
     },
     "execution_count": 51,
     "metadata": {},
     "output_type": "execute_result"
    }
   ],
   "source": [
    "# 숫자와 매치되는 값 출력\n",
    "import re\n",
    "\n",
    "data = '''Kim 201212-3004812 before\n",
    "KShin 300516-4662513 after\n",
    "KMo 400811-4110332 final\n",
    "'''\n",
    "\n",
    "re_word = re.compile(\"[0-9]\")\n",
    "re.findall(re_word, data)"
   ]
  },
  {
   "cell_type": "markdown",
   "metadata": {},
   "source": [
    "| **정규식** | **의미** |\n",
    "|:---:|:---|\n",
    "| `\\` | `역 슬래쉬` 문자 자체 의미 |\n",
    "| `\\d` | 숫자와 매치, `[0-9]`와 동일한 표현식 |\n",
    "| `\\D` | 숫자가 아닌 것과 매치, `[^0-9]`와 동일한 표현식 |\n",
    "| `\\s` | whitespace 문자와 매치, `[ \\t\\n\\r\\f\\v]`와 동일한 표현식으로, 맨 앞의 빈 칸은 공백문자(space)를 의미 |\n",
    "| `\\S` | whitespace 문자가 아닌 것과 매치, `[^ \\t\\n\\r\\f\\v]`와 동일한 표현식 |\n",
    "| `\\w` | 문자+숫자(alphanumeric)와 매치, `[a-zA-Z0-9]`와 동일한 표현식 |\n",
    "| `\\W` | 문자+숫자(alphanumeric)가 아닌 문자와 매치, `[^a-zA-Z0-9]`와 동일한 표현식 |"
   ]
  },
  {
   "cell_type": "code",
   "execution_count": 52,
   "metadata": {},
   "outputs": [
    {
     "data": {
      "text/plain": [
       "[' ', ' ', '\\n', ' ', ' ', '\\n', ' ', ' ', '\\n']"
      ]
     },
     "execution_count": 52,
     "metadata": {},
     "output_type": "execute_result"
    }
   ],
   "source": [
    "# 구분자와 매치되는 값 출력\n",
    "import re\n",
    "\n",
    "data = '''Kim 201212-3004812 before\n",
    "KShin 300516-4662513 after\n",
    "KMo 400811-4110332 final\n",
    "'''\n",
    "\n",
    "re_word = re.compile(\"\\s\")\n",
    "re.findall(re_word, data)"
   ]
  },
  {
   "cell_type": "code",
   "execution_count": 53,
   "metadata": {},
   "outputs": [
    {
     "data": {
      "text/plain": [
       "['K',\n",
       " 'i',\n",
       " 'm',\n",
       " '2',\n",
       " '0',\n",
       " '1',\n",
       " '2',\n",
       " '1',\n",
       " '2',\n",
       " '3',\n",
       " '0',\n",
       " '0',\n",
       " '4',\n",
       " '8',\n",
       " '1',\n",
       " '2',\n",
       " 'b',\n",
       " 'e',\n",
       " 'f',\n",
       " 'o',\n",
       " 'r',\n",
       " 'e',\n",
       " 'K',\n",
       " 'S',\n",
       " 'h',\n",
       " 'i',\n",
       " 'n',\n",
       " '3',\n",
       " '0',\n",
       " '0',\n",
       " '5',\n",
       " '1',\n",
       " '6',\n",
       " '4',\n",
       " '6',\n",
       " '6',\n",
       " '2',\n",
       " '5',\n",
       " '1',\n",
       " '3',\n",
       " 'a',\n",
       " 'f',\n",
       " 't',\n",
       " 'e',\n",
       " 'r',\n",
       " 'K',\n",
       " 'M',\n",
       " 'o',\n",
       " '4',\n",
       " '0',\n",
       " '0',\n",
       " '8',\n",
       " '1',\n",
       " '1',\n",
       " '4',\n",
       " '1',\n",
       " '1',\n",
       " '0',\n",
       " '3',\n",
       " '3',\n",
       " '2',\n",
       " 'f',\n",
       " 'i',\n",
       " 'n',\n",
       " 'a',\n",
       " 'l']"
      ]
     },
     "execution_count": 53,
     "metadata": {},
     "output_type": "execute_result"
    }
   ],
   "source": [
    "# 숫자 및 문자와 매치되는 값 출력\n",
    "import re\n",
    "\n",
    "data = '''Kim 201212-3004812 before\n",
    "KShin 300516-4662513 after\n",
    "KMo 400811-4110332 final\n",
    "'''\n",
    "\n",
    "re_word = re.compile(\"\\w\")\n",
    "re.findall(re_word, data)"
   ]
  },
  {
   "cell_type": "markdown",
   "metadata": {},
   "source": [
    "**2) Dot(.):** `.` 양옆의 문자 사이에 `줄바꿈 문자를 제외한 `모든 문자와 매치\n",
    "\n",
    "- `어떠한 문자`도 입력 가능하며, 데이터에서 `사이 모든값과 매치되는 값 출력`"
   ]
  },
  {
   "cell_type": "code",
   "execution_count": 54,
   "metadata": {},
   "outputs": [
    {
     "data": {
      "text/plain": [
       "['Kim']"
      ]
     },
     "execution_count": 54,
     "metadata": {},
     "output_type": "execute_result"
    }
   ],
   "source": [
    "# 특정 성 추출\n",
    "import re\n",
    "\n",
    "data = '''Kim 201212-3004812 before\n",
    "KShin 300516-4662513 after\n",
    "KMo 400811-4110332 final\n",
    "'''\n",
    "\n",
    "re_word = re.compile(\"K.m\")    # K + 모든문자 + m\n",
    "re.findall(re_word, data)"
   ]
  },
  {
   "cell_type": "code",
   "execution_count": 55,
   "metadata": {},
   "outputs": [
    {
     "data": {
      "text/plain": [
       "[]"
      ]
     },
     "execution_count": 55,
     "metadata": {},
     "output_type": "execute_result"
    }
   ],
   "source": [
    "# 특정 성 추출\n",
    "import re\n",
    "\n",
    "data = '''Kim 201212-3004812 before\n",
    "KShin 300516-4662513 after\n",
    "KMo 400811-4110332 final\n",
    "'''\n",
    "\n",
    "re_word = re.compile(\"K[.]m\")    # [ ]내 Dot 문자는 문자 그대로를 의미\n",
    "re.findall(re_word, data)"
   ]
  },
  {
   "cell_type": "code",
   "execution_count": 56,
   "metadata": {},
   "outputs": [
    {
     "data": {
      "text/plain": [
       "['KShin']"
      ]
     },
     "execution_count": 56,
     "metadata": {},
     "output_type": "execute_result"
    }
   ],
   "source": [
    "# 특정 성 추출\n",
    "import re\n",
    "\n",
    "data = '''Kim 201212-3004812 before\n",
    "KShin 300516-4662513 after\n",
    "KMo 400811-4110332 final\n",
    "'''\n",
    "\n",
    "re_word = re.compile(\"K...n\")    # K + 모든문자 + m\n",
    "re.findall(re_word, data)"
   ]
  },
  {
   "cell_type": "markdown",
   "metadata": {},
   "source": [
    "**3) 반복:** \n",
    "\n",
    "- `문자*` 양옆의 문자 사이에 `바로 앞 문자가 0회 이상 반복되는 `모든 문자와 매치\n",
    "- `문자+` 양옆의 문자 사이에 `바로 앞 문자가 1회 이상 반복되는 `모든 문자와 매치"
   ]
  },
  {
   "cell_type": "code",
   "execution_count": 57,
   "metadata": {},
   "outputs": [
    {
     "data": {
      "text/plain": [
       "['KShiiiiin']"
      ]
     },
     "execution_count": 57,
     "metadata": {},
     "output_type": "execute_result"
    }
   ],
   "source": [
    "# 특정 성 추출\n",
    "import re\n",
    "\n",
    "data = '''Kiiiiim 201212-3004812 before\n",
    "KShiiiiin 300516-4662513 after\n",
    "KMo 400811-4110332 final\n",
    "'''\n",
    "\n",
    "re_word = re.compile(\"KShi*n\")   \n",
    "re.findall(re_word, data)"
   ]
  },
  {
   "cell_type": "code",
   "execution_count": 58,
   "metadata": {},
   "outputs": [
    {
     "data": {
      "text/plain": [
       "['Kiiiiim']"
      ]
     },
     "execution_count": 58,
     "metadata": {},
     "output_type": "execute_result"
    }
   ],
   "source": [
    "# 특정 성 추출\n",
    "import re\n",
    "\n",
    "data = '''Kiiiiim 201212-3004812 before\n",
    "KShiiiiin 300516-4662513 after\n",
    "KMo 400811-4110332 final\n",
    "'''\n",
    "\n",
    "re_word = re.compile(\"Ki*m\")   \n",
    "re.findall(re_word, data)"
   ]
  },
  {
   "cell_type": "code",
   "execution_count": 59,
   "metadata": {},
   "outputs": [
    {
     "data": {
      "text/plain": [
       "['Kiiiiim']"
      ]
     },
     "execution_count": 59,
     "metadata": {},
     "output_type": "execute_result"
    }
   ],
   "source": [
    "# 특정 성 추출\n",
    "import re\n",
    "\n",
    "data = '''Kiiiiim 201212-3004812 before\n",
    "KShiiiiin 300516-4662513 after\n",
    "KMo 400811-4110332 final\n",
    "'''\n",
    "\n",
    "re_word = re.compile(\"Ki+m\")   \n",
    "re.findall(re_word, data)"
   ]
  },
  {
   "cell_type": "code",
   "execution_count": 60,
   "metadata": {},
   "outputs": [
    {
     "data": {
      "text/plain": [
       "['Km']"
      ]
     },
     "execution_count": 60,
     "metadata": {},
     "output_type": "execute_result"
    }
   ],
   "source": [
    "# 특정 성 추출\n",
    "import re\n",
    "\n",
    "data = '''Km 201212-3004812 before\n",
    "KShiiiiin 300516-4662513 after\n",
    "KMo 400811-4110332 final\n",
    "'''\n",
    "\n",
    "re_word = re.compile(\"Ki*m\")  \n",
    "re.findall(re_word, data)"
   ]
  },
  {
   "cell_type": "code",
   "execution_count": 61,
   "metadata": {},
   "outputs": [
    {
     "data": {
      "text/plain": [
       "[]"
      ]
     },
     "execution_count": 61,
     "metadata": {},
     "output_type": "execute_result"
    }
   ],
   "source": [
    "# 특정 성 추출\n",
    "import re\n",
    "\n",
    "data = '''Km 201212-3004812 before\n",
    "KShiiiiin 300516-4662513 after\n",
    "KMo 400811-4110332 final\n",
    "'''\n",
    "\n",
    "re_word = re.compile(\"Ki+m\")   \n",
    "re.findall(re_word, data)"
   ]
  },
  {
   "cell_type": "markdown",
   "metadata": {},
   "source": [
    "**4) 반복{m,n}:** 매타문자를 사용하여 `m회 이상 n회 이하 반복`되는 모든 문자와 매치\n",
    "\n",
    "- `m`생략시 `0`과 동일하고, `n`생략시 `무한대`와 동일\n",
    "- `?`기호로 `{0,1}`과 동일한 기능"
   ]
  },
  {
   "cell_type": "code",
   "execution_count": 62,
   "metadata": {},
   "outputs": [
    {
     "data": {
      "text/plain": [
       "['Kiiiiim']"
      ]
     },
     "execution_count": 62,
     "metadata": {},
     "output_type": "execute_result"
    }
   ],
   "source": [
    "# 특정 성 추출\n",
    "import re\n",
    "\n",
    "data = '''Kiiiiim 201212-3004812 before\n",
    "KShiiiiin 300516-4662513 after\n",
    "KMo 400811-4110332 final\n",
    "'''\n",
    "\n",
    "re_word = re.compile(\"Ki{5}m\")    # i가 5회 반복\n",
    "re.findall(re_word, data)"
   ]
  },
  {
   "cell_type": "code",
   "execution_count": 63,
   "metadata": {},
   "outputs": [
    {
     "data": {
      "text/plain": [
       "['Kiiiiim']"
      ]
     },
     "execution_count": 63,
     "metadata": {},
     "output_type": "execute_result"
    }
   ],
   "source": [
    "# 특정 성 추출\n",
    "import re\n",
    "\n",
    "data = '''Kiiiiim 201212-3004812 before\n",
    "KShiiiiin 300516-4662513 after\n",
    "KMo 400811-4110332 final\n",
    "'''\n",
    "\n",
    "re_word = re.compile(\"Ki{1,10}m\")    # i가 1~10회 반복\n",
    "re.findall(re_word, data)"
   ]
  },
  {
   "cell_type": "code",
   "execution_count": 64,
   "metadata": {},
   "outputs": [
    {
     "data": {
      "text/plain": [
       "['KMo']"
      ]
     },
     "execution_count": 64,
     "metadata": {},
     "output_type": "execute_result"
    }
   ],
   "source": [
    "# 특정 성 추출\n",
    "import re\n",
    "\n",
    "data = '''Kiiiiim 201212-3004812 before\n",
    "KShiiiiin 300516-4662513 after\n",
    "KMo 400811-4110332 final\n",
    "'''\n",
    "\n",
    "re_word = re.compile(\"KM?o\")    # i가 1~10회 반복\n",
    "re.findall(re_word, data)"
   ]
  },
  {
   "cell_type": "markdown",
   "metadata": {},
   "source": [
    "## 정규표현식 사용을 위한 `re` 모듈\n",
    "\n",
    "- 파이썬은 `정규 표현식을 지원`하기 위해 `re(regular expression) 모듈` 제공\n",
    "\n",
    "```python\n",
    "# 불러오기\n",
    "import re\n",
    "\n",
    "# 내부 함수 사용\n",
    "# compile: 문자 내 특정문자나 패턴 존재 여부를 알려줌\n",
    "# re_word = re.compile('찾고자 하는 단어')\n",
    "re_word = re.compile('ab*')\n",
    "```\n",
    "\n",
    "---\n",
    "\n",
    "- 찾고자하는 패턴을 다루는 `객체 = re_word`를 사용하여 문자열 검색 가능\n",
    "- `match, search`는 정규식과 매치될 때는 `match 객체`를 돌려주고, 매치되지 않을 때는 `None`을 반환\n",
    "\n",
    "| **Method** | **의미** |\n",
    "|:---:|:---|\n",
    "| re.compile() | 사용할 정규표현식을 `정의(컴파일)하는 함수` |\n",
    "| re.match() | 문자열의 `처음`부터 정규표현식과 매치되는지를 검색 |\n",
    "| re.search() | 문자열의 `전체`에 대해서 정규표현식과 매치되는지를 검색 |\n",
    "| re.split() | 정규 표현식을 기준으로 `문자열을 분리`하여 리스트 반환 |\n",
    "| re.findall() | 문자열에서 정규 표현식과 매치되는 `모든 경우의 문자열`을 찾아서 리스트로 반환 |\n",
    "| re.finditer() | 문자열에서 정규 표현식과 매치되는 `모든 경우의 문자열`에 대한 `반복 가능한 객체(이터레이터)` 반환 |\n",
    "| re.sub() | 문자열에서 정규 표현식과 일치하는 부분에 대해서 `다른 문자열로 대체` |"
   ]
  },
  {
   "cell_type": "code",
   "execution_count": 65,
   "metadata": {},
   "outputs": [],
   "source": [
    "# 불러오기\n",
    "import re"
   ]
  },
  {
   "cell_type": "code",
   "execution_count": 66,
   "metadata": {},
   "outputs": [
    {
     "name": "stdout",
     "output_type": "stream",
     "text": [
      "<re.Match object; span=(0, 1), match='K'>\n"
     ]
    }
   ],
   "source": [
    "# 첫글자부터 패턴과 매치되는지 조사\n",
    "data = '''Kiiiiim 201212-3004812 before\n",
    "KShiiiiin 300516-4662513 after\n",
    "KMo 400811-4110332 final\n",
    "'''\n",
    "\n",
    "re_word = re.compile('[A-Z]+')\n",
    "result = re.match(re_word, data)\n",
    "print(result)"
   ]
  },
  {
   "cell_type": "code",
   "execution_count": 67,
   "metadata": {},
   "outputs": [
    {
     "name": "stdout",
     "output_type": "stream",
     "text": [
      "None\n"
     ]
    }
   ],
   "source": [
    "# 첫글자부터 패턴과 매치되는지 조사\n",
    "# 첫글자는 소문자가 없음\n",
    "# 매치되는 값이 없으면 None 반환\n",
    "data = '''Kiiiiim 201212-3004812 before\n",
    "KShiiiiin 300516-4662513 after\n",
    "KMo 400811-4110332 final\n",
    "'''\n",
    "\n",
    "re_word = re.compile('[a-z]+')\n",
    "result = re.match(re_word, data)\n",
    "print(result)"
   ]
  },
  {
   "cell_type": "code",
   "execution_count": 68,
   "metadata": {},
   "outputs": [
    {
     "name": "stdout",
     "output_type": "stream",
     "text": [
      "Match found:  Kiiiiim\n"
     ]
    }
   ],
   "source": [
    "# 조건식과 결합하여 정리하는 편\n",
    "data = '''Kiiiiim 201212-3004812 before\n",
    "KShiiiiin 300516-4662513 after\n",
    "KMo 400811-4110332 final\n",
    "'''\n",
    "\n",
    "re_word = re.compile('[A-Za-z]+')\n",
    "result = re.match(re_word, data)\n",
    "if result:\n",
    "    print('Match found: ', result.group())\n",
    "else:\n",
    "    print('No match')"
   ]
  },
  {
   "cell_type": "code",
   "execution_count": 69,
   "metadata": {},
   "outputs": [
    {
     "name": "stdout",
     "output_type": "stream",
     "text": [
      "Match found:  Kiiiiim\n"
     ]
    }
   ],
   "source": [
    "# 전체에서 패턴과 매치되는지 조사\n",
    "data = '''Kiiiiim 201212-3004812 before\n",
    "KShiiiiin 300516-4662513 after\n",
    "KMo 400811-4110332 final\n",
    "'''\n",
    "\n",
    "re_word = re.compile('[A-Za-z]+')\n",
    "result = re.search(re_word, data)\n",
    "if result:\n",
    "    print('Match found: ', result.group())\n",
    "else:\n",
    "    print('No match')"
   ]
  },
  {
   "cell_type": "code",
   "execution_count": 70,
   "metadata": {},
   "outputs": [
    {
     "name": "stdout",
     "output_type": "stream",
     "text": [
      "Match found:  iiiiim\n"
     ]
    }
   ],
   "source": [
    "# 전체에서 패턴과 매치되는지 조사\n",
    "# match 메서드는 처음부터 검색시, search 메서드는 전체에서 검색시\n",
    "data = '''Kiiiiim 201212-3004812 before\n",
    "KShiiiiin 300516-4662513 after\n",
    "KMo 400811-4110332 final\n",
    "'''\n",
    "\n",
    "re_word = re.compile('[a-z]+')\n",
    "result = re.search(re_word, data)\n",
    "if result:\n",
    "    print('Match found: ', result.group())\n",
    "else:\n",
    "    print('No match')"
   ]
  },
  {
   "cell_type": "code",
   "execution_count": 71,
   "metadata": {},
   "outputs": [
    {
     "data": {
      "text/plain": [
       "['Kiiiiim 201212-3004812 before',\n",
       " 'KShiiiiin 300516-4662513 after',\n",
       " 'KMo 400811-4110332 final',\n",
       " '']"
      ]
     },
     "execution_count": 71,
     "metadata": {},
     "output_type": "execute_result"
    }
   ],
   "source": [
    "# 특정 기호로 단어를 분리하여 리스트로 반환\n",
    "# \\n 기호로 줄바꿈 기능 가능\n",
    "data = '''Kiiiiim 201212-3004812 before\n",
    "KShiiiiin 300516-4662513 after\n",
    "KMo 400811-4110332 final\n",
    "'''\n",
    "\n",
    "re.split('\\n', data)"
   ]
  },
  {
   "cell_type": "code",
   "execution_count": 72,
   "metadata": {},
   "outputs": [
    {
     "name": "stdout",
     "output_type": "stream",
     "text": [
      "['Kiiiiim', '201212-3004812', 'before']\n",
      "['KShiiiiin', '300516-4662513', 'after']\n",
      "['KMo', '400811-4110332', 'final']\n",
      "['']\n"
     ]
    }
   ],
   "source": [
    "# 특정 기호로 단어를 분리하여 리스트로 반환\n",
    "# 줄바꿈 후 띄어쓰기로 분리 가능\n",
    "data = '''Kiiiiim 201212-3004812 before\n",
    "KShiiiiin 300516-4662513 after\n",
    "KMo 400811-4110332 final\n",
    "'''\n",
    "for line in re.split('\\n', data):\n",
    "    print(re.split(' ', line))"
   ]
  },
  {
   "cell_type": "code",
   "execution_count": 73,
   "metadata": {},
   "outputs": [
    {
     "name": "stdout",
     "output_type": "stream",
     "text": [
      "['201212', '3004812']\n",
      "['300516', '4662513']\n",
      "['400811', '4110332']\n"
     ]
    }
   ],
   "source": [
    "# 개인정보 숫자만 분리 가능\n",
    "data = '''Kiiiiim 201212-3004812 before\n",
    "KShiiiiin 300516-4662513 after\n",
    "KMo 400811-4110332 final\n",
    "'''\n",
    "for line in re.split('\\n', data):\n",
    "    for word in re.split(' ', line):\n",
    "        if len(word) == 14:\n",
    "            print(re.split('-', word))"
   ]
  },
  {
   "cell_type": "code",
   "execution_count": 74,
   "metadata": {},
   "outputs": [
    {
     "name": "stdout",
     "output_type": "stream",
     "text": [
      "[]\n",
      "['201212', '3004812']\n",
      "[]\n",
      "[]\n",
      "['300516', '4662513']\n",
      "[]\n",
      "[]\n",
      "['400811', '4110332']\n",
      "[]\n",
      "[]\n"
     ]
    }
   ],
   "source": [
    "# 개인정보 숫자만 분리 가능\n",
    "data = '''Kiiiiim 201212-3004812 before\n",
    "KShiiiiin 300516-4662513 after\n",
    "KMo 400811-4110332 final\n",
    "'''\n",
    "for line in re.split('\\n', data):\n",
    "    for word in re.split(' ', line):\n",
    "        print(re.findall('\\d+', word))"
   ]
  },
  {
   "cell_type": "code",
   "execution_count": 75,
   "metadata": {},
   "outputs": [
    {
     "data": {
      "text/plain": [
       "['iiiiim', 'before', 'hiiiiin', 'after', 'o', 'final']"
      ]
     },
     "execution_count": 75,
     "metadata": {},
     "output_type": "execute_result"
    }
   ],
   "source": [
    "# 전체에서 패턴과 매치되는 모든값 조사\n",
    "data = '''Kiiiiim 201212-3004812 before\n",
    "KShiiiiin 300516-4662513 after\n",
    "KMo 400811-4110332 final\n",
    "'''\n",
    "\n",
    "re_word = re.compile('[a-z]+')\n",
    "result = re.findall(re_word, data)\n",
    "result"
   ]
  },
  {
   "cell_type": "code",
   "execution_count": 76,
   "metadata": {},
   "outputs": [
    {
     "data": {
      "text/plain": [
       "<callable_iterator at 0x275535fa070>"
      ]
     },
     "execution_count": 76,
     "metadata": {},
     "output_type": "execute_result"
    }
   ],
   "source": [
    "# 전체에서 패턴과 매치되는 모든값 조사하여 반복가능한 객체로 반환\n",
    "data = '''Kiiiiim 201212-3004812 before\n",
    "KShiiiiin 300516-4662513 after\n",
    "KMo 400811-4110332 final\n",
    "'''\n",
    "\n",
    "re_word = re.compile('[a-z]+')\n",
    "result = re.finditer(re_word, data)\n",
    "result"
   ]
  },
  {
   "cell_type": "code",
   "execution_count": 77,
   "metadata": {},
   "outputs": [
    {
     "name": "stdout",
     "output_type": "stream",
     "text": [
      "<re.Match object; span=(1, 7), match='iiiiim'>\n",
      "<re.Match object; span=(23, 29), match='before'>\n",
      "<re.Match object; span=(32, 39), match='hiiiiin'>\n",
      "<re.Match object; span=(55, 60), match='after'>\n",
      "<re.Match object; span=(63, 64), match='o'>\n",
      "<re.Match object; span=(80, 85), match='final'>\n"
     ]
    }
   ],
   "source": [
    "# 전체에서 패턴과 매치되는 모든값 조사하여 반복가능한 객체로 반환\n",
    "# 반복문을 통해 값을 정리하는 편\n",
    "data = '''Kiiiiim 201212-3004812 before\n",
    "KShiiiiin 300516-4662513 after\n",
    "KMo 400811-4110332 final\n",
    "'''\n",
    "\n",
    "re_word = re.compile('[a-z]+')\n",
    "result = re.finditer(re_word, data)\n",
    "\n",
    "for target in result:\n",
    "    print(target)"
   ]
  },
  {
   "cell_type": "code",
   "execution_count": 78,
   "metadata": {},
   "outputs": [
    {
     "name": "stdout",
     "output_type": "stream",
     "text": [
      "Kiiiiim                before KShiiiiin                after KMo                final \n"
     ]
    }
   ],
   "source": [
    "# 개인정보 가리기\n",
    "# 알파벳이 아닌 숫자는 공백으로 대체\n",
    "data = '''Kiiiiim 201212-3004812 before\n",
    "KShiiiiin 300516-4662513 after\n",
    "KMo 400811-4110332 final\n",
    "'''\n",
    "\n",
    "re_word = re.compile('[^a-zA-Z]')\n",
    "result = re.sub(re_word, ' ', data)\n",
    "print(result)"
   ]
  },
  {
   "cell_type": "markdown",
   "metadata": {},
   "source": [
    "> **\"객체를 반환하는 `match & search` 메서드를 어떻게 쓸까?\"**\n",
    ">\n",
    "> - `어떤 문자열이 매치`되었는가?\n",
    "> - 매치된 문자열의 `인덱스는 어디서부터 어디까지`인가?\n",
    "\n",
    "| **Method** | **의미** |\n",
    "|:---:|:---|\n",
    "| group() | 매치된 `문자열 반환` |\n",
    "| start() | 매치된 문자열의 `시작 위치 반환` |\n",
    "| end() | 매치된 문자열의 `끝 위치 반환` |\n",
    "| span() | 매치된 문자열의 `(시작, 끝)에 해당하는 튜플 반환` |"
   ]
  },
  {
   "cell_type": "code",
   "execution_count": 79,
   "metadata": {},
   "outputs": [
    {
     "name": "stdout",
     "output_type": "stream",
     "text": [
      "<re.Match object; span=(0, 6), match='python'>\n"
     ]
    }
   ],
   "source": [
    "# 첫글자부터 패턴과 매치되는지 조사\n",
    "data = 'python'\n",
    "\n",
    "re_word = re.compile('[a-z]+')\n",
    "result = re.match(re_word, data)\n",
    "print(result)"
   ]
  },
  {
   "cell_type": "code",
   "execution_count": 80,
   "metadata": {},
   "outputs": [
    {
     "data": {
      "text/plain": [
       "'python'"
      ]
     },
     "execution_count": 80,
     "metadata": {},
     "output_type": "execute_result"
    }
   ],
   "source": [
    "# 매치 문자열 반환\n",
    "result.group()"
   ]
  },
  {
   "cell_type": "code",
   "execution_count": 81,
   "metadata": {},
   "outputs": [
    {
     "data": {
      "text/plain": [
       "0"
      ]
     },
     "execution_count": 81,
     "metadata": {},
     "output_type": "execute_result"
    }
   ],
   "source": [
    "# 매치 문자열 시작위치 반환\n",
    "result.start()"
   ]
  },
  {
   "cell_type": "code",
   "execution_count": 82,
   "metadata": {},
   "outputs": [
    {
     "data": {
      "text/plain": [
       "6"
      ]
     },
     "execution_count": 82,
     "metadata": {},
     "output_type": "execute_result"
    }
   ],
   "source": [
    "# 매치 문자열 끝위치 반환\n",
    "result.end()"
   ]
  },
  {
   "cell_type": "code",
   "execution_count": 83,
   "metadata": {},
   "outputs": [
    {
     "data": {
      "text/plain": [
       "(0, 6)"
      ]
     },
     "execution_count": 83,
     "metadata": {},
     "output_type": "execute_result"
    }
   ],
   "source": [
    "# 매치 문자열 (시작,끝)위치 반환\n",
    "result.span()"
   ]
  },
  {
   "cell_type": "code",
   "execution_count": 84,
   "metadata": {},
   "outputs": [
    {
     "name": "stdout",
     "output_type": "stream",
     "text": [
      "<re.Match object; span=(5, 11), match='python'>\n"
     ]
    }
   ],
   "source": [
    "# 첫글자부터 패턴과 매치되는지 조사\n",
    "data = '2100 python'\n",
    "\n",
    "re_word = re.compile('[a-z]+')\n",
    "result = re.search(re_word, data)\n",
    "print(result)"
   ]
  },
  {
   "cell_type": "code",
   "execution_count": 85,
   "metadata": {},
   "outputs": [
    {
     "data": {
      "text/plain": [
       "'python'"
      ]
     },
     "execution_count": 85,
     "metadata": {},
     "output_type": "execute_result"
    }
   ],
   "source": [
    "# 매치 문자열 반환\n",
    "result.group()"
   ]
  },
  {
   "cell_type": "code",
   "execution_count": 86,
   "metadata": {},
   "outputs": [
    {
     "data": {
      "text/plain": [
       "5"
      ]
     },
     "execution_count": 86,
     "metadata": {},
     "output_type": "execute_result"
    }
   ],
   "source": [
    "# 매치 문자열 시작위치 반환\n",
    "result.start()"
   ]
  },
  {
   "cell_type": "code",
   "execution_count": 87,
   "metadata": {},
   "outputs": [
    {
     "data": {
      "text/plain": [
       "11"
      ]
     },
     "execution_count": 87,
     "metadata": {},
     "output_type": "execute_result"
    }
   ],
   "source": [
    "# 매치 문자열 끝위치 반환\n",
    "result.end()"
   ]
  },
  {
   "cell_type": "code",
   "execution_count": 88,
   "metadata": {},
   "outputs": [
    {
     "data": {
      "text/plain": [
       "(5, 11)"
      ]
     },
     "execution_count": 88,
     "metadata": {},
     "output_type": "execute_result"
    }
   ],
   "source": [
    "# 매치 문자열 (시작,끝)위치 반환\n",
    "result.span()"
   ]
  },
  {
   "cell_type": "markdown",
   "metadata": {},
   "source": [
    "## 정규표현식 사용 텍스트전처리 예제"
   ]
  },
  {
   "cell_type": "code",
   "execution_count": 89,
   "metadata": {},
   "outputs": [
    {
     "name": "stdout",
     "output_type": "stream",
     "text": [
      "['The', 'Ph.D.', 'AI', 'is', 'used', 'to', 'analyze', 'time-varying', 'clusters', 'of', 'efficiency', 'in', 'the', 'global', 'financial', 'market,', 'and', 'a', 'complex', 'network', 'structure', 'is', 'applied', 'to', 'evaluate', 'its', 'collective', 'dynamics.', 'The', 'market', 'efficiency', 'is', 'stable', 'only', 'for', 'a', 'short', 'period', 'of', 'time,', 'however,', 'the', 'clustering', 'based', 'on', 'the', 'long-term', 'behavior', 'may', 'not', 'include', 'important', 'characteristics', 'of', 'short-term', 'interactions.', 'Not', 'only', 'systemic', 'risk', 'may', 'occur', 'due', 'to', 'the', 'spread', 'of', 'low-efficiency,', 'but', 'also', 'high-efficiency', 'may', 'appear', 'at', 'the', 'global', 'level', 'as', 'well.']\n"
     ]
    }
   ],
   "source": [
    "# 최소 1개이상의 공백을 찾아 분리\n",
    "sentence = 'The Ph.D. AI is used to analyze time-varying clusters of efficiency in the global financial market, and a complex network structure is applied to evaluate its collective dynamics. \\\n",
    "            The market efficiency is stable only for a short period of time, however, the clustering based on the long-term behavior may not include important characteristics of short-term interactions. \\\n",
    "            Not only systemic risk may occur due to the spread of low-efficiency, but also high-efficiency may appear at the global level as well.'\n",
    "\n",
    "re_word = re.compile('\\s+')\n",
    "result = re.split(re_word, sentence)\n",
    "print(result)"
   ]
  },
  {
   "cell_type": "code",
   "execution_count": 90,
   "metadata": {},
   "outputs": [
    {
     "data": {
      "text/plain": [
       "['The', 'Ph', 'The', 'Not']"
      ]
     },
     "execution_count": 90,
     "metadata": {},
     "output_type": "execute_result"
    }
   ],
   "source": [
    "# 대문자로 시작되는 단어 추출\n",
    "re.findall('[A-Z][a-z]+', sentence)"
   ]
  },
  {
   "cell_type": "markdown",
   "metadata": {},
   "source": [
    "- `NLTK`에는 정규표현식으로 단어 토큰화를 수행하는 `RegexpTokenizer` 지원\n",
    "- `하나의 토큰으로 규정`하기 원하는 정규표현식을 정의하여 수행\n",
    "\n",
    "```python\n",
    "# 불러오기\n",
    "from nltk.tokenize import RegexpTokenizer\n",
    "```"
   ]
  },
  {
   "cell_type": "code",
   "execution_count": 91,
   "metadata": {},
   "outputs": [
    {
     "name": "stdout",
     "output_type": "stream",
     "text": [
      "['The', 'Ph', 'D', 'AI', 'is', 'used', 'to', 'analyze', 'time', 'varying', 'clusters', 'of', 'efficiency', 'in', 'the', 'global', 'financial', 'market', 'and', 'a', 'complex', 'network', 'structure', 'is', 'applied', 'to', 'evaluate', 'its', 'collective', 'dynamics', 'The', 'market', 'efficiency', 'is', 'stable', 'only', 'for', 'a', 'short', 'period', 'of', 'time', 'however', 'the', 'clustering', 'based', 'on', 'the', 'long', 'term', 'behavior', 'may', 'not', 'include', 'important', 'characteristics', 'of', 'short', 'term', 'interactions', 'Not', 'only', 'systemic', 'risk', 'may', 'occur', 'due', 'to', 'the', 'spread', 'of', 'low', 'efficiency', 'but', 'also', 'high', 'efficiency', 'may', 'appear', 'at', 'the', 'global', 'level', 'as', 'well']\n"
     ]
    }
   ],
   "source": [
    "# 정규표현식으로 토큰화 가능\n",
    "# 문자+숫자(alphanumeric)가 아닌 문자와 매치하여 토큰화\n",
    "from nltk.tokenize import RegexpTokenizer\n",
    "\n",
    "sentence = 'The Ph.D. AI is used to analyze time-varying clusters of efficiency in the global financial market, and a complex network structure is applied to evaluate its collective dynamics. \\\n",
    "            The market efficiency is stable only for a short period of time, however, the clustering based on the long-term behavior may not include important characteristics of short-term interactions. \\\n",
    "            Not only systemic risk may occur due to the spread of low-efficiency, but also high-efficiency may appear at the global level as well.'\n",
    "\n",
    "tokenizer = RegexpTokenizer('[\\w]+')\n",
    "print(tokenizer.tokenize(sentence))"
   ]
  },
  {
   "cell_type": "code",
   "execution_count": 92,
   "metadata": {},
   "outputs": [
    {
     "name": "stdout",
     "output_type": "stream",
     "text": [
      "['The', 'Ph.D.', 'AI', 'is', 'used', 'to', 'analyze', 'time-varying', 'clusters', 'of', 'efficiency', 'in', 'the', 'global', 'financial', 'market,', 'and', 'a', 'complex', 'network', 'structure', 'is', 'applied', 'to', 'evaluate', 'its', 'collective', 'dynamics.', 'The', 'market', 'efficiency', 'is', 'stable', 'only', 'for', 'a', 'short', 'period', 'of', 'time,', 'however,', 'the', 'clustering', 'based', 'on', 'the', 'long-term', 'behavior', 'may', 'not', 'include', 'important', 'characteristics', 'of', 'short-term', 'interactions.', 'Not', 'only', 'systemic', 'risk', 'may', 'occur', 'due', 'to', 'the', 'spread', 'of', 'low-efficiency,', 'but', 'also', 'high-efficiency', 'may', 'appear', 'at', 'the', 'global', 'level', 'as', 'well.']\n"
     ]
    }
   ],
   "source": [
    "# 정규표현식으로 토큰화 가능\n",
    "# 공백 문자로 매치하여 토큰화\n",
    "# gaps 파라미터로, 토큰 정의 용도(False) 또는 분리 정의 용도(True) 활용\n",
    "from nltk.tokenize import RegexpTokenizer\n",
    "\n",
    "sentence = 'The Ph.D. AI is used to analyze time-varying clusters of efficiency in the global financial market, and a complex network structure is applied to evaluate its collective dynamics. \\\n",
    "            The market efficiency is stable only for a short period of time, however, the clustering based on the long-term behavior may not include important characteristics of short-term interactions. \\\n",
    "            Not only systemic risk may occur due to the spread of low-efficiency, but also high-efficiency may appear at the global level as well.'\n",
    "\n",
    "tokenizer = RegexpTokenizer('\\s+', gaps=True)\n",
    "print(tokenizer.tokenize(sentence))"
   ]
  },
  {
   "cell_type": "markdown",
   "metadata": {},
   "source": [
    "# **정수 인코딩(Integer Encoding)**\n",
    "\n",
    "> **\"컴퓨터는 `텍스트보다 숫자를 더 잘 처리`하기에 `텍스트를 숫자로 변환`하는 `수많은 알고리즘들이 개발`\"**\n",
    ">\n",
    "> - **매핑(Mapping):** 각 단어를 `고유한 정수`에 매핑하는 작업\n",
    "> - 예를 들어, 5000개의 토큰이 있다면 5000개의 숫자로 `인덱스화`\n",
    "> - 방법론은 다양항지만 일반적으로 `빈도수로 정렬 후 부여`\n",
    "> - **Zipf's Law:** 단어의 `발생빈도는 순위와 반비례`한다는 수학 법칙으로, `가장 많이 나오는 단어 빈도`는 `두번째 단어 빈도보다 2배` & `가장 많이 나오는 단어 빈도`는 `세번째 단어 빈도보다 3배`\n",
    ">> - 빈도가 낮은 단어들은 `노이즈 가능성`\n",
    ">> - 텍스트의 `빈도 분포`에서 `낮은 빈도 단어 제거` 필요\n",
    "\n",
    "<center><img src='Image/Advanced/ZipfsLaw.jpg' width='600'>(https://computationalstylistics.github.io/zipf_on_grammar/)</center>\n",
    "\n",
    "---\n",
    "\n",
    "## Dictionary 사용"
   ]
  },
  {
   "cell_type": "code",
   "execution_count": 93,
   "metadata": {},
   "outputs": [
    {
     "name": "stdout",
     "output_type": "stream",
     "text": [
      "A barber is a person. a barber is good person.             a barber is huge person. he Knew A Secret! The Secret He Kept is huge secret.             Huge secret. His barber kept his word. a barber kept his word.             His barber kept his secret.             But keeping and keeping such a huge secret to himself was driving the barber crazy.             the barber went up a huge mountain.\n"
     ]
    }
   ],
   "source": [
    "# 예시 텍스트 데이터\n",
    "from nltk.tokenize import sent_tokenize, word_tokenize\n",
    "from nltk.corpus import stopwords\n",
    "\n",
    "sentences = \"A barber is a person. a barber is good person. \\\n",
    "            a barber is huge person. he Knew A Secret! The Secret He Kept is huge secret. \\\n",
    "            Huge secret. His barber kept his word. a barber kept his word. \\\n",
    "            His barber kept his secret. \\\n",
    "            But keeping and keeping such a huge secret to himself was driving the barber crazy. \\\n",
    "            the barber went up a huge mountain.\"\n",
    "print(sentences)"
   ]
  },
  {
   "cell_type": "code",
   "execution_count": 94,
   "metadata": {},
   "outputs": [
    {
     "data": {
      "text/plain": [
       "['A barber is a person.',\n",
       " 'a barber is good person.',\n",
       " 'a barber is huge person.',\n",
       " 'he Knew A Secret!',\n",
       " 'The Secret He Kept is huge secret.',\n",
       " 'Huge secret.',\n",
       " 'His barber kept his word.',\n",
       " 'a barber kept his word.',\n",
       " 'His barber kept his secret.',\n",
       " 'But keeping and keeping such a huge secret to himself was driving the barber crazy.',\n",
       " 'the barber went up a huge mountain.']"
      ]
     },
     "execution_count": 94,
     "metadata": {},
     "output_type": "execute_result"
    }
   ],
   "source": [
    "# 문장 토큰화\n",
    "sent_tokenize(sentences)"
   ]
  },
  {
   "cell_type": "code",
   "execution_count": 95,
   "metadata": {},
   "outputs": [
    {
     "name": "stdout",
     "output_type": "stream",
     "text": [
      "[['barber', 'person'], ['barber', 'good', 'person'], ['barber', 'huge', 'person'], ['knew', 'secret'], ['secret', 'kept', 'huge', 'secret'], ['huge', 'secret'], ['barber', 'kept', 'word'], ['barber', 'kept', 'word'], ['barber', 'kept', 'secret'], ['keeping', 'keeping', 'huge', 'secret', 'driving', 'barber', 'crazy'], ['barber', 'went', 'huge', 'mountain']] \n",
      "\n",
      " {'barber': 8, 'person': 3, 'good': 1, 'huge': 5, 'knew': 1, 'secret': 6, 'kept': 4, 'word': 2, 'keeping': 2, 'driving': 1, 'crazy': 1, 'went': 1, 'mountain': 1}\n"
     ]
    }
   ],
   "source": [
    "# 단어 토큰화 및 빈도수 추정\n",
    "stop_words = set(stopwords.words('english'))\n",
    "\n",
    "sentence_pred = []\n",
    "vocab = dict()\n",
    "for sentence in sent_tokenize(sentences):\n",
    "    # 단어 토큰화\n",
    "    tokenized_sentence = word_tokenize(sentence)\n",
    "    result = []\n",
    "    for word in tokenized_sentence: \n",
    "        # 모든 단어의 소문자화\n",
    "        word = word.lower()\n",
    "        # 불용어 제거\n",
    "        if word not in stop_words:\n",
    "            # 단어 길이가 2이하는 제거\n",
    "            if len(word) > 2:\n",
    "                result.append(word)\n",
    "                # 결과 단어 정리 및 빈도수 계신\n",
    "                if word not in vocab:\n",
    "                    vocab[word] = 0\n",
    "                vocab[word] = vocab[word] + 1\n",
    "    sentence_pred.append(result)\n",
    "\n",
    "print(sentence_pred, '\\n\\n', vocab)"
   ]
  },
  {
   "cell_type": "code",
   "execution_count": 96,
   "metadata": {},
   "outputs": [
    {
     "data": {
      "image/png": "[encoded data removed]",
      "text/plain": [
       "<Figure size 432x288 with 1 Axes>"
      ]
     },
     "metadata": {
      "needs_background": "light"
     },
     "output_type": "display_data"
    }
   ],
   "source": [
    "# 빈도수 워드클라우드 시각화\n",
    "from wordcloud import WordCloud\n",
    "import matplotlib.pyplot as plt\n",
    "\n",
    "word_clouder = WordCloud()\n",
    "word_clouder = word_clouder.generate_from_frequencies(vocab)\n",
    "\n",
    "plt.imshow(word_clouder)\n",
    "plt.show()"
   ]
  },
  {
   "cell_type": "code",
   "execution_count": 97,
   "metadata": {},
   "outputs": [
    {
     "data": {
      "image/png": "[encoded data removed]",
      "text/plain": [
       "<Figure size 720x720 with 1 Axes>"
      ]
     },
     "metadata": {
      "needs_background": "light"
     },
     "output_type": "display_data"
    }
   ],
   "source": [
    "# 빈도수 워드클라우드 시각화\n",
    "# 추가 옵션 지정 가능\n",
    "from wordcloud import WordCloud\n",
    "import matplotlib.pyplot as plt\n",
    "\n",
    "word_clouder = WordCloud(background_color='white',    # 배경색\n",
    "                         colormap='autumn',    # 글자컬러맵\n",
    "                         width=600, height=600,    # 폭과 높이로 figsize랑 맞추어야\n",
    "                         random_state=123,    # 랜덤 시각화 고정\n",
    "                         prefer_horizontal=True,    # 수평글자로 기록\n",
    "                         max_font_size=200,    # 최대 폰트 크기\n",
    "                         max_words=10)    # 표현할 최대 단어 갯수\n",
    "word_clouder = word_clouder.generate_from_frequencies(vocab)\n",
    "\n",
    "plt.figure(figsize=(10,10))    # 캔버스 사이즈\n",
    "plt.imshow(word_clouder)\n",
    "plt.title('Word Frequency Result', size=20)    # 제목과 사이즈\n",
    "plt.axis('off')    # 그래프 축을 제거\n",
    "plt.show()"
   ]
  },
  {
   "cell_type": "code",
   "execution_count": 98,
   "metadata": {},
   "outputs": [
    {
     "data": {
      "text/plain": [
       "[('barber', 8),\n",
       " ('secret', 6),\n",
       " ('huge', 5),\n",
       " ('kept', 4),\n",
       " ('person', 3),\n",
       " ('word', 2),\n",
       " ('keeping', 2),\n",
       " ('good', 1),\n",
       " ('knew', 1),\n",
       " ('driving', 1),\n",
       " ('crazy', 1),\n",
       " ('went', 1),\n",
       " ('mountain', 1)]"
      ]
     },
     "execution_count": 98,
     "metadata": {},
     "output_type": "execute_result"
    }
   ],
   "source": [
    "# 빈도수 정렬\n",
    "sorted(vocab.items(), key=lambda x:x[1], reverse=True)"
   ]
  },
  {
   "cell_type": "code",
   "execution_count": 99,
   "metadata": {},
   "outputs": [
    {
     "name": "stdout",
     "output_type": "stream",
     "text": [
      "{'barber': 1, 'secret': 2, 'huge': 3, 'kept': 4, 'person': 5, 'word': 6, 'keeping': 7}\n"
     ]
    }
   ],
   "source": [
    "# 빈도수가 높은 단어부터 1로 인덱스화\n",
    "# 빈도수가 적은(1개) 단어는 제외\n",
    "word_to_index, i = dict(), 0\n",
    "for (word, freq) in sorted(vocab.items(), key=lambda x:x[1], reverse=True):\n",
    "    if freq > 1:\n",
    "        i = i + 1\n",
    "        word_to_index[word] = i\n",
    "    \n",
    "print(word_to_index)"
   ]
  },
  {
   "cell_type": "code",
   "execution_count": 100,
   "metadata": {},
   "outputs": [
    {
     "name": "stdout",
     "output_type": "stream",
     "text": [
      "{'barber': 1, 'secret': 2, 'huge': 3, 'kept': 4, 'person': 5}\n"
     ]
    }
   ],
   "source": [
    "# 상위 빈도 5개 단어만 추출도 가능\n",
    "good_freq = [word for word, idx in word_to_index.items() if idx >= 6]\n",
    "for freq in good_freq:\n",
    "    del word_to_index[freq]\n",
    "\n",
    "print(word_to_index)"
   ]
  },
  {
   "cell_type": "code",
   "execution_count": 101,
   "metadata": {},
   "outputs": [
    {
     "data": {
      "text/plain": [
       "[[1, 5],\n",
       " [1, 6, 5],\n",
       " [1, 3, 5],\n",
       " [7, 2],\n",
       " [2, 4, 3, 2],\n",
       " [3, 2],\n",
       " [1, 4, 7],\n",
       " [1, 4, 7],\n",
       " [1, 4, 2],\n",
       " [7, 7, 3, 2, 7, 1, 7],\n",
       " [1, 7, 3, 7]]"
      ]
     },
     "execution_count": 101,
     "metadata": {},
     "output_type": "execute_result"
    }
   ],
   "source": [
    "# 원 텍스트 데이터를 정수 인코딩화\n",
    "sentence_encoded = []\n",
    "for sentence in sentence_pred:\n",
    "    word_encoded = []\n",
    "    for word in sentence:\n",
    "        try:\n",
    "            word_encoded.append(word_to_index[word])\n",
    "        except:\n",
    "            # 인덱스화 목록에 없는 단어가 존재한다면 별도 인덱스 생성\n",
    "            # Out-Of-Vocabulary(OOV): 단어 집합에 존재하지 않는 단어 생기는 상황\n",
    "            word_to_index['OOV'] = len(word_to_index)+1\n",
    "            word_encoded.append(word_to_index['OOV'])\n",
    "    sentence_encoded.append(word_encoded)\n",
    "sentence_encoded"
   ]
  },
  {
   "cell_type": "markdown",
   "metadata": {},
   "source": [
    "## Counter by Collections 사용\n",
    "\n",
    "```python\n",
    "# 불러오기\n",
    "from collections import Counter\n",
    "```"
   ]
  },
  {
   "cell_type": "code",
   "execution_count": 102,
   "metadata": {},
   "outputs": [
    {
     "name": "stdout",
     "output_type": "stream",
     "text": [
      "[['barber', 'person'], ['barber', 'good', 'person'], ['barber', 'huge', 'person'], ['knew', 'secret'], ['secret', 'kept', 'huge', 'secret'], ['huge', 'secret'], ['barber', 'kept', 'word'], ['barber', 'kept', 'word'], ['barber', 'kept', 'secret'], ['keeping', 'keeping', 'huge', 'secret', 'driving', 'barber', 'crazy'], ['barber', 'went', 'huge', 'mountain']] \n",
      "\n",
      " {'barber': 8, 'person': 3, 'good': 1, 'huge': 5, 'knew': 1, 'secret': 6, 'kept': 4, 'word': 2, 'keeping': 2, 'driving': 1, 'crazy': 1, 'went': 1, 'mountain': 1}\n"
     ]
    }
   ],
   "source": [
    "# 예시 텍스트 데이터\n",
    "from nltk.tokenize import sent_tokenize, word_tokenize\n",
    "from nltk.corpus import stopwords\n",
    "\n",
    "sentences = \"A barber is a person. a barber is good person. \\\n",
    "            a barber is huge person. he Knew A Secret! The Secret He Kept is huge secret. \\\n",
    "            Huge secret. His barber kept his word. a barber kept his word. \\\n",
    "            His barber kept his secret. \\\n",
    "            But keeping and keeping such a huge secret to himself was driving the barber crazy. \\\n",
    "            the barber went up a huge mountain.\"\n",
    "\n",
    "\n",
    "# 단어 토큰화 및 빈도수 추정\n",
    "stop_words = set(stopwords.words('english'))\n",
    "\n",
    "sentence_pred = []\n",
    "vocab = dict()\n",
    "for sentence in sent_tokenize(sentences):\n",
    "    # 단어 토큰화\n",
    "    tokenized_sentence = word_tokenize(sentence)\n",
    "    result = []\n",
    "    for word in tokenized_sentence: \n",
    "        # 모든 단어의 소문자화\n",
    "        word = word.lower()\n",
    "        # 불용어 제거\n",
    "        if word not in stop_words:\n",
    "            # 단어 길이가 2이하는 제거\n",
    "            if len(word) > 2:\n",
    "                result.append(word)\n",
    "                # 결과 단어 정리 및 빈도수 계신\n",
    "                if word not in vocab:\n",
    "                    vocab[word] = 0\n",
    "                vocab[word] = vocab[word] + 1\n",
    "    sentence_pred.append(result)\n",
    "\n",
    "print(sentence_pred, '\\n\\n', vocab)"
   ]
  },
  {
   "cell_type": "code",
   "execution_count": 103,
   "metadata": {},
   "outputs": [
    {
     "name": "stdout",
     "output_type": "stream",
     "text": [
      "Counter({'barber': 8, 'secret': 6, 'huge': 5, 'kept': 4, 'person': 3, 'word': 2, 'keeping': 2, 'good': 1, 'knew': 1, 'driving': 1, 'crazy': 1, 'went': 1, 'mountain': 1})\n"
     ]
    }
   ],
   "source": [
    "# 문장 단어들의 차원감소 및 빈도수 계산\n",
    "import numpy as np\n",
    "from collections import Counter\n",
    "\n",
    "word_list = list(np.hstack(sentence_pred))\n",
    "vocab = Counter(word_list)\n",
    "print(vocab)"
   ]
  },
  {
   "cell_type": "code",
   "execution_count": 104,
   "metadata": {},
   "outputs": [
    {
     "data": {
      "image/png": "[encoded data removed]",
      "text/plain": [
       "<Figure size 720x720 with 1 Axes>"
      ]
     },
     "metadata": {
      "needs_background": "light"
     },
     "output_type": "display_data"
    }
   ],
   "source": [
    "# 빈도수 워드클라우드 시각화\n",
    "# 추가 옵션 지정 가능\n",
    "from wordcloud import WordCloud\n",
    "import matplotlib.pyplot as plt\n",
    "\n",
    "word_clouder = WordCloud(background_color='white',    # 배경색\n",
    "                         colormap='autumn',    # 글자컬러맵\n",
    "                         width=600, height=600,    # 폭과 높이로 figsize랑 맞추어야\n",
    "                         random_state=123,    # 랜덤 시각화 고정\n",
    "                         prefer_horizontal=True,    # 수평글자로 기록\n",
    "                         max_font_size=200,    # 최대 폰트 크기\n",
    "                         max_words=10)    # 표현할 최대 단어 갯수\n",
    "word_clouder = word_clouder.generate_from_frequencies(vocab)\n",
    "\n",
    "plt.figure(figsize=(10,10))    # 캔버스 사이즈\n",
    "plt.imshow(word_clouder)\n",
    "plt.title('Word Frequency Result', size=20)    # 제목과 사이즈\n",
    "plt.axis('off')    # 그래프 축을 제거\n",
    "plt.show()"
   ]
  },
  {
   "cell_type": "code",
   "execution_count": 105,
   "metadata": {},
   "outputs": [
    {
     "data": {
      "text/plain": [
       "[('barber', 8), ('secret', 6), ('huge', 5), ('kept', 4), ('person', 3)]"
      ]
     },
     "execution_count": 105,
     "metadata": {},
     "output_type": "execute_result"
    }
   ],
   "source": [
    "# most_common 함수로 상위 빈도 단어만 추출도 가능\n",
    "vocab = vocab.most_common(5)\n",
    "vocab"
   ]
  },
  {
   "cell_type": "code",
   "execution_count": 106,
   "metadata": {},
   "outputs": [
    {
     "name": "stdout",
     "output_type": "stream",
     "text": [
      "{'barber': 1, 'secret': 2, 'huge': 3, 'kept': 4, 'person': 5}\n"
     ]
    },
    {
     "data": {
      "text/plain": [
       "[[1, 5],\n",
       " [1, 6, 5],\n",
       " [1, 3, 5],\n",
       " [7, 2],\n",
       " [2, 4, 3, 2],\n",
       " [3, 2],\n",
       " [1, 4, 7],\n",
       " [1, 4, 7],\n",
       " [1, 4, 2],\n",
       " [7, 7, 3, 2, 7, 1, 7],\n",
       " [1, 7, 3, 7]]"
      ]
     },
     "execution_count": 106,
     "metadata": {},
     "output_type": "execute_result"
    }
   ],
   "source": [
    "# 빈도수가 높은 단어부터 1로 인덱스화\n",
    "# 빈도수가 적은(1개) 단어는 제외\n",
    "word_to_index, i = dict(), 0\n",
    "for (word, freq) in vocab:\n",
    "    if freq > 1:\n",
    "        i = i + 1\n",
    "        word_to_index[word] = i\n",
    "    \n",
    "print(word_to_index)\n",
    "\n",
    "# 원 텍스트 데이터를 정수 인코딩화\n",
    "sentence_encoded = []\n",
    "for sentence in sentence_pred:\n",
    "    word_encoded = []\n",
    "    for word in sentence:\n",
    "        try:\n",
    "            word_encoded.append(word_to_index[word])\n",
    "        except:\n",
    "            # 인덱스화 목록에 없는 단어가 존재한다면 별도 인덱스 생성\n",
    "            # Out-Of-Vocabulary(OOV): 단어 집합에 존재하지 않는 단어 생기는 상황\n",
    "            word_to_index['OOV'] = len(word_to_index)+1\n",
    "            word_encoded.append(word_to_index['OOV'])\n",
    "    sentence_encoded.append(word_encoded)\n",
    "sentence_encoded"
   ]
  },
  {
   "cell_type": "markdown",
   "metadata": {},
   "source": [
    "## FreqDist by NLTK 사용\n",
    "\n",
    "```python\n",
    "# 불러오기\n",
    "from nltk import FreqDist\n",
    "```"
   ]
  },
  {
   "cell_type": "code",
   "execution_count": 107,
   "metadata": {},
   "outputs": [
    {
     "name": "stdout",
     "output_type": "stream",
     "text": [
      "[['barber', 'person'], ['barber', 'good', 'person'], ['barber', 'huge', 'person'], ['knew', 'secret'], ['secret', 'kept', 'huge', 'secret'], ['huge', 'secret'], ['barber', 'kept', 'word'], ['barber', 'kept', 'word'], ['barber', 'kept', 'secret'], ['keeping', 'keeping', 'huge', 'secret', 'driving', 'barber', 'crazy'], ['barber', 'went', 'huge', 'mountain']] \n",
      "\n",
      " {'barber': 8, 'person': 3, 'good': 1, 'huge': 5, 'knew': 1, 'secret': 6, 'kept': 4, 'word': 2, 'keeping': 2, 'driving': 1, 'crazy': 1, 'went': 1, 'mountain': 1}\n"
     ]
    }
   ],
   "source": [
    "# 예시 텍스트 데이터\n",
    "from nltk.tokenize import sent_tokenize, word_tokenize\n",
    "from nltk.corpus import stopwords\n",
    "\n",
    "sentences = \"A barber is a person. a barber is good person. \\\n",
    "            a barber is huge person. he Knew A Secret! The Secret He Kept is huge secret. \\\n",
    "            Huge secret. His barber kept his word. a barber kept his word. \\\n",
    "            His barber kept his secret. \\\n",
    "            But keeping and keeping such a huge secret to himself was driving the barber crazy. \\\n",
    "            the barber went up a huge mountain.\"\n",
    "\n",
    "\n",
    "# 단어 토큰화 및 빈도수 추정\n",
    "stop_words = set(stopwords.words('english'))\n",
    "\n",
    "sentence_pred = []\n",
    "vocab = dict()\n",
    "for sentence in sent_tokenize(sentences):\n",
    "    # 단어 토큰화\n",
    "    tokenized_sentence = word_tokenize(sentence)\n",
    "    result = []\n",
    "    for word in tokenized_sentence: \n",
    "        # 모든 단어의 소문자화\n",
    "        word = word.lower()\n",
    "        # 불용어 제거\n",
    "        if word not in stop_words:\n",
    "            # 단어 길이가 2이하는 제거\n",
    "            if len(word) > 2:\n",
    "                result.append(word)\n",
    "                # 결과 단어 정리 및 빈도수 계신\n",
    "                if word not in vocab:\n",
    "                    vocab[word] = 0\n",
    "                vocab[word] = vocab[word] + 1\n",
    "    sentence_pred.append(result)\n",
    "\n",
    "print(sentence_pred, '\\n\\n', vocab)"
   ]
  },
  {
   "cell_type": "code",
   "execution_count": 108,
   "metadata": {},
   "outputs": [
    {
     "data": {
      "image/png": "[encoded data removed]",
      "text/plain": [
       "<Figure size 720x720 with 1 Axes>"
      ]
     },
     "metadata": {
      "needs_background": "light"
     },
     "output_type": "display_data"
    }
   ],
   "source": [
    "# 빈도수 워드클라우드 시각화\n",
    "# 추가 옵션 지정 가능\n",
    "from wordcloud import WordCloud\n",
    "import matplotlib.pyplot as plt\n",
    "\n",
    "word_clouder = WordCloud(background_color='white',    # 배경색\n",
    "                         colormap='autumn',    # 글자컬러맵\n",
    "                         width=600, height=600,    # 폭과 높이로 figsize랑 맞추어야\n",
    "                         random_state=123,    # 랜덤 시각화 고정\n",
    "                         prefer_horizontal=True,    # 수평글자로 기록\n",
    "                         max_font_size=200,    # 최대 폰트 크기\n",
    "                         max_words=10)    # 표현할 최대 단어 갯수\n",
    "word_clouder = word_clouder.generate_from_frequencies(vocab)\n",
    "\n",
    "plt.figure(figsize=(10,10))    # 캔버스 사이즈\n",
    "plt.imshow(word_clouder)\n",
    "plt.title('Word Frequency Result', size=20)    # 제목과 사이즈\n",
    "plt.axis('off')    # 그래프 축을 제거\n",
    "plt.show()"
   ]
  },
  {
   "cell_type": "code",
   "execution_count": 109,
   "metadata": {},
   "outputs": [
    {
     "name": "stdout",
     "output_type": "stream",
     "text": [
      "<FreqDist with 13 samples and 36 outcomes>\n"
     ]
    }
   ],
   "source": [
    "# 문장 단어들의 차원감소 및 빈도수 계산\n",
    "import numpy as np\n",
    "from nltk import FreqDist\n",
    "\n",
    "word_list = list(np.hstack(sentence_pred))\n",
    "vocab = FreqDist(word_list)\n",
    "print(vocab)"
   ]
  },
  {
   "cell_type": "code",
   "execution_count": 110,
   "metadata": {},
   "outputs": [
    {
     "data": {
      "text/plain": [
       "[('barber', 8), ('secret', 6), ('huge', 5), ('kept', 4), ('person', 3)]"
      ]
     },
     "execution_count": 110,
     "metadata": {},
     "output_type": "execute_result"
    }
   ],
   "source": [
    "# most_common 함수로 상위 빈도 단어만 추출도 가능\n",
    "vocab = vocab.most_common(5)\n",
    "vocab"
   ]
  },
  {
   "cell_type": "code",
   "execution_count": 111,
   "metadata": {},
   "outputs": [
    {
     "data": {
      "text/plain": [
       "{'barber': 1, 'secret': 2, 'huge': 3, 'kept': 4, 'person': 5}"
      ]
     },
     "execution_count": 111,
     "metadata": {},
     "output_type": "execute_result"
    }
   ],
   "source": [
    "# enumerate 함수를 사용하여 인덱스화\n",
    "word_to_index = {word[0]: idx+1 for idx, word in enumerate(vocab)}\n",
    "word_to_index"
   ]
  },
  {
   "cell_type": "code",
   "execution_count": 112,
   "metadata": {},
   "outputs": [
    {
     "data": {
      "text/plain": [
       "[[1, 5],\n",
       " [1, 6, 5],\n",
       " [1, 3, 5],\n",
       " [7, 2],\n",
       " [2, 4, 3, 2],\n",
       " [3, 2],\n",
       " [1, 4, 7],\n",
       " [1, 4, 7],\n",
       " [1, 4, 2],\n",
       " [7, 7, 3, 2, 7, 1, 7],\n",
       " [1, 7, 3, 7]]"
      ]
     },
     "execution_count": 112,
     "metadata": {},
     "output_type": "execute_result"
    }
   ],
   "source": [
    "# 원 텍스트 데이터를 정수 인코딩화\n",
    "sentence_encoded = []\n",
    "for sentence in sentence_pred:\n",
    "    word_encoded = []\n",
    "    for word in sentence:\n",
    "        try:\n",
    "            word_encoded.append(word_to_index[word])\n",
    "        except:\n",
    "            # 인덱스화 목록에 없는 단어가 존재한다면 별도 인덱스 생성\n",
    "            # Out-Of-Vocabulary(OOV): 단어 집합에 존재하지 않는 단어 생기는 상황\n",
    "            word_to_index['OOV'] = len(word_to_index)+1\n",
    "            word_encoded.append(word_to_index['OOV'])\n",
    "    sentence_encoded.append(word_encoded)\n",
    "sentence_encoded"
   ]
  },
  {
   "cell_type": "markdown",
   "metadata": {},
   "source": [
    "## Tokenizer by Keras 사용\n",
    "\n",
    "- 케라스(Keras)는 `기본적인 전처리 도구`들을 제공\n",
    "\n",
    "```python\n",
    "# 불러오기\n",
    "from keras.preprocessing.text import Tokenizer\n",
    "```"
   ]
  },
  {
   "cell_type": "code",
   "execution_count": 113,
   "metadata": {},
   "outputs": [
    {
     "name": "stdout",
     "output_type": "stream",
     "text": [
      "[['barber', 'person'], ['barber', 'good', 'person'], ['barber', 'huge', 'person'], ['knew', 'secret'], ['secret', 'kept', 'huge', 'secret'], ['huge', 'secret'], ['barber', 'kept', 'word'], ['barber', 'kept', 'word'], ['barber', 'kept', 'secret'], ['keeping', 'keeping', 'huge', 'secret', 'driving', 'barber', 'crazy'], ['barber', 'went', 'huge', 'mountain']] \n",
      "\n",
      " {'barber': 8, 'person': 3, 'good': 1, 'huge': 5, 'knew': 1, 'secret': 6, 'kept': 4, 'word': 2, 'keeping': 2, 'driving': 1, 'crazy': 1, 'went': 1, 'mountain': 1}\n"
     ]
    }
   ],
   "source": [
    "# 예시 텍스트 데이터\n",
    "from nltk.tokenize import sent_tokenize, word_tokenize\n",
    "from nltk.corpus import stopwords\n",
    "\n",
    "sentences = \"A barber is a person. a barber is good person. \\\n",
    "            a barber is huge person. he Knew A Secret! The Secret He Kept is huge secret. \\\n",
    "            Huge secret. His barber kept his word. a barber kept his word. \\\n",
    "            His barber kept his secret. \\\n",
    "            But keeping and keeping such a huge secret to himself was driving the barber crazy. \\\n",
    "            the barber went up a huge mountain.\"\n",
    "\n",
    "\n",
    "# 단어 토큰화 및 빈도수 추정\n",
    "stop_words = set(stopwords.words('english'))\n",
    "\n",
    "sentence_pred = []\n",
    "vocab = dict()\n",
    "for sentence in sent_tokenize(sentences):\n",
    "    # 단어 토큰화\n",
    "    tokenized_sentence = word_tokenize(sentence)\n",
    "    result = []\n",
    "    for word in tokenized_sentence: \n",
    "        # 모든 단어의 소문자화\n",
    "        word = word.lower()\n",
    "        # 불용어 제거\n",
    "        if word not in stop_words:\n",
    "            # 단어 길이가 2이하는 제거\n",
    "            if len(word) > 2:\n",
    "                result.append(word)\n",
    "                # 결과 단어 정리 및 빈도수 계신\n",
    "                if word not in vocab:\n",
    "                    vocab[word] = 0\n",
    "                vocab[word] = vocab[word] + 1\n",
    "    sentence_pred.append(result)\n",
    "\n",
    "print(sentence_pred, '\\n\\n', vocab)"
   ]
  },
  {
   "cell_type": "code",
   "execution_count": 114,
   "metadata": {},
   "outputs": [
    {
     "data": {
      "image/png": "[encoded data removed]",
      "text/plain": [
       "<Figure size 720x720 with 1 Axes>"
      ]
     },
     "metadata": {
      "needs_background": "light"
     },
     "output_type": "display_data"
    }
   ],
   "source": [
    "# 빈도수 워드클라우드 시각화\n",
    "# 추가 옵션 지정 가능\n",
    "from wordcloud import WordCloud\n",
    "import matplotlib.pyplot as plt\n",
    "\n",
    "word_clouder = WordCloud(background_color='white',    # 배경색\n",
    "                         colormap='autumn',    # 글자컬러맵\n",
    "                         width=600, height=600,    # 폭과 높이로 figsize랑 맞추어야\n",
    "                         random_state=123,    # 랜덤 시각화 고정\n",
    "                         prefer_horizontal=True,    # 수평글자로 기록\n",
    "                         max_font_size=200,    # 최대 폰트 크기\n",
    "                         max_words=10)    # 표현할 최대 단어 갯수\n",
    "word_clouder = word_clouder.generate_from_frequencies(vocab)\n",
    "\n",
    "plt.figure(figsize=(10,10))    # 캔버스 사이즈\n",
    "plt.imshow(word_clouder)\n",
    "plt.title('Word Frequency Result', size=20)    # 제목과 사이즈\n",
    "plt.axis('off')    # 그래프 축을 제거\n",
    "plt.show()"
   ]
  },
  {
   "cell_type": "code",
   "execution_count": 115,
   "metadata": {},
   "outputs": [
    {
     "name": "stdout",
     "output_type": "stream",
     "text": [
      "OrderedDict([('barber', 8), ('person', 3), ('good', 1), ('huge', 5), ('knew', 1), ('secret', 6), ('kept', 4), ('word', 2), ('keeping', 2), ('driving', 1), ('crazy', 1), ('went', 1), ('mountain', 1)])\n",
      "\n",
      "{'barber': 1, 'secret': 2, 'huge': 3, 'kept': 4, 'person': 5, 'word': 6, 'keeping': 7, 'good': 8, 'knew': 9, 'driving': 10, 'crazy': 11, 'went': 12, 'mountain': 13}\n"
     ]
    }
   ],
   "source": [
    "# fit_on_texts 함수가 단어집합 빈도수 계산 및 인덱스화\n",
    "from keras.preprocessing.text import Tokenizer\n",
    "\n",
    "tokenizer = Tokenizer()\n",
    "tokenizer.fit_on_texts(sentence_pred)\n",
    "\n",
    "print(tokenizer.word_counts)\n",
    "print()\n",
    "print(tokenizer.word_index)"
   ]
  },
  {
   "cell_type": "code",
   "execution_count": 116,
   "metadata": {},
   "outputs": [
    {
     "name": "stdout",
     "output_type": "stream",
     "text": [
      "OrderedDict([('barber', 8), ('person', 3), ('good', 1), ('huge', 5), ('knew', 1), ('secret', 6), ('kept', 4), ('word', 2), ('keeping', 2), ('driving', 1), ('crazy', 1), ('went', 1), ('mountain', 1)])\n",
      "\n",
      "{'barber': 1, 'secret': 2, 'huge': 3, 'kept': 4, 'person': 5, 'word': 6, 'keeping': 7, 'good': 8, 'knew': 9, 'driving': 10, 'crazy': 11, 'went': 12, 'mountain': 13}\n"
     ]
    }
   ],
   "source": [
    "# num_words 파라미터로 빈도수가 높은 상위단어 갯수 선택 가능\n",
    "# 자연어처리의 패딩(Padding)이라는 작업 때문에,\n",
    "# 케라스는 num_words가 6일 경우 0~5까지의 단어 카운트 계산\n",
    "# 실질적으로 0 단어 카운트가 존재하지 않더라도 케라스는 예외계산에 활용\n",
    "# 따라서 원하는 갯수 + 1의 수치를 입력\n",
    "# word_vounts, word_index에는 반영되지 않고 text_to_sequences에 반영\n",
    "from keras.preprocessing.text import Tokenizer\n",
    "\n",
    "tokenizer = Tokenizer(num_words=6)\n",
    "tokenizer.fit_on_texts(sentence_pred)\n",
    "\n",
    "print(tokenizer.word_counts)\n",
    "print()\n",
    "print(tokenizer.word_index)"
   ]
  },
  {
   "cell_type": "code",
   "execution_count": 117,
   "metadata": {},
   "outputs": [
    {
     "name": "stdout",
     "output_type": "stream",
     "text": [
      "OrderedDict([('barber', 8), ('person', 3), ('good', 1), ('huge', 5), ('knew', 1), ('secret', 6), ('kept', 4), ('word', 2), ('keeping', 2), ('driving', 1), ('crazy', 1), ('went', 1), ('mountain', 1)])\n",
      "\n",
      "{'OOV': 1, 'barber': 2, 'secret': 3, 'huge': 4, 'kept': 5, 'person': 6, 'word': 7, 'keeping': 8, 'good': 9, 'knew': 10, 'driving': 11, 'crazy': 12, 'went': 13, 'mountain': 14}\n"
     ]
    }
   ],
   "source": [
    "# keras는 단어집합에 없는 단어인 OOV에 대해 단어를 제거하는 특성\n",
    "# OOV를 보존하고 싶으면 oov_token을 사용\n",
    "# 상위단어에 OOV 추가해야하니 num_words도 1증가\n",
    "# OOV 단어의 인덱스는 기본적으로 1로 지정\n",
    "from keras.preprocessing.text import Tokenizer\n",
    "\n",
    "tokenizer = Tokenizer(num_words=7, oov_token='OOV')\n",
    "tokenizer.fit_on_texts(sentence_pred)\n",
    "\n",
    "print(tokenizer.word_counts)\n",
    "print()\n",
    "print(tokenizer.word_index)"
   ]
  },
  {
   "cell_type": "code",
   "execution_count": 118,
   "metadata": {},
   "outputs": [
    {
     "data": {
      "text/plain": [
       "[[2, 6],\n",
       " [2, 1, 6],\n",
       " [2, 4, 6],\n",
       " [1, 3],\n",
       " [3, 5, 4, 3],\n",
       " [4, 3],\n",
       " [2, 5, 1],\n",
       " [2, 5, 1],\n",
       " [2, 5, 3],\n",
       " [1, 1, 4, 3, 1, 2, 1],\n",
       " [2, 1, 4, 1]]"
      ]
     },
     "execution_count": 118,
     "metadata": {},
     "output_type": "execute_result"
    }
   ],
   "source": [
    "# 원 텍스트 데이터를 정수 인코딩화\n",
    "tokenizer.texts_to_sequences(sentence_pred)"
   ]
  },
  {
   "cell_type": "code",
   "execution_count": 119,
   "metadata": {},
   "outputs": [
    {
     "data": {
      "text/plain": [
       "[[2, 6],\n",
       " [2, 1, 6],\n",
       " [2, 4, 6],\n",
       " [1, 3],\n",
       " [3, 5, 4, 3],\n",
       " [4, 3],\n",
       " [2, 5, 1],\n",
       " [2, 5, 1],\n",
       " [2, 5, 3],\n",
       " [1, 1, 4, 3, 1, 2, 1],\n",
       " [2, 1, 4, 1]]"
      ]
     },
     "execution_count": 119,
     "metadata": {},
     "output_type": "execute_result"
    }
   ],
   "source": [
    "# 정리 (아주 심플)\n",
    "from keras.preprocessing.text import Tokenizer\n",
    "\n",
    "tokenizer = Tokenizer(num_words=7, oov_token='OOV')\n",
    "tokenizer.fit_on_texts(sentence_pred)\n",
    "tokenizer.texts_to_sequences(sentence_pred)"
   ]
  },
  {
   "cell_type": "markdown",
   "metadata": {},
   "source": [
    "## CountVectorizer by Sklearn 사용\n",
    "\n",
    "```python\n",
    "# 불러오기\n",
    "from sklearn.feature_extraction.text import CountVectorizer\n",
    "```"
   ]
  },
  {
   "cell_type": "code",
   "execution_count": 120,
   "metadata": {},
   "outputs": [
    {
     "name": "stdout",
     "output_type": "stream",
     "text": [
      "[['barber', 'person'], ['barber', 'good', 'person'], ['barber', 'huge', 'person'], ['knew', 'secret'], ['secret', 'kept', 'huge', 'secret'], ['huge', 'secret'], ['barber', 'kept', 'word'], ['barber', 'kept', 'word'], ['barber', 'kept', 'secret'], ['keeping', 'keeping', 'huge', 'secret', 'driving', 'barber', 'crazy'], ['barber', 'went', 'huge', 'mountain']] \n",
      "\n",
      " {'barber': 8, 'person': 3, 'good': 1, 'huge': 5, 'knew': 1, 'secret': 6, 'kept': 4, 'word': 2, 'keeping': 2, 'driving': 1, 'crazy': 1, 'went': 1, 'mountain': 1}\n"
     ]
    }
   ],
   "source": [
    "# 예시 텍스트 데이터\n",
    "from nltk.tokenize import sent_tokenize, word_tokenize\n",
    "from nltk.corpus import stopwords\n",
    "\n",
    "sentences = \"A barber is a person. a barber is good person. \\\n",
    "            a barber is huge person. he Knew A Secret! The Secret He Kept is huge secret. \\\n",
    "            Huge secret. His barber kept his word. a barber kept his word. \\\n",
    "            His barber kept his secret. \\\n",
    "            But keeping and keeping such a huge secret to himself was driving the barber crazy. \\\n",
    "            the barber went up a huge mountain.\"\n",
    "\n",
    "\n",
    "# 단어 토큰화 및 빈도수 추정\n",
    "stop_words = set(stopwords.words('english'))\n",
    "\n",
    "sentence_pred = []\n",
    "vocab = dict()\n",
    "for sentence in sent_tokenize(sentences):\n",
    "    # 단어 토큰화\n",
    "    tokenized_sentence = word_tokenize(sentence)\n",
    "    result = []\n",
    "    for word in tokenized_sentence: \n",
    "        # 모든 단어의 소문자화\n",
    "        word = word.lower()\n",
    "        # 불용어 제거\n",
    "        if word not in stop_words:\n",
    "            # 단어 길이가 2이하는 제거\n",
    "            if len(word) > 2:\n",
    "                result.append(word)\n",
    "                # 결과 단어 정리 및 빈도수 계신\n",
    "                if word not in vocab:\n",
    "                    vocab[word] = 0\n",
    "                vocab[word] = vocab[word] + 1\n",
    "    sentence_pred.append(result)\n",
    "\n",
    "print(sentence_pred, '\\n\\n', vocab)"
   ]
  },
  {
   "cell_type": "code",
   "execution_count": 121,
   "metadata": {},
   "outputs": [
    {
     "data": {
      "image/png": "[encoded data removed]",
      "text/plain": [
       "<Figure size 720x720 with 1 Axes>"
      ]
     },
     "metadata": {
      "needs_background": "light"
     },
     "output_type": "display_data"
    }
   ],
   "source": [
    "# 빈도수 워드클라우드 시각화\n",
    "# 추가 옵션 지정 가능\n",
    "from wordcloud import WordCloud\n",
    "import matplotlib.pyplot as plt\n",
    "\n",
    "word_clouder = WordCloud(background_color='white',    # 배경색\n",
    "                         colormap='autumn',    # 글자컬러맵\n",
    "                         width=600, height=600,    # 폭과 높이로 figsize랑 맞추어야\n",
    "                         random_state=123,    # 랜덤 시각화 고정\n",
    "                         prefer_horizontal=True,    # 수평글자로 기록\n",
    "                         max_font_size=200,    # 최대 폰트 크기\n",
    "                         max_words=10)    # 표현할 최대 단어 갯수\n",
    "word_clouder = word_clouder.generate_from_frequencies(vocab)\n",
    "\n",
    "plt.figure(figsize=(10,10))    # 캔버스 사이즈\n",
    "plt.imshow(word_clouder)\n",
    "plt.title('Word Frequency Result', size=20)    # 제목과 사이즈\n",
    "plt.axis('off')    # 그래프 축을 제거\n",
    "plt.show()"
   ]
  },
  {
   "cell_type": "code",
   "execution_count": 122,
   "metadata": {},
   "outputs": [
    {
     "data": {
      "text/plain": [
       "['barber person',\n",
       " 'barber good person',\n",
       " 'barber huge person',\n",
       " 'knew secret',\n",
       " 'secret kept huge secret',\n",
       " 'huge secret',\n",
       " 'barber kept word',\n",
       " 'barber kept word',\n",
       " 'barber kept secret',\n",
       " 'keeping keeping huge secret driving barber crazy',\n",
       " 'barber went huge mountain']"
      ]
     },
     "execution_count": 122,
     "metadata": {},
     "output_type": "execute_result"
    }
   ],
   "source": [
    "# 정제완료 토큰들의 재문장화\n",
    "sentence_prep = [\" \".join(i) for i in sentence_pred]\n",
    "sentence_prep"
   ]
  },
  {
   "cell_type": "code",
   "execution_count": 123,
   "metadata": {},
   "outputs": [
    {
     "name": "stdout",
     "output_type": "stream",
     "text": [
      "{'barber': 0, 'person': 1}\n"
     ]
    },
    {
     "data": {
      "text/plain": [
       "[1, 1]"
      ]
     },
     "execution_count": 123,
     "metadata": {},
     "output_type": "execute_result"
    }
   ],
   "source": [
    "# 문장별 단어 빈도로 정수 인코딩\n",
    "from sklearn.feature_extraction.text import CountVectorizer\n",
    "\n",
    "tokenizer = CountVectorizer()\n",
    "tokenizer.fit([sentence_prep[0]])\n",
    "print(tokenizer.vocabulary_)\n",
    "sentence_freq = tokenizer.transform([sentence_prep[0]]).toarray().ravel()\n",
    "list(sentence_freq)"
   ]
  },
  {
   "cell_type": "code",
   "execution_count": 124,
   "metadata": {},
   "outputs": [
    {
     "data": {
      "text/plain": [
       "[[1, 1],\n",
       " [1, 1, 1],\n",
       " [1, 1, 1],\n",
       " [1, 1],\n",
       " [1, 1, 2],\n",
       " [1, 1],\n",
       " [1, 1, 1],\n",
       " [1, 1, 1],\n",
       " [1, 1, 1],\n",
       " [1, 1, 1, 1, 2, 1],\n",
       " [1, 1, 1, 1]]"
      ]
     },
     "execution_count": 124,
     "metadata": {},
     "output_type": "execute_result"
    }
   ],
   "source": [
    "# 원 텍스트 데이터를 단어별 빈도로 정수 인코딩화\n",
    "from sklearn.feature_extraction.text import CountVectorizer\n",
    "\n",
    "tokenizer = CountVectorizer()\n",
    "sentence_encoded = []\n",
    "for each in sentence_prep:\n",
    "    sentence_freq = tokenizer.fit_transform([each])\n",
    "    sentence_encoded.append(list(sentence_freq.toarray().ravel()))\n",
    "sentence_encoded"
   ]
  },
  {
   "cell_type": "code",
   "execution_count": 125,
   "metadata": {},
   "outputs": [
    {
     "data": {
      "text/plain": [
       "[[1, 1],\n",
       " [1, 1, 1],\n",
       " [1, 1, 1],\n",
       " [1, 1],\n",
       " [1, 1, 2],\n",
       " [1, 1],\n",
       " [1, 1, 1],\n",
       " [1, 1, 1],\n",
       " [1, 1, 1],\n",
       " [1, 1, 1, 1, 2],\n",
       " [1, 1, 1, 1]]"
      ]
     },
     "execution_count": 125,
     "metadata": {},
     "output_type": "execute_result"
    }
   ],
   "source": [
    "# 원 텍스트 데이터를 단어별 빈도로 정수 인코딩화\n",
    "# max_features 파라미터로 상위 빈도수만 사용 가능\n",
    "from sklearn.feature_extraction.text import CountVectorizer\n",
    "\n",
    "tokenizer = CountVectorizer(max_features=5)\n",
    "sentence_encoded = []\n",
    "for each in sentence_prep:\n",
    "    sentence_freq = tokenizer.fit_transform([each])\n",
    "    sentence_encoded.append(list(sentence_freq.toarray().ravel()))\n",
    "sentence_encoded"
   ]
  },
  {
   "cell_type": "markdown",
   "metadata": {},
   "source": [
    "# **패딩(Padding)**\n",
    "\n",
    "> **\"각 `문장의 길이를 동일하게 맞추어` 행렬처리 및 병렬처리가 가능하도록하여 `연산속도를 높이고` 길이 차이로 인한 `연산오류를 방지`\"**\n",
    ">\n",
    "> - 각 `문장의 길이는 일반적으로 다르기 때문`에 정수 인코딩의 값의 길이는 달라짐\n",
    "> - 연산 과정에서 길이가 상대적으로 짧으면 `문장의 시작 또는 끝에 값이 몰려있는지 여부`를 알수 없어 오연산 가능성"
   ]
  },
  {
   "cell_type": "markdown",
   "metadata": {},
   "source": [
    "## Sklearn 패딩"
   ]
  },
  {
   "cell_type": "code",
   "execution_count": 126,
   "metadata": {},
   "outputs": [
    {
     "name": "stdout",
     "output_type": "stream",
     "text": [
      "[['barber', 'person'], ['barber', 'good', 'person'], ['barber', 'huge', 'person'], ['knew', 'secret'], ['secret', 'kept', 'huge', 'secret'], ['huge', 'secret'], ['barber', 'kept', 'word'], ['barber', 'kept', 'word'], ['barber', 'kept', 'secret'], ['keeping', 'keeping', 'huge', 'secret', 'driving', 'barber', 'crazy'], ['barber', 'went', 'huge', 'mountain']] \n",
      "\n",
      " {'barber': 8, 'person': 3, 'good': 1, 'huge': 5, 'knew': 1, 'secret': 6, 'kept': 4, 'word': 2, 'keeping': 2, 'driving': 1, 'crazy': 1, 'went': 1, 'mountain': 1}\n"
     ]
    }
   ],
   "source": [
    "# 예시 텍스트 데이터\n",
    "from nltk.tokenize import sent_tokenize, word_tokenize\n",
    "from nltk.corpus import stopwords\n",
    "\n",
    "sentences = \"A barber is a person. a barber is good person. \\\n",
    "            a barber is huge person. he Knew A Secret! The Secret He Kept is huge secret. \\\n",
    "            Huge secret. His barber kept his word. a barber kept his word. \\\n",
    "            His barber kept his secret. \\\n",
    "            But keeping and keeping such a huge secret to himself was driving the barber crazy. \\\n",
    "            the barber went up a huge mountain.\"\n",
    "\n",
    "\n",
    "# 단어 토큰화 및 빈도수 추정\n",
    "stop_words = set(stopwords.words('english'))\n",
    "\n",
    "sentence_pred = []\n",
    "vocab = dict()\n",
    "for sentence in sent_tokenize(sentences):\n",
    "    # 단어 토큰화\n",
    "    tokenized_sentence = word_tokenize(sentence)\n",
    "    result = []\n",
    "    for word in tokenized_sentence: \n",
    "        # 모든 단어의 소문자화\n",
    "        word = word.lower()\n",
    "        # 불용어 제거\n",
    "        if word not in stop_words:\n",
    "            # 단어 길이가 2이하는 제거\n",
    "            if len(word) > 2:\n",
    "                result.append(word)\n",
    "                # 결과 단어 정리 및 빈도수 계신\n",
    "                if word not in vocab:\n",
    "                    vocab[word] = 0\n",
    "                vocab[word] = vocab[word] + 1\n",
    "    sentence_pred.append(result)\n",
    "\n",
    "print(sentence_pred, '\\n\\n', vocab)"
   ]
  },
  {
   "cell_type": "code",
   "execution_count": 127,
   "metadata": {},
   "outputs": [
    {
     "data": {
      "text/plain": [
       "['barber person',\n",
       " 'barber good person',\n",
       " 'barber huge person',\n",
       " 'knew secret',\n",
       " 'secret kept huge secret',\n",
       " 'huge secret',\n",
       " 'barber kept word',\n",
       " 'barber kept word',\n",
       " 'barber kept secret',\n",
       " 'keeping keeping huge secret driving barber crazy',\n",
       " 'barber went huge mountain']"
      ]
     },
     "execution_count": 127,
     "metadata": {},
     "output_type": "execute_result"
    }
   ],
   "source": [
    "# 정제완료 토큰들의 재문장화\n",
    "sentence_prep = [\" \".join(i) for i in sentence_pred]\n",
    "sentence_prep"
   ]
  },
  {
   "cell_type": "code",
   "execution_count": 128,
   "metadata": {},
   "outputs": [
    {
     "data": {
      "text/plain": [
       "[[1, 1],\n",
       " [1, 1, 1],\n",
       " [1, 1, 1],\n",
       " [1, 1],\n",
       " [1, 1, 2],\n",
       " [1, 1],\n",
       " [1, 1, 1],\n",
       " [1, 1, 1],\n",
       " [1, 1, 1],\n",
       " [1, 1, 1, 1, 2, 1],\n",
       " [1, 1, 1, 1]]"
      ]
     },
     "execution_count": 128,
     "metadata": {},
     "output_type": "execute_result"
    }
   ],
   "source": [
    "# 원 텍스트 데이터를 단어별 빈도로 정수 인코딩화\n",
    "from sklearn.feature_extraction.text import CountVectorizer\n",
    "\n",
    "tokenizer = CountVectorizer()\n",
    "sentence_encoded = []\n",
    "for each in sentence_prep:\n",
    "    sentence_freq = tokenizer.fit_transform([each]).toarray()\n",
    "    sentence_encoded.append(list(sentence_freq.ravel()))\n",
    "sentence_encoded"
   ]
  },
  {
   "cell_type": "code",
   "execution_count": 129,
   "metadata": {},
   "outputs": [
    {
     "data": {
      "text/plain": [
       "[[1, 0, 0, 0, 0, 0, 0, 0, 0, 1, 0, 0, 0],\n",
       " [1, 0, 0, 1, 0, 0, 0, 0, 0, 1, 0, 0, 0],\n",
       " [1, 0, 0, 0, 1, 0, 0, 0, 0, 1, 0, 0, 0],\n",
       " [0, 0, 0, 0, 0, 0, 0, 1, 0, 0, 1, 0, 0],\n",
       " [0, 0, 0, 0, 1, 0, 1, 0, 0, 0, 2, 0, 0],\n",
       " [0, 0, 0, 0, 1, 0, 0, 0, 0, 0, 1, 0, 0],\n",
       " [1, 0, 0, 0, 0, 0, 1, 0, 0, 0, 0, 0, 1],\n",
       " [1, 0, 0, 0, 0, 0, 1, 0, 0, 0, 0, 0, 1],\n",
       " [1, 0, 0, 0, 0, 0, 1, 0, 0, 0, 1, 0, 0],\n",
       " [1, 1, 1, 0, 1, 2, 0, 0, 0, 0, 1, 0, 0],\n",
       " [1, 0, 0, 0, 1, 0, 0, 0, 1, 0, 0, 1, 0]]"
      ]
     },
     "execution_count": 129,
     "metadata": {},
     "output_type": "execute_result"
    }
   ],
   "source": [
    "# 최대길이에 맞춰 제로 패딩\n",
    "# 기계학습 알고리즘에선 의미없는 0단어는 무시할 것\n",
    "from sklearn.feature_extraction.text import CountVectorizer\n",
    "\n",
    "tokenizer = CountVectorizer(max_features=10)\n",
    "tokenizer.fit(sentence_prep)\n",
    "sentence_encoded = tokenizer.transform(sentence_prep).toarray()\n",
    "sentence_encoded = sentence_encoded.tolist()\n",
    "sentence_encoded"
   ]
  },
  {
   "cell_type": "markdown",
   "metadata": {},
   "source": [
    "## Numpy 패딩"
   ]
  },
  {
   "cell_type": "code",
   "execution_count": 130,
   "metadata": {},
   "outputs": [
    {
     "name": "stdout",
     "output_type": "stream",
     "text": [
      "[['barber', 'person'], ['barber', 'good', 'person'], ['barber', 'huge', 'person'], ['knew', 'secret'], ['secret', 'kept', 'huge', 'secret'], ['huge', 'secret'], ['barber', 'kept', 'word'], ['barber', 'kept', 'word'], ['barber', 'kept', 'secret'], ['keeping', 'keeping', 'huge', 'secret', 'driving', 'barber', 'crazy'], ['barber', 'went', 'huge', 'mountain']] \n",
      "\n",
      " {'barber': 8, 'person': 3, 'good': 1, 'huge': 5, 'knew': 1, 'secret': 6, 'kept': 4, 'word': 2, 'keeping': 2, 'driving': 1, 'crazy': 1, 'went': 1, 'mountain': 1}\n"
     ]
    }
   ],
   "source": [
    "# 예시 텍스트 데이터\n",
    "from nltk.tokenize import sent_tokenize, word_tokenize\n",
    "from nltk.corpus import stopwords\n",
    "\n",
    "sentences = \"A barber is a person. a barber is good person. \\\n",
    "            a barber is huge person. he Knew A Secret! The Secret He Kept is huge secret. \\\n",
    "            Huge secret. His barber kept his word. a barber kept his word. \\\n",
    "            His barber kept his secret. \\\n",
    "            But keeping and keeping such a huge secret to himself was driving the barber crazy. \\\n",
    "            the barber went up a huge mountain.\"\n",
    "\n",
    "\n",
    "# 단어 토큰화 및 빈도수 추정\n",
    "stop_words = set(stopwords.words('english'))\n",
    "\n",
    "sentence_pred = []\n",
    "vocab = dict()\n",
    "for sentence in sent_tokenize(sentences):\n",
    "    # 단어 토큰화\n",
    "    tokenized_sentence = word_tokenize(sentence)\n",
    "    result = []\n",
    "    for word in tokenized_sentence: \n",
    "        # 모든 단어의 소문자화\n",
    "        word = word.lower()\n",
    "        # 불용어 제거\n",
    "        if word not in stop_words:\n",
    "            # 단어 길이가 2이하는 제거\n",
    "            if len(word) > 2:\n",
    "                result.append(word)\n",
    "                # 결과 단어 정리 및 빈도수 계신\n",
    "                if word not in vocab:\n",
    "                    vocab[word] = 0\n",
    "                vocab[word] = vocab[word] + 1\n",
    "    sentence_pred.append(result)\n",
    "\n",
    "print(sentence_pred, '\\n\\n', vocab)"
   ]
  },
  {
   "cell_type": "code",
   "execution_count": 131,
   "metadata": {},
   "outputs": [
    {
     "data": {
      "text/plain": [
       "[[2, 6],\n",
       " [2, 1, 6],\n",
       " [2, 4, 6],\n",
       " [1, 3],\n",
       " [3, 5, 4, 3],\n",
       " [4, 3],\n",
       " [2, 5, 1],\n",
       " [2, 5, 1],\n",
       " [2, 5, 3],\n",
       " [1, 1, 4, 3, 1, 2, 1],\n",
       " [2, 1, 4, 1]]"
      ]
     },
     "execution_count": 131,
     "metadata": {},
     "output_type": "execute_result"
    }
   ],
   "source": [
    "# keras 정수 인코딩\n",
    "from keras.preprocessing.text import Tokenizer\n",
    "\n",
    "tokenizer = Tokenizer(num_words=7, oov_token='OOV')\n",
    "tokenizer.fit_on_texts(sentence_pred)\n",
    "tokenizer.texts_to_sequences(sentence_pred)"
   ]
  },
  {
   "cell_type": "code",
   "execution_count": 132,
   "metadata": {},
   "outputs": [
    {
     "data": {
      "text/plain": [
       "7"
      ]
     },
     "execution_count": 132,
     "metadata": {},
     "output_type": "execute_result"
    }
   ],
   "source": [
    "# 각 문장별 최대길이 확인\n",
    "encoded_sentence = tokenizer.texts_to_sequences(sentence_pred)\n",
    "max_len = max(len(sentence) for sentence in encoded_sentence)\n",
    "max_len"
   ]
  },
  {
   "cell_type": "code",
   "execution_count": 133,
   "metadata": {},
   "outputs": [
    {
     "data": {
      "text/plain": [
       "[[2, 6, 0, 0, 0, 0, 0],\n",
       " [2, 1, 6, 0, 0, 0, 0],\n",
       " [2, 4, 6, 0, 0, 0, 0],\n",
       " [1, 3, 0, 0, 0, 0, 0],\n",
       " [3, 5, 4, 3, 0, 0, 0],\n",
       " [4, 3, 0, 0, 0, 0, 0],\n",
       " [2, 5, 1, 0, 0, 0, 0],\n",
       " [2, 5, 1, 0, 0, 0, 0],\n",
       " [2, 5, 3, 0, 0, 0, 0],\n",
       " [1, 1, 4, 3, 1, 2, 1],\n",
       " [2, 1, 4, 1, 0, 0, 0]]"
      ]
     },
     "execution_count": 133,
     "metadata": {},
     "output_type": "execute_result"
    }
   ],
   "source": [
    "# 최대길이에 맞춰 제로 패딩\n",
    "# 기계학습 알고리즘에선 의미없는 0단어는 무시할 것\n",
    "# 따라서 0을 채워 데이터 크기를 조정하는 것을 Zero Padding\n",
    "for sentence in encoded_sentence:\n",
    "    while len(sentence) < max_len:\n",
    "        sentence.append(0)\n",
    "        \n",
    "encoded_sentence"
   ]
  },
  {
   "cell_type": "markdown",
   "metadata": {},
   "source": [
    "## Keras 패딩\n",
    "\n",
    "```python\n",
    "# 불러오기\n",
    "from keras.preprocessing.sequence import pad_sequences\n",
    "```"
   ]
  },
  {
   "cell_type": "code",
   "execution_count": 134,
   "metadata": {},
   "outputs": [
    {
     "data": {
      "text/plain": [
       "[[2, 6],\n",
       " [2, 1, 6],\n",
       " [2, 4, 6],\n",
       " [1, 3],\n",
       " [3, 5, 4, 3],\n",
       " [4, 3],\n",
       " [2, 5, 1],\n",
       " [2, 5, 1],\n",
       " [2, 5, 3],\n",
       " [1, 1, 4, 3, 1, 2, 1],\n",
       " [2, 1, 4, 1]]"
      ]
     },
     "execution_count": 134,
     "metadata": {},
     "output_type": "execute_result"
    }
   ],
   "source": [
    "# keras 정수 인코딩\n",
    "from keras.preprocessing.text import Tokenizer\n",
    "\n",
    "tokenizer = Tokenizer(num_words=7, oov_token='OOV')\n",
    "tokenizer.fit_on_texts(sentence_pred)\n",
    "tokenizer.texts_to_sequences(sentence_pred)"
   ]
  },
  {
   "cell_type": "code",
   "execution_count": 135,
   "metadata": {},
   "outputs": [
    {
     "data": {
      "text/plain": [
       "array([[0, 0, 0, 0, 0, 2, 6],\n",
       "       [0, 0, 0, 0, 2, 1, 6],\n",
       "       [0, 0, 0, 0, 2, 4, 6],\n",
       "       [0, 0, 0, 0, 0, 1, 3],\n",
       "       [0, 0, 0, 3, 5, 4, 3],\n",
       "       [0, 0, 0, 0, 0, 4, 3],\n",
       "       [0, 0, 0, 0, 2, 5, 1],\n",
       "       [0, 0, 0, 0, 2, 5, 1],\n",
       "       [0, 0, 0, 0, 2, 5, 3],\n",
       "       [1, 1, 4, 3, 1, 2, 1],\n",
       "       [0, 0, 0, 2, 1, 4, 1]])"
      ]
     },
     "execution_count": 135,
     "metadata": {},
     "output_type": "execute_result"
    }
   ],
   "source": [
    "# keras 제로 패딩\n",
    "from keras_preprocessing.sequence import pad_sequences\n",
    "\n",
    "encoded_sentence = tokenizer.texts_to_sequences(sentence_pred)\n",
    "encoded_sentence = pad_sequences(encoded_sentence)\n",
    "encoded_sentence"
   ]
  },
  {
   "cell_type": "markdown",
   "metadata": {},
   "source": [
    "- **Keras 옵션:**\n",
    "\n",
    "> **(1) padding 파라미터:** 제로패딩시 `0을 채울 위치` 결정(`pre or post`)\n",
    ">\n",
    "> **(2) maxlen 파라미터:** 제로패딩시 `최대 문장의 길이` 결정"
   ]
  },
  {
   "cell_type": "code",
   "execution_count": 136,
   "metadata": {},
   "outputs": [
    {
     "data": {
      "text/plain": [
       "array([[2, 6, 0, 0, 0, 0, 0],\n",
       "       [2, 1, 6, 0, 0, 0, 0],\n",
       "       [2, 4, 6, 0, 0, 0, 0],\n",
       "       [1, 3, 0, 0, 0, 0, 0],\n",
       "       [3, 5, 4, 3, 0, 0, 0],\n",
       "       [4, 3, 0, 0, 0, 0, 0],\n",
       "       [2, 5, 1, 0, 0, 0, 0],\n",
       "       [2, 5, 1, 0, 0, 0, 0],\n",
       "       [2, 5, 3, 0, 0, 0, 0],\n",
       "       [1, 1, 4, 3, 1, 2, 1],\n",
       "       [2, 1, 4, 1, 0, 0, 0]])"
      ]
     },
     "execution_count": 136,
     "metadata": {},
     "output_type": "execute_result"
    }
   ],
   "source": [
    "# keras 제로 패딩\n",
    "# pad_sequences는 기본적으로 문서의 앞에 0을 채움\n",
    "# 시계열을 가정하여 데이터가 최근값일거라 가정하기 때문\n",
    "encoded_sentence = tokenizer.texts_to_sequences(sentence_pred)\n",
    "encoded_sentence = pad_sequences(encoded_sentence, padding='post')\n",
    "encoded_sentence"
   ]
  },
  {
   "cell_type": "code",
   "execution_count": 137,
   "metadata": {},
   "outputs": [
    {
     "data": {
      "text/plain": [
       "array([[2, 6, 0, 0, 0],\n",
       "       [2, 1, 6, 0, 0],\n",
       "       [2, 4, 6, 0, 0],\n",
       "       [1, 3, 0, 0, 0],\n",
       "       [3, 5, 4, 3, 0],\n",
       "       [4, 3, 0, 0, 0],\n",
       "       [2, 5, 1, 0, 0],\n",
       "       [2, 5, 1, 0, 0],\n",
       "       [2, 5, 3, 0, 0],\n",
       "       [4, 3, 1, 2, 1],\n",
       "       [2, 1, 4, 1, 0]])"
      ]
     },
     "execution_count": 137,
     "metadata": {},
     "output_type": "execute_result"
    }
   ],
   "source": [
    "# 가장 긴 길이의 문서를 기준으로 패딩하지만, 이상치 문장일 수 있음\n",
    "# 뒷단어인 0이 삭제되기도 하지만 Full 문장은 앞단어가 삭제\n",
    "encoded_sentence = tokenizer.texts_to_sequences(sentence_pred)\n",
    "encoded_sentence = pad_sequences(encoded_sentence, padding='post',\n",
    "                                 maxlen=5)\n",
    "encoded_sentence"
   ]
  },
  {
   "cell_type": "code",
   "execution_count": 138,
   "metadata": {},
   "outputs": [
    {
     "data": {
      "text/plain": [
       "array([[2, 6, 0, 0, 0],\n",
       "       [2, 1, 6, 0, 0],\n",
       "       [2, 4, 6, 0, 0],\n",
       "       [1, 3, 0, 0, 0],\n",
       "       [3, 5, 4, 3, 0],\n",
       "       [4, 3, 0, 0, 0],\n",
       "       [2, 5, 1, 0, 0],\n",
       "       [2, 5, 1, 0, 0],\n",
       "       [2, 5, 3, 0, 0],\n",
       "       [1, 1, 4, 3, 1],\n",
       "       [2, 1, 4, 1, 0]])"
      ]
     },
     "execution_count": 138,
     "metadata": {},
     "output_type": "execute_result"
    }
   ],
   "source": [
    "# 가장 긴 길이의 문서를 기준으로 패딩하지만, 이상치 문장일 수 있음\n",
    "# 뒷단어인 0이 삭제되기도 하지만 Full 문장은 앞단어가 삭제\n",
    "# truncating 파라미터로 Full 문장의 삭제위치 결정\n",
    "encoded_sentence = tokenizer.texts_to_sequences(sentence_pred)\n",
    "encoded_sentence = pad_sequences(encoded_sentence, padding='post',\n",
    "                                 maxlen=5, truncating='post')\n",
    "encoded_sentence"
   ]
  },
  {
   "cell_type": "code",
   "execution_count": 139,
   "metadata": {},
   "outputs": [
    {
     "data": {
      "text/plain": [
       "array([[ 2,  6, -1, -1, -1],\n",
       "       [ 2,  1,  6, -1, -1],\n",
       "       [ 2,  4,  6, -1, -1],\n",
       "       [ 1,  3, -1, -1, -1],\n",
       "       [ 3,  5,  4,  3, -1],\n",
       "       [ 4,  3, -1, -1, -1],\n",
       "       [ 2,  5,  1, -1, -1],\n",
       "       [ 2,  5,  1, -1, -1],\n",
       "       [ 2,  5,  3, -1, -1],\n",
       "       [ 1,  1,  4,  3,  1],\n",
       "       [ 2,  1,  4,  1, -1]])"
      ]
     },
     "execution_count": 139,
     "metadata": {},
     "output_type": "execute_result"
    }
   ],
   "source": [
    "# 특정 숫자로 패딩\n",
    "# 제로 패딩이 관례이긴 하지만 반드시 지켜야 하는 규칙 아님\n",
    "# value 파라미터로 지정 가능\n",
    "encoded_sentence = tokenizer.texts_to_sequences(sentence_pred)\n",
    "encoded_sentence = pad_sequences(encoded_sentence, padding='post',\n",
    "                                 maxlen=5, truncating='post',\n",
    "                                 value=-1)\n",
    "encoded_sentence"
   ]
  },
  {
   "cell_type": "markdown",
   "metadata": {},
   "source": [
    "# **원-핫 인코딩(One-Hot Encoding)**\n",
    "\n",
    "> **\"컴퓨터 또는 기계는 문자보다 `숫자를 더 잘 처리`하기 때문에, 자연어처리에서 정수인코딩 후 `각 정수를 고유한 벡터로 변환`하는 많은 기법 중에서 `단어를 표현하는 가장 기본적인 표현 방법`\"**\n",
    ">\n",
    "> - `머신러닝과 딥러닝`을 적용하기 위해 반드시 익혀야\n",
    "> - 서로 다른 중복되지 않은 단어들의 집합인 `단어집합`을 공간차원으로 확장하여 `각 문장을 여러개의 벡터변수`로 변환\n",
    "> - 각 문장 내 `표현하고 싶은 단어의 인덱스에 1의 값`을 `다른 인덱스에는 0`을 부여하는 벡터 표현방식으로 `원-핫 벡터`라고 함\n",
    "\n",
    "---\n",
    "\n",
    "**0) 자연어를 왜 벡터로 바꾸어야 합니까?**\n",
    "\n",
    "- 프로그래밍 언어로 코드를 작성해도, `컴퓨터는 언어를 이해하지 못하고` 단지 우리가 숫자기반의 형태(벡터)로 바꾸어주면 `단순히 유사성이나 관련성을 연산`만 해주는 것 뿐\n",
    "\n",
    "- 자연어처리의 성능은 `알고리즘 성능 <<< 임베딩 성능`이라고 할만큼 벡터로 변환된 수치들이 `단어들의 특징이나 유사성 등`을 반영하지 못하면 고성능 알고리즘도 무용지물\n",
    "\n",
    "```python\n",
    "# 불러오기\n",
    "from keras.utils import to_categorical\n",
    "```"
   ]
  },
  {
   "cell_type": "code",
   "execution_count": 140,
   "metadata": {},
   "outputs": [
    {
     "name": "stdout",
     "output_type": "stream",
     "text": [
      "[['barber', 'person'], ['barber', 'good', 'person'], ['barber', 'huge', 'person'], ['knew', 'secret'], ['secret', 'kept', 'huge', 'secret'], ['huge', 'secret'], ['barber', 'kept', 'word'], ['barber', 'kept', 'word'], ['barber', 'kept', 'secret'], ['keeping', 'keeping', 'huge', 'secret', 'driving', 'barber', 'crazy'], ['barber', 'went', 'huge', 'mountain']] \n",
      "\n",
      " {'barber': 8, 'person': 3, 'good': 1, 'huge': 5, 'knew': 1, 'secret': 6, 'kept': 4, 'word': 2, 'keeping': 2, 'driving': 1, 'crazy': 1, 'went': 1, 'mountain': 1}\n"
     ]
    }
   ],
   "source": [
    "# 예시 텍스트 데이터\n",
    "from nltk.tokenize import sent_tokenize, word_tokenize\n",
    "from nltk.corpus import stopwords\n",
    "\n",
    "sentences = \"A barber is a person. a barber is good person. \\\n",
    "            a barber is huge person. he Knew A Secret! The Secret He Kept is huge secret. \\\n",
    "            Huge secret. His barber kept his word. a barber kept his word. \\\n",
    "            His barber kept his secret. \\\n",
    "            But keeping and keeping such a huge secret to himself was driving the barber crazy. \\\n",
    "            the barber went up a huge mountain.\"\n",
    "\n",
    "\n",
    "# 단어 토큰화 및 빈도수 추정\n",
    "stop_words = set(stopwords.words('english'))\n",
    "\n",
    "sentence_pred = []\n",
    "vocab = dict()\n",
    "for sentence in sent_tokenize(sentences):\n",
    "    # 단어 토큰화\n",
    "    tokenized_sentence = word_tokenize(sentence)\n",
    "    result = []\n",
    "    for word in tokenized_sentence: \n",
    "        # 모든 단어의 소문자화\n",
    "        word = word.lower()\n",
    "        # 불용어 제거\n",
    "        if word not in stop_words:\n",
    "            # 단어 길이가 2이하는 제거\n",
    "            if len(word) > 2:\n",
    "                result.append(word)\n",
    "                # 결과 단어 정리 및 빈도수 계신\n",
    "                if word not in vocab:\n",
    "                    vocab[word] = 0\n",
    "                vocab[word] = vocab[word] + 1\n",
    "    sentence_pred.append(result)\n",
    "\n",
    "print(sentence_pred, '\\n\\n', vocab)"
   ]
  },
  {
   "cell_type": "code",
   "execution_count": 141,
   "metadata": {},
   "outputs": [
    {
     "data": {
      "text/plain": [
       "array([[2, 6, 0, 0, 0],\n",
       "       [2, 1, 6, 0, 0],\n",
       "       [2, 4, 6, 0, 0],\n",
       "       [1, 3, 0, 0, 0],\n",
       "       [3, 5, 4, 3, 0],\n",
       "       [4, 3, 0, 0, 0],\n",
       "       [2, 5, 1, 0, 0],\n",
       "       [2, 5, 1, 0, 0],\n",
       "       [2, 5, 3, 0, 0],\n",
       "       [1, 1, 4, 3, 1],\n",
       "       [2, 1, 4, 1, 0]])"
      ]
     },
     "execution_count": 141,
     "metadata": {},
     "output_type": "execute_result"
    }
   ],
   "source": [
    "# 토큰화 및 정수 인코딩\n",
    "from keras.preprocessing.text import Tokenizer\n",
    "\n",
    "tokenizer = Tokenizer(num_words=7, oov_token='OOV')\n",
    "tokenizer.fit_on_texts(sentence_pred)\n",
    "encoded_sentence = tokenizer.texts_to_sequences(sentence_pred)\n",
    "encoded_sentence = pad_sequences(encoded_sentence, padding='post',\n",
    "                                 maxlen=5, truncating='post',\n",
    "                                 value=0)\n",
    "encoded_sentence"
   ]
  },
  {
   "cell_type": "code",
   "execution_count": 142,
   "metadata": {},
   "outputs": [
    {
     "name": "stdout",
     "output_type": "stream",
     "text": [
      "['barber', 'person']\n",
      "[2 6 0 0 0]\n",
      "[[0. 0. 1. 0. 0. 0. 0.]\n",
      " [0. 0. 0. 0. 0. 0. 1.]\n",
      " [1. 0. 0. 0. 0. 0. 0.]\n",
      " [1. 0. 0. 0. 0. 0. 0.]\n",
      " [1. 0. 0. 0. 0. 0. 0.]]\n",
      "\n",
      "['barber', 'good', 'person']\n",
      "[2 1 6 0 0]\n",
      "[[0. 0. 1. 0. 0. 0. 0.]\n",
      " [0. 1. 0. 0. 0. 0. 0.]\n",
      " [0. 0. 0. 0. 0. 0. 1.]\n",
      " [1. 0. 0. 0. 0. 0. 0.]\n",
      " [1. 0. 0. 0. 0. 0. 0.]]\n",
      "\n",
      "['barber', 'huge', 'person']\n",
      "[2 4 6 0 0]\n",
      "[[0. 0. 1. 0. 0. 0. 0.]\n",
      " [0. 0. 0. 0. 1. 0. 0.]\n",
      " [0. 0. 0. 0. 0. 0. 1.]\n",
      " [1. 0. 0. 0. 0. 0. 0.]\n",
      " [1. 0. 0. 0. 0. 0. 0.]]\n",
      "\n",
      "['knew', 'secret']\n",
      "[1 3 0 0 0]\n",
      "[[0. 1. 0. 0.]\n",
      " [0. 0. 0. 1.]\n",
      " [1. 0. 0. 0.]\n",
      " [1. 0. 0. 0.]\n",
      " [1. 0. 0. 0.]]\n",
      "\n",
      "['secret', 'kept', 'huge', 'secret']\n",
      "[3 5 4 3 0]\n",
      "[[0. 0. 0. 1. 0. 0.]\n",
      " [0. 0. 0. 0. 0. 1.]\n",
      " [0. 0. 0. 0. 1. 0.]\n",
      " [0. 0. 0. 1. 0. 0.]\n",
      " [1. 0. 0. 0. 0. 0.]]\n",
      "\n",
      "['huge', 'secret']\n",
      "[4 3 0 0 0]\n",
      "[[0. 0. 0. 0. 1.]\n",
      " [0. 0. 0. 1. 0.]\n",
      " [1. 0. 0. 0. 0.]\n",
      " [1. 0. 0. 0. 0.]\n",
      " [1. 0. 0. 0. 0.]]\n",
      "\n",
      "['barber', 'kept', 'word']\n",
      "[2 5 1 0 0]\n",
      "[[0. 0. 1. 0. 0. 0.]\n",
      " [0. 0. 0. 0. 0. 1.]\n",
      " [0. 1. 0. 0. 0. 0.]\n",
      " [1. 0. 0. 0. 0. 0.]\n",
      " [1. 0. 0. 0. 0. 0.]]\n",
      "\n",
      "['barber', 'kept', 'word']\n",
      "[2 5 1 0 0]\n",
      "[[0. 0. 1. 0. 0. 0.]\n",
      " [0. 0. 0. 0. 0. 1.]\n",
      " [0. 1. 0. 0. 0. 0.]\n",
      " [1. 0. 0. 0. 0. 0.]\n",
      " [1. 0. 0. 0. 0. 0.]]\n",
      "\n",
      "['barber', 'kept', 'secret']\n",
      "[2 5 3 0 0]\n",
      "[[0. 0. 1. 0. 0. 0.]\n",
      " [0. 0. 0. 0. 0. 1.]\n",
      " [0. 0. 0. 1. 0. 0.]\n",
      " [1. 0. 0. 0. 0. 0.]\n",
      " [1. 0. 0. 0. 0. 0.]]\n",
      "\n",
      "['keeping', 'keeping', 'huge', 'secret', 'driving', 'barber', 'crazy']\n",
      "[1 1 4 3 1]\n",
      "[[0. 1. 0. 0. 0.]\n",
      " [0. 1. 0. 0. 0.]\n",
      " [0. 0. 0. 0. 1.]\n",
      " [0. 0. 0. 1. 0.]\n",
      " [0. 1. 0. 0. 0.]]\n",
      "\n",
      "['barber', 'went', 'huge', 'mountain']\n",
      "[2 1 4 1 0]\n",
      "[[0. 0. 1. 0. 0.]\n",
      " [0. 1. 0. 0. 0.]\n",
      " [0. 0. 0. 0. 1.]\n",
      " [0. 1. 0. 0. 0.]\n",
      " [1. 0. 0. 0. 0.]]\n",
      "\n"
     ]
    }
   ],
   "source": [
    "# 각 문장별 원-핫 인코딩으로 전체 글의 변수화\n",
    "from keras.utils import to_categorical\n",
    "\n",
    "for idx, each in enumerate(encoded_sentence):\n",
    "    print(sentence_pred[idx])\n",
    "    print(each)\n",
    "    print(to_categorical(each))\n",
    "    print()"
   ]
  },
  {
   "cell_type": "markdown",
   "metadata": {},
   "source": [
    "- **한계:** \n",
    "\n",
    "**(1)** 단어집합의 크기가 `증가`하면 저장공간이 `증가`되어 공간적 낭비 유발\n",
    "\n",
    "**(2)** 벡터들끼리의 `유사도를 표현하지 못해` 관련성 반영 어려워, `연관 검색어 추출 어려움`\n"
   ]
  },
  {
   "cell_type": "code",
   "execution_count": null,
   "metadata": {},
   "outputs": [],
   "source": []
  }
 ],
 "metadata": {
  "hide_input": false,
  "kernelspec": {
   "display_name": "Python 3 (ipykernel)",
   "language": "python",
   "name": "python3"
  },
  "language_info": {
   "codemirror_mode": {
    "name": "ipython",
    "version": 3
   },
   "file_extension": ".py",
   "mimetype": "text/x-python",
   "name": "python",
   "nbconvert_exporter": "python",
   "pygments_lexer": "ipython3",
   "version": "3.9.13"
  },
  "toc": {
   "base_numbering": 1,
   "nav_menu": {},
   "number_sections": true,
   "sideBar": true,
   "skip_h1_title": false,
   "title_cell": "Table of Contents",
   "title_sidebar": "Contents",
   "toc_cell": false,
   "toc_position": {
    "height": "calc(100% - 180px)",
    "left": "10px",
    "top": "150px",
    "width": "394px"
   },
   "toc_section_display": true,
   "toc_window_display": true
  },
  "toc-autonumbering": true,
  "varInspector": {
   "cols": {
    "lenName": 16,
    "lenType": 16,
    "lenVar": 40
   },
   "kernels_config": {
    "python": {
     "delete_cmd_postfix": "",
     "delete_cmd_prefix": "del ",
     "library": "var_list.py",
     "varRefreshCmd": "print(var_dic_list())"
    },
    "r": {
     "delete_cmd_postfix": ") ",
     "delete_cmd_prefix": "rm(",
     "library": "var_list.r",
     "varRefreshCmd": "cat(var_dic_list()) "
    }
   },
   "types_to_exclude": [
    "module",
    "function",
    "builtin_function_or_method",
    "instance",
    "_Feature"
   ],
   "window_display": false
  }
 },
 "nbformat": 4,
 "nbformat_minor": 4
}
