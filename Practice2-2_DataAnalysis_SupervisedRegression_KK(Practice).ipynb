{
 "cells": [
  {
   "cell_type": "code",
   "execution_count": 1,
   "id": "34b0abba",
   "metadata": {
    "execution": {
     "iopub.execute_input": "2025-04-21T16:24:58.922061Z",
     "iopub.status.busy": "2025-04-21T16:24:58.921061Z",
     "iopub.status.idle": "2025-04-21T16:24:58.927408Z",
     "shell.execute_reply": "2025-04-21T16:24:58.927408Z",
     "shell.execute_reply.started": "2025-04-21T16:24:58.922061Z"
    }
   },
   "outputs": [
    {
     "name": "stdout",
     "output_type": "stream",
     "text": [
      "Intel64 Family 6 Model 186 Stepping 2, GenuineIntel\n",
      "32(GB)\n",
      "Windows\n",
      "10.0.26100\n",
      "C:\\DataScience\\Lecture\\[DataScience]\n",
      "2024-12-12 00:34:16.155373\n",
      "2025-04-22 01:24:44.379935\n",
      "2025-04-22 01:24:44.379935\n",
      "2025-04-22 01:24:58.925060\n",
      "다음 출력을 파일명으로 설정하고 제출하시오: 김경원_20211011_인공지능활용디지털경제플랫폼연구_DA_SupervisedRegression\n"
     ]
    }
   ],
   "source": [
    "### 시작 및 본인정보 반영\n",
    "# 반드시 이 cell을 실행하시오\n",
    "# 실행하지 않을 시 직접 하지 않은 것으로 간주\n",
    "# 마지막 줄 출력으로 파일명을 설정하고 제출 필수\n",
    "import platform, psutil, os, datetime\n",
    "print(platform.processor())\n",
    "print(str(round(psutil.virtual_memory().total / (1024.0 **3)))+\"(GB)\")\n",
    "print(platform.system())\n",
    "print(platform.version())\n",
    "print(os.getcwd())\n",
    "print(datetime.datetime.fromtimestamp(os.path.getctime(os.getcwd())))\n",
    "print(datetime.datetime.fromtimestamp(os.path.getmtime(os.getcwd())))\n",
    "print(datetime.datetime.fromtimestamp(os.path.getatime(os.getcwd())))\n",
    "print(datetime.datetime.now())\n",
    "title = 'DA_SupervisedRegression'    # 고정값\n",
    "name = '김경원'    # 본인 이름을 작성\n",
    "studentid = '20211011'    # 본인 학번을 작성\n",
    "# 아래 강좌 명 중 본인이 수강하는 강과명 작성\n",
    "# 비즈니스데이터사이언스이해, E정보시스템, 디지털비즈니스애널리틱스, E데이터베이스, 인공지능기반의사결정, 빅데이터 등\n",
    "# 비즈니스혁신을위한데이터사이언스응용, 인공지능활용디지털경제플랫폼연구 등\n",
    "course = '인공지능활용디지털경제플랫폼연구'    \n",
    "print('다음 출력을 파일명으로 설정하고 제출하시오:', name + '_' + studentid + '_' + course + '_' + title)"
   ]
  },
  {
   "cell_type": "markdown",
   "id": "c11d78dd",
   "metadata": {},
   "source": [
    "# **Data Loading:** 분석에 사용할 데이터 불러오기\n",
    "\n",
    "- 아래 표의 `비즈니스 문제 대상 데이터`의 비즈니스 목적을 보고 `관심있는 데이터`를 선택하여 분석에 사용\n",
    "- 모든 데이터는 [Kaggle Competition](https://www.kaggle.com/)에서 추출되었으며, `현 Jupyter Notebook`과 동일위치 `DataTest 폴더`에 있음\n",
    "- 데이터에 대한 설명은 아래 표의 `설명 참고링크`를 통해 확인할 수 있지만, 실제 사용 데이터는 링크가 아닌 `반드시 DataTest에 저장된 데이터` 사용!\n",
    "> 원본은 링크의 데이터이지만 과제에서 사용되는 데이터는 `원본이 일부 변경되어 저장`되었기 때문\n",
    "- 분석은 `개인PC나 Google Colab` 중 편한 곳에서 진행하면 되고, 분석 결과들은 향후 `경진대회나 공모전 및 데이터사이언스 분야 면접이나 시험`에 대비 가능\n",
    "\n",
    "| **분야** | **비즈니스 목적** | **파일명** | **종속변수 Y** | **설명 참고링크** |\n",
    "|:---:|:---|:---|:---|:---|\n",
    "| **Sports** | 레슬링 토너먼트의 선수 순위를 정확하게   예측하여 투기 승률을 향상 | `Regression_WrestlingTournamentRank.csv` | `rank` | https://www.kaggle.com/datasets/julienjta/wrestling-world-tournament |\n",
    "| **Business** | 중고차 가격을 정확하게 예측하여   저평가된 중고차의 특징을 예측하여 구매전략 지원 | `Regression_UsedCarPrice.csv` | `price` | https://www.kaggle.com/datasets/vijayaadithyanvg/car-price-predictionused-cars |\n",
    "| **Education** | 학생들의 환경에 따른   중등학업성취도(GradeScore)를 정확하게 예측하여 교육환경 특징 파악 및 교육방향 지원 | `Regression_StudentPerformance.csv` | `GradeScore` | https://www.kaggle.com/datasets/ishandutta/student-performance-data-set |\n",
    "| **Culture** | 인기음악을 정확하게 예측하여 향후 어떤   특징의 음악이 인기음악이 될지 예측하여 기획과 전략 지원 | `Regression_SongPopularity.csv` | `song_popularity` | https://www.kaggle.com/datasets/yasserh/song-popularity-dataset |\n",
    "| **Human** | 기업 임직원들의 직업 만족도를 정확하게   예측하여 만족도를 높이기 위한 특성으로 인사전략 지원 | `Regression_JobSatisfaction.csv` | `satisfaction_level` | https://www.kaggle.com/datasets/mfaisalqureshi/hr-analytics-and-job-prediction |\n",
    "| **Finance** | 보험료를 정확하게 예측하여 보험료가   낮더라도 사고 위험이 낮은 고객의 특징을 예측 | `Regression_InsurancePremium.csv` | `charges` | https://www.kaggle.com/datasets/simranjain17/insurance |\n"
   ]
  },
  {
   "cell_type": "code",
   "execution_count": null,
   "id": "7b713a06",
   "metadata": {},
   "outputs": [],
   "source": []
  },
  {
   "cell_type": "code",
   "execution_count": null,
   "id": "a1ee9733",
   "metadata": {},
   "outputs": [],
   "source": []
  },
  {
   "cell_type": "code",
   "execution_count": null,
   "id": "0807b4e0",
   "metadata": {},
   "outputs": [],
   "source": []
  },
  {
   "cell_type": "markdown",
   "id": "a223fe5d",
   "metadata": {},
   "source": [
    "# **Import Library:** 분석에 사용할 모듈 설치\n",
    "\n",
    "- 강의에서 배운 내용이든 아니든 `자유 설치 및 사용`"
   ]
  },
  {
   "cell_type": "code",
   "execution_count": null,
   "id": "b86500e6",
   "metadata": {},
   "outputs": [],
   "source": []
  },
  {
   "cell_type": "code",
   "execution_count": null,
   "id": "699c2d1d",
   "metadata": {},
   "outputs": [],
   "source": []
  },
  {
   "cell_type": "code",
   "execution_count": null,
   "id": "035f3cec",
   "metadata": {},
   "outputs": [],
   "source": []
  },
  {
   "cell_type": "markdown",
   "id": "23b705fe",
   "metadata": {},
   "source": [
    "# **Preprocessing:** 데이터 정리 및 패턴 추출하기\n",
    "\n",
    "- 선택한 `데이터 및 비즈니스 목적` 달성을 위한 `알고리즘 기반 데이터분석`을 하기 위해 필요한 전처리 작업 `자유 진행`하고 `필요성 이유를 주석으로 작성`\n",
    "- `전처리 순서는 변경가능`하지만 필요한 처리과정을 반드시 실행해야하며 `필요성 이유 미작성시 안한 것으로 간주`\n",
    "\n",
    "> (1) **[데이터 결합]** 데이터를 `행 또는 열로 확장`\n",
    "> \n",
    "> (2) **[결측값 처리]** `결측값 존재여부 확인 및 처리`\n",
    ">\n",
    "> (3) **[이상치 처리]** `이상치 존재여부 확인 및 처리`\n",
    ">\n",
    "> (4) **[자료형 변환]** 비숫자형 데이터의 처리\n",
    "> \n",
    "> (5) **[데이터 분리]** `Train & Test`로만 분리하며, 각각의 비율은 `80% & 20%`로 진행\n",
    ">\n",
    "> (6) **[데이터 변환]** `필요한 해석과 변수들의 특성`에 맞게 변주형/연속형 변환 처리\n",
    ">\n",
    "> (7) **[스케일 조정]** 선호하는 `스케일링도 반드시 실행`하되 `종류는 자유 선택`\n",
    ">\n",
    "> (8) **[모델 입력 변환]** `알고리즘이 이해가능한 형태`로 필요시 추가 변환"
   ]
  },
  {
   "cell_type": "markdown",
   "id": "d216b81c",
   "metadata": {},
   "source": [
    "## (1) **[데이터 결합]** 데이터를 `행 또는 열로 확장`"
   ]
  },
  {
   "cell_type": "code",
   "execution_count": null,
   "id": "cf02e913",
   "metadata": {},
   "outputs": [],
   "source": []
  },
  {
   "cell_type": "code",
   "execution_count": null,
   "id": "5d5e82a9",
   "metadata": {},
   "outputs": [],
   "source": []
  },
  {
   "cell_type": "markdown",
   "id": "5874c880",
   "metadata": {},
   "source": [
    "## (2) **[결측값 처리]** `결측값 존재여부 확인 및 처리`"
   ]
  },
  {
   "cell_type": "code",
   "execution_count": null,
   "id": "24ae9632",
   "metadata": {},
   "outputs": [],
   "source": []
  },
  {
   "cell_type": "code",
   "execution_count": null,
   "id": "5d8a677f",
   "metadata": {},
   "outputs": [],
   "source": []
  },
  {
   "cell_type": "markdown",
   "id": "a9b64588",
   "metadata": {},
   "source": [
    "## (3) **[이상치 처리]** `이상치 존재여부 확인 및 처리`"
   ]
  },
  {
   "cell_type": "code",
   "execution_count": null,
   "id": "85e0d6d1",
   "metadata": {},
   "outputs": [],
   "source": []
  },
  {
   "cell_type": "code",
   "execution_count": null,
   "id": "9e67227c-304f-483b-b73a-94a85f740192",
   "metadata": {},
   "outputs": [],
   "source": []
  },
  {
   "cell_type": "markdown",
   "id": "859e4397-9282-4b58-8106-5065b4560d43",
   "metadata": {},
   "source": [
    "## (4) **[자료형 변환]** 비숫자형 데이터의 처리"
   ]
  },
  {
   "cell_type": "code",
   "execution_count": null,
   "id": "513380e0-297b-4ded-8e04-3cafbec78ac3",
   "metadata": {},
   "outputs": [],
   "source": []
  },
  {
   "cell_type": "code",
   "execution_count": null,
   "id": "6d3a4373-1c04-43bd-b7f8-22b08e209deb",
   "metadata": {},
   "outputs": [],
   "source": []
  },
  {
   "cell_type": "markdown",
   "id": "d6d23132-222e-4ebe-9c70-2fde0bc59767",
   "metadata": {},
   "source": [
    "## (5) **[데이터 분리]** `Train & Test`로만 분리하며, 각각의 비율은 `80% & 20%`로 진행"
   ]
  },
  {
   "cell_type": "code",
   "execution_count": null,
   "id": "10068ecb",
   "metadata": {},
   "outputs": [],
   "source": []
  },
  {
   "cell_type": "code",
   "execution_count": null,
   "id": "38dccc11-22c4-4500-be9a-3d22659a7df8",
   "metadata": {},
   "outputs": [],
   "source": []
  },
  {
   "cell_type": "markdown",
   "id": "b01647f2-0cb7-4e60-9953-e695d1a37d2b",
   "metadata": {},
   "source": [
    "## (6) **[데이터 변환]** `필요한 해석과 변수들의 특성`에 맞게 변주형/연속형 변환 처리"
   ]
  },
  {
   "cell_type": "code",
   "execution_count": null,
   "id": "9de3dfe3-6a8f-4671-85e9-18cd3332ab35",
   "metadata": {},
   "outputs": [],
   "source": []
  },
  {
   "cell_type": "code",
   "execution_count": null,
   "id": "2a970910-a880-48de-b2fe-ada1047a922d",
   "metadata": {},
   "outputs": [],
   "source": []
  },
  {
   "cell_type": "markdown",
   "id": "ed40ab6d",
   "metadata": {},
   "source": [
    "## (7) **[스케일 조정]** 선호하는 `스케일링도 반드시 실행`하되 `종류는 자유 선택`"
   ]
  },
  {
   "cell_type": "code",
   "execution_count": null,
   "id": "d3806971",
   "metadata": {},
   "outputs": [],
   "source": []
  },
  {
   "cell_type": "code",
   "execution_count": null,
   "id": "39a0a53a",
   "metadata": {},
   "outputs": [],
   "source": []
  },
  {
   "cell_type": "markdown",
   "id": "5f348174",
   "metadata": {},
   "source": [
    "## (8) **[모델 입력 변환]** `알고리즘이 이해가능한 형태`로 필요시 추가 변환"
   ]
  },
  {
   "cell_type": "code",
   "execution_count": null,
   "id": "a20fd38d",
   "metadata": {},
   "outputs": [],
   "source": []
  },
  {
   "cell_type": "code",
   "execution_count": null,
   "id": "e30c1e76-37ed-422c-bcef-1810b6d6f506",
   "metadata": {},
   "outputs": [],
   "source": []
  },
  {
   "cell_type": "markdown",
   "id": "c6582391-7981-48a8-bb25-644493d5c066",
   "metadata": {},
   "source": [
    "## **[전처리 함수화1]** 위 모든 전처리 과정을 함수로 작성 및 실행\n",
    "\n",
    "```python\n",
    "- 함수이름: preprocessing_ME\n",
    "- 함수입력: df\n",
    "- 함수출력: X_train, X_test, Y_train, Y_test, df_prep\n",
    "- 출력형태: X는 모두 array, Y는 모두 dataframe, df_prep는 dataframe\n",
    "- 결과확인: X_train.head(), X_test.head(), Y_train.head(), Y_test.head(), df_prep.describe().T\n",
    "```"
   ]
  },
  {
   "cell_type": "code",
   "execution_count": 2,
   "id": "436e006b-394a-45ca-9e07-18101bf2760c",
   "metadata": {
    "execution": {
     "iopub.execute_input": "2025-04-21T16:24:58.928413Z",
     "iopub.status.busy": "2025-04-21T16:24:58.928413Z",
     "iopub.status.idle": "2025-04-21T16:24:58.933852Z",
     "shell.execute_reply": "2025-04-21T16:24:58.933852Z",
     "shell.execute_reply.started": "2025-04-21T16:24:58.928413Z"
    }
   },
   "outputs": [],
   "source": [
    "# preprocessing_ME 함수 작성\n",
    "\n",
    "\n"
   ]
  },
  {
   "cell_type": "code",
   "execution_count": 3,
   "id": "1264ead1-1dad-403b-b6a3-70e4d5e191d1",
   "metadata": {
    "execution": {
     "iopub.execute_input": "2025-04-21T16:24:58.934857Z",
     "iopub.status.busy": "2025-04-21T16:24:58.934857Z",
     "iopub.status.idle": "2025-04-21T16:24:58.942364Z",
     "shell.execute_reply": "2025-04-21T16:24:58.941859Z",
     "shell.execute_reply.started": "2025-04-21T16:24:58.934857Z"
    }
   },
   "outputs": [],
   "source": [
    "# 데이터 로딩 후 preprocessing_ME 함수 사용해서 결과를 출력하고 확인\n",
    "\n",
    "\n"
   ]
  },
  {
   "cell_type": "markdown",
   "id": "43f0ae06-87c6-4e73-b3bc-2ea0343ad194",
   "metadata": {},
   "source": [
    "## **[전처리 함수화2]** ChatGPT에게 지시하여 위 함수와 동일한 입출력과 전처리 결과 생성\n",
    "\n",
    "\n",
    "```python\n",
    "- 함수이름: preprocessing_ChatGPT\n",
    "- 함수입력: 위에서 작성한 함수와 동일\n",
    "- 함수출력: 위에서 작성한 함수와 동일\n",
    "- 출력형태: 위에서 작성한 함수와 동일\n",
    "- 결과확인: 위에서 작성한 함수와 동일\n",
    "- ChatGPT모델: GPT-4o 추천하나 아무거나 무관\n",
    "```"
   ]
  },
  {
   "cell_type": "code",
   "execution_count": 4,
   "id": "f6e712c5",
   "metadata": {
    "execution": {
     "iopub.execute_input": "2025-04-21T16:24:58.942364Z",
     "iopub.status.busy": "2025-04-21T16:24:58.942364Z",
     "iopub.status.idle": "2025-04-21T16:24:58.949369Z",
     "shell.execute_reply": "2025-04-21T16:24:58.949369Z",
     "shell.execute_reply.started": "2025-04-21T16:24:58.942364Z"
    }
   },
   "outputs": [],
   "source": [
    "# ChatGPT '무엇이든 물어보세요' 프롬프트 최종 지시사항 주석으로 작성\n",
    "\n",
    "\n"
   ]
  },
  {
   "cell_type": "code",
   "execution_count": 5,
   "id": "323ed9ab-a476-4ac1-9950-42632fce27ed",
   "metadata": {
    "execution": {
     "iopub.execute_input": "2025-04-21T16:24:58.950463Z",
     "iopub.status.busy": "2025-04-21T16:24:58.950463Z",
     "iopub.status.idle": "2025-04-21T16:24:58.956399Z",
     "shell.execute_reply": "2025-04-21T16:24:58.956399Z",
     "shell.execute_reply.started": "2025-04-21T16:24:58.950463Z"
    }
   },
   "outputs": [],
   "source": [
    "# ChatGPT가 생성한 preprocessing_ChatGPT 함수 복사 붙여넣기\n",
    "# preprocessing_ME 함수와 동일하면 안됨! (동일할수가 없음...)\n",
    "\n",
    "\n"
   ]
  },
  {
   "cell_type": "code",
   "execution_count": 6,
   "id": "f37dafd7-ef77-4e6d-94e8-66fc3bed297a",
   "metadata": {
    "execution": {
     "iopub.execute_input": "2025-04-21T16:24:58.960404Z",
     "iopub.status.busy": "2025-04-21T16:24:58.959405Z",
     "iopub.status.idle": "2025-04-21T16:24:58.964906Z",
     "shell.execute_reply": "2025-04-21T16:24:58.964906Z",
     "shell.execute_reply.started": "2025-04-21T16:24:58.960404Z"
    }
   },
   "outputs": [],
   "source": [
    "# 데이터 로딩 후 preprocessing_ChatGPT 함수 사용해서 결과를 출력하고 확인\n",
    "\n",
    "\n"
   ]
  },
  {
   "cell_type": "markdown",
   "id": "74e98b0f",
   "metadata": {},
   "source": [
    "# **Applying Algorithms:** Linear Regression, Ramdom Forest, XGBoost\n",
    "\n",
    "**1)** `preprocessing_ME` 전처리 데이터에 `Linear Regression 알고리즘을` 사용하여 `학습 및 예측` 진행\n",
    "\n",
    "- 예측은 Train & Test 모두에 대해 실행\n",
    "\n",
    "---\n",
    "\n",
    "**2)** `Train & Test` 데이터의 예측 결과를 `시각화로 표현`하여 얼마나 정확한지 확인\n",
    "\n",
    "- Train & Test 각각에 대해 정답 Y와 예측 Y를 동시에 그려 얼마나 유사한지 비교\n",
    "- 비교 성능이 시각적으로 어떠한지 생각한 후 주석으로 의견을 작성\n",
    "\n",
    "---\n",
    "\n",
    "**3)** `Train & Test 모두의 검증지표와 잔차를 통해 성능`을 확인\n",
    "\n",
    "- `검증지표`는 아래와 같이 모두 6개를 모두 사용하고, Train & Test 성능이 어떠한지 `주석으로 비교 작성`\n",
    "> (1) RMSE (Root Mean Squared Error)\n",
    "> \n",
    "> (2) MSPE (Mean Squared Percentage Error)\n",
    "> \n",
    "> (3) MAE (Mean Absolute Error)\n",
    "> \n",
    "> (4) MAPE (Mean Absolute Percentage Error)\n",
    "> \n",
    "> (5) MedAE (Median Absolute Error)\n",
    "> \n",
    "> (6) MedAPE (Median Absolute Percentage Error)\n",
    "\n",
    "- `잔차를 시각화`하여 `어떤 패턴이 남아 있는지 향후 어떤 데이터가 필요할지` 주석으로 의견 작성\n",
    "\n",
    "---\n",
    "\n",
    "**4)** `preprocessing_ChatGPT` 전처리 데이터로 변경해서 `1) + 2) + 3)` 과정을 모두 실행 및 성능 비교\n",
    "\n",
    "- `정답 Y와 예측 Y의 시각화`로 `어떤 전처리 함수가 성능이 좋은지 주석으로 작성`\n",
    "- `검증지표`들로 `어떤 전처리 함수가 성능이 좋은지 주석으로 작성`\n",
    "\n",
    "---\n",
    "\n",
    "**5-1)** 향후 수업에서 배우게 될 `대표적 머신러닝 알고리즘`을 사용하여 `1) + 2) + 3) + 4)` 과정을 모두 실행 및 성능 비교\n",
    "\n",
    "- 전처리 함수는 `preprocessing_ME`와 `preprocessing_ChatGPT` 중 4) 과정에서 성능이 높았던 함수로 진행\n",
    "- `Random Forest` 알고리즘의 학습 및 예측 부분은 ChatGPT에게 `프롬프트로 지시`하고 `생성된 모델링 코드를 활용`\n",
    "- `Random Forest` 알고리즘을 사용해서 `Train & Test`의 `검증지표`를 통해 선형회귀분석 대비 성능이 어떤지 주석으로 작성\n",
    "\n",
    "---\n",
    "\n",
    "**5-2)** 향후 수업에서 배우게 될 `대표적 머신러닝 알고리즘`을 사용하여 `1) + 2) + 3) + 4)` 과정을 모두 실행 및 성능 비교\n",
    "\n",
    "- 전처리 함수는 `preprocessing_ME`와 `preprocessing_ChatGPT` 중 4) 과정에서 성능이 높았던 함수로 진행\n",
    "- `XGBoost` 알고리즘의 학습 및 예측 부분은 ChatGPT에게 `프롬프트로 지시`하고 `생성된 모델링 코드를 활용`\n",
    "- `XGBoost` 알고리즘을 사용해서 `Train & Test`의 `검증지표`를 통해 선형회귀분석 대비 성능이 어떤지 주석으로 작성\n",
    "\n",
    "---\n",
    "\n",
    "**6)** 모델링 방향 정리\n",
    "\n",
    "- `검증지표`를 기준으로 `Train & Test` 각각에 대해 3가지 알고리즘 중 `어떤 알고리즘이 예측력이 높은지` 주석으로 작성\n",
    "- 실제 비즈니스에 활용하기 위해선 `Train & Test` 중 `어떤 데이터의 예측력이 더욱 중요한지 + 최종 활용 알고리즘` 주석으로 작성"
   ]
  },
  {
   "cell_type": "markdown",
   "id": "0100aba8",
   "metadata": {},
   "source": [
    "## 1) `preprocessing_ME` 전처리 데이터에 `Linear Regression 알고리즘을` 사용하여 `학습 및 예측` 진행"
   ]
  },
  {
   "cell_type": "code",
   "execution_count": 7,
   "id": "a10643bc",
   "metadata": {
    "execution": {
     "iopub.execute_input": "2025-04-21T16:24:58.965913Z",
     "iopub.status.busy": "2025-04-21T16:24:58.965913Z",
     "iopub.status.idle": "2025-04-21T16:24:58.972905Z",
     "shell.execute_reply": "2025-04-21T16:24:58.972905Z",
     "shell.execute_reply.started": "2025-04-21T16:24:58.965913Z"
    }
   },
   "outputs": [],
   "source": [
    "# 학습 과정\n",
    "\n",
    "\n"
   ]
  },
  {
   "cell_type": "code",
   "execution_count": 8,
   "id": "21defbcc",
   "metadata": {
    "execution": {
     "iopub.execute_input": "2025-04-21T16:24:58.973910Z",
     "iopub.status.busy": "2025-04-21T16:24:58.973910Z",
     "iopub.status.idle": "2025-04-21T16:24:58.981167Z",
     "shell.execute_reply": "2025-04-21T16:24:58.981167Z",
     "shell.execute_reply.started": "2025-04-21T16:24:58.973910Z"
    }
   },
   "outputs": [],
   "source": [
    "# 예측 과정\n",
    "\n",
    "\n"
   ]
  },
  {
   "cell_type": "markdown",
   "id": "2619ba88",
   "metadata": {},
   "source": [
    "## 2) `Train & Test` 데이터의 예측 결과를 `시각화로 표현`하여 얼마나 정확한지 확인"
   ]
  },
  {
   "cell_type": "code",
   "execution_count": 9,
   "id": "e8c58b53",
   "metadata": {
    "execution": {
     "iopub.execute_input": "2025-04-21T16:24:58.982173Z",
     "iopub.status.busy": "2025-04-21T16:24:58.982173Z",
     "iopub.status.idle": "2025-04-21T16:24:58.989171Z",
     "shell.execute_reply": "2025-04-21T16:24:58.989171Z",
     "shell.execute_reply.started": "2025-04-21T16:24:58.982173Z"
    }
   },
   "outputs": [],
   "source": [
    "# Train 데이터 예측 시각화\n",
    "\n",
    "\n"
   ]
  },
  {
   "cell_type": "code",
   "execution_count": 10,
   "id": "249b340d",
   "metadata": {
    "execution": {
     "iopub.execute_input": "2025-04-21T16:24:58.990218Z",
     "iopub.status.busy": "2025-04-21T16:24:58.990218Z",
     "iopub.status.idle": "2025-04-21T16:24:58.997125Z",
     "shell.execute_reply": "2025-04-21T16:24:58.997125Z",
     "shell.execute_reply.started": "2025-04-21T16:24:58.990218Z"
    }
   },
   "outputs": [],
   "source": [
    "# Test 데이터 예측 시각화\n",
    "\n",
    "\n"
   ]
  },
  {
   "cell_type": "code",
   "execution_count": 11,
   "id": "6cd2e636-da99-4470-a2bd-b70a73ec3c07",
   "metadata": {
    "execution": {
     "iopub.execute_input": "2025-04-21T16:24:58.998132Z",
     "iopub.status.busy": "2025-04-21T16:24:58.998132Z",
     "iopub.status.idle": "2025-04-21T16:24:59.005044Z",
     "shell.execute_reply": "2025-04-21T16:24:59.005044Z",
     "shell.execute_reply.started": "2025-04-21T16:24:58.998132Z"
    }
   },
   "outputs": [],
   "source": [
    "# 성능 의견 주석으로 작성\n",
    "\n",
    "\n"
   ]
  },
  {
   "cell_type": "markdown",
   "id": "a6bda642",
   "metadata": {},
   "source": [
    "## 3) `Train & Test 모두의 검증지표와 잔차를 통해 성능`을 확인"
   ]
  },
  {
   "cell_type": "code",
   "execution_count": 12,
   "id": "cbacaf47",
   "metadata": {
    "execution": {
     "iopub.execute_input": "2025-04-21T16:24:59.007048Z",
     "iopub.status.busy": "2025-04-21T16:24:59.006048Z",
     "iopub.status.idle": "2025-04-21T16:24:59.012451Z",
     "shell.execute_reply": "2025-04-21T16:24:59.012451Z",
     "shell.execute_reply.started": "2025-04-21T16:24:59.007048Z"
    }
   },
   "outputs": [],
   "source": [
    "# Train 검증지표 6종 확인\n",
    "\n",
    "\n"
   ]
  },
  {
   "cell_type": "code",
   "execution_count": 13,
   "id": "8503a259",
   "metadata": {
    "execution": {
     "iopub.execute_input": "2025-04-21T16:24:59.013456Z",
     "iopub.status.busy": "2025-04-21T16:24:59.013456Z",
     "iopub.status.idle": "2025-04-21T16:24:59.019951Z",
     "shell.execute_reply": "2025-04-21T16:24:59.019951Z",
     "shell.execute_reply.started": "2025-04-21T16:24:59.013456Z"
    }
   },
   "outputs": [],
   "source": [
    "# Test 검증지표 6종 확인\n",
    "\n",
    "\n"
   ]
  },
  {
   "cell_type": "code",
   "execution_count": 14,
   "id": "705ca40e-74ff-49f1-821c-d54141074cd5",
   "metadata": {
    "execution": {
     "iopub.execute_input": "2025-04-21T16:24:59.020957Z",
     "iopub.status.busy": "2025-04-21T16:24:59.020957Z",
     "iopub.status.idle": "2025-04-21T16:24:59.027957Z",
     "shell.execute_reply": "2025-04-21T16:24:59.027957Z",
     "shell.execute_reply.started": "2025-04-21T16:24:59.020957Z"
    }
   },
   "outputs": [],
   "source": [
    "# 성능 의견 주석으로 작성\n",
    "\n",
    "\n"
   ]
  },
  {
   "cell_type": "code",
   "execution_count": 15,
   "id": "202fe423-d24f-42a3-a73f-6bec43ae780a",
   "metadata": {
    "execution": {
     "iopub.execute_input": "2025-04-21T16:24:59.029220Z",
     "iopub.status.busy": "2025-04-21T16:24:59.029220Z",
     "iopub.status.idle": "2025-04-21T16:24:59.035062Z",
     "shell.execute_reply": "2025-04-21T16:24:59.035062Z",
     "shell.execute_reply.started": "2025-04-21T16:24:59.029220Z"
    }
   },
   "outputs": [],
   "source": [
    "# Train 잔차 시각화를 통해 `어떤 패턴이 남아 있는지 향후 어떤 데이터가 필요할지` 주석으로 의견 작성\n",
    "\n",
    "\n"
   ]
  },
  {
   "cell_type": "markdown",
   "id": "b93f2437-9f93-4644-9a5d-843547c75e6c",
   "metadata": {},
   "source": [
    "## 4) `preprocessing_ChatGPT` 전처리 데이터로 변경해서 `1) + 2) + 3)` 과정을 모두 실행 및 성능 비교"
   ]
  },
  {
   "cell_type": "code",
   "execution_count": 16,
   "id": "4b78c7e2-49b7-42bf-a952-05b1a69b9eee",
   "metadata": {
    "execution": {
     "iopub.execute_input": "2025-04-21T16:24:59.036068Z",
     "iopub.status.busy": "2025-04-21T16:24:59.036068Z",
     "iopub.status.idle": "2025-04-21T16:24:59.043067Z",
     "shell.execute_reply": "2025-04-21T16:24:59.043067Z",
     "shell.execute_reply.started": "2025-04-21T16:24:59.036068Z"
    }
   },
   "outputs": [],
   "source": [
    "# Train & Test 데이터 예측 시각화\n",
    "\n",
    "\n"
   ]
  },
  {
   "cell_type": "code",
   "execution_count": 17,
   "id": "0d4b99cd-3e5f-4bbd-92c0-81c2fb50f3aa",
   "metadata": {
    "execution": {
     "iopub.execute_input": "2025-04-21T16:24:59.044291Z",
     "iopub.status.busy": "2025-04-21T16:24:59.044291Z",
     "iopub.status.idle": "2025-04-21T16:24:59.050310Z",
     "shell.execute_reply": "2025-04-21T16:24:59.050310Z",
     "shell.execute_reply.started": "2025-04-21T16:24:59.044291Z"
    }
   },
   "outputs": [],
   "source": [
    "# 성능 의견 주석으로 작성\n",
    "\n",
    "\n"
   ]
  },
  {
   "cell_type": "code",
   "execution_count": 18,
   "id": "a601c186-b8e2-4be3-9a40-dfe6558fd972",
   "metadata": {
    "execution": {
     "iopub.execute_input": "2025-04-21T16:24:59.051694Z",
     "iopub.status.busy": "2025-04-21T16:24:59.051694Z",
     "iopub.status.idle": "2025-04-21T16:24:59.058203Z",
     "shell.execute_reply": "2025-04-21T16:24:59.057698Z",
     "shell.execute_reply.started": "2025-04-21T16:24:59.051694Z"
    }
   },
   "outputs": [],
   "source": [
    "# Train & Test 검증지표 6종 확인\n",
    "\n",
    "\n"
   ]
  },
  {
   "cell_type": "code",
   "execution_count": 19,
   "id": "78fa8c76-9d46-40e2-ac4a-651b99d40ec1",
   "metadata": {
    "execution": {
     "iopub.execute_input": "2025-04-21T16:24:59.059209Z",
     "iopub.status.busy": "2025-04-21T16:24:59.058203Z",
     "iopub.status.idle": "2025-04-21T16:24:59.065658Z",
     "shell.execute_reply": "2025-04-21T16:24:59.065658Z",
     "shell.execute_reply.started": "2025-04-21T16:24:59.058203Z"
    }
   },
   "outputs": [],
   "source": [
    "# 성능 의견 주석으로 작성\n",
    "\n",
    "\n"
   ]
  },
  {
   "cell_type": "markdown",
   "id": "ebc789fd-812e-4b01-82af-49febe8c72bf",
   "metadata": {},
   "source": [
    "## 5-1) 향후 수업에서 배우게 될 `대표적 머신러닝 알고리즘`을 사용하여 `1) + 2) + 3) + 4)` 과정을 모두 실행 및 성능 비교"
   ]
  },
  {
   "cell_type": "code",
   "execution_count": 20,
   "id": "b0c5bf61-130a-4a04-a097-cae92fe5b564",
   "metadata": {
    "execution": {
     "iopub.execute_input": "2025-04-21T16:24:59.066664Z",
     "iopub.status.busy": "2025-04-21T16:24:59.066664Z",
     "iopub.status.idle": "2025-04-21T16:24:59.073172Z",
     "shell.execute_reply": "2025-04-21T16:24:59.073172Z",
     "shell.execute_reply.started": "2025-04-21T16:24:59.066664Z"
    }
   },
   "outputs": [],
   "source": [
    "# ChatGPT '무엇이든 물어보세요' 프롬프트로 Random Forest 학습 및 예측을 위한 최종 지시사항 주석으로 작성\n",
    "# 에러가 발생하거나 이슈가 생시면 ChatGPT를 통해 추가 해결 필요\n",
    "\n",
    "\n"
   ]
  },
  {
   "cell_type": "code",
   "execution_count": 21,
   "id": "9b17b13a-f041-4ff8-9901-0e161087e991",
   "metadata": {
    "execution": {
     "iopub.execute_input": "2025-04-21T16:24:59.074177Z",
     "iopub.status.busy": "2025-04-21T16:24:59.074177Z",
     "iopub.status.idle": "2025-04-21T16:24:59.080635Z",
     "shell.execute_reply": "2025-04-21T16:24:59.080635Z",
     "shell.execute_reply.started": "2025-04-21T16:24:59.074177Z"
    }
   },
   "outputs": [],
   "source": [
    "# 전처리 후\n",
    "# ChatGPT가 생성한 Random Forest 학습 및 예측 생성코드 활용하여 학습 및 예측\n",
    "\n",
    "\n"
   ]
  },
  {
   "cell_type": "code",
   "execution_count": 22,
   "id": "b2669e8d-a677-4f1c-b7cb-2e4c72ec5d10",
   "metadata": {
    "execution": {
     "iopub.execute_input": "2025-04-21T16:24:59.081640Z",
     "iopub.status.busy": "2025-04-21T16:24:59.081640Z",
     "iopub.status.idle": "2025-04-21T16:24:59.088062Z",
     "shell.execute_reply": "2025-04-21T16:24:59.088062Z",
     "shell.execute_reply.started": "2025-04-21T16:24:59.081640Z"
    }
   },
   "outputs": [],
   "source": [
    "# Train & Test 검증지표 6종 확인\n",
    "# 선형회귀분석 대비 성능이 어떤지 주석으로 작성\n",
    "\n",
    "\n"
   ]
  },
  {
   "cell_type": "markdown",
   "id": "02ff8a1c-4925-4731-aeb2-15019fb6c9af",
   "metadata": {},
   "source": [
    "## 5-2) 향후 수업에서 배우게 될 `대표적 머신러닝 알고리즘`을 사용하여 `1) + 2) + 3) + 4)` 과정을 모두 실행 및 성능 비교"
   ]
  },
  {
   "cell_type": "code",
   "execution_count": 23,
   "id": "ad4152ac-55d6-4923-a340-e997aba8bcf6",
   "metadata": {
    "execution": {
     "iopub.execute_input": "2025-04-21T16:24:59.089078Z",
     "iopub.status.busy": "2025-04-21T16:24:59.089078Z",
     "iopub.status.idle": "2025-04-21T16:24:59.101571Z",
     "shell.execute_reply": "2025-04-21T16:24:59.101571Z",
     "shell.execute_reply.started": "2025-04-21T16:24:59.089078Z"
    }
   },
   "outputs": [],
   "source": [
    "# ChatGPT '무엇이든 물어보세요' 프롬프트로 XGBoost 학습 및 예측을 위한 최종 지시사항 주석으로 작성\n",
    "# 에러가 발생하거나 이슈가 생시면 ChatGPT를 통해 추가 해결 필요\n",
    "\n",
    "\n"
   ]
  },
  {
   "cell_type": "code",
   "execution_count": 24,
   "id": "530edfd4-3199-4185-90d3-5c6eca51e27e",
   "metadata": {
    "execution": {
     "iopub.execute_input": "2025-04-21T16:24:59.102579Z",
     "iopub.status.busy": "2025-04-21T16:24:59.102579Z",
     "iopub.status.idle": "2025-04-21T16:24:59.108855Z",
     "shell.execute_reply": "2025-04-21T16:24:59.108855Z",
     "shell.execute_reply.started": "2025-04-21T16:24:59.102579Z"
    }
   },
   "outputs": [],
   "source": [
    "# 전처리 후\n",
    "# ChatGPT가 생성한 XGBoost 학습 및 예측 생성코드 활용하여 학습 및 예측\n",
    "\n",
    "\n"
   ]
  },
  {
   "cell_type": "code",
   "execution_count": 25,
   "id": "216ed933-9f38-4701-a9a5-d15b898403cb",
   "metadata": {
    "execution": {
     "iopub.execute_input": "2025-04-21T16:24:59.110862Z",
     "iopub.status.busy": "2025-04-21T16:24:59.109861Z",
     "iopub.status.idle": "2025-04-21T16:24:59.116808Z",
     "shell.execute_reply": "2025-04-21T16:24:59.116808Z",
     "shell.execute_reply.started": "2025-04-21T16:24:59.110862Z"
    }
   },
   "outputs": [],
   "source": [
    "# Train & Test 검증지표 6종 확인\n",
    "# 선형회귀분석 대비 성능이 어떤지 주석으로 작성\n",
    "# Random Forest 대비 성능이 어떤지 주석으로 작성\n",
    "\n",
    "\n"
   ]
  },
  {
   "cell_type": "markdown",
   "id": "bc3e43ab-0e9c-4b03-aeec-3d03f6a78cfd",
   "metadata": {},
   "source": [
    "## 6) 모델링 방향 정리"
   ]
  },
  {
   "cell_type": "code",
   "execution_count": 26,
   "id": "c7955878-18f9-4f29-a64b-a933bc6342c4",
   "metadata": {
    "execution": {
     "iopub.execute_input": "2025-04-21T16:24:59.117814Z",
     "iopub.status.busy": "2025-04-21T16:24:59.117814Z",
     "iopub.status.idle": "2025-04-21T16:24:59.124079Z",
     "shell.execute_reply": "2025-04-21T16:24:59.124079Z",
     "shell.execute_reply.started": "2025-04-21T16:24:59.117814Z"
    }
   },
   "outputs": [],
   "source": [
    "# Train 기준 3가지 알고리즘 중 어떤 알고리즘이 예측력이 높은지 주석으로 작성\n",
    "\n",
    "\n"
   ]
  },
  {
   "cell_type": "code",
   "execution_count": 27,
   "id": "43944b96-45e3-447a-96e5-655073d5886d",
   "metadata": {
    "execution": {
     "iopub.execute_input": "2025-04-21T16:24:59.125087Z",
     "iopub.status.busy": "2025-04-21T16:24:59.125087Z",
     "iopub.status.idle": "2025-04-21T16:24:59.132046Z",
     "shell.execute_reply": "2025-04-21T16:24:59.132046Z",
     "shell.execute_reply.started": "2025-04-21T16:24:59.125087Z"
    }
   },
   "outputs": [],
   "source": [
    "# Test 기준 3가지 알고리즘 중 어떤 알고리즘이 예측력이 높은지 주석으로 작성\n",
    "\n",
    "\n"
   ]
  },
  {
   "cell_type": "code",
   "execution_count": 28,
   "id": "a91ea5f5-cc2b-4fcc-ab09-15c6a41c53cd",
   "metadata": {
    "execution": {
     "iopub.execute_input": "2025-04-21T16:24:59.133050Z",
     "iopub.status.busy": "2025-04-21T16:24:59.133050Z",
     "iopub.status.idle": "2025-04-21T16:24:59.139903Z",
     "shell.execute_reply": "2025-04-21T16:24:59.139903Z",
     "shell.execute_reply.started": "2025-04-21T16:24:59.133050Z"
    }
   },
   "outputs": [],
   "source": [
    "# 실제 비즈니스에 활용하기 위해선 `Train & Test` 중 `어떤 데이터의 예측력이 더욱 중요한지 + 최종 활용 알고리즘` 주석으로 작성\n",
    "\n",
    "\n"
   ]
  },
  {
   "cell_type": "markdown",
   "id": "35a40121",
   "metadata": {},
   "source": [
    "# **Explanation:** 실제 예측력이 높은 과거 이유를 설명하고 미래 설명 근거 제시\n",
    "\n",
    "**1) `Train Explanation:`** 과거 설명력\n",
    "\n",
    "> (1) Linear Regresion 기준,\n",
    "> - 모델의 `summary 함수 결과`를 출력\n",
    ">   \n",
    "> - `5% 유의수준`에서 `종속변수에 영향을 미치는 변수의 이름`를 주석으로 작성\n",
    "\n",
    "> (2) Random Forest & XGBoost 중,\n",
    "> - Train 검증지표 성능이 높았던 알고리즘의 종속변수에 영향을 주는 `Feature Importance 상위 5개의 변수 이름`을 주석으로 작성\n",
    "\n",
    "> (3) `종속변수에 영향을 주는 변수들`을 결정\n",
    "> - 위 2가지 알고리즘으로 추론된 `영향을 주는 변수들의 교집합`으로 중요 `설명변수 결정` 및 주석으로 작성\n",
    "> - 교집합이 없을시 `Linear Regression 기준 변수들로 최종 중요 설명변수 결정` 및 주석으로 작성\n",
    "\n",
    "> (4) `과거`에는 설명변수가 종속변수에 어떻게 영향을 줬는지 `해석`\n",
    "> - 최종 선택된 설명변수들이 Linear Regression Summary를 기반으로 종속변수에 `어떻게 영향을 주는지 주석으로 설명`\n",
    "> - ex. 설명변수가 1증가시 종속변수가 어떻게 변했음\n",
    "\n",
    "**2) `Test Explanation:`** 미래 설명력\n",
    "\n",
    "> (1) Random Forest & XGBoost 중,\n",
    "> - Test 검증지표 성능이 높았던 알고리즘의 종속변수에 영향을 주는 `Feature Importance 상위 5개의 변수 이름`을 주석으로 작성\n",
    "\n",
    "> (2) `미래`에는 설명변수가 종속변수에 어떻게 영향을 줄수 있을지 `해석`\n",
    "> - 상위 5개 설명변수들이 종속변수에 `어떻게 영향을 주게 될지 Train과 유사하게 또는 기획자 관점에서` 의견을 주석으로 작성\n",
    "> - ex. 과거에도 특정 변수가 종속변수에 영행을 줬듯이 미래에도 블라블라~~, 과거와 달리 미래에는 이러한 변수들이 종속변수에 어떻게 영향을 줄수 있으며 그 근거는 블라블라~\n",
    "\n",
    "> (3) 위 내용을 근거로 `미래 비즈니스를 기획 또는 전략을 어떻게 구성하면 좋을지 의견`을 주석으로 자유 작성"
   ]
  },
  {
   "cell_type": "markdown",
   "id": "6837c303",
   "metadata": {},
   "source": [
    "## 1) **`Train Explanation:`** 과거 설명력"
   ]
  },
  {
   "cell_type": "code",
   "execution_count": 29,
   "id": "5993ad3c",
   "metadata": {
    "execution": {
     "iopub.execute_input": "2025-04-21T16:24:59.141908Z",
     "iopub.status.busy": "2025-04-21T16:24:59.141908Z",
     "iopub.status.idle": "2025-04-21T16:24:59.149415Z",
     "shell.execute_reply": "2025-04-21T16:24:59.148908Z",
     "shell.execute_reply.started": "2025-04-21T16:24:59.141908Z"
    }
   },
   "outputs": [],
   "source": [
    "# Linear Regression Summary 결과 출력\n",
    "\n",
    "\n"
   ]
  },
  {
   "cell_type": "code",
   "execution_count": 30,
   "id": "d436db47-c757-4586-a5dd-240328490eab",
   "metadata": {
    "execution": {
     "iopub.execute_input": "2025-04-21T16:24:59.152420Z",
     "iopub.status.busy": "2025-04-21T16:24:59.152420Z",
     "iopub.status.idle": "2025-04-21T16:24:59.156420Z",
     "shell.execute_reply": "2025-04-21T16:24:59.156420Z",
     "shell.execute_reply.started": "2025-04-21T16:24:59.152420Z"
    }
   },
   "outputs": [],
   "source": [
    "# 5% 유의수준에서 종속변수에 영향을 미치는 변수의 이름를 주석으로 작성\n",
    "\n",
    "\n"
   ]
  },
  {
   "cell_type": "code",
   "execution_count": 31,
   "id": "62f7cd83-77e2-4353-824a-8b425f3a4247",
   "metadata": {
    "execution": {
     "iopub.execute_input": "2025-04-21T16:24:59.157565Z",
     "iopub.status.busy": "2025-04-21T16:24:59.157565Z",
     "iopub.status.idle": "2025-04-21T16:24:59.164567Z",
     "shell.execute_reply": "2025-04-21T16:24:59.164567Z",
     "shell.execute_reply.started": "2025-04-21T16:24:59.157565Z"
    }
   },
   "outputs": [],
   "source": [
    "# Random Forest & XGBoost 중,\n",
    "# Train 검증지표 성능이 높았던 알고리즘의 종속변수에 영향을 주는 Feature Importance 상위 5개의 변수 이름을 주석으로 작성\n",
    "\n",
    "\n"
   ]
  },
  {
   "cell_type": "code",
   "execution_count": 32,
   "id": "35b672c0-785c-413e-ab6d-1af2d7e467d3",
   "metadata": {
    "execution": {
     "iopub.execute_input": "2025-04-21T16:24:59.165606Z",
     "iopub.status.busy": "2025-04-21T16:24:59.165606Z",
     "iopub.status.idle": "2025-04-21T16:24:59.173084Z",
     "shell.execute_reply": "2025-04-21T16:24:59.172078Z",
     "shell.execute_reply.started": "2025-04-21T16:24:59.165606Z"
    }
   },
   "outputs": [],
   "source": [
    "# 위 2가지 알고리즘으로 추론된 영향을 주는 변수들의 교집합으로 중요 설명변수 결정 및 주석으로 작성\n",
    "# 교집합이 없을시 Linear Regression 기준 변수들로 최종 중요 설명변수 결정 및 주석으로 작성\n",
    "\n",
    "\n"
   ]
  },
  {
   "cell_type": "code",
   "execution_count": 33,
   "id": "ab8176e9-3b89-4d24-9525-956b31a62fa7",
   "metadata": {
    "execution": {
     "iopub.execute_input": "2025-04-21T16:24:59.174085Z",
     "iopub.status.busy": "2025-04-21T16:24:59.174085Z",
     "iopub.status.idle": "2025-04-21T16:24:59.179966Z",
     "shell.execute_reply": "2025-04-21T16:24:59.179966Z",
     "shell.execute_reply.started": "2025-04-21T16:24:59.174085Z"
    }
   },
   "outputs": [],
   "source": [
    "# 과거에는 설명변수가 종속변수에 어떻게 영향을 줬는지 해석\n",
    "# 최종 선택된 설명변수들이 Linear Regression Summary를 기반으로 종속변수에 어떻게 영향을 주는지 주석으로 설명\n",
    "\n",
    "\n"
   ]
  },
  {
   "cell_type": "markdown",
   "id": "c4ab3d5c",
   "metadata": {},
   "source": [
    "## 2) **`Test Explanation:`** 미래 설명력"
   ]
  },
  {
   "cell_type": "code",
   "execution_count": 34,
   "id": "3e6afcd9",
   "metadata": {
    "execution": {
     "iopub.execute_input": "2025-04-21T16:24:59.180973Z",
     "iopub.status.busy": "2025-04-21T16:24:59.180973Z",
     "iopub.status.idle": "2025-04-21T16:24:59.187901Z",
     "shell.execute_reply": "2025-04-21T16:24:59.187901Z",
     "shell.execute_reply.started": "2025-04-21T16:24:59.180973Z"
    }
   },
   "outputs": [],
   "source": [
    "# Random Forest & XGBoost 중,\n",
    "# Test 검증지표 성능이 높았던 알고리즘의 종속변수에 영향을 주는 Feature Importance 상위 5개의 변수 이름을 주석으로 작성\n",
    "\n",
    "\n"
   ]
  },
  {
   "cell_type": "code",
   "execution_count": 35,
   "id": "062396f6",
   "metadata": {
    "execution": {
     "iopub.execute_input": "2025-04-21T16:24:59.188907Z",
     "iopub.status.busy": "2025-04-21T16:24:59.188907Z",
     "iopub.status.idle": "2025-04-21T16:24:59.195907Z",
     "shell.execute_reply": "2025-04-21T16:24:59.195907Z",
     "shell.execute_reply.started": "2025-04-21T16:24:59.188907Z"
    }
   },
   "outputs": [],
   "source": [
    "# 미래에는 설명변수가 종속변수에 어떻게 영향을 줄수 있을지 해석\n",
    "# 상위 5개 설명변수들이 종속변수에 어떻게 영향을 주게 될지 Train과 유사하게 또는 기획자 관점에서 의견을 주석으로 작성\n",
    "\n",
    "\n"
   ]
  },
  {
   "cell_type": "code",
   "execution_count": 36,
   "id": "adddc9d8-4c54-4203-8a09-ca62c91443ef",
   "metadata": {
    "execution": {
     "iopub.execute_input": "2025-04-21T16:24:59.197197Z",
     "iopub.status.busy": "2025-04-21T16:24:59.197197Z",
     "iopub.status.idle": "2025-04-21T16:24:59.204197Z",
     "shell.execute_reply": "2025-04-21T16:24:59.204197Z",
     "shell.execute_reply.started": "2025-04-21T16:24:59.197197Z"
    }
   },
   "outputs": [],
   "source": [
    "# 위 내용을 근거로 미래 비즈니스를 기획 또는 전략을 어떻게 구성하면 좋을지 의견을 주석으로 자유 작성\n",
    "\n",
    "\n"
   ]
  },
  {
   "cell_type": "markdown",
   "id": "8a5703a6",
   "metadata": {},
   "source": [
    "# **Error Analysis:** 분석 성능/종료 판단하기\n",
    "\n",
    "**1)** 3가지 알고리즘 중 `Test의 검증지표 성능이 가장 높은 알고리즘의 Test 잔차를 시각화`하여 `데이터에 남아있는 패턴이 어떤지 주석으로 설명`하고\n",
    "\n",
    "**2)** 향후 잔차의 패턴을 줄이고 모델링의 성능을 높이기 위해 `어떤 데이터 또는 전처리 추가/변경/삭제 등을` 고려해 볼 수 있는지 주석으로 작성"
   ]
  },
  {
   "cell_type": "code",
   "execution_count": 37,
   "id": "e0932f88",
   "metadata": {
    "execution": {
     "iopub.execute_input": "2025-04-21T16:24:59.205275Z",
     "iopub.status.busy": "2025-04-21T16:24:59.205275Z",
     "iopub.status.idle": "2025-04-21T16:24:59.212687Z",
     "shell.execute_reply": "2025-04-21T16:24:59.212687Z",
     "shell.execute_reply.started": "2025-04-21T16:24:59.205275Z"
    }
   },
   "outputs": [],
   "source": [
    "# 3가지 알고리즘 중 `Test의 검증지표 성능이 가장 높은 알고리즘의 Test 잔차를 시각화`\n",
    "\n",
    "\n"
   ]
  },
  {
   "cell_type": "code",
   "execution_count": 38,
   "id": "20b0883f-b847-43d3-a059-abfef2050d07",
   "metadata": {
    "execution": {
     "iopub.execute_input": "2025-04-21T16:24:59.213694Z",
     "iopub.status.busy": "2025-04-21T16:24:59.213694Z",
     "iopub.status.idle": "2025-04-21T16:24:59.220786Z",
     "shell.execute_reply": "2025-04-21T16:24:59.220786Z",
     "shell.execute_reply.started": "2025-04-21T16:24:59.213694Z"
    }
   },
   "outputs": [],
   "source": [
    "# 데이터에 남아있는 패턴이 어떤지 주석으로 설명\n",
    "\n",
    "\n"
   ]
  },
  {
   "cell_type": "code",
   "execution_count": 39,
   "id": "1aa1f82b",
   "metadata": {
    "execution": {
     "iopub.execute_input": "2025-04-21T16:24:59.221791Z",
     "iopub.status.busy": "2025-04-21T16:24:59.221791Z",
     "iopub.status.idle": "2025-04-21T16:24:59.229299Z",
     "shell.execute_reply": "2025-04-21T16:24:59.228793Z",
     "shell.execute_reply.started": "2025-04-21T16:24:59.221791Z"
    }
   },
   "outputs": [],
   "source": [
    "# 향후 잔차의 패턴을 줄이고 모델링의 성능을 높이기 위해 `어떤 데이터 또는 전처리 추가/변경/삭제 등을 ` 고려해 볼 수 있는지 주석으로 작성\n",
    "\n",
    "\n"
   ]
  },
  {
   "cell_type": "code",
   "execution_count": 40,
   "id": "0452fd47",
   "metadata": {
    "execution": {
     "iopub.execute_input": "2025-04-21T16:24:59.230307Z",
     "iopub.status.busy": "2025-04-21T16:24:59.230307Z",
     "iopub.status.idle": "2025-04-21T16:24:59.239306Z",
     "shell.execute_reply": "2025-04-21T16:24:59.239306Z",
     "shell.execute_reply.started": "2025-04-21T16:24:59.230307Z"
    }
   },
   "outputs": [
    {
     "name": "stdout",
     "output_type": "stream",
     "text": [
      "Intel64 Family 6 Model 186 Stepping 2, GenuineIntel\n",
      "32(GB)\n",
      "Windows\n",
      "10.0.26100\n",
      "C:\\DataScience\\Lecture\\[DataScience]\n",
      "2024-12-12 00:34:16.155373\n",
      "2025-04-22 01:24:44.379935\n",
      "2025-04-22 01:24:44.379935\n",
      "2025-04-22 01:24:59.237305\n",
      "다음 출력을 파일명으로 설정하고 제출하시오: 김경원_20211011_인공지능활용디지털경제플랫폼연구_DA_SupervisedRegression\n"
     ]
    }
   ],
   "source": [
    "### 종료 및 본인정보 반영\n",
    "# 반드시 이 cell을 실행하시오\n",
    "# 실행하지 않을 시 직접 하지 않은 것으로 간주\n",
    "# 마지막 줄 출력으로 파일명을 설정하고 제출 필수\n",
    "import platform, psutil, os, datetime\n",
    "print(platform.processor())\n",
    "print(str(round(psutil.virtual_memory().total / (1024.0 **3)))+\"(GB)\")\n",
    "print(platform.system())\n",
    "print(platform.version())\n",
    "print(os.getcwd())\n",
    "print(datetime.datetime.fromtimestamp(os.path.getctime(os.getcwd())))\n",
    "print(datetime.datetime.fromtimestamp(os.path.getmtime(os.getcwd())))\n",
    "print(datetime.datetime.fromtimestamp(os.path.getatime(os.getcwd())))\n",
    "print(datetime.datetime.now())\n",
    "title = 'DA_SupervisedRegression'    # 고정값\n",
    "name = '김경원'    # 본인 이름을 작성\n",
    "studentid = '20211011'    # 본인 학번을 작성\n",
    "# 아래 강좌 명 중 본인이 수강하는 강과명 작성\n",
    "# 비즈니스데이터사이언스이해, E정보시스템, 디지털비즈니스애널리틱스, E데이터베이스, 인공지능기반의사결정, 빅데이터 등\n",
    "# 비즈니스혁신을위한데이터사이언스응용, 인공지능활용디지털경제플랫폼연구 등\n",
    "course = '인공지능활용디지털경제플랫폼연구'    \n",
    "print('다음 출력을 파일명으로 설정하고 제출하시오:', name + '_' + studentid + '_' + course + '_' + title)"
   ]
  }
 ],
 "metadata": {
  "hide_input": false,
  "kernelspec": {
   "display_name": "Python 3 (ipykernel)",
   "language": "python",
   "name": "python3"
  },
  "language_info": {
   "codemirror_mode": {
    "name": "ipython",
    "version": 3
   },
   "file_extension": ".py",
   "mimetype": "text/x-python",
   "name": "python",
   "nbconvert_exporter": "python",
   "pygments_lexer": "ipython3",
   "version": "3.12.3"
  },
  "toc": {
   "base_numbering": 1,
   "nav_menu": {},
   "number_sections": true,
   "sideBar": true,
   "skip_h1_title": false,
   "title_cell": "Table of Contents",
   "title_sidebar": "Contents",
   "toc_cell": false,
   "toc_position": {
    "height": "calc(100% - 180px)",
    "left": "10px",
    "top": "150px",
    "width": "307.188px"
   },
   "toc_section_display": true,
   "toc_window_display": true
  },
  "varInspector": {
   "cols": {
    "lenName": 16,
    "lenType": 16,
    "lenVar": 40
   },
   "kernels_config": {
    "python": {
     "delete_cmd_postfix": "",
     "delete_cmd_prefix": "del ",
     "library": "var_list.py",
     "varRefreshCmd": "print(var_dic_list())"
    },
    "r": {
     "delete_cmd_postfix": ") ",
     "delete_cmd_prefix": "rm(",
     "library": "var_list.r",
     "varRefreshCmd": "cat(var_dic_list()) "
    }
   },
   "types_to_exclude": [
    "module",
    "function",
    "builtin_function_or_method",
    "instance",
    "_Feature"
   ],
   "window_display": false
  }
 },
 "nbformat": 4,
 "nbformat_minor": 5
}
