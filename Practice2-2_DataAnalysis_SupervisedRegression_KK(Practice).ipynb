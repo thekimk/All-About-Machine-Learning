{
 "cells": [
  {
   "cell_type": "code",
   "execution_count": 1,
   "id": "34b0abba",
   "metadata": {
    "execution": {
     "iopub.execute_input": "2025-05-21T17:18:18.880884Z",
     "iopub.status.busy": "2025-05-21T17:18:18.880884Z",
     "iopub.status.idle": "2025-05-21T17:18:18.888280Z",
     "shell.execute_reply": "2025-05-21T17:18:18.888280Z",
     "shell.execute_reply.started": "2025-05-21T17:18:18.880884Z"
    }
   },
   "outputs": [
    {
     "name": "stdout",
     "output_type": "stream",
     "text": [
      "Intel64 Family 6 Model 186 Stepping 2, GenuineIntel\n",
      "32(GB)\n",
      "Windows\n",
      "10.0.26100\n",
      "C:\\DataScience\\Lecture\\[DataScience]\n",
      "2024-12-12 00:34:16.155373\n",
      "2025-05-22 02:18:12.457177\n",
      "2025-05-22 02:18:12.458176\n",
      "2025-05-22 02:18:18.885885\n",
      "다음 출력을 파일명으로 설정하고 제출하시오: 김경원_20211011_인공지능활용디지털경제플랫폼연구_DA_SupervisedRegression\n"
     ]
    }
   ],
   "source": [
    "### 시작 및 본인정보 반영\n",
    "# 반드시 이 cell을 실행하시오\n",
    "# 실행하지 않을 시 직접 하지 않은 것으로 간주\n",
    "# 마지막 줄 출력으로 파일명을 설정하고 제출 필수\n",
    "import platform, psutil, os, datetime\n",
    "print(platform.processor())\n",
    "print(str(round(psutil.virtual_memory().total / (1024.0 **3)))+\"(GB)\")\n",
    "print(platform.system())\n",
    "print(platform.version())\n",
    "print(os.getcwd())\n",
    "print(datetime.datetime.fromtimestamp(os.path.getctime(os.getcwd())))\n",
    "print(datetime.datetime.fromtimestamp(os.path.getmtime(os.getcwd())))\n",
    "print(datetime.datetime.fromtimestamp(os.path.getatime(os.getcwd())))\n",
    "print(datetime.datetime.now())\n",
    "title = 'DA_SupervisedRegression'    # 고정값\n",
    "name = '김경원'    # 본인 이름을 작성\n",
    "studentid = '20211011'    # 본인 학번을 작성\n",
    "# 아래 강좌 명 중 본인이 수강하는 강과명 작성\n",
    "# 비즈니스데이터사이언스이해, E정보시스템, 디지털비즈니스애널리틱스, E데이터베이스, 인공지능기반의사결정, 빅데이터 등\n",
    "# 비즈니스혁신을위한데이터사이언스응용, 인공지능활용디지털경제플랫폼연구 등\n",
    "course = '인공지능활용디지털경제플랫폼연구'    \n",
    "print('다음 출력을 파일명으로 설정하고 제출하시오:', name + '_' + studentid + '_' + course + '_' + title)"
   ]
  },
  {
   "cell_type": "markdown",
   "id": "c11d78dd",
   "metadata": {},
   "source": [
    "# **Data Loading:** 분석에 사용할 데이터 불러오기\n",
    "\n",
    "- 아래 표의 `비즈니스 문제 대상 데이터`의 비즈니스 목적을 보고 `관심있는 데이터`를 선택하여 분석에 사용\n",
    "- 모든 데이터는 [Kaggle Competition](https://www.kaggle.com/)에서 추출되었으며, `현 Jupyter Notebook`과 동일위치 `DataTest 폴더`에 있음\n",
    "- 데이터에 대한 설명은 아래 표의 `설명 참고링크`를 통해 확인할 수 있지만, 실제 사용 데이터는 링크가 아닌 `반드시 DataTest에 저장된 데이터` 사용!\n",
    "> 원본은 링크의 데이터이지만 과제에서 사용되는 데이터는 `원본이 일부 변경되어 저장`되었기 때문\n",
    "- 분석은 `개인PC나 Google Colab` 중 편한 곳에서 진행하면 되고, 분석 결과들은 향후 `경진대회나 공모전 및 데이터사이언스 분야 면접이나 시험`에 대비 가능\n",
    "\n",
    "| **분야** | **비즈니스 목적** | **파일명** | **종속변수 Y** | **설명 참고링크** |\n",
    "|:---:|:---|:---|:---|:---|\n",
    "| **Sports** | 레슬링 토너먼트의 선수 순위를 정확하게   예측하여 투기 승률을 향상 | `Regression_WrestlingTournamentRank.csv` | `rank` | https://www.kaggle.com/datasets/julienjta/wrestling-world-tournament |\n",
    "| **Business** | 중고차 가격을 정확하게 예측하여   저평가된 중고차의 특징을 예측하여 구매전략 지원 | `Regression_UsedCarPrice.csv` | `price` | https://www.kaggle.com/datasets/vijayaadithyanvg/car-price-predictionused-cars |\n",
    "| **Education** | 학생들의 환경에 따른   중등학업성취도(GradeScore)를 정확하게 예측하여 교육환경 특징 파악 및 교육방향 지원 | `Regression_StudentPerformance.csv` | `GradeScore` | https://www.kaggle.com/datasets/ishandutta/student-performance-data-set |\n",
    "| **Culture** | 인기음악을 정확하게 예측하여 향후 어떤   특징의 음악이 인기음악이 될지 예측하여 기획과 전략 지원 | `Regression_SongPopularity.csv` | `song_popularity` | https://www.kaggle.com/datasets/yasserh/song-popularity-dataset |\n",
    "| **Human** | 기업 임직원들의 직업 만족도를 정확하게   예측하여 만족도를 높이기 위한 특성으로 인사전략 지원 | `Regression_JobSatisfaction.csv` | `satisfaction_level` | https://www.kaggle.com/datasets/mfaisalqureshi/hr-analytics-and-job-prediction |\n",
    "| **Finance** | 보험료를 정확하게 예측하여 보험료가   낮더라도 사고 위험이 낮은 고객의 특징을 예측 | `Regression_InsurancePremium.csv` | `charges` | https://www.kaggle.com/datasets/simranjain17/insurance |\n"
   ]
  },
  {
   "cell_type": "code",
   "execution_count": null,
   "id": "7b713a06",
   "metadata": {},
   "outputs": [],
   "source": []
  },
  {
   "cell_type": "code",
   "execution_count": null,
   "id": "a1ee9733",
   "metadata": {},
   "outputs": [],
   "source": []
  },
  {
   "cell_type": "code",
   "execution_count": null,
   "id": "0807b4e0",
   "metadata": {},
   "outputs": [],
   "source": []
  },
  {
   "cell_type": "markdown",
   "id": "a223fe5d",
   "metadata": {},
   "source": [
    "# **Import Library:** 분석에 사용할 모듈 설치\n",
    "\n",
    "- 강의에서 배운 내용이든 아니든 `자유 설치 및 사용`"
   ]
  },
  {
   "cell_type": "code",
   "execution_count": null,
   "id": "b86500e6",
   "metadata": {},
   "outputs": [],
   "source": []
  },
  {
   "cell_type": "code",
   "execution_count": null,
   "id": "699c2d1d",
   "metadata": {},
   "outputs": [],
   "source": []
  },
  {
   "cell_type": "code",
   "execution_count": null,
   "id": "035f3cec",
   "metadata": {},
   "outputs": [],
   "source": []
  },
  {
   "cell_type": "markdown",
   "id": "23b705fe",
   "metadata": {},
   "source": [
    "# **Preprocessing:** 데이터 정리 및 패턴 추출하기\n",
    "\n",
    "- 선택한 `데이터 및 비즈니스 목적` 달성을 위한 `알고리즘 기반 데이터분석`을 하기 위해 필요한 전처리 작업 `자유 진행`하고 `필요성 이유를 주석으로 작성`\n",
    "- `전처리 순서는 변경가능`하지만 필요한 처리과정을 반드시 실행해야하며 `필요성 이유 미작성시 안한 것으로 간주`\n",
    "\n",
    "> (1) **[데이터 결합]** 데이터를 `행 또는 열로 확장`\n",
    "> - 필요여부를 판단하여 주석으로 작성하되, 제공데이터 이외의 데이터 결합시 가산점 50!\n",
    "> \n",
    "> (2) **[결측값 처리]** `결측값 존재여부 확인 및 처리`\n",
    "> - 필요여부를 판단하여 주석으로 작성하되, 결측값의 정의와 처리방식을 주석으로 설명\n",
    ">\n",
    "> (3) **[이상치 처리]** `이상치 존재여부 확인 및 처리`\n",
    "> - 필요여부를 판단하여 주석으로 작성하되, 이상치의 정의와 처리방식을 주석으로 설명\n",
    ">\n",
    "> (4) **[자료형 변환]** `비숫자형(object) 데이터`의 숫자화 처리\n",
    "> - 필요여부를 판단하여 주석으로 작성하되, 비숫자형의 숫자화 전후를 모두 출력하고 방식을 주석으로 설명\n",
    "> \n",
    "> (5) **[데이터 분리]** `Train & Test`로만 분리하며, 각각의 비율은 `80% & 20%`로 진행\n",
    "> - 필요여부를 판단하여 주석으로 작성하되, 필요시 `train_test_split` 함수를 사용하여 진행\n",
    ">\n",
    "> (6) **[데이터 변환]** `필요한 해석과 변수들의 특성`에 맞게 범주형/연속형 변환 처리\n",
    "> - 필요여부를 판단하여 주석으로 작성하되, 필요한 변수가 무엇인지 주석으로 작성하여 변환 전후를 모두 출력\n",
    ">\n",
    "> (7) **[파생변수 및 나머지 전처리]** `Y 예측에 도움이 될 것으로 예상되는 전처리`\n",
    "> - 필요여부를 판단하여 주석으로 작성하되, 자유롭고 창의적인 파생변수를 생성 + 알고리즘 학습 전 나머지 필요한 전처리 진행\n",
    ">\n",
    "> (8) **[스케일 조정]** 선호하는 `스케일링도 반드시 실행`하되 `종류는 자유 선택`\n",
    "> - 필요여부를 판단하여 주석으로 작성하되, 사용한 scaler를 선정한 이유를 주석으로 설명\n",
    ">\n",
    "> (9) **[전처리 함수화1]** 위 모든 전처리 과정을 정리 후 함수로 작성 및 실행\n",
    ">\n",
    "> ```python\n",
    "> - 함수이름: preprocessing_ME\n",
    "> - 함수입력: df\n",
    "> - 함수출력: X_train, X_test, Y_train, Y_test, df_prep\n",
    "> - 출력형태: X는 모두 array, Y는 모두 dataframe, df_prep는 dataframe\n",
    "> - 결과확인: X_train.head(), X_test.head(), Y_train.head(), Y_test.head(), df_prep.describe().T\n",
    "> ```\n",
    "\n",
    "> (10) **[전처리 함수화2]** ChatGPT에게 지시하여 위 함수와 형태만 동일한 입출력에 다른 전처리 결과 생성\n",
    "> - 본 단계의 목적은 `preprocessing_ME와 다른 새로운 전처리 함수를 적용`하여 다른 전처리 결과로 성능을 비교하는 것\n",
    "> - ChatGPT의 지시사항을, preprocessing_ME와 동일하게 작성해줘가 아닌 `반드시 각 전처리 단계 각각에 대한 8개의 필요사항을 지시사항으로 반영할것!`\n",
    ">\n",
    "> ```python\n",
    "> - 함수이름: preprocessing_ChatGPT\n",
    "> - 함수입력: 위에서 작성한 함수와 동일\n",
    "> - 함수출력: 위에서 작성한 함수와 동일\n",
    "> - 출력형태: 위에서 작성한 함수와 동일\n",
    "> - 결과확인: 위에서 작성한 함수와 동일\n",
    "> - ChatGPT모델: GPT-4o 추천하나 아무거나 무관\n",
    "> ```"
   ]
  },
  {
   "cell_type": "markdown",
   "id": "d216b81c",
   "metadata": {},
   "source": [
    "## (1) **[데이터 결합]** 데이터를 `행 또는 열로 확장`\n",
    "- 필요여부를 판단하여 주석으로 작성하되, 제공데이터 이외의 데이터 결합시 가산점 50!"
   ]
  },
  {
   "cell_type": "code",
   "execution_count": null,
   "id": "cf02e913",
   "metadata": {},
   "outputs": [],
   "source": []
  },
  {
   "cell_type": "code",
   "execution_count": null,
   "id": "5d5e82a9",
   "metadata": {},
   "outputs": [],
   "source": []
  },
  {
   "cell_type": "markdown",
   "id": "5874c880",
   "metadata": {},
   "source": [
    "## (2) **[결측값 처리]** `결측값 존재여부 확인 및 처리`\n",
    "- 필요여부를 판단하여 주석으로 작성하되, 결측값의 정의와 처리방식을 주석으로 설명"
   ]
  },
  {
   "cell_type": "code",
   "execution_count": null,
   "id": "24ae9632",
   "metadata": {},
   "outputs": [],
   "source": []
  },
  {
   "cell_type": "code",
   "execution_count": null,
   "id": "5d8a677f",
   "metadata": {},
   "outputs": [],
   "source": []
  },
  {
   "cell_type": "markdown",
   "id": "a9b64588",
   "metadata": {},
   "source": [
    "## (3) **[이상치 처리]** `이상치 존재여부 확인 및 처리`\n",
    "- 필요여부를 판단하여 주석으로 작성하되, 이상치의 정의와 처리방식을 주석으로 설명"
   ]
  },
  {
   "cell_type": "code",
   "execution_count": null,
   "id": "85e0d6d1",
   "metadata": {},
   "outputs": [],
   "source": []
  },
  {
   "cell_type": "code",
   "execution_count": null,
   "id": "9e67227c-304f-483b-b73a-94a85f740192",
   "metadata": {},
   "outputs": [],
   "source": []
  },
  {
   "cell_type": "markdown",
   "id": "859e4397-9282-4b58-8106-5065b4560d43",
   "metadata": {},
   "source": [
    "## (4) **[자료형 변환]** `비숫자형(object) 데이터`의 숫자화 처리\n",
    "- 필요여부를 판단하여 주석으로 작성하되, 비숫자형의 숫자화 전후를 모두 출력하고 방식을 주석으로 설명"
   ]
  },
  {
   "cell_type": "code",
   "execution_count": null,
   "id": "513380e0-297b-4ded-8e04-3cafbec78ac3",
   "metadata": {},
   "outputs": [],
   "source": []
  },
  {
   "cell_type": "code",
   "execution_count": null,
   "id": "6d3a4373-1c04-43bd-b7f8-22b08e209deb",
   "metadata": {},
   "outputs": [],
   "source": []
  },
  {
   "cell_type": "markdown",
   "id": "d6d23132-222e-4ebe-9c70-2fde0bc59767",
   "metadata": {},
   "source": [
    "## (5) **[데이터 분리]** `Train & Test`로만 분리하며, 각각의 비율은 `80% & 20%`로 진행\n",
    "- 필요여부를 판단하여 주석으로 작성하되, 필요시 `train_test_split` 함수를 사용하여 진행"
   ]
  },
  {
   "cell_type": "code",
   "execution_count": null,
   "id": "10068ecb",
   "metadata": {},
   "outputs": [],
   "source": []
  },
  {
   "cell_type": "code",
   "execution_count": null,
   "id": "38dccc11-22c4-4500-be9a-3d22659a7df8",
   "metadata": {},
   "outputs": [],
   "source": []
  },
  {
   "cell_type": "markdown",
   "id": "b01647f2-0cb7-4e60-9953-e695d1a37d2b",
   "metadata": {},
   "source": [
    "## (6) **[데이터 변환]** `필요한 해석과 변수들의 특성`에 맞게 변주형/연속형 변환 처리\n",
    "- 필요여부를 판단하여 주석으로 작성하되, 필요한 변수가 무엇인지 주석으로 작성하여 변환 전후를 모두 출력"
   ]
  },
  {
   "cell_type": "code",
   "execution_count": null,
   "id": "9de3dfe3-6a8f-4671-85e9-18cd3332ab35",
   "metadata": {},
   "outputs": [],
   "source": []
  },
  {
   "cell_type": "code",
   "execution_count": null,
   "id": "2a970910-a880-48de-b2fe-ada1047a922d",
   "metadata": {},
   "outputs": [],
   "source": []
  },
  {
   "cell_type": "markdown",
   "id": "3c12b53a-f3f6-4b17-aff0-ad46898cc811",
   "metadata": {},
   "source": [
    "## (7) **[파생변수 및 나머지 전처리]** `Y 예측에 도움이 될 것으로 예상되는 전처리`\n",
    "- 필요여부를 판단하여 주석으로 작성하되, 자유롭고 창의적인 파생변수를 생성 + 알고리즘 학습 전 나머지 필요한 전처리 진행"
   ]
  },
  {
   "cell_type": "code",
   "execution_count": null,
   "id": "b2329f8a-4d5e-42de-891a-5f12c20336ad",
   "metadata": {},
   "outputs": [],
   "source": []
  },
  {
   "cell_type": "code",
   "execution_count": null,
   "id": "2185ead1-b9cb-49f5-bdfa-6c5e451d50d4",
   "metadata": {},
   "outputs": [],
   "source": []
  },
  {
   "cell_type": "markdown",
   "id": "ed40ab6d",
   "metadata": {},
   "source": [
    "## (8) **[스케일 조정]** 선호하는 `스케일링도 반드시 실행`하되 `종류는 자유 선택`\n",
    "- 필요여부를 판단하여 주석으로 작성하되, 사용한 scaler를 선정한 이유를 주석으로 설명"
   ]
  },
  {
   "cell_type": "code",
   "execution_count": null,
   "id": "d3806971",
   "metadata": {},
   "outputs": [],
   "source": []
  },
  {
   "cell_type": "code",
   "execution_count": null,
   "id": "39a0a53a",
   "metadata": {},
   "outputs": [],
   "source": []
  },
  {
   "cell_type": "markdown",
   "id": "c6582391-7981-48a8-bb25-644493d5c066",
   "metadata": {},
   "source": [
    "## (9) **[전처리 함수화1]** 위 모든 전처리 과정을 함수로 작성 및 실행\n",
    "\n",
    "```python\n",
    "- 함수이름: preprocessing_ME\n",
    "- 함수입력: df\n",
    "- 함수출력: X_train, X_test, Y_train, Y_test, df_prep\n",
    "- 출력형태: X는 모두 array, Y는 모두 dataframe, df_prep는 dataframe\n",
    "- 결과확인: X_train.head(), X_test.head(), Y_train.head(), Y_test.head(), df_prep.describe().T\n",
    "```"
   ]
  },
  {
   "cell_type": "code",
   "execution_count": 2,
   "id": "436e006b-394a-45ca-9e07-18101bf2760c",
   "metadata": {
    "execution": {
     "iopub.execute_input": "2025-05-21T17:18:18.890287Z",
     "iopub.status.busy": "2025-05-21T17:18:18.890287Z",
     "iopub.status.idle": "2025-05-21T17:18:18.896435Z",
     "shell.execute_reply": "2025-05-21T17:18:18.896435Z",
     "shell.execute_reply.started": "2025-05-21T17:18:18.890287Z"
    }
   },
   "outputs": [],
   "source": [
    "# preprocessing_ME 함수 작성\n",
    "\n",
    "\n"
   ]
  },
  {
   "cell_type": "code",
   "execution_count": 3,
   "id": "1264ead1-1dad-403b-b6a3-70e4d5e191d1",
   "metadata": {
    "execution": {
     "iopub.execute_input": "2025-05-21T17:18:18.897450Z",
     "iopub.status.busy": "2025-05-21T17:18:18.897450Z",
     "iopub.status.idle": "2025-05-21T17:18:18.905450Z",
     "shell.execute_reply": "2025-05-21T17:18:18.905450Z",
     "shell.execute_reply.started": "2025-05-21T17:18:18.897450Z"
    }
   },
   "outputs": [],
   "source": [
    "# 데이터 로딩 후 preprocessing_ME 함수 사용해서 결과를 출력하고 확인\n",
    "\n",
    "\n"
   ]
  },
  {
   "cell_type": "markdown",
   "id": "43f0ae06-87c6-4e73-b3bc-2ea0343ad194",
   "metadata": {},
   "source": [
    "## (10) **[전처리 함수화2]** ChatGPT에게 지시하여 위 함수와 동일한 입출력과 전처리 결과 생성\n",
    "- ChatGPT의 지시사항을, preprocessing_ME와 동일하게 작성해줘가 아닌 `반드시 각 전처리 단계 각각에 대한 8개의 필요사항을 지시사항으로 반영할것!`\n",
    "- 본 단계의 목적은 `preprocessing_ME와 다른 전처리 함수를 새롭게 적용`하여 성능을 비교하는 것\n",
    "\n",
    "```python\n",
    "- 함수이름: preprocessing_ChatGPT\n",
    "- 함수입력: 위에서 작성한 함수와 동일\n",
    "- 함수출력: 위에서 작성한 함수와 동일\n",
    "- 출력형태: 위에서 작성한 함수와 동일\n",
    "- 결과확인: 위에서 작성한 함수와 동일\n",
    "- ChatGPT모델: GPT-4o 추천하나 아무거나 무관\n",
    "```"
   ]
  },
  {
   "cell_type": "code",
   "execution_count": 4,
   "id": "f6e712c5",
   "metadata": {
    "execution": {
     "iopub.execute_input": "2025-05-21T17:18:18.906833Z",
     "iopub.status.busy": "2025-05-21T17:18:18.906833Z",
     "iopub.status.idle": "2025-05-21T17:18:18.914336Z",
     "shell.execute_reply": "2025-05-21T17:18:18.913832Z",
     "shell.execute_reply.started": "2025-05-21T17:18:18.906833Z"
    }
   },
   "outputs": [],
   "source": [
    "# ChatGPT '무엇이든 물어보세요' 프롬프트 최종 지시사항 주석으로 작성\n",
    "# 반드시 각 전처리 단계 각각에 대한 8개의 필요사항을 지시사항으로 반영할것!\n",
    "\n",
    "\n"
   ]
  },
  {
   "cell_type": "code",
   "execution_count": 5,
   "id": "323ed9ab-a476-4ac1-9950-42632fce27ed",
   "metadata": {
    "execution": {
     "iopub.execute_input": "2025-05-21T17:18:18.915343Z",
     "iopub.status.busy": "2025-05-21T17:18:18.915343Z",
     "iopub.status.idle": "2025-05-21T17:18:18.922343Z",
     "shell.execute_reply": "2025-05-21T17:18:18.922343Z",
     "shell.execute_reply.started": "2025-05-21T17:18:18.915343Z"
    }
   },
   "outputs": [],
   "source": [
    "# ChatGPT가 생성한 preprocessing_ChatGPT 함수 복사 붙여넣기\n",
    "# preprocessing_ME 함수와 동일하면 안됨! (동일할수가 없음...)\n",
    "\n",
    "\n"
   ]
  },
  {
   "cell_type": "code",
   "execution_count": 6,
   "id": "f37dafd7-ef77-4e6d-94e8-66fc3bed297a",
   "metadata": {
    "execution": {
     "iopub.execute_input": "2025-05-21T17:18:18.923518Z",
     "iopub.status.busy": "2025-05-21T17:18:18.923518Z",
     "iopub.status.idle": "2025-05-21T17:18:18.945029Z",
     "shell.execute_reply": "2025-05-21T17:18:18.945029Z",
     "shell.execute_reply.started": "2025-05-21T17:18:18.923518Z"
    }
   },
   "outputs": [],
   "source": [
    "# 데이터 로딩 후 preprocessing_ChatGPT 함수 사용해서 결과를 출력하고 확인\n",
    "\n",
    "\n"
   ]
  },
  {
   "cell_type": "markdown",
   "id": "74e98b0f",
   "metadata": {},
   "source": [
    "# **Applying Algorithms:** Linear Regression, Ramdom Forest, XGBoost\n",
    "\n",
    "**1)** `preprocessing_ME` 전처리 데이터에 `Linear Regression 알고리즘을` 사용하여 `학습 및 예측` 진행\n",
    "\n",
    "- 예측은 Train & Test 모두에 대해 실행\n",
    "\n",
    "---\n",
    "\n",
    "**2)** `Train & Test` 데이터의 예측 결과를 `시각화로 표현`하여 얼마나 정확한지 확인\n",
    "\n",
    "- Train & Test 각각에 대해 정답 Y와 예측 Y를 동시에 그려 얼마나 유사한지 비교\n",
    "- 비교 성능이 시각적으로 어떠한지 생각한 후 주석으로 의견을 작성\n",
    "\n",
    "---\n",
    "\n",
    "**3)** `Train & Test 모두의 검증지표와 잔차를 통해 성능`을 확인\n",
    "\n",
    "- `검증지표`는 아래와 같이 모두 6개를 모두 사용하고, Train & Test 성능이 어떠한지 `주석으로 비교 작성`\n",
    "> (1) RMSE (Root Mean Squared Error)\n",
    "> \n",
    "> (2) MSPE (Mean Squared Percentage Error)\n",
    "> \n",
    "> (3) MAE (Mean Absolute Error)\n",
    "> \n",
    "> (4) MAPE (Mean Absolute Percentage Error)\n",
    "> \n",
    "> (5) MedAE (Median Absolute Error)\n",
    "> \n",
    "> (6) MedAPE (Median Absolute Percentage Error)\n",
    "\n",
    "- `잔차를 시각화`하여 `어떤 패턴이 남아 있는지 향후 어떤 데이터가 필요할지` 주석으로 의견 작성\n",
    "\n",
    "---\n",
    "\n",
    "**4)** `preprocessing_ChatGPT` 전처리 데이터로 변경해서 `1) + 2) + 3)` 과정을 모두 실행 및 성능 비교\n",
    "\n",
    "- `정답 Y와 예측 Y의 시각화`로 `어떤 전처리 함수가 성능이 좋은지 주석으로 작성`\n",
    "- `검증지표`들로 `어떤 전처리 함수가 성능이 좋은지 주석으로 작성`\n",
    "\n",
    "---\n",
    "\n",
    "**5-1)** 향후 수업에서 배우게 될 `대표적 머신러닝 알고리즘`을 사용하여 `1) + 2) + 3) + 4)` 과정을 모두 실행 및 성능 비교\n",
    "\n",
    "- 전처리 함수는 `preprocessing_ME`와 `preprocessing_ChatGPT` 중 4) 과정에서 성능이 높았던 함수로 진행\n",
    "- `Random Forest` 알고리즘의 학습 및 예측 부분은 ChatGPT에게 `프롬프트로 지시`하고 `생성된 모델링 코드를 활용`\n",
    "- `Random Forest` 알고리즘을 사용해서 `Train & Test`의 `검증지표`를 통해 선형회귀분석 대비 성능이 어떤지 주석으로 작성\n",
    "\n",
    "---\n",
    "\n",
    "**5-2)** 향후 수업에서 배우게 될 `대표적 머신러닝 알고리즘`을 사용하여 `1) + 2) + 3) + 4)` 과정을 모두 실행 및 성능 비교\n",
    "\n",
    "- 전처리 함수는 `preprocessing_ME`와 `preprocessing_ChatGPT` 중 4) 과정에서 성능이 높았던 함수로 진행\n",
    "- `XGBoost` 알고리즘의 학습 및 예측 부분은 ChatGPT에게 `프롬프트로 지시`하고 `생성된 모델링 코드를 활용`\n",
    "- `XGBoost` 알고리즘을 사용해서 `Train & Test`의 `검증지표`를 통해 선형회귀분석 대비 성능이 어떤지 주석으로 작성\n",
    "\n",
    "---\n",
    "\n",
    "**6)** 모델링 방향 정리\n",
    "\n",
    "- `검증지표`를 기준으로 `Train & Test` 각각에 대해 3가지 알고리즘 중 `어떤 알고리즘이 예측력이 높은지` 주석으로 작성\n",
    "- 실제 비즈니스에 활용하기 위해선 `Train & Test` 중 `어떤 데이터의 예측력이 더욱 중요한지 + 최종 활용 알고리즘` 주석으로 작성"
   ]
  },
  {
   "cell_type": "markdown",
   "id": "0100aba8",
   "metadata": {},
   "source": [
    "## 1) `preprocessing_ME` 전처리 데이터에 `Linear Regression 알고리즘을` 사용하여 `학습 및 예측` 진행"
   ]
  },
  {
   "cell_type": "code",
   "execution_count": 7,
   "id": "a10643bc",
   "metadata": {
    "execution": {
     "iopub.execute_input": "2025-05-21T17:18:18.947165Z",
     "iopub.status.busy": "2025-05-21T17:18:18.947165Z",
     "iopub.status.idle": "2025-05-21T17:18:18.956018Z",
     "shell.execute_reply": "2025-05-21T17:18:18.956018Z",
     "shell.execute_reply.started": "2025-05-21T17:18:18.947165Z"
    }
   },
   "outputs": [],
   "source": [
    "# 학습 과정\n",
    "\n",
    "\n"
   ]
  },
  {
   "cell_type": "code",
   "execution_count": 8,
   "id": "21defbcc",
   "metadata": {
    "execution": {
     "iopub.execute_input": "2025-05-21T17:18:18.958024Z",
     "iopub.status.busy": "2025-05-21T17:18:18.957024Z",
     "iopub.status.idle": "2025-05-21T17:18:18.965025Z",
     "shell.execute_reply": "2025-05-21T17:18:18.965025Z",
     "shell.execute_reply.started": "2025-05-21T17:18:18.958024Z"
    }
   },
   "outputs": [],
   "source": [
    "# 예측 과정\n",
    "\n",
    "\n"
   ]
  },
  {
   "cell_type": "markdown",
   "id": "2619ba88",
   "metadata": {},
   "source": [
    "## 2) `Train & Test` 데이터의 예측 결과를 `시각화로 표현`하여 얼마나 정확한지 확인"
   ]
  },
  {
   "cell_type": "code",
   "execution_count": 9,
   "id": "e8c58b53",
   "metadata": {
    "execution": {
     "iopub.execute_input": "2025-05-21T17:18:18.966470Z",
     "iopub.status.busy": "2025-05-21T17:18:18.966470Z",
     "iopub.status.idle": "2025-05-21T17:18:18.972631Z",
     "shell.execute_reply": "2025-05-21T17:18:18.972631Z",
     "shell.execute_reply.started": "2025-05-21T17:18:18.966470Z"
    }
   },
   "outputs": [],
   "source": [
    "# Train 데이터 예측 시각화\n",
    "\n",
    "\n"
   ]
  },
  {
   "cell_type": "code",
   "execution_count": 10,
   "id": "249b340d",
   "metadata": {
    "execution": {
     "iopub.execute_input": "2025-05-21T17:18:18.974637Z",
     "iopub.status.busy": "2025-05-21T17:18:18.973636Z",
     "iopub.status.idle": "2025-05-21T17:18:18.980915Z",
     "shell.execute_reply": "2025-05-21T17:18:18.980915Z",
     "shell.execute_reply.started": "2025-05-21T17:18:18.974637Z"
    }
   },
   "outputs": [],
   "source": [
    "# Test 데이터 예측 시각화\n",
    "\n",
    "\n"
   ]
  },
  {
   "cell_type": "code",
   "execution_count": 11,
   "id": "6cd2e636-da99-4470-a2bd-b70a73ec3c07",
   "metadata": {
    "execution": {
     "iopub.execute_input": "2025-05-21T17:18:18.981973Z",
     "iopub.status.busy": "2025-05-21T17:18:18.981973Z",
     "iopub.status.idle": "2025-05-21T17:18:18.989885Z",
     "shell.execute_reply": "2025-05-21T17:18:18.988879Z",
     "shell.execute_reply.started": "2025-05-21T17:18:18.981973Z"
    }
   },
   "outputs": [],
   "source": [
    "# 성능 의견 주석으로 작성\n",
    "\n",
    "\n"
   ]
  },
  {
   "cell_type": "markdown",
   "id": "a6bda642",
   "metadata": {},
   "source": [
    "## 3) `Train & Test 모두의 검증지표와 잔차를 통해 성능`을 확인"
   ]
  },
  {
   "cell_type": "code",
   "execution_count": 12,
   "id": "cbacaf47",
   "metadata": {
    "execution": {
     "iopub.execute_input": "2025-05-21T17:18:18.990885Z",
     "iopub.status.busy": "2025-05-21T17:18:18.990885Z",
     "iopub.status.idle": "2025-05-21T17:18:18.998388Z",
     "shell.execute_reply": "2025-05-21T17:18:18.997884Z",
     "shell.execute_reply.started": "2025-05-21T17:18:18.990885Z"
    }
   },
   "outputs": [],
   "source": [
    "# Train 검증지표 6종 확인\n",
    "\n",
    "\n"
   ]
  },
  {
   "cell_type": "code",
   "execution_count": 13,
   "id": "8503a259",
   "metadata": {
    "execution": {
     "iopub.execute_input": "2025-05-21T17:18:18.999395Z",
     "iopub.status.busy": "2025-05-21T17:18:18.999395Z",
     "iopub.status.idle": "2025-05-21T17:18:19.007241Z",
     "shell.execute_reply": "2025-05-21T17:18:19.006236Z",
     "shell.execute_reply.started": "2025-05-21T17:18:18.999395Z"
    }
   },
   "outputs": [],
   "source": [
    "# Test 검증지표 6종 확인\n",
    "\n",
    "\n"
   ]
  },
  {
   "cell_type": "code",
   "execution_count": 14,
   "id": "705ca40e-74ff-49f1-821c-d54141074cd5",
   "metadata": {
    "execution": {
     "iopub.execute_input": "2025-05-21T17:18:19.008243Z",
     "iopub.status.busy": "2025-05-21T17:18:19.007241Z",
     "iopub.status.idle": "2025-05-21T17:18:19.014181Z",
     "shell.execute_reply": "2025-05-21T17:18:19.014181Z",
     "shell.execute_reply.started": "2025-05-21T17:18:19.008243Z"
    }
   },
   "outputs": [],
   "source": [
    "# 성능 의견 주석으로 작성\n",
    "\n",
    "\n"
   ]
  },
  {
   "cell_type": "code",
   "execution_count": 15,
   "id": "202fe423-d24f-42a3-a73f-6bec43ae780a",
   "metadata": {
    "execution": {
     "iopub.execute_input": "2025-05-21T17:18:19.015187Z",
     "iopub.status.busy": "2025-05-21T17:18:19.015187Z",
     "iopub.status.idle": "2025-05-21T17:18:19.022603Z",
     "shell.execute_reply": "2025-05-21T17:18:19.022603Z",
     "shell.execute_reply.started": "2025-05-21T17:18:19.015187Z"
    }
   },
   "outputs": [],
   "source": [
    "# Train 잔차 시각화를 통해 `어떤 패턴이 남아 있는지 향후 어떤 데이터가 필요할지` 주석으로 의견 작성\n",
    "\n",
    "\n"
   ]
  },
  {
   "cell_type": "markdown",
   "id": "b93f2437-9f93-4644-9a5d-843547c75e6c",
   "metadata": {},
   "source": [
    "## 4) `preprocessing_ChatGPT` 전처리 데이터로 변경해서 `1) + 2) + 3)` 과정을 모두 실행 및 성능 비교"
   ]
  },
  {
   "cell_type": "code",
   "execution_count": 16,
   "id": "4b78c7e2-49b7-42bf-a952-05b1a69b9eee",
   "metadata": {
    "execution": {
     "iopub.execute_input": "2025-05-21T17:18:19.024614Z",
     "iopub.status.busy": "2025-05-21T17:18:19.023610Z",
     "iopub.status.idle": "2025-05-21T17:18:19.030831Z",
     "shell.execute_reply": "2025-05-21T17:18:19.030831Z",
     "shell.execute_reply.started": "2025-05-21T17:18:19.024614Z"
    }
   },
   "outputs": [],
   "source": [
    "# Train & Test 데이터 예측 시각화\n",
    "\n",
    "\n"
   ]
  },
  {
   "cell_type": "code",
   "execution_count": 17,
   "id": "0d4b99cd-3e5f-4bbd-92c0-81c2fb50f3aa",
   "metadata": {
    "execution": {
     "iopub.execute_input": "2025-05-21T17:18:19.031839Z",
     "iopub.status.busy": "2025-05-21T17:18:19.031839Z",
     "iopub.status.idle": "2025-05-21T17:18:19.039341Z",
     "shell.execute_reply": "2025-05-21T17:18:19.039341Z",
     "shell.execute_reply.started": "2025-05-21T17:18:19.031839Z"
    }
   },
   "outputs": [],
   "source": [
    "# preprocessing_ME 함수의 성능과 비교해서 어떤 성능 변화가 있는지 의견 주석으로 작성\n",
    "\n",
    "\n"
   ]
  },
  {
   "cell_type": "code",
   "execution_count": 18,
   "id": "a601c186-b8e2-4be3-9a40-dfe6558fd972",
   "metadata": {
    "execution": {
     "iopub.execute_input": "2025-05-21T17:18:19.041350Z",
     "iopub.status.busy": "2025-05-21T17:18:19.041350Z",
     "iopub.status.idle": "2025-05-21T17:18:19.046765Z",
     "shell.execute_reply": "2025-05-21T17:18:19.046765Z",
     "shell.execute_reply.started": "2025-05-21T17:18:19.041350Z"
    }
   },
   "outputs": [],
   "source": [
    "# Train & Test 검증지표 6종 확인\n",
    "\n",
    "\n"
   ]
  },
  {
   "cell_type": "code",
   "execution_count": 19,
   "id": "78fa8c76-9d46-40e2-ac4a-651b99d40ec1",
   "metadata": {
    "execution": {
     "iopub.execute_input": "2025-05-21T17:18:19.047770Z",
     "iopub.status.busy": "2025-05-21T17:18:19.047770Z",
     "iopub.status.idle": "2025-05-21T17:18:19.055161Z",
     "shell.execute_reply": "2025-05-21T17:18:19.055161Z",
     "shell.execute_reply.started": "2025-05-21T17:18:19.047770Z"
    }
   },
   "outputs": [],
   "source": [
    "# preprocessing_ME 함수의 성능과 비교해서 어떤 성능 변화가 있는지 의견 주석으로 작성\n",
    "\n",
    "\n"
   ]
  },
  {
   "cell_type": "markdown",
   "id": "ebc789fd-812e-4b01-82af-49febe8c72bf",
   "metadata": {},
   "source": [
    "## 5-1) 향후 수업에서 배우게 될 `대표적 머신러닝 알고리즘`을 사용하여 `1) + 2) + 3) + 4)` 과정을 모두 실행 및 성능 비교"
   ]
  },
  {
   "cell_type": "code",
   "execution_count": 20,
   "id": "31755068-7611-4ecb-ace2-2e3c2a5f7303",
   "metadata": {
    "execution": {
     "iopub.execute_input": "2025-05-21T17:18:19.057167Z",
     "iopub.status.busy": "2025-05-21T17:18:19.056167Z",
     "iopub.status.idle": "2025-05-21T17:18:19.063167Z",
     "shell.execute_reply": "2025-05-21T17:18:19.063167Z",
     "shell.execute_reply.started": "2025-05-21T17:18:19.057167Z"
    }
   },
   "outputs": [],
   "source": [
    "# 전처리 함수는 preprocessing_ME와 preprocessing_ChatGPT 중 4) 과정에서 성능이 높았던 함수로 진행\n",
    "\n",
    "\n"
   ]
  },
  {
   "cell_type": "code",
   "execution_count": 21,
   "id": "b0c5bf61-130a-4a04-a097-cae92fe5b564",
   "metadata": {
    "execution": {
     "iopub.execute_input": "2025-05-21T17:18:19.064240Z",
     "iopub.status.busy": "2025-05-21T17:18:19.064240Z",
     "iopub.status.idle": "2025-05-21T17:18:19.072444Z",
     "shell.execute_reply": "2025-05-21T17:18:19.071437Z",
     "shell.execute_reply.started": "2025-05-21T17:18:19.064240Z"
    }
   },
   "outputs": [],
   "source": [
    "# ChatGPT '무엇이든 물어보세요' 프롬프트로 Random Forest 학습 및 예측을 위한 최종 지시사항 주석으로 작성\n",
    "# 에러가 발생하거나 이슈가 생시면 ChatGPT를 통해 추가 해결 필요\n",
    "\n",
    "\n"
   ]
  },
  {
   "cell_type": "code",
   "execution_count": 22,
   "id": "9b17b13a-f041-4ff8-9901-0e161087e991",
   "metadata": {
    "execution": {
     "iopub.execute_input": "2025-05-21T17:18:19.073444Z",
     "iopub.status.busy": "2025-05-21T17:18:19.072444Z",
     "iopub.status.idle": "2025-05-21T17:18:19.080442Z",
     "shell.execute_reply": "2025-05-21T17:18:19.080442Z",
     "shell.execute_reply.started": "2025-05-21T17:18:19.073444Z"
    }
   },
   "outputs": [],
   "source": [
    "# 전처리 후\n",
    "# ChatGPT가 생성한 Random Forest 학습 및 예측 생성코드 활용하여 학습 및 예측\n",
    "\n",
    "\n"
   ]
  },
  {
   "cell_type": "code",
   "execution_count": 23,
   "id": "b2669e8d-a677-4f1c-b7cb-2e4c72ec5d10",
   "metadata": {
    "execution": {
     "iopub.execute_input": "2025-05-21T17:18:19.082459Z",
     "iopub.status.busy": "2025-05-21T17:18:19.081459Z",
     "iopub.status.idle": "2025-05-21T17:18:19.087710Z",
     "shell.execute_reply": "2025-05-21T17:18:19.087710Z",
     "shell.execute_reply.started": "2025-05-21T17:18:19.082459Z"
    }
   },
   "outputs": [],
   "source": [
    "# Train & Test 검증지표 6종 확인\n",
    "# 선형회귀분석 대비 성능이 어떤지 주석으로 작성\n",
    "\n",
    "\n"
   ]
  },
  {
   "cell_type": "markdown",
   "id": "02ff8a1c-4925-4731-aeb2-15019fb6c9af",
   "metadata": {},
   "source": [
    "## 5-2) 향후 수업에서 배우게 될 `대표적 머신러닝 알고리즘`을 사용하여 `1) + 2) + 3) + 4)` 과정을 모두 실행 및 성능 비교"
   ]
  },
  {
   "cell_type": "code",
   "execution_count": 24,
   "id": "ad4152ac-55d6-4923-a340-e997aba8bcf6",
   "metadata": {
    "execution": {
     "iopub.execute_input": "2025-05-21T17:18:19.089716Z",
     "iopub.status.busy": "2025-05-21T17:18:19.088715Z",
     "iopub.status.idle": "2025-05-21T17:18:19.096552Z",
     "shell.execute_reply": "2025-05-21T17:18:19.096552Z",
     "shell.execute_reply.started": "2025-05-21T17:18:19.089716Z"
    }
   },
   "outputs": [],
   "source": [
    "# ChatGPT '무엇이든 물어보세요' 프롬프트로 XGBoost 학습 및 예측을 위한 최종 지시사항 주석으로 작성\n",
    "# 에러가 발생하거나 이슈가 생시면 ChatGPT를 통해 추가 해결 필요\n",
    "\n",
    "\n"
   ]
  },
  {
   "cell_type": "code",
   "execution_count": 25,
   "id": "530edfd4-3199-4185-90d3-5c6eca51e27e",
   "metadata": {
    "execution": {
     "iopub.execute_input": "2025-05-21T17:18:19.099593Z",
     "iopub.status.busy": "2025-05-21T17:18:19.099593Z",
     "iopub.status.idle": "2025-05-21T17:18:19.105557Z",
     "shell.execute_reply": "2025-05-21T17:18:19.105557Z",
     "shell.execute_reply.started": "2025-05-21T17:18:19.099593Z"
    }
   },
   "outputs": [],
   "source": [
    "# 전처리 후\n",
    "# ChatGPT가 생성한 XGBoost 학습 및 예측 생성코드 활용하여 학습 및 예측\n",
    "\n",
    "\n"
   ]
  },
  {
   "cell_type": "code",
   "execution_count": 26,
   "id": "216ed933-9f38-4701-a9a5-d15b898403cb",
   "metadata": {
    "execution": {
     "iopub.execute_input": "2025-05-21T17:18:19.107584Z",
     "iopub.status.busy": "2025-05-21T17:18:19.106586Z",
     "iopub.status.idle": "2025-05-21T17:18:19.117069Z",
     "shell.execute_reply": "2025-05-21T17:18:19.117069Z",
     "shell.execute_reply.started": "2025-05-21T17:18:19.107584Z"
    }
   },
   "outputs": [],
   "source": [
    "# Train & Test 검증지표 6종 확인\n",
    "# 선형회귀분석 대비 성능이 어떤지 주석으로 작성\n",
    "# Random Forest 대비 성능이 어떤지 주석으로 작성\n",
    "\n",
    "\n"
   ]
  },
  {
   "cell_type": "markdown",
   "id": "bc3e43ab-0e9c-4b03-aeec-3d03f6a78cfd",
   "metadata": {},
   "source": [
    "## 6) 모델링 방향 정리"
   ]
  },
  {
   "cell_type": "code",
   "execution_count": 27,
   "id": "c7955878-18f9-4f29-a64b-a933bc6342c4",
   "metadata": {
    "execution": {
     "iopub.execute_input": "2025-05-21T17:18:19.118077Z",
     "iopub.status.busy": "2025-05-21T17:18:19.118077Z",
     "iopub.status.idle": "2025-05-21T17:18:19.125218Z",
     "shell.execute_reply": "2025-05-21T17:18:19.125218Z",
     "shell.execute_reply.started": "2025-05-21T17:18:19.118077Z"
    }
   },
   "outputs": [],
   "source": [
    "# Train 기준 3가지 알고리즘 중 어떤 알고리즘이 예측력이 높은지 주석으로 작성\n",
    "\n",
    "\n"
   ]
  },
  {
   "cell_type": "code",
   "execution_count": 28,
   "id": "43944b96-45e3-447a-96e5-655073d5886d",
   "metadata": {
    "execution": {
     "iopub.execute_input": "2025-05-21T17:18:19.127224Z",
     "iopub.status.busy": "2025-05-21T17:18:19.126223Z",
     "iopub.status.idle": "2025-05-21T17:18:19.133608Z",
     "shell.execute_reply": "2025-05-21T17:18:19.133608Z",
     "shell.execute_reply.started": "2025-05-21T17:18:19.127224Z"
    }
   },
   "outputs": [],
   "source": [
    "# Test 기준 3가지 알고리즘 중 어떤 알고리즘이 예측력이 높은지 주석으로 작성\n",
    "\n",
    "\n"
   ]
  },
  {
   "cell_type": "code",
   "execution_count": 29,
   "id": "a91ea5f5-cc2b-4fcc-ab09-15c6a41c53cd",
   "metadata": {
    "execution": {
     "iopub.execute_input": "2025-05-21T17:18:19.134615Z",
     "iopub.status.busy": "2025-05-21T17:18:19.134615Z",
     "iopub.status.idle": "2025-05-21T17:18:19.141616Z",
     "shell.execute_reply": "2025-05-21T17:18:19.141616Z",
     "shell.execute_reply.started": "2025-05-21T17:18:19.134615Z"
    }
   },
   "outputs": [],
   "source": [
    "# 실제 비즈니스에 활용하기 위해선 `Train & Test` 중 `어떤 데이터의 예측력이 더욱 중요한지 + 최종 활용 알고리즘` 주석으로 작성\n",
    "\n",
    "\n"
   ]
  },
  {
   "cell_type": "markdown",
   "id": "35a40121",
   "metadata": {},
   "source": [
    "# **Explanation:** 실제 예측력이 높은 과거 이유를 설명하고 미래 설명 근거 제시\n",
    "\n",
    "**1) `Train Explanation:`** 과거 설명력\n",
    "\n",
    "> (1) Linear Regresion 기준,\n",
    "> - 모델의 `summary 함수 결과`를 출력\n",
    ">   \n",
    "> - `5% 유의수준`에서 `종속변수에 영향을 미치는 모든 변수의 이름`를 주석으로 작성\n",
    "\n",
    "> (2) Random Forest & XGBoost 중,\n",
    "> - Train 검증지표 성능이 높았던 알고리즘의 종속변수에 영향을 주는 `Feature Importance 출력 및 상위 5개의 변수 이름`을 주석으로 작성\n",
    "\n",
    "> (3) `종속변수에 영향을 주는 변수들`을 결정\n",
    "> - 위 2가지 알고리즘으로 추론된 `영향을 주는 변수들의 교집합`으로 중요 `설명변수 결정` 및 주석으로 작성\n",
    "> - 교집합이 없을시 `Linear Regression 기준 변수들로 최종 중요 설명변수 결정` 및 주석으로 작성\n",
    "\n",
    "> (4) `과거`에는 설명변수가 종속변수에 어떻게 영향을 줬는지 `해석`\n",
    "> - 최종 선택된 설명변수들이 Linear Regression Summary를 기반으로 종속변수에 `어떻게 영향을 주는지 주석으로 설명`\n",
    "> - ex. 설명변수가 1증가시 종속변수가 어떻게 변했음\n",
    "\n",
    "**2) `Test Explanation:`** 미래 설명력\n",
    "\n",
    "> (1) Random Forest & XGBoost 중,\n",
    "> - Test 검증지표 성능이 높았던 알고리즘의 종속변수에 영향을 주는 `Feature Importance 출력 및 상위 5개의 변수 이름`을 주석으로 작성\n",
    "\n",
    "> (2) `미래`에는 설명변수가 종속변수에 어떻게 영향을 줄수 있을지 `해석`\n",
    "> - `Test 예측 성능과 Train 상위 5개 설명변수를 기반`으로, 향후 종속변수에 `어떻게 영향을 주게 될지 정량적` 의견을 주석으로 작성\n",
    "> - ex. 과거에도 특정 변수가 종속변수에 영향을 주는 경향이 미래에는 블라블라한 확률로~~, 미래에는 종속변수에 블라블라 영향을 줄수 있으며 그 근거는 블라블라~\n",
    "\n",
    "> (3) 위 내용을 근거로 `정성적 미래 비즈니스를 기획 또는 전략을 어떻게 구성하면 좋을지 의견`을 주석으로 자유 작성"
   ]
  },
  {
   "cell_type": "markdown",
   "id": "6837c303",
   "metadata": {},
   "source": [
    "## 1) **`Train Explanation:`** 과거 설명력"
   ]
  },
  {
   "cell_type": "code",
   "execution_count": 30,
   "id": "5993ad3c",
   "metadata": {
    "execution": {
     "iopub.execute_input": "2025-05-21T17:18:19.143776Z",
     "iopub.status.busy": "2025-05-21T17:18:19.142777Z",
     "iopub.status.idle": "2025-05-21T17:18:19.149288Z",
     "shell.execute_reply": "2025-05-21T17:18:19.149288Z",
     "shell.execute_reply.started": "2025-05-21T17:18:19.143776Z"
    }
   },
   "outputs": [],
   "source": [
    "# Linear Regression Summary 결과 출력\n",
    "\n",
    "\n"
   ]
  },
  {
   "cell_type": "code",
   "execution_count": 31,
   "id": "d436db47-c757-4586-a5dd-240328490eab",
   "metadata": {
    "execution": {
     "iopub.execute_input": "2025-05-21T17:18:19.151656Z",
     "iopub.status.busy": "2025-05-21T17:18:19.150655Z",
     "iopub.status.idle": "2025-05-21T17:18:19.158971Z",
     "shell.execute_reply": "2025-05-21T17:18:19.158971Z",
     "shell.execute_reply.started": "2025-05-21T17:18:19.151656Z"
    }
   },
   "outputs": [],
   "source": [
    "# 5% 유의수준에서 종속변수에 영향을 미치는 모든 변수의 이름를 주석으로 작성\n",
    "\n",
    "\n"
   ]
  },
  {
   "cell_type": "code",
   "execution_count": 32,
   "id": "62f7cd83-77e2-4353-824a-8b425f3a4247",
   "metadata": {
    "execution": {
     "iopub.execute_input": "2025-05-21T17:18:19.159977Z",
     "iopub.status.busy": "2025-05-21T17:18:19.159977Z",
     "iopub.status.idle": "2025-05-21T17:18:19.166914Z",
     "shell.execute_reply": "2025-05-21T17:18:19.166914Z",
     "shell.execute_reply.started": "2025-05-21T17:18:19.159977Z"
    }
   },
   "outputs": [],
   "source": [
    "# Random Forest & XGBoost 중,\n",
    "# Train 검증지표 성능이 높았던 알고리즘의 종속변수에 영향을 주는 Feature Importance 출력 및 상위 5개의 변수 이름을 주석으로 작성\n",
    "\n",
    "\n"
   ]
  },
  {
   "cell_type": "code",
   "execution_count": 33,
   "id": "35b672c0-785c-413e-ab6d-1af2d7e467d3",
   "metadata": {
    "execution": {
     "iopub.execute_input": "2025-05-21T17:18:19.168921Z",
     "iopub.status.busy": "2025-05-21T17:18:19.167922Z",
     "iopub.status.idle": "2025-05-21T17:18:19.176408Z",
     "shell.execute_reply": "2025-05-21T17:18:19.176408Z",
     "shell.execute_reply.started": "2025-05-21T17:18:19.168921Z"
    }
   },
   "outputs": [],
   "source": [
    "# 위 2가지 알고리즘으로 추론된 영향을 주는 변수들의 교집합으로 중요 설명변수 결정 및 주석으로 작성\n",
    "# 교집합이 없을시 Linear Regression 기준 변수들로 최종 중요 설명변수 결정 및 주석으로 작성\n",
    "\n",
    "\n"
   ]
  },
  {
   "cell_type": "code",
   "execution_count": 34,
   "id": "ab8176e9-3b89-4d24-9525-956b31a62fa7",
   "metadata": {
    "execution": {
     "iopub.execute_input": "2025-05-21T17:18:19.177414Z",
     "iopub.status.busy": "2025-05-21T17:18:19.177414Z",
     "iopub.status.idle": "2025-05-21T17:18:19.184926Z",
     "shell.execute_reply": "2025-05-21T17:18:19.184926Z",
     "shell.execute_reply.started": "2025-05-21T17:18:19.177414Z"
    }
   },
   "outputs": [],
   "source": [
    "# 과거에는 설명변수가 종속변수에 어떻게 영향을 줬는지 해석\n",
    "# 최종 선택된 설명변수들이 Linear Regression Summary를 기반으로 종속변수에 어떻게 영향을 주는지 주석으로 설명\n",
    "\n",
    "\n"
   ]
  },
  {
   "cell_type": "markdown",
   "id": "c4ab3d5c",
   "metadata": {},
   "source": [
    "## 2) **`Test Explanation:`** 미래 설명력"
   ]
  },
  {
   "cell_type": "code",
   "execution_count": 35,
   "id": "60cd38ec-9287-4627-8c3b-fb9322b771ee",
   "metadata": {
    "execution": {
     "iopub.execute_input": "2025-05-21T17:18:19.186932Z",
     "iopub.status.busy": "2025-05-21T17:18:19.185932Z",
     "iopub.status.idle": "2025-05-21T17:18:19.193957Z",
     "shell.execute_reply": "2025-05-21T17:18:19.193957Z",
     "shell.execute_reply.started": "2025-05-21T17:18:19.186932Z"
    }
   },
   "outputs": [],
   "source": [
    "# Random Forest & XGBoost 중,\n",
    "# Test 검증지표 성능이 높았던 알고리즘의 종속변수에 영향을 주는 Feature Importance 출력 및 상위 5개의 변수 이름을 주석으로 작성\n",
    "\n",
    "\n"
   ]
  },
  {
   "cell_type": "code",
   "execution_count": 36,
   "id": "062396f6",
   "metadata": {
    "execution": {
     "iopub.execute_input": "2025-05-21T17:18:19.196052Z",
     "iopub.status.busy": "2025-05-21T17:18:19.195051Z",
     "iopub.status.idle": "2025-05-21T17:18:19.201504Z",
     "shell.execute_reply": "2025-05-21T17:18:19.201504Z",
     "shell.execute_reply.started": "2025-05-21T17:18:19.196052Z"
    }
   },
   "outputs": [],
   "source": [
    "# 미래에는 설명변수가 종속변수에 어떻게 영향을 줄수 있을지 해석\n",
    "# Test 예측 성능과 Train 상위 5개 설명변수를 기반으로, 향후 종속변수에 어떻게 영향을 주게 될지 정량적 의견을 주석으로 작성\n",
    "\n",
    "\n"
   ]
  },
  {
   "cell_type": "code",
   "execution_count": 37,
   "id": "adddc9d8-4c54-4203-8a09-ca62c91443ef",
   "metadata": {
    "execution": {
     "iopub.execute_input": "2025-05-21T17:18:19.203515Z",
     "iopub.status.busy": "2025-05-21T17:18:19.203515Z",
     "iopub.status.idle": "2025-05-21T17:18:19.209881Z",
     "shell.execute_reply": "2025-05-21T17:18:19.209881Z",
     "shell.execute_reply.started": "2025-05-21T17:18:19.203515Z"
    }
   },
   "outputs": [],
   "source": [
    "# 위 내용을 근거로 정성적 미래 비즈니스를 기획 또는 전략을 어떻게 구성하면 좋을지 의견을 주석으로 자유 작성\n",
    "\n",
    "\n"
   ]
  },
  {
   "cell_type": "markdown",
   "id": "8a5703a6",
   "metadata": {},
   "source": [
    "# **Error Analysis:** 분석 성능/종료 판단하기\n",
    "\n",
    "**1)** 3가지 알고리즘 중 `Test의 검증지표 성능이 가장 높은 알고리즘의 Test 잔차를 시각화`하여 `데이터에 남아있는 패턴이 어떤지 주석으로 설명`하고\n",
    "\n",
    "**2)** 향후 잔차의 패턴을 줄이고 모델링의 성능을 높이기 위해 `어떤 데이터 또는 전처리 추가/변경/삭제 등을` 고려해 볼 수 있는지 주석으로 작성"
   ]
  },
  {
   "cell_type": "code",
   "execution_count": 38,
   "id": "e0932f88",
   "metadata": {
    "execution": {
     "iopub.execute_input": "2025-05-21T17:18:19.210890Z",
     "iopub.status.busy": "2025-05-21T17:18:19.210890Z",
     "iopub.status.idle": "2025-05-21T17:18:19.218309Z",
     "shell.execute_reply": "2025-05-21T17:18:19.218309Z",
     "shell.execute_reply.started": "2025-05-21T17:18:19.210890Z"
    }
   },
   "outputs": [],
   "source": [
    "# 3가지 알고리즘 중 `Test의 검증지표 성능이 가장 높은 알고리즘의 Test 잔차를 시각화`\n",
    "\n",
    "\n"
   ]
  },
  {
   "cell_type": "code",
   "execution_count": 39,
   "id": "20b0883f-b847-43d3-a059-abfef2050d07",
   "metadata": {
    "execution": {
     "iopub.execute_input": "2025-05-21T17:18:19.219316Z",
     "iopub.status.busy": "2025-05-21T17:18:19.219316Z",
     "iopub.status.idle": "2025-05-21T17:18:19.227839Z",
     "shell.execute_reply": "2025-05-21T17:18:19.226824Z",
     "shell.execute_reply.started": "2025-05-21T17:18:19.219316Z"
    }
   },
   "outputs": [],
   "source": [
    "# 데이터에 남아있는 패턴이 어떤지 주석으로 설명\n",
    "\n",
    "\n"
   ]
  },
  {
   "cell_type": "code",
   "execution_count": 40,
   "id": "1aa1f82b",
   "metadata": {
    "execution": {
     "iopub.execute_input": "2025-05-21T17:18:19.228839Z",
     "iopub.status.busy": "2025-05-21T17:18:19.227839Z",
     "iopub.status.idle": "2025-05-21T17:18:19.234984Z",
     "shell.execute_reply": "2025-05-21T17:18:19.234984Z",
     "shell.execute_reply.started": "2025-05-21T17:18:19.228839Z"
    }
   },
   "outputs": [],
   "source": [
    "# 향후 잔차의 패턴을 줄이고 모델링의 성능을 높이기 위해 `어떤 데이터 또는 전처리 추가/변경/삭제 등을 ` 고려해 볼 수 있는지 주석으로 작성\n",
    "\n",
    "\n"
   ]
  },
  {
   "cell_type": "code",
   "execution_count": 41,
   "id": "0452fd47",
   "metadata": {
    "execution": {
     "iopub.execute_input": "2025-05-21T17:18:19.236989Z",
     "iopub.status.busy": "2025-05-21T17:18:19.235989Z",
     "iopub.status.idle": "2025-05-21T17:18:19.246516Z",
     "shell.execute_reply": "2025-05-21T17:18:19.246516Z",
     "shell.execute_reply.started": "2025-05-21T17:18:19.236989Z"
    }
   },
   "outputs": [
    {
     "name": "stdout",
     "output_type": "stream",
     "text": [
      "Intel64 Family 6 Model 186 Stepping 2, GenuineIntel\n",
      "32(GB)\n",
      "Windows\n",
      "10.0.26100\n",
      "C:\\DataScience\\Lecture\\[DataScience]\n",
      "2024-12-12 00:34:16.155373\n",
      "2025-05-22 02:18:12.457177\n",
      "2025-05-22 02:18:12.458176\n",
      "2025-05-22 02:18:19.244024\n",
      "다음 출력을 파일명으로 설정하고 제출하시오: 김경원_20211011_인공지능활용디지털경제플랫폼연구_DA_SupervisedRegression\n"
     ]
    }
   ],
   "source": [
    "### 종료 및 본인정보 반영\n",
    "# 반드시 이 cell을 실행하시오\n",
    "# 실행하지 않을 시 직접 하지 않은 것으로 간주\n",
    "# 마지막 줄 출력으로 파일명을 설정하고 제출 필수\n",
    "import platform, psutil, os, datetime\n",
    "print(platform.processor())\n",
    "print(str(round(psutil.virtual_memory().total / (1024.0 **3)))+\"(GB)\")\n",
    "print(platform.system())\n",
    "print(platform.version())\n",
    "print(os.getcwd())\n",
    "print(datetime.datetime.fromtimestamp(os.path.getctime(os.getcwd())))\n",
    "print(datetime.datetime.fromtimestamp(os.path.getmtime(os.getcwd())))\n",
    "print(datetime.datetime.fromtimestamp(os.path.getatime(os.getcwd())))\n",
    "print(datetime.datetime.now())\n",
    "title = 'DA_SupervisedRegression'    # 고정값\n",
    "name = '김경원'    # 본인 이름을 작성\n",
    "studentid = '20211011'    # 본인 학번을 작성\n",
    "# 아래 강좌 명 중 본인이 수강하는 강과명 작성\n",
    "# 비즈니스데이터사이언스이해, E정보시스템, 디지털비즈니스애널리틱스, E데이터베이스, 인공지능기반의사결정, 빅데이터 등\n",
    "# 비즈니스혁신을위한데이터사이언스응용, 인공지능활용디지털경제플랫폼연구 등\n",
    "course = '인공지능활용디지털경제플랫폼연구'    \n",
    "print('다음 출력을 파일명으로 설정하고 제출하시오:', name + '_' + studentid + '_' + course + '_' + title)"
   ]
  }
 ],
 "metadata": {
  "hide_input": false,
  "kernelspec": {
   "display_name": "Python 3 (ipykernel)",
   "language": "python",
   "name": "python3"
  },
  "language_info": {
   "codemirror_mode": {
    "name": "ipython",
    "version": 3
   },
   "file_extension": ".py",
   "mimetype": "text/x-python",
   "name": "python",
   "nbconvert_exporter": "python",
   "pygments_lexer": "ipython3",
   "version": "3.12.3"
  },
  "toc": {
   "base_numbering": 1,
   "nav_menu": {},
   "number_sections": true,
   "sideBar": true,
   "skip_h1_title": false,
   "title_cell": "Table of Contents",
   "title_sidebar": "Contents",
   "toc_cell": false,
   "toc_position": {
    "height": "calc(100% - 180px)",
    "left": "10px",
    "top": "150px",
    "width": "307.188px"
   },
   "toc_section_display": true,
   "toc_window_display": true
  },
  "varInspector": {
   "cols": {
    "lenName": 16,
    "lenType": 16,
    "lenVar": 40
   },
   "kernels_config": {
    "python": {
     "delete_cmd_postfix": "",
     "delete_cmd_prefix": "del ",
     "library": "var_list.py",
     "varRefreshCmd": "print(var_dic_list())"
    },
    "r": {
     "delete_cmd_postfix": ") ",
     "delete_cmd_prefix": "rm(",
     "library": "var_list.r",
     "varRefreshCmd": "cat(var_dic_list()) "
    }
   },
   "types_to_exclude": [
    "module",
    "function",
    "builtin_function_or_method",
    "instance",
    "_Feature"
   ],
   "window_display": false
  }
 },
 "nbformat": 4,
 "nbformat_minor": 5
}
