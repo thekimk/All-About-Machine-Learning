{
 "cells": [
  {
   "cell_type": "code",
   "execution_count": 1,
   "id": "34b0abba",
   "metadata": {
    "execution": {
     "iopub.execute_input": "2025-05-24T14:02:33.103546Z",
     "iopub.status.busy": "2025-05-24T14:02:33.102546Z",
     "iopub.status.idle": "2025-05-24T14:02:33.116547Z",
     "shell.execute_reply": "2025-05-24T14:02:33.116547Z",
     "shell.execute_reply.started": "2025-05-24T14:02:33.103546Z"
    }
   },
   "outputs": [
    {
     "name": "stdout",
     "output_type": "stream",
     "text": [
      "Intel64 Family 6 Model 186 Stepping 2, GenuineIntel\n",
      "32(GB)\n",
      "Windows\n",
      "10.0.26100\n",
      "C:\\DataScience\\Lecture\\[DataScience]\n",
      "2024-12-12 00:34:16.155373\n",
      "2025-05-24 23:02:21.228873\n",
      "2025-05-24 23:02:21.228873\n",
      "2025-05-24 23:02:33.113550\n",
      "다음 출력을 파일명으로 설정하고 제출하시오: 김경원_20211011_인공지능활용디지털경제플랫폼연구_DA_SupervisedClassification\n"
     ]
    }
   ],
   "source": [
    "### 시작 및 본인정보 반영\n",
    "# 반드시 이 cell을 실행하시오\n",
    "# 실행하지 않을 시 직접 하지 않은 것으로 간주\n",
    "# 마지막 줄 출력으로 파일명을 설정하고 제출 필수\n",
    "import platform, psutil, os, datetime\n",
    "print(platform.processor())\n",
    "print(str(round(psutil.virtual_memory().total / (1024.0 **3)))+\"(GB)\")\n",
    "print(platform.system())\n",
    "print(platform.version())\n",
    "print(os.getcwd())\n",
    "print(datetime.datetime.fromtimestamp(os.path.getctime(os.getcwd())))\n",
    "print(datetime.datetime.fromtimestamp(os.path.getmtime(os.getcwd())))\n",
    "print(datetime.datetime.fromtimestamp(os.path.getatime(os.getcwd())))\n",
    "print(datetime.datetime.now())\n",
    "title = 'DA_SupervisedClassification'    # 고정값\n",
    "name = '김경원'    # 본인 이름을 작성\n",
    "studentid = '20211011'    # 본인 학번을 작성\n",
    "# 아래 강좌 명 중 본인이 수강하는 강과명 작성\n",
    "# 비즈니스데이터사이언스이해, E정보시스템, 디지털비즈니스애널리틱스, E데이터베이스, 인공지능기반의사결정, 빅데이터 등\n",
    "# 비즈니스혁신을위한데이터사이언스응용, 인공지능활용디지털경제플랫폼연구 등\n",
    "course = '인공지능활용디지털경제플랫폼연구'    \n",
    "print('다음 출력을 파일명으로 설정하고 제출하시오:', name + '_' + studentid + '_' + course + '_' + title)"
   ]
  },
  {
   "cell_type": "markdown",
   "id": "c11d78dd",
   "metadata": {},
   "source": [
    "# **Data Loading:** 분석에 사용할 데이터 불러오기\n",
    "\n",
    "- 아래 표의 `비즈니스 문제 대상 데이터`의 비즈니스 목적을 보고 `관심있는 데이터`를 선택하여 분석에 사용\n",
    "- 모든 데이터는 [Kaggle Competition](https://www.kaggle.com/)에서 추출되었으며, `현 Jupyter Notebook`과 동일위치 `DataTest 폴더`에 있음\n",
    "- 데이터에 대한 설명은 아래 표의 `설명 참고링크`를 통해 확인할 수 있지만, 실제 사용 데이터는 링크가 아닌 `반드시 DataTest에 저장된 데이터` 사용!\n",
    "> 원본은 링크의 데이터이지만 과제에서 사용되는 데이터는 `원본이 일부 변경되어 저장`되었기 때문\n",
    "- 분석은 `개인PC나 Google Colab` 중 편한 곳에서 진행하면 되고, 분석 결과들은 향후 `경진대회나 공모전 및 데이터사이언스 분야 면접이나 시험`에 대비 가능\n",
    "\n",
    "| **분야** | **비즈니스 목적** | **파일명** | **종속변수 Y** | **설명 참고링크** |\n",
    "|:---:|:---|:---|:---|:---|\n",
    "| **Tour** | 고객들의 여행취소를 정확하게 예측하여   취소가 예상되는 고객을 찾고 기업의 매출손실 대비 | `Classification_TravelCustomerChurn.csv` | `Target` | https://www.kaggle.com/datasets/tejashvi14/tour-travels-customer-churn-prediction |\n",
    "| **Marketing** | 마케팅이 구매로 이어지는 관계를   정확하게 예측 및 특성을 확인하여 마케팅 효과를 높이고 매출 향상 지원 | `Classification_MarketingEfficiency.csv` | `Response` | https://www.kaggle.com/datasets/rodsaldanha/arketing-campaign |\n",
    "| **Human** | 기업 임직원들의 불만족을 정확하게   예측하여 퇴사 확률을 낮출 수 있는 인사전략 지원 | `Classification_JobSatisfaction.csv` | `satisfaction_level` | https://www.kaggle.com/datasets/mfaisalqureshi/hr-analytics-and-job-prediction |\n",
    "| **Medicine** | 심장질환 여부를 정확하게 예측하여   심장질환에 걸릴 가능성이 높은 고객의 특징을 예측 | `Classification_HeartDisease.csv` | `TenYearCHD` | https://www.kaggle.com/datasets/dileep070/heart-disease-prediction-using-logistic-regression |\n",
    "| **Ecommerce** | 이커머스 만족도를 정확하게 예측하여   만족도 향상을 위한 특성을 확인하고 고객 유입 전략 지원 | `Classification_EcommerceSatisfaction.csv` | `Customer_rating` | https://www.kaggle.com/datasets/prachi13/customer-analytics |\n",
    "| **Service** | 항공기를 이용하는 고객의 서비스   만족도를 정확하게 예측하여 특성을 확인하고 추가적인 서비스기획 지원 | `Classification_AirlineSatisfaction.csv` | `satisfaction` | https://www.kaggle.com/datasets/sjleshrac/airlines-customer-satisfaction |\n"
   ]
  },
  {
   "cell_type": "code",
   "execution_count": null,
   "id": "7b713a06",
   "metadata": {},
   "outputs": [],
   "source": []
  },
  {
   "cell_type": "code",
   "execution_count": null,
   "id": "a1ee9733",
   "metadata": {},
   "outputs": [],
   "source": []
  },
  {
   "cell_type": "code",
   "execution_count": null,
   "id": "0807b4e0",
   "metadata": {},
   "outputs": [],
   "source": []
  },
  {
   "cell_type": "markdown",
   "id": "a223fe5d",
   "metadata": {},
   "source": [
    "# **Import Library:** 분석에 사용할 모듈 설치\n",
    "\n",
    "- 강의에서 배운 내용이든 아니든 `자유 설치 및 사용`"
   ]
  },
  {
   "cell_type": "code",
   "execution_count": null,
   "id": "b86500e6",
   "metadata": {},
   "outputs": [],
   "source": []
  },
  {
   "cell_type": "code",
   "execution_count": null,
   "id": "699c2d1d",
   "metadata": {},
   "outputs": [],
   "source": []
  },
  {
   "cell_type": "code",
   "execution_count": null,
   "id": "035f3cec",
   "metadata": {},
   "outputs": [],
   "source": []
  },
  {
   "cell_type": "markdown",
   "id": "23b705fe",
   "metadata": {},
   "source": [
    "# **Preprocessing:** 데이터 정리 및 패턴 추출하기\n",
    "\n",
    "- 선택한 `데이터 및 비즈니스 목적` 달성을 위한 `알고리즘 기반 데이터분석`을 하기 위해 필요한 전처리 작업 `자유 진행`하고 `필요성 이유를 주석으로 작성`\n",
    "- `전처리 순서는 변경가능`하지만 필요한 처리과정을 반드시 실행해야하며 `필요성 이유 미작성시 안한 것으로 간주`\n",
    "\n",
    "> (1) **[데이터 결합]** 데이터를 `행 또는 열로 확장`\n",
    "> - 필요여부를 판단하여 주석으로 작성하되, 제공데이터 이외의 데이터 결합시 가산점 50!\n",
    "> \n",
    "> (2) **[결측값 처리]** `결측값 존재여부 확인 및 처리`\n",
    "> - 필요여부를 판단하여 주석으로 작성하되, 결측값의 정의와 처리방식을 주석으로 설명\n",
    ">\n",
    "> (3) **[이상치 처리]** `이상치 존재여부 확인 및 처리`\n",
    "> - 필요여부를 판단하여 주석으로 작성하되, 이상치의 정의와 처리방식을 주석으로 설명\n",
    ">\n",
    "> (4) **[자료형 변환]** `비숫자형(object) 데이터`의 숫자화 처리\n",
    "> - 필요여부를 판단하여 주석으로 작성하되, 비숫자형의 숫자화 전후를 모두 출력하고 방식을 주석으로 설명\n",
    "> \n",
    "> (5) **[데이터 분리]** `Train & Test`로만 분리하며, 각각의 비율은 `80% & 20%`로 진행\n",
    "> - 필요여부를 판단하여 주석으로 작성하되, 필요시 `train_test_split` 함수를 사용하여 진행\n",
    ">\n",
    "> (6) **[데이터 변환]** `필요한 해석과 변수들의 특성`에 맞게 범주형/연속형 변환 처리\n",
    "> - 필요여부를 판단하여 주석으로 작성하되, 필요한 변수가 무엇인지 주석으로 작성하여 변환 전후를 모두 출력\n",
    ">\n",
    "> (7) **[파생변수 및 나머지 전처리]** `Y 예측에 도움이 될 것으로 예상되는 전처리`\n",
    "> - 필요여부를 판단하여 주석으로 작성하되, 자유롭고 창의적인 파생변수를 생성 + 알고리즘 학습 전 나머지 필요한 전처리 진행\n",
    ">\n",
    "> (8) **[스케일 조정]** 선호하는 `스케일링도 반드시 실행`하되 `종류는 자유 선택`\n",
    "> - 필요여부를 판단하여 주석으로 작성하되, 사용한 scaler를 선정한 이유를 주석으로 설명\n",
    "\n",
    "> (9) **[전처리 함수화1]** 위 모든 전처리 과정을 정리 후 함수로 작성 및 실행\n",
    ">\n",
    "> ```python\n",
    "> - 함수이름: preprocessing_ME\n",
    "> - 함수입력: df\n",
    "> - 함수출력: X_train, X_test, Y_train, Y_test, df_prep\n",
    "> - 출력형태: X는 모두 array, Y는 모두 dataframe, df_prep는 dataframe\n",
    "> - 결과확인: X_train.head(), X_test.head(), Y_train.head(), Y_test.head(), df_prep.describe().T\n",
    "> ```\n",
    "\n",
    "> (10) **[전처리 함수화2]** ChatGPT에게 지시하여 위 함수와 형태만 동일한 입출력에 다른 전처리 결과 생성\n",
    "> - 본 단계의 목적은 `preprocessing_ME와 다른 새로운 전처리 함수를 적용`하여 다른 전처리 결과로 성능을 비교하는 것\n",
    "> - ChatGPT의 지시사항을, preprocessing_ME와 동일하게 작성해줘가 아닌 `반드시 각 전처리 단계 각각에 대한 8개의 필요사항을 지시사항으로 반영할것!`\n",
    ">\n",
    "> ```python\n",
    "> - 함수이름: preprocessing_ChatGPT\n",
    "> - 함수입력: 위에서 작성한 함수와 동일\n",
    "> - 함수출력: 위에서 작성한 함수와 동일\n",
    "> - 출력형태: 위에서 작성한 함수와 동일\n",
    "> - 결과확인: 위에서 작성한 함수와 동일\n",
    "> - ChatGPT모델: GPT-4o 추천하나 아무거나 무관\n",
    "> ```"
   ]
  },
  {
   "cell_type": "markdown",
   "id": "5fb09461",
   "metadata": {},
   "source": [
    "## (1) **[데이터 결합]** 데이터를 `행 또는 열로 확장`\n",
    "- 필요여부를 판단하여 주석으로 작성하되, 제공데이터 이외의 데이터 결합시 가산점 50!"
   ]
  },
  {
   "cell_type": "code",
   "execution_count": null,
   "id": "19c18c8f",
   "metadata": {},
   "outputs": [],
   "source": []
  },
  {
   "cell_type": "code",
   "execution_count": null,
   "id": "8f0c429f",
   "metadata": {},
   "outputs": [],
   "source": []
  },
  {
   "cell_type": "markdown",
   "id": "61f83914",
   "metadata": {},
   "source": [
    "## (2) **[결측값 처리]** `결측값 존재여부 확인 및 처리`\n",
    "- 필요여부를 판단하여 주석으로 작성하되, 결측값의 정의와 처리방식을 주석으로 설명"
   ]
  },
  {
   "cell_type": "code",
   "execution_count": null,
   "id": "32165866",
   "metadata": {},
   "outputs": [],
   "source": []
  },
  {
   "cell_type": "code",
   "execution_count": null,
   "id": "24ae9632",
   "metadata": {},
   "outputs": [],
   "source": []
  },
  {
   "cell_type": "markdown",
   "id": "f4744618",
   "metadata": {},
   "source": [
    "## (3) **[이상치 처리]** `이상치 존재여부 확인 및 처리`\n",
    "- 필요여부를 판단하여 주석으로 작성하되, 이상치의 정의와 처리방식을 주석으로 설명"
   ]
  },
  {
   "cell_type": "code",
   "execution_count": null,
   "id": "f7d4a02f",
   "metadata": {},
   "outputs": [],
   "source": []
  },
  {
   "cell_type": "code",
   "execution_count": null,
   "id": "5b752cbd",
   "metadata": {},
   "outputs": [],
   "source": []
  },
  {
   "cell_type": "markdown",
   "id": "fba1005f",
   "metadata": {},
   "source": [
    "## (4) **[자료형 변환]** `비숫자형(object) 데이터`의 숫자화 처리\n",
    "- 필요여부를 판단하여 주석으로 작성하되, 비숫자형의 숫자화 전후를 모두 출력하고 방식을 주석으로 설명"
   ]
  },
  {
   "cell_type": "code",
   "execution_count": null,
   "id": "8fcb376c",
   "metadata": {},
   "outputs": [],
   "source": []
  },
  {
   "cell_type": "code",
   "execution_count": null,
   "id": "89416c5d",
   "metadata": {},
   "outputs": [],
   "source": []
  },
  {
   "cell_type": "markdown",
   "id": "cef3fa7c",
   "metadata": {},
   "source": [
    "## (5) **[데이터 분리]** `Train & Test`로만 분리하며, 각각의 비율은 `80% & 20%`로 진행\n",
    "- 필요여부를 판단하여 주석으로 작성하되, 필요시 `train_test_split` 함수를 사용하여 진행"
   ]
  },
  {
   "cell_type": "code",
   "execution_count": null,
   "id": "03f1f319",
   "metadata": {},
   "outputs": [],
   "source": []
  },
  {
   "cell_type": "code",
   "execution_count": null,
   "id": "f6e712c5",
   "metadata": {},
   "outputs": [],
   "source": []
  },
  {
   "cell_type": "markdown",
   "id": "2cbd3757-c2f2-4b14-b3c3-a5051bcd7f37",
   "metadata": {},
   "source": [
    "## (6) **[데이터 변환]** `필요한 해석과 변수들의 특성`에 맞게 범주형/연속형 변환 처리\n",
    "- 필요여부를 판단하여 주석으로 작성하되, 필요한 변수가 무엇인지 주석으로 작성하여 변환 전후를 모두 출력"
   ]
  },
  {
   "cell_type": "code",
   "execution_count": null,
   "id": "625b6be2-babf-4dfa-8d6e-551e67273501",
   "metadata": {},
   "outputs": [],
   "source": []
  },
  {
   "cell_type": "code",
   "execution_count": null,
   "id": "d52e4ad4-36f6-4054-a245-9c015f279abc",
   "metadata": {},
   "outputs": [],
   "source": []
  },
  {
   "cell_type": "markdown",
   "id": "8660131a-35ea-4e29-8b51-14f44ebeabd8",
   "metadata": {},
   "source": [
    "## (7) **[파생변수 및 나머지 전처리]** `Y 예측에 도움이 될 것으로 예상되는 전처리`\n",
    "- 필요여부를 판단하여 주석으로 작성하되, 자유롭고 창의적인 파생변수를 생성 + 알고리즘 학습 전 나머지 필요한 전처리 진행"
   ]
  },
  {
   "cell_type": "code",
   "execution_count": null,
   "id": "46141ded-ea57-4767-ab8d-8e47387f12c7",
   "metadata": {},
   "outputs": [],
   "source": []
  },
  {
   "cell_type": "code",
   "execution_count": null,
   "id": "02feeb3e-081e-44d5-8c62-065dc31e01af",
   "metadata": {},
   "outputs": [],
   "source": []
  },
  {
   "cell_type": "markdown",
   "id": "62566bb6-9d99-4cee-84b4-799b35ce28b1",
   "metadata": {},
   "source": [
    "## (8) **[스케일 조정]** 선호하는 `스케일링도 반드시 실행`하되 `종류는 자유 선택`\n",
    "- 필요여부를 판단하여 주석으로 작성하되, 사용한 scaler를 선정한 이유를 주석으로 설명"
   ]
  },
  {
   "cell_type": "code",
   "execution_count": null,
   "id": "8701af31-de05-47b8-b318-b672e8f7a850",
   "metadata": {},
   "outputs": [],
   "source": []
  },
  {
   "cell_type": "code",
   "execution_count": null,
   "id": "414e7a22-b5bb-4995-9f10-0f9936067bd7",
   "metadata": {},
   "outputs": [],
   "source": []
  },
  {
   "cell_type": "markdown",
   "id": "b9bb33fc-b982-4590-873c-1474583f2e29",
   "metadata": {},
   "source": [
    "## (9) **[전처리 함수화1]** 위 모든 전처리 과정을 정리 후 함수로 작성 및 실행\n",
    "\n",
    "```python\n",
    "- 함수이름: preprocessing_ME\n",
    "- 함수입력: df\n",
    "- 함수출력: X_train, X_test, Y_train, Y_test, df_prep\n",
    "- 출력형태: X는 모두 array, Y는 모두 dataframe, df_prep는 dataframe\n",
    "- 결과확인: X_train.head(), X_test.head(), Y_train.head(), Y_test.head(), df_prep.describe().T\n",
    "```"
   ]
  },
  {
   "cell_type": "code",
   "execution_count": 2,
   "id": "fd8adf32-d1e8-4667-ae5e-fd11998dc66e",
   "metadata": {
    "execution": {
     "iopub.execute_input": "2025-05-24T14:02:33.118876Z",
     "iopub.status.busy": "2025-05-24T14:02:33.118876Z",
     "iopub.status.idle": "2025-05-24T14:02:33.123723Z",
     "shell.execute_reply": "2025-05-24T14:02:33.122716Z",
     "shell.execute_reply.started": "2025-05-24T14:02:33.118876Z"
    }
   },
   "outputs": [],
   "source": [
    "# preprocessing_ME 함수 작성\n",
    "\n",
    "\n"
   ]
  },
  {
   "cell_type": "code",
   "execution_count": 3,
   "id": "b7fb2560-0c5c-45a1-a51d-cf007967d811",
   "metadata": {
    "execution": {
     "iopub.execute_input": "2025-05-24T14:02:33.124724Z",
     "iopub.status.busy": "2025-05-24T14:02:33.124724Z",
     "iopub.status.idle": "2025-05-24T14:02:33.133722Z",
     "shell.execute_reply": "2025-05-24T14:02:33.133722Z",
     "shell.execute_reply.started": "2025-05-24T14:02:33.124724Z"
    }
   },
   "outputs": [],
   "source": [
    "# 데이터 로딩 후 preprocessing_ME 함수 사용해서 결과를 출력하고 확인\n",
    "\n",
    "\n"
   ]
  },
  {
   "cell_type": "markdown",
   "id": "2d4bd2ea-ed7f-4777-982c-73e7efb1ce33",
   "metadata": {},
   "source": [
    "## (10) **[전처리 함수화2]** ChatGPT에게 지시하여 위 함수와 동일한 입출력과 전처리 결과 생성\n",
    "- ChatGPT의 지시사항을, preprocessing_ME와 동일하게 작성해줘가 아닌 `반드시 각 전처리 단계 각각에 대한 8개의 필요사항을 지시사항으로 반영할것!`\n",
    "- 본 단계의 목적은 `preprocessing_ME와 다른 전처리 함수를 새롭게 적용`하여 성능을 비교하는 것\n",
    "\n",
    "```python\n",
    "- 함수이름: preprocessing_ChatGPT\n",
    "- 함수입력: 위에서 작성한 함수와 동일\n",
    "- 함수출력: 위에서 작성한 함수와 동일\n",
    "- 출력형태: 위에서 작성한 함수와 동일\n",
    "- 결과확인: 위에서 작성한 함수와 동일\n",
    "- ChatGPT모델: GPT-4o 추천하나 아무거나 무관\n",
    "```"
   ]
  },
  {
   "cell_type": "code",
   "execution_count": 4,
   "id": "9fdfed55-14ac-4799-8ee0-f4ebf1317c6a",
   "metadata": {
    "execution": {
     "iopub.execute_input": "2025-05-24T14:02:33.136113Z",
     "iopub.status.busy": "2025-05-24T14:02:33.135112Z",
     "iopub.status.idle": "2025-05-24T14:02:33.143535Z",
     "shell.execute_reply": "2025-05-24T14:02:33.142519Z",
     "shell.execute_reply.started": "2025-05-24T14:02:33.136113Z"
    }
   },
   "outputs": [],
   "source": [
    "# ChatGPT '무엇이든 물어보세요' 프롬프트 최종 지시사항 주석으로 작성\n",
    "# 반드시 각 전처리 단계 각각에 대한 8개의 필요사항을 지시사항으로 반영할것!\n",
    "\n",
    "\n"
   ]
  },
  {
   "cell_type": "code",
   "execution_count": 5,
   "id": "c0b17657-fea1-4435-8e27-3c59bda61056",
   "metadata": {
    "execution": {
     "iopub.execute_input": "2025-05-24T14:02:33.144529Z",
     "iopub.status.busy": "2025-05-24T14:02:33.144529Z",
     "iopub.status.idle": "2025-05-24T14:02:33.152546Z",
     "shell.execute_reply": "2025-05-24T14:02:33.152546Z",
     "shell.execute_reply.started": "2025-05-24T14:02:33.144529Z"
    }
   },
   "outputs": [],
   "source": [
    "# ChatGPT가 생성한 preprocessing_ChatGPT 함수 복사 붙여넣기\n",
    "# preprocessing_ME 함수와 동일하면 안됨! (동일할수가 없음...)\n",
    "\n",
    "\n"
   ]
  },
  {
   "cell_type": "code",
   "execution_count": 6,
   "id": "9d54b4a7-71f7-4acb-ad15-481c6c674d8e",
   "metadata": {
    "execution": {
     "iopub.execute_input": "2025-05-24T14:02:33.154962Z",
     "iopub.status.busy": "2025-05-24T14:02:33.154962Z",
     "iopub.status.idle": "2025-05-24T14:02:33.160962Z",
     "shell.execute_reply": "2025-05-24T14:02:33.160962Z",
     "shell.execute_reply.started": "2025-05-24T14:02:33.154962Z"
    }
   },
   "outputs": [],
   "source": [
    "# 데이터 로딩 후 preprocessing_ChatGPT 함수 사용해서 결과를 출력하고 확인\n",
    "\n",
    "\n"
   ]
  },
  {
   "cell_type": "markdown",
   "id": "b103f8cf-ceff-42e3-a84e-d03ece4f2b39",
   "metadata": {},
   "source": [
    "# **Applying Algorithms:** Logistic Regression, Ramdom Forest, XGBoost\n",
    "\n",
    "**1)** `preprocessing_ME` 전처리 데이터에 `Logistic Regression 알고리즘을` 사용하여 `학습 및 예측` 진행\n",
    "\n",
    "- 예측은 Train & Test 모두에 대해 실행\n",
    "\n",
    "---\n",
    "\n",
    "**2)** `Train & Test 모두의 검증지표를 통해 성능`을 확인\n",
    "\n",
    "- `검증지표`는 아래와 같이 모두 5개를 모두 사용하고, Train & Test 성능이 어떠한지 `주석으로 비교 작성`\n",
    "> (1) Accuracy\n",
    "> \n",
    "> (2) Precision\n",
    "> \n",
    "> (3) Recall/Sensitivity/TPR\n",
    "> \n",
    "> (4) F1-score\n",
    "> \n",
    "> (5) AuC\n",
    "\n",
    "---\n",
    "\n",
    "**3)** `preprocessing_ChatGPT` 전처리 데이터로 변경해서 `1) + 2)` 과정을 모두 실행 및 성능 비교\n",
    "\n",
    "- `검증지표`들로 `어떤 전처리 함수가 성능이 좋은지 주석으로 작성`\n",
    "\n",
    "---\n",
    "\n",
    "**4-1)** 향후 수업에서 배우게 될 `대표적 머신러닝 알고리즘`을 사용하여 `1) + 2) + 3)` 과정을 모두 실행 및 성능 비교\n",
    "\n",
    "- 전처리 함수는 `preprocessing_ME`와 `preprocessing_ChatGPT` 중 3) 과정에서 성능이 높았던 함수로 진행\n",
    "- `Random Forest` 알고리즘의 학습 및 예측 부분은 ChatGPT에게 `프롬프트로 지시`하고 `생성된 모델링 코드를 활용`\n",
    "- `Random Forest` 알고리즘을 사용해서 `Train & Test`의 `검증지표`를 통해 로지스틱회귀분석 대비 성능이 어떤지 주석으로 작성\n",
    "\n",
    "---\n",
    "\n",
    "**4-2)** 향후 수업에서 배우게 될 `대표적 머신러닝 알고리즘`을 사용하여 `1) + 2) + 3)` 과정을 모두 실행 및 성능 비교\n",
    "\n",
    "- 전처리 함수는 `preprocessing_ME`와 `preprocessing_ChatGPT` 중 4) 과정에서 성능이 높았던 함수로 진행\n",
    "- `XGBoost` 알고리즘의 학습 및 예측 부분은 ChatGPT에게 `프롬프트로 지시`하고 `생성된 모델링 코드를 활용`\n",
    "- `XGBoost` 알고리즘을 사용해서 `Train & Test`의 `검증지표`를 통해 로지스틱회귀분석 대비 성능이 어떤지 주석으로 작성\n",
    "\n",
    "---\n",
    "\n",
    "**5)** 모델링 방향 정리\n",
    "\n",
    "- 분석한 데이터의 문제에선 `어떤 검증지표`를 `의사결정에 중요하게 판단`해야 하는지 주석으로 작성\n",
    "- `해당 검증지표`를 기준으로 `Train & Test` 각각에 대해 3가지 알고리즘 중 `어떤 알고리즘이 예측력이 높은지` 주석으로 작성\n",
    "- 실제 비즈니스에 활용하기 위해선 `Train & Test` 중 `어떤 데이터의 예측력이 더욱 중요한지 + 최종 활용 알고리즘` 주석으로 작성"
   ]
  },
  {
   "cell_type": "markdown",
   "id": "59995bce-ef37-440e-ac02-c533357afcc8",
   "metadata": {},
   "source": [
    "## 1) `preprocessing_ME` 전처리 데이터에 `Logistic Regression 알고리즘을` 사용하여 `학습 및 예측` 진행"
   ]
  },
  {
   "cell_type": "code",
   "execution_count": 7,
   "id": "768491c8",
   "metadata": {
    "execution": {
     "iopub.execute_input": "2025-05-24T14:02:33.162968Z",
     "iopub.status.busy": "2025-05-24T14:02:33.162968Z",
     "iopub.status.idle": "2025-05-24T14:02:33.170822Z",
     "shell.execute_reply": "2025-05-24T14:02:33.169816Z",
     "shell.execute_reply.started": "2025-05-24T14:02:33.162968Z"
    }
   },
   "outputs": [],
   "source": [
    "# 학습 과정\n",
    "\n",
    "\n"
   ]
  },
  {
   "cell_type": "code",
   "execution_count": 8,
   "id": "06a848b7",
   "metadata": {
    "execution": {
     "iopub.execute_input": "2025-05-24T14:02:33.174823Z",
     "iopub.status.busy": "2025-05-24T14:02:33.173823Z",
     "iopub.status.idle": "2025-05-24T14:02:33.178301Z",
     "shell.execute_reply": "2025-05-24T14:02:33.178301Z",
     "shell.execute_reply.started": "2025-05-24T14:02:33.174823Z"
    }
   },
   "outputs": [],
   "source": [
    "# 예측 과정\n",
    "\n",
    "\n"
   ]
  },
  {
   "cell_type": "markdown",
   "id": "90e51b26-0847-44ff-bcc9-d01fdecd05ec",
   "metadata": {},
   "source": [
    "## 2) `Train & Test 모두의 검증지표를 통해 성능`을 확인"
   ]
  },
  {
   "cell_type": "code",
   "execution_count": 9,
   "id": "e61f14e1-5cf3-40fb-8353-d8318e5030a1",
   "metadata": {
    "execution": {
     "iopub.execute_input": "2025-05-24T14:02:33.179309Z",
     "iopub.status.busy": "2025-05-24T14:02:33.179309Z",
     "iopub.status.idle": "2025-05-24T14:02:33.186316Z",
     "shell.execute_reply": "2025-05-24T14:02:33.186316Z",
     "shell.execute_reply.started": "2025-05-24T14:02:33.179309Z"
    }
   },
   "outputs": [],
   "source": [
    "# Train 검증지표 5종 확인\n",
    "\n",
    "\n"
   ]
  },
  {
   "cell_type": "code",
   "execution_count": 10,
   "id": "6e5cd00c-69e4-49df-9bdf-c30f06cabd9e",
   "metadata": {
    "execution": {
     "iopub.execute_input": "2025-05-24T14:02:33.187325Z",
     "iopub.status.busy": "2025-05-24T14:02:33.187325Z",
     "iopub.status.idle": "2025-05-24T14:02:33.195199Z",
     "shell.execute_reply": "2025-05-24T14:02:33.194193Z",
     "shell.execute_reply.started": "2025-05-24T14:02:33.187325Z"
    }
   },
   "outputs": [],
   "source": [
    "# Test 검증지표 5종 확인\n",
    "\n",
    "\n"
   ]
  },
  {
   "cell_type": "code",
   "execution_count": 11,
   "id": "08c2f6ce-69ed-419d-9f83-2b20ead94434",
   "metadata": {
    "execution": {
     "iopub.execute_input": "2025-05-24T14:02:33.196200Z",
     "iopub.status.busy": "2025-05-24T14:02:33.196200Z",
     "iopub.status.idle": "2025-05-24T14:02:33.202693Z",
     "shell.execute_reply": "2025-05-24T14:02:33.202693Z",
     "shell.execute_reply.started": "2025-05-24T14:02:33.196200Z"
    }
   },
   "outputs": [],
   "source": [
    "# 성능 의견 주석으로 작성\n",
    "\n",
    "\n"
   ]
  },
  {
   "cell_type": "markdown",
   "id": "bdd24e18-7718-44fa-aa31-2f3ce44cecfa",
   "metadata": {},
   "source": [
    "## 3) `preprocessing_ChatGPT` 전처리 데이터로 변경해서 `1) + 2)` 과정을 모두 실행 및 성능 비교"
   ]
  },
  {
   "cell_type": "code",
   "execution_count": 12,
   "id": "9e2b2e00-d8be-4c12-8d8e-d1d8ed829882",
   "metadata": {
    "execution": {
     "iopub.execute_input": "2025-05-24T14:02:33.203698Z",
     "iopub.status.busy": "2025-05-24T14:02:33.203698Z",
     "iopub.status.idle": "2025-05-24T14:02:33.210993Z",
     "shell.execute_reply": "2025-05-24T14:02:33.210993Z",
     "shell.execute_reply.started": "2025-05-24T14:02:33.203698Z"
    }
   },
   "outputs": [],
   "source": [
    "# Train & Test 검증지표 5종 확인\n",
    "\n",
    "\n"
   ]
  },
  {
   "cell_type": "code",
   "execution_count": 13,
   "id": "eb96a019-5977-432c-aaa1-feb145794a93",
   "metadata": {
    "execution": {
     "iopub.execute_input": "2025-05-24T14:02:33.213000Z",
     "iopub.status.busy": "2025-05-24T14:02:33.212000Z",
     "iopub.status.idle": "2025-05-24T14:02:33.218889Z",
     "shell.execute_reply": "2025-05-24T14:02:33.218889Z",
     "shell.execute_reply.started": "2025-05-24T14:02:33.213000Z"
    }
   },
   "outputs": [],
   "source": [
    "# preprocessing_ME 함수의 성능과 비교해서 어떤 성능 변화가 있는지 의견 주석으로 작성\n",
    "\n",
    "\n"
   ]
  },
  {
   "cell_type": "markdown",
   "id": "ebbb859c-9c6d-4481-9581-cb3b08ab4799",
   "metadata": {},
   "source": [
    "## 4-1) 향후 수업에서 배우게 될 `대표적 머신러닝 알고리즘`을 사용하여 `1) + 2) + 3)` 과정을 모두 실행 및 성능 비교"
   ]
  },
  {
   "cell_type": "code",
   "execution_count": 14,
   "id": "265e4f90-b3f6-4a21-804f-877ae0032540",
   "metadata": {
    "execution": {
     "iopub.execute_input": "2025-05-24T14:02:33.220899Z",
     "iopub.status.busy": "2025-05-24T14:02:33.219894Z",
     "iopub.status.idle": "2025-05-24T14:02:33.228171Z",
     "shell.execute_reply": "2025-05-24T14:02:33.227156Z",
     "shell.execute_reply.started": "2025-05-24T14:02:33.220899Z"
    }
   },
   "outputs": [],
   "source": [
    "# 전처리 함수는 preprocessing_ME와 preprocessing_ChatGPT 중 4) 과정에서 성능이 높았던 함수로 진행\n",
    "\n",
    "\n"
   ]
  },
  {
   "cell_type": "code",
   "execution_count": 15,
   "id": "7601488c-616d-4e59-93c4-983c6936589e",
   "metadata": {
    "execution": {
     "iopub.execute_input": "2025-05-24T14:02:33.229171Z",
     "iopub.status.busy": "2025-05-24T14:02:33.229171Z",
     "iopub.status.idle": "2025-05-24T14:02:33.235170Z",
     "shell.execute_reply": "2025-05-24T14:02:33.235170Z",
     "shell.execute_reply.started": "2025-05-24T14:02:33.229171Z"
    }
   },
   "outputs": [],
   "source": [
    "# ChatGPT '무엇이든 물어보세요' 프롬프트로 Random Forest 학습 및 예측을 위한 최종 지시사항 주석으로 작성\n",
    "# 에러가 발생하거나 이슈가 생시면 ChatGPT를 통해 추가 해결 필요\n",
    "\n",
    "\n"
   ]
  },
  {
   "cell_type": "code",
   "execution_count": 16,
   "id": "ceed8ea3-f17c-4085-8c5c-4ecfcb5fe616",
   "metadata": {
    "execution": {
     "iopub.execute_input": "2025-05-24T14:02:33.237218Z",
     "iopub.status.busy": "2025-05-24T14:02:33.236218Z",
     "iopub.status.idle": "2025-05-24T14:02:33.243413Z",
     "shell.execute_reply": "2025-05-24T14:02:33.243413Z",
     "shell.execute_reply.started": "2025-05-24T14:02:33.237218Z"
    }
   },
   "outputs": [],
   "source": [
    "# 전처리 후\n",
    "# ChatGPT가 생성한 Random Forest 학습 및 예측 생성코드 활용하여 학습 및 예측\n",
    "\n",
    "\n"
   ]
  },
  {
   "cell_type": "code",
   "execution_count": 17,
   "id": "8503a259",
   "metadata": {
    "execution": {
     "iopub.execute_input": "2025-05-24T14:02:33.245419Z",
     "iopub.status.busy": "2025-05-24T14:02:33.244418Z",
     "iopub.status.idle": "2025-05-24T14:02:33.251318Z",
     "shell.execute_reply": "2025-05-24T14:02:33.251318Z",
     "shell.execute_reply.started": "2025-05-24T14:02:33.245419Z"
    }
   },
   "outputs": [],
   "source": [
    "# Train & Test 검증지표 5종 확인\n",
    "# 로지스틱회귀분석 대비 성능이 어떤지 주석으로 작성\n",
    "\n",
    "\n"
   ]
  },
  {
   "cell_type": "markdown",
   "id": "59633542-0b27-4733-aeb1-6a4cd6835b22",
   "metadata": {},
   "source": [
    "## 4-2) 향후 수업에서 배우게 될 `대표적 머신러닝 알고리즘`을 사용하여 `1) + 2) + 3)` 과정을 모두 실행 및 성능 비교"
   ]
  },
  {
   "cell_type": "code",
   "execution_count": 18,
   "id": "443acc08-c920-483f-9242-3b39f1437c94",
   "metadata": {
    "execution": {
     "iopub.execute_input": "2025-05-24T14:02:33.253322Z",
     "iopub.status.busy": "2025-05-24T14:02:33.252322Z",
     "iopub.status.idle": "2025-05-24T14:02:33.259762Z",
     "shell.execute_reply": "2025-05-24T14:02:33.259762Z",
     "shell.execute_reply.started": "2025-05-24T14:02:33.253322Z"
    }
   },
   "outputs": [],
   "source": [
    "# 전처리 함수는 preprocessing_ME와 preprocessing_ChatGPT 중 4) 과정에서 성능이 높았던 함수로 진행\n",
    "\n",
    "\n"
   ]
  },
  {
   "cell_type": "code",
   "execution_count": 19,
   "id": "8c9e004b-d48a-45de-abeb-0ce65c44e52d",
   "metadata": {
    "execution": {
     "iopub.execute_input": "2025-05-24T14:02:33.261768Z",
     "iopub.status.busy": "2025-05-24T14:02:33.260768Z",
     "iopub.status.idle": "2025-05-24T14:02:33.308966Z",
     "shell.execute_reply": "2025-05-24T14:02:33.308966Z",
     "shell.execute_reply.started": "2025-05-24T14:02:33.261768Z"
    }
   },
   "outputs": [],
   "source": [
    "# ChatGPT '무엇이든 물어보세요' 프롬프트로 XGBoost 학습 및 예측을 위한 최종 지시사항 주석으로 작성\n",
    "# 에러가 발생하거나 이슈가 생시면 ChatGPT를 통해 추가 해결 필요\n",
    "\n",
    "\n"
   ]
  },
  {
   "cell_type": "code",
   "execution_count": 20,
   "id": "777000dd-1224-46fe-9a4f-a2de9a459e8c",
   "metadata": {
    "execution": {
     "iopub.execute_input": "2025-05-24T14:02:33.309972Z",
     "iopub.status.busy": "2025-05-24T14:02:33.309972Z",
     "iopub.status.idle": "2025-05-24T14:02:33.318189Z",
     "shell.execute_reply": "2025-05-24T14:02:33.317184Z",
     "shell.execute_reply.started": "2025-05-24T14:02:33.309972Z"
    }
   },
   "outputs": [],
   "source": [
    "# 전처리 후\n",
    "# ChatGPT가 생성한 XGBoost 학습 및 예측 생성코드 활용하여 학습 및 예측\n",
    "\n",
    "\n"
   ]
  },
  {
   "cell_type": "code",
   "execution_count": 21,
   "id": "3706b683-c3c4-40e2-b10c-7febfb15c2c7",
   "metadata": {
    "execution": {
     "iopub.execute_input": "2025-05-24T14:02:33.319189Z",
     "iopub.status.busy": "2025-05-24T14:02:33.318189Z",
     "iopub.status.idle": "2025-05-24T14:02:33.327223Z",
     "shell.execute_reply": "2025-05-24T14:02:33.326189Z",
     "shell.execute_reply.started": "2025-05-24T14:02:33.319189Z"
    }
   },
   "outputs": [],
   "source": [
    "# Train & Test 검증지표 5종 확인\n",
    "# 로지스틱회귀분석 대비 성능이 어떤지 주석으로 작성\n",
    "# Random Forest 대비 성능이 어떤지 주석으로 작성\n",
    "\n",
    "\n"
   ]
  },
  {
   "cell_type": "markdown",
   "id": "b5869cc1-894c-45e1-8d85-803d7c45deb5",
   "metadata": {},
   "source": [
    "## 5) 모델링 방향 정리"
   ]
  },
  {
   "cell_type": "code",
   "execution_count": 22,
   "id": "79b4b34e-2ac4-4b93-a72a-cb02f96a390a",
   "metadata": {
    "execution": {
     "iopub.execute_input": "2025-05-24T14:02:33.328223Z",
     "iopub.status.busy": "2025-05-24T14:02:33.328223Z",
     "iopub.status.idle": "2025-05-24T14:02:33.333260Z",
     "shell.execute_reply": "2025-05-24T14:02:33.333260Z",
     "shell.execute_reply.started": "2025-05-24T14:02:33.328223Z"
    }
   },
   "outputs": [],
   "source": [
    "# 분석한 데이터의 문제에선 어떤 검증지표를 의사결정에 중요하게 판단해야 하는지 주석으로 작성\n",
    "\n",
    "\n"
   ]
  },
  {
   "cell_type": "code",
   "execution_count": 23,
   "id": "ad84abb8-01d7-41f9-a9ce-101643d13739",
   "metadata": {
    "execution": {
     "iopub.execute_input": "2025-05-24T14:02:33.335265Z",
     "iopub.status.busy": "2025-05-24T14:02:33.334265Z",
     "iopub.status.idle": "2025-05-24T14:02:33.341328Z",
     "shell.execute_reply": "2025-05-24T14:02:33.341328Z",
     "shell.execute_reply.started": "2025-05-24T14:02:33.335265Z"
    }
   },
   "outputs": [],
   "source": [
    "# 해당 검증지표를 기준으로 Train 기준 3가지 알고리즘 중 어떤 알고리즘이 예측력이 높은지 주석으로 작성\n",
    "\n",
    "\n"
   ]
  },
  {
   "cell_type": "code",
   "execution_count": 24,
   "id": "8a631a78-f8f3-45f6-a7b3-eec9b02cbd00",
   "metadata": {
    "execution": {
     "iopub.execute_input": "2025-05-24T14:02:33.342333Z",
     "iopub.status.busy": "2025-05-24T14:02:33.342333Z",
     "iopub.status.idle": "2025-05-24T14:02:33.349355Z",
     "shell.execute_reply": "2025-05-24T14:02:33.349355Z",
     "shell.execute_reply.started": "2025-05-24T14:02:33.342333Z"
    }
   },
   "outputs": [],
   "source": [
    "# 해당 검증지표를 기준으로 Test 기준 3가지 알고리즘 중 어떤 알고리즘이 예측력이 높은지 주석으로 작성\n",
    "\n",
    "\n"
   ]
  },
  {
   "cell_type": "code",
   "execution_count": 25,
   "id": "499ea216-cd12-483d-80df-4ca706043c23",
   "metadata": {
    "execution": {
     "iopub.execute_input": "2025-05-24T14:02:33.351361Z",
     "iopub.status.busy": "2025-05-24T14:02:33.351361Z",
     "iopub.status.idle": "2025-05-24T14:02:33.358370Z",
     "shell.execute_reply": "2025-05-24T14:02:33.358370Z",
     "shell.execute_reply.started": "2025-05-24T14:02:33.351361Z"
    }
   },
   "outputs": [],
   "source": [
    "# 실제 비즈니스에 활용하기 위해선 `Train & Test` 중 `어떤 데이터의 예측력이 더욱 중요한지 + 최종 활용 알고리즘` 주석으로 작성\n",
    "\n",
    "\n"
   ]
  },
  {
   "cell_type": "markdown",
   "id": "e3167afa-4d16-4c36-8a51-d8febb91a7ff",
   "metadata": {},
   "source": [
    "# **Explanation:** 실제 예측력이 높은 과거 이유를 설명하고 미래 설명 근거 제시\n",
    "\n",
    "**1) `Train Explanation:`** 과거 설명력\n",
    "\n",
    "> (1) Logistic Regresion 기준,\n",
    "> - 모델의 `summary 함수 결과`를 출력\n",
    ">   \n",
    "> - 추정된 계수(Coef.)의 `odds ratio`를 계산한 후 `1을 예측하는데 중요하다고 분석한 변수 상위 10개`를 출력하고 `해석 작성` \n",
    "\n",
    "> (2) Random Forest & XGBoost 중,\n",
    "> - Train 검증지표 성능이 높았던 알고리즘의 종속변수에 영향을 주는 `Feature Importance 출력 및 상위 5개의 변수 이름`을 주석으로 작성\n",
    "\n",
    "> (3) `종속변수에 영향을 주는 변수들`을 결정\n",
    "> - 위 2가지 알고리즘으로 추론된 `영향을 주는 변수들의 교집합`으로 중요 `설명변수 결정` 및 주석으로 작성\n",
    "> - 교집합이 없을시 `Logistic Regression 기준 변수들로 최종 중요 설명변수 결정` 및 주석으로 작성\n",
    "\n",
    "> (4) `과거`에는 설명변수가 종속변수에 어떻게 영향을 줬는지 `해석`\n",
    "> - 최종 선택된 설명변수들이 Logistic Regression Summary를 기반으로 종속변수에 `어떻게 영향을 주는지 주석으로 설명`\n",
    "> - ex. 설명변수가 1증가시 종속변수 확률이 어떻게 변했음\n",
    "\n",
    "**2) `Test Explanation:`** 미래 설명력\n",
    "\n",
    "> (1) Random Forest & XGBoost 중,\n",
    "> - Test 검증지표 성능이 높았던 알고리즘의 종속변수에 영향을 주는 `Feature Importance 출력 및 상위 5개의 변수 이름`을 주석으로 작성\n",
    "\n",
    "> (2) `미래`에는 설명변수가 종속변수에 어떻게 영향을 줄수 있을지 `해석`\n",
    "> - `Test 예측 성능과 Train 상위 5개 설명변수를 기반`으로, 향후 종속변수에 `어떻게 영향을 주게 될지 정량적` 의견을 주석으로 작성\n",
    "> - ex. 과거에도 특정 변수가 종속변수에 영향을 주는 경향이 미래에는 블라블라한 확률로~~, 미래에는 종속변수에 블라블라 영향을 줄수 있으며 그 근거는 블라블라~\n",
    "\n",
    "> (3) 위 내용을 근거로 `정성적 미래 비즈니스를 기획 또는 전략을 어떻게 구성하면 좋을지 의견`을 주석으로 자유 작성"
   ]
  },
  {
   "cell_type": "markdown",
   "id": "1446c1b2",
   "metadata": {},
   "source": [
    "## 1) **`Train Explanation:`** 과거 설명력"
   ]
  },
  {
   "cell_type": "code",
   "execution_count": 26,
   "id": "bec59e53",
   "metadata": {
    "execution": {
     "iopub.execute_input": "2025-05-24T14:02:33.360377Z",
     "iopub.status.busy": "2025-05-24T14:02:33.359378Z",
     "iopub.status.idle": "2025-05-24T14:02:33.368559Z",
     "shell.execute_reply": "2025-05-24T14:02:33.368559Z",
     "shell.execute_reply.started": "2025-05-24T14:02:33.360377Z"
    }
   },
   "outputs": [],
   "source": [
    "# Logistic Regression Summary 결과 출력\n",
    "\n",
    "\n"
   ]
  },
  {
   "cell_type": "code",
   "execution_count": 27,
   "id": "f977d288-a7a0-4cf0-a971-40be38436268",
   "metadata": {
    "execution": {
     "iopub.execute_input": "2025-05-24T14:02:33.369565Z",
     "iopub.status.busy": "2025-05-24T14:02:33.369565Z",
     "iopub.status.idle": "2025-05-24T14:02:33.377072Z",
     "shell.execute_reply": "2025-05-24T14:02:33.376566Z",
     "shell.execute_reply.started": "2025-05-24T14:02:33.369565Z"
    }
   },
   "outputs": [],
   "source": [
    "# 추정된 계수(Coef.)의 odds ratio를 계산한 후 1을 예측하는데 중요하다고 분석한 변수 상위 10개를 출력하고 해석 작성 \n",
    "\n",
    "\n"
   ]
  },
  {
   "cell_type": "code",
   "execution_count": 28,
   "id": "78b9ae6e-c012-4db4-a334-3bef353a3ba0",
   "metadata": {
    "execution": {
     "iopub.execute_input": "2025-05-24T14:02:33.379079Z",
     "iopub.status.busy": "2025-05-24T14:02:33.378079Z",
     "iopub.status.idle": "2025-05-24T14:02:33.384320Z",
     "shell.execute_reply": "2025-05-24T14:02:33.384320Z",
     "shell.execute_reply.started": "2025-05-24T14:02:33.379079Z"
    }
   },
   "outputs": [],
   "source": [
    "# Random Forest & XGBoost 중,\n",
    "# Train 검증지표 성능이 높았던 알고리즘의 종속변수에 영향을 주는 Feature Importance 상위 5개의 변수 이름을 주석으로 작성\n",
    "\n",
    "\n"
   ]
  },
  {
   "cell_type": "code",
   "execution_count": 29,
   "id": "46277de1-0051-4786-9c2f-bc167dc6d919",
   "metadata": {
    "execution": {
     "iopub.execute_input": "2025-05-24T14:02:33.385336Z",
     "iopub.status.busy": "2025-05-24T14:02:33.385336Z",
     "iopub.status.idle": "2025-05-24T14:02:33.392564Z",
     "shell.execute_reply": "2025-05-24T14:02:33.392564Z",
     "shell.execute_reply.started": "2025-05-24T14:02:33.385336Z"
    }
   },
   "outputs": [],
   "source": [
    "# 위 2가지 알고리즘으로 추론된 영향을 주는 변수들의 교집합으로 중요 설명변수 결정 및 주석으로 작성\n",
    "# 교집합이 없을시 Logistic Regression 기준 변수들로 최종 중요 설명변수 결정 및 주석으로 작성\n",
    "\n",
    "\n"
   ]
  },
  {
   "cell_type": "code",
   "execution_count": 30,
   "id": "42f618b1-8659-408d-bdc7-7164471bdc86",
   "metadata": {
    "execution": {
     "iopub.execute_input": "2025-05-24T14:02:33.393570Z",
     "iopub.status.busy": "2025-05-24T14:02:33.393570Z",
     "iopub.status.idle": "2025-05-24T14:02:33.400949Z",
     "shell.execute_reply": "2025-05-24T14:02:33.400949Z",
     "shell.execute_reply.started": "2025-05-24T14:02:33.393570Z"
    }
   },
   "outputs": [],
   "source": [
    "# 과거에는 설명변수가 종속변수에 어떻게 영향을 줬는지 해석\n",
    "# 최종 선택된 설명변수들이 Logistic Regression Summary를 기반으로 종속변수에 어떻게 영향을 주는지 주석으로 설명\n",
    "\n",
    "\n"
   ]
  },
  {
   "cell_type": "markdown",
   "id": "6ae144fc-6588-4786-b5b5-2242b81e7faa",
   "metadata": {},
   "source": [
    "## 2) **`Test Explanation:`** 미래 설명력"
   ]
  },
  {
   "cell_type": "code",
   "execution_count": 31,
   "id": "829343f8-8dcd-4dd9-b442-3a76435020a1",
   "metadata": {
    "execution": {
     "iopub.execute_input": "2025-05-24T14:02:33.401977Z",
     "iopub.status.busy": "2025-05-24T14:02:33.401977Z",
     "iopub.status.idle": "2025-05-24T14:02:33.408967Z",
     "shell.execute_reply": "2025-05-24T14:02:33.408967Z",
     "shell.execute_reply.started": "2025-05-24T14:02:33.401977Z"
    }
   },
   "outputs": [],
   "source": [
    "# Random Forest & XGBoost 중,\n",
    "# Test 검증지표 성능이 높았던 알고리즘의 종속변수에 영향을 주는 Feature Importance 출력 및 상위 5개의 변수 이름을 주석으로 작성\n",
    "\n",
    "\n"
   ]
  },
  {
   "cell_type": "code",
   "execution_count": 32,
   "id": "a5270ae8-f2f8-4ef0-acfa-082c59a3e459",
   "metadata": {
    "execution": {
     "iopub.execute_input": "2025-05-24T14:02:33.411249Z",
     "iopub.status.busy": "2025-05-24T14:02:33.410250Z",
     "iopub.status.idle": "2025-05-24T14:02:33.417665Z",
     "shell.execute_reply": "2025-05-24T14:02:33.416658Z",
     "shell.execute_reply.started": "2025-05-24T14:02:33.411249Z"
    }
   },
   "outputs": [],
   "source": [
    "# 미래에는 설명변수가 종속변수에 어떻게 영향을 줄수 있을지 해석\n",
    "# Test 예측 성능과 Train 상위 5개 설명변수를 기반으로, 향후 종속변수에 어떻게 영향을 주게 될지 정량적 의견을 주석으로 작성\n",
    "\n",
    "\n"
   ]
  },
  {
   "cell_type": "code",
   "execution_count": 33,
   "id": "925b298a-58b7-4484-9a05-31b8723a4350",
   "metadata": {
    "execution": {
     "iopub.execute_input": "2025-05-24T14:02:33.418664Z",
     "iopub.status.busy": "2025-05-24T14:02:33.417665Z",
     "iopub.status.idle": "2025-05-24T14:02:33.424839Z",
     "shell.execute_reply": "2025-05-24T14:02:33.424839Z",
     "shell.execute_reply.started": "2025-05-24T14:02:33.418664Z"
    }
   },
   "outputs": [],
   "source": [
    "# 위 내용을 근거로 정성적 미래 비즈니스를 기획 또는 전략을 어떻게 구성하면 좋을지 의견을 주석으로 자유 작성\n",
    "\n",
    "\n"
   ]
  },
  {
   "cell_type": "markdown",
   "id": "e7a462d0-40cb-42e4-aba2-5b455c4be55c",
   "metadata": {},
   "source": [
    "# **Future Analysis:** 분석 성능/종료 판단하기\n",
    "\n",
    "- 향후 모델링의 성능을 높이기 위해 `어떤 데이터 또는 전처리 추가/변경/삭제 등을` 고려해 볼 수 있는지 주석으로 작성"
   ]
  },
  {
   "cell_type": "code",
   "execution_count": 34,
   "id": "01fcf845-096d-46b3-9529-7acd48c456ff",
   "metadata": {
    "execution": {
     "iopub.execute_input": "2025-05-24T14:02:33.426847Z",
     "iopub.status.busy": "2025-05-24T14:02:33.425846Z",
     "iopub.status.idle": "2025-05-24T14:02:33.433227Z",
     "shell.execute_reply": "2025-05-24T14:02:33.433227Z",
     "shell.execute_reply.started": "2025-05-24T14:02:33.426847Z"
    }
   },
   "outputs": [],
   "source": [
    "# 향후 모델링의 성능을 높이기 위해 `어떤 데이터 또는 전처리 추가/변경/삭제 등을` 고려해 볼 수 있는지 주석으로 작성\n",
    "\n",
    "\n"
   ]
  },
  {
   "cell_type": "code",
   "execution_count": 35,
   "id": "0452fd47",
   "metadata": {
    "execution": {
     "iopub.execute_input": "2025-05-24T14:02:33.434234Z",
     "iopub.status.busy": "2025-05-24T14:02:33.434234Z",
     "iopub.status.idle": "2025-05-24T14:02:33.443458Z",
     "shell.execute_reply": "2025-05-24T14:02:33.443458Z",
     "shell.execute_reply.started": "2025-05-24T14:02:33.434234Z"
    }
   },
   "outputs": [
    {
     "name": "stdout",
     "output_type": "stream",
     "text": [
      "Intel64 Family 6 Model 186 Stepping 2, GenuineIntel\n",
      "32(GB)\n",
      "Windows\n",
      "10.0.26100\n",
      "C:\\DataScience\\Lecture\\[DataScience]\n",
      "2024-12-12 00:34:16.155373\n",
      "2025-05-24 23:02:21.228873\n",
      "2025-05-24 23:02:21.228873\n",
      "2025-05-24 23:02:33.441233\n",
      "다음 출력을 파일명으로 설정하고 제출하시오: 김경원_20211011_인공지능활용디지털경제플랫폼연구_DA_SupervisedClassification\n"
     ]
    }
   ],
   "source": [
    "### 종료 및 본인정보 반영\n",
    "# 반드시 이 cell을 실행하시오\n",
    "# 실행하지 않을 시 직접 하지 않은 것으로 간주\n",
    "# 마지막 줄 출력으로 파일명을 설정하고 제출 필수\n",
    "import platform, psutil, os, datetime\n",
    "print(platform.processor())\n",
    "print(str(round(psutil.virtual_memory().total / (1024.0 **3)))+\"(GB)\")\n",
    "print(platform.system())\n",
    "print(platform.version())\n",
    "print(os.getcwd())\n",
    "print(datetime.datetime.fromtimestamp(os.path.getctime(os.getcwd())))\n",
    "print(datetime.datetime.fromtimestamp(os.path.getmtime(os.getcwd())))\n",
    "print(datetime.datetime.fromtimestamp(os.path.getatime(os.getcwd())))\n",
    "print(datetime.datetime.now())\n",
    "title = 'DA_SupervisedClassification'    # 고정값\n",
    "name = '김경원'    # 본인 이름을 작성\n",
    "studentid = '20211011'    # 본인 학번을 작성\n",
    "# 아래 강좌 명 중 본인이 수강하는 강과명 작성\n",
    "# 비즈니스데이터사이언스이해, E정보시스템, 디지털비즈니스애널리틱스, E데이터베이스, 인공지능기반의사결정, 빅데이터 등\n",
    "# 비즈니스혁신을위한데이터사이언스응용, 인공지능활용디지털경제플랫폼연구 등\n",
    "course = '인공지능활용디지털경제플랫폼연구'    \n",
    "print('다음 출력을 파일명으로 설정하고 제출하시오:', name + '_' + studentid + '_' + course + '_' + title)"
   ]
  }
 ],
 "metadata": {
  "hide_input": false,
  "kernelspec": {
   "display_name": "Python 3 (ipykernel)",
   "language": "python",
   "name": "python3"
  },
  "language_info": {
   "codemirror_mode": {
    "name": "ipython",
    "version": 3
   },
   "file_extension": ".py",
   "mimetype": "text/x-python",
   "name": "python",
   "nbconvert_exporter": "python",
   "pygments_lexer": "ipython3",
   "version": "3.12.3"
  },
  "toc": {
   "base_numbering": 1,
   "nav_menu": {},
   "number_sections": true,
   "sideBar": true,
   "skip_h1_title": false,
   "title_cell": "Table of Contents",
   "title_sidebar": "Contents",
   "toc_cell": false,
   "toc_position": {
    "height": "calc(100% - 180px)",
    "left": "10px",
    "top": "150px",
    "width": "512px"
   },
   "toc_section_display": true,
   "toc_window_display": true
  },
  "varInspector": {
   "cols": {
    "lenName": 16,
    "lenType": 16,
    "lenVar": 40
   },
   "kernels_config": {
    "python": {
     "delete_cmd_postfix": "",
     "delete_cmd_prefix": "del ",
     "library": "var_list.py",
     "varRefreshCmd": "print(var_dic_list())"
    },
    "r": {
     "delete_cmd_postfix": ") ",
     "delete_cmd_prefix": "rm(",
     "library": "var_list.r",
     "varRefreshCmd": "cat(var_dic_list()) "
    }
   },
   "types_to_exclude": [
    "module",
    "function",
    "builtin_function_or_method",
    "instance",
    "_Feature"
   ],
   "window_display": false
  }
 },
 "nbformat": 4,
 "nbformat_minor": 5
}
