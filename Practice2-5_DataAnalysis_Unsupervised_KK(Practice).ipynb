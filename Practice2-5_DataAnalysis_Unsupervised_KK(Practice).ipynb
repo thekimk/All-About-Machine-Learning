{
 "cells": [
  {
   "cell_type": "code",
   "execution_count": 1,
   "id": "34b0abba",
   "metadata": {
    "execution": {
     "iopub.execute_input": "2025-05-21T17:18:45.291250Z",
     "iopub.status.busy": "2025-05-21T17:18:45.291250Z",
     "iopub.status.idle": "2025-05-21T17:18:45.298745Z",
     "shell.execute_reply": "2025-05-21T17:18:45.298745Z",
     "shell.execute_reply.started": "2025-05-21T17:18:45.291250Z"
    }
   },
   "outputs": [
    {
     "name": "stdout",
     "output_type": "stream",
     "text": [
      "Intel64 Family 6 Model 186 Stepping 2, GenuineIntel\n",
      "32(GB)\n",
      "Windows\n",
      "10.0.26100\n",
      "C:\\DataScience\\Lecture\\[DataScience]\n",
      "2024-12-12 00:34:16.155373\n",
      "2025-05-22 02:18:31.028821\n",
      "2025-05-22 02:18:31.028821\n",
      "2025-05-22 02:18:45.296764\n",
      "다음 출력을 파일명으로 설정하고 제출하시오: 김경원_20211011_인공지능활용디지털경제플랫폼연구_DA_Unsupervised\n"
     ]
    }
   ],
   "source": [
    "### 시작 및 본인정보 반영\n",
    "# 반드시 이 cell을 실행하시오\n",
    "# 실행하지 않을 시 직접 하지 않은 것으로 간주\n",
    "# 마지막 줄 출력으로 파일명을 설정하고 제출 필수\n",
    "import platform, psutil, os, datetime\n",
    "print(platform.processor())\n",
    "print(str(round(psutil.virtual_memory().total / (1024.0 **3)))+\"(GB)\")\n",
    "print(platform.system())\n",
    "print(platform.version())\n",
    "print(os.getcwd())\n",
    "print(datetime.datetime.fromtimestamp(os.path.getctime(os.getcwd())))\n",
    "print(datetime.datetime.fromtimestamp(os.path.getmtime(os.getcwd())))\n",
    "print(datetime.datetime.fromtimestamp(os.path.getatime(os.getcwd())))\n",
    "print(datetime.datetime.now())\n",
    "title = 'DA_Unsupervised'    # 고정값\n",
    "name = '김경원'    # 본인 이름을 작성\n",
    "studentid = '20211011'    # 본인 학번을 작성\n",
    "# 아래 강좌 명 중 본인이 수강하는 강과명 작성\n",
    "# 비즈니스데이터사이언스이해, E정보시스템, 디지털비즈니스애널리틱스, E데이터베이스, 인공지능기반의사결정, 빅데이터 등\n",
    "# 비즈니스혁신을위한데이터사이언스응용, 인공지능활용디지털경제플랫폼연구 등\n",
    "course = '인공지능활용디지털경제플랫폼연구'    \n",
    "print('다음 출력을 파일명으로 설정하고 제출하시오:', name + '_' + studentid + '_' + course + '_' + title)"
   ]
  },
  {
   "cell_type": "markdown",
   "id": "c11d78dd",
   "metadata": {},
   "source": [
    "# **Data Loading:** 분석에 사용할 데이터 불러오기\n",
    "\n",
    "- 아래 표의 `비즈니스 문제 대상 데이터`의 비즈니스 목적을 보고 `관심있는 데이터`를 선택하여 분석에 사용\n",
    "- 모든 데이터는 [Kaggle Competition](https://www.kaggle.com/)에서 추출되었으며, `현 Jupyter Notebook`과 동일위치 `DataTest 폴더`에 있음\n",
    "- 데이터에 대한 설명은 아래 표의 `설명 참고링크`를 통해 확인할 수 있지만, 실제 사용 데이터는 링크가 아닌 `반드시 DataTest에 저장된 데이터` 사용!\n",
    "> 원본은 링크의 데이터이지만 과제에서 사용되는 데이터는 `원본이 일부 변경되어 저장`되었기 때문\n",
    "- 분석은 `개인PC나 Google Colab` 중 편한 곳에서 진행하면 되고, 분석 결과들은 향후 `경진대회나 공모전 및 데이터사이언스 분야 면접이나 시험`에 대비 가능\n",
    "\n",
    "| **분야** | **비즈니스 목적** | **파일명** | **종속변수 Y** | **설명 참고링크** |\n",
    "|:---:|:---|:---|:---|:---|\n",
    "| **Sports** | 레슬링 토너먼트의 선수 순위를 정확하게   예측하여 투기 승률을 향상 | `Regression_WrestlingTournamentRank.csv` | `rank` | https://www.kaggle.com/datasets/julienjta/wrestling-world-tournament |\n",
    "| **Business** | 중고차 가격을 정확하게 예측하여   저평가된 중고차의 특징을 예측하여 구매전략 지원 | `Regression_UsedCarPrice.csv` | `price` | https://www.kaggle.com/datasets/vijayaadithyanvg/car-price-predictionused-cars |\n",
    "| **Education** | 학생들의 환경에 따른   중등학업성취도(GradeScore)를 정확하게 예측하여 교육환경 특징 파악 및 교육방향 지원 | `Regression_StudentPerformance.csv` | `GradeScore` | https://www.kaggle.com/datasets/ishandutta/student-performance-data-set |\n",
    "| **Culture** | 인기음악을 정확하게 예측하여 향후 어떤   특징의 음악이 인기음악이 될지 예측하여 기획과 전략 지원 | `Regression_SongPopularity.csv` | `song_popularity` | https://www.kaggle.com/datasets/yasserh/song-popularity-dataset |\n",
    "| **Human** | 기업 임직원들의 직업 만족도를 정확하게   예측하여 만족도를 높이기 위한 특성으로 인사전략 지원 | `Regression_JobSatisfaction.csv` | `satisfaction_level` | https://www.kaggle.com/datasets/mfaisalqureshi/hr-analytics-and-job-prediction |\n",
    "| **Finance** | 보험료를 정확하게 예측하여 보험료가   낮더라도 사고 위험이 낮은 고객의 특징을 예측 | `Regression_InsurancePremium.csv` | `charges` | https://www.kaggle.com/datasets/simranjain17/insurance |\n",
    "| **Tour** | 고객들의 여행취소를 정확하게 예측하여   취소가 예상되는 고객을 찾고 기업의 매출손실 대비 | `Classification_TravelCustomerChurn.csv` | `Target` | https://www.kaggle.com/datasets/tejashvi14/tour-travels-customer-churn-prediction |\n",
    "| **Marketing** | 마케팅이 구매로 이어지는 관계를   정확하게 예측 및 특성을 확인하여 마케팅 효과를 높이고 매출 향상 지원 | `Classification_MarketingEfficiency.csv` | `Response` | https://www.kaggle.com/datasets/rodsaldanha/arketing-campaign |\n",
    "| **Human** | 기업 임직원들의 불만족을 정확하게   예측하여 퇴사 확률을 낮출 수 있는 인사전략 지원 | `Classification_JobSatisfaction.csv` | `satisfaction_level` | https://www.kaggle.com/datasets/mfaisalqureshi/hr-analytics-and-job-prediction |\n",
    "| **Medicine** | 심장질환 여부를 정확하게 예측하여   심장질환에 걸릴 가능성이 높은 고객의 특징을 예측 | `Classification_HeartDisease.csv` | `TenYearCHD` | https://www.kaggle.com/datasets/dileep070/heart-disease-prediction-using-logistic-regression |\n",
    "| **Ecommerce** | 이커머스 만족도를 정확하게 예측하여   만족도 향상을 위한 특성을 확인하고 고객 유입 전략 지원 | `Classification_EcommerceSatisfaction.csv` | `Customer_rating` | https://www.kaggle.com/datasets/prachi13/customer-analytics |\n",
    "| **Service** | 항공기를 이용하는 고객의 서비스   만족도를 정확하게 예측하여 특성을 확인하고 추가적인 서비스기획 지원 | `Classification_AirlineSatisfaction.csv` | `satisfaction` | https://www.kaggle.com/datasets/sjleshrac/airlines-customer-satisfaction |\n"
   ]
  },
  {
   "cell_type": "code",
   "execution_count": null,
   "id": "7b713a06",
   "metadata": {},
   "outputs": [],
   "source": []
  },
  {
   "cell_type": "code",
   "execution_count": null,
   "id": "a1ee9733",
   "metadata": {},
   "outputs": [],
   "source": []
  },
  {
   "cell_type": "code",
   "execution_count": null,
   "id": "0807b4e0",
   "metadata": {},
   "outputs": [],
   "source": []
  },
  {
   "cell_type": "markdown",
   "id": "a223fe5d",
   "metadata": {},
   "source": [
    "# **Data Analysis Summary:** 기존 문제 해결 결과 정리\n",
    "\n",
    "- **`기존 문제 해결`과제의 `데이터분석 과정을 정리 및 모두 실행`**\n",
    "\n",
    "> - 수치예측 문제를 선택한 경우: `Practice2-2_DataAnalysis_SupervisedRegression_KK(Practice)` 파일에서 작성한,\n",
    "> - 분류예측 문제를 선택한 경우: `Practice2-3_DataAnalysis_SupervisedClassification_KK(Practice)` 파일에서 작성한,\n",
    "> - `Import Library + Data Loading + Preprocessing + Applying Algorithms + Explanation + Error Analysis / Future Analysis` 단계를,\n",
    "> - `각 단계별로 함수로 정리`하여 하나의 셀에 실행하고 + `전체 실행 코드`를 또 하나의 셀에 실행"
   ]
  },
  {
   "cell_type": "markdown",
   "id": "1dcec709",
   "metadata": {},
   "source": [
    "## 1) 각 단계별 함수 활용 및 정리"
   ]
  },
  {
   "cell_type": "code",
   "execution_count": 2,
   "id": "79570b93-dbac-4c0f-be49-e563375f7639",
   "metadata": {
    "execution": {
     "iopub.execute_input": "2025-05-21T17:18:45.299751Z",
     "iopub.status.busy": "2025-05-21T17:18:45.299751Z",
     "iopub.status.idle": "2025-05-21T17:18:45.305617Z",
     "shell.execute_reply": "2025-05-21T17:18:45.305617Z",
     "shell.execute_reply.started": "2025-05-21T17:18:45.299751Z"
    }
   },
   "outputs": [],
   "source": [
    "# Import Library 모두 실행\n",
    "\n",
    "\n"
   ]
  },
  {
   "cell_type": "code",
   "execution_count": 3,
   "id": "2b38b33e",
   "metadata": {
    "execution": {
     "iopub.execute_input": "2025-05-21T17:18:45.307622Z",
     "iopub.status.busy": "2025-05-21T17:18:45.306622Z",
     "iopub.status.idle": "2025-05-21T17:18:45.314621Z",
     "shell.execute_reply": "2025-05-21T17:18:45.314621Z",
     "shell.execute_reply.started": "2025-05-21T17:18:45.307622Z"
    }
   },
   "outputs": [],
   "source": [
    "# Data Loading 함수\n",
    "\n",
    "\n"
   ]
  },
  {
   "cell_type": "code",
   "execution_count": 4,
   "id": "b8d45cf3",
   "metadata": {
    "execution": {
     "iopub.execute_input": "2025-05-21T17:18:45.316033Z",
     "iopub.status.busy": "2025-05-21T17:18:45.316033Z",
     "iopub.status.idle": "2025-05-21T17:18:45.322973Z",
     "shell.execute_reply": "2025-05-21T17:18:45.322973Z",
     "shell.execute_reply.started": "2025-05-21T17:18:45.316033Z"
    }
   },
   "outputs": [],
   "source": [
    "# Preprocessing 함수\n",
    "\n",
    "\n"
   ]
  },
  {
   "cell_type": "code",
   "execution_count": 5,
   "id": "3c591652-b61c-4ccb-ab2a-ff1e8f2b722c",
   "metadata": {
    "execution": {
     "iopub.execute_input": "2025-05-21T17:18:45.323979Z",
     "iopub.status.busy": "2025-05-21T17:18:45.323979Z",
     "iopub.status.idle": "2025-05-21T17:18:45.331334Z",
     "shell.execute_reply": "2025-05-21T17:18:45.331334Z",
     "shell.execute_reply.started": "2025-05-21T17:18:45.323979Z"
    }
   },
   "outputs": [],
   "source": [
    "# Applying Algorithms 적용\n",
    "\n",
    "\n"
   ]
  },
  {
   "cell_type": "code",
   "execution_count": 6,
   "id": "148072c1-76f5-4637-af65-fa158220296a",
   "metadata": {
    "execution": {
     "iopub.execute_input": "2025-05-21T17:18:45.334338Z",
     "iopub.status.busy": "2025-05-21T17:18:45.334338Z",
     "iopub.status.idle": "2025-05-21T17:18:45.339675Z",
     "shell.execute_reply": "2025-05-21T17:18:45.339675Z",
     "shell.execute_reply.started": "2025-05-21T17:18:45.334338Z"
    }
   },
   "outputs": [],
   "source": [
    "# Explanation 함수\n",
    "\n",
    "\n"
   ]
  },
  {
   "cell_type": "code",
   "execution_count": 7,
   "id": "86345111-6f63-47ce-94d9-4b46dfdf169d",
   "metadata": {
    "execution": {
     "iopub.execute_input": "2025-05-21T17:18:45.340689Z",
     "iopub.status.busy": "2025-05-21T17:18:45.340689Z",
     "iopub.status.idle": "2025-05-21T17:18:45.348717Z",
     "shell.execute_reply": "2025-05-21T17:18:45.348717Z",
     "shell.execute_reply.started": "2025-05-21T17:18:45.340689Z"
    }
   },
   "outputs": [],
   "source": [
    "# Error Analysis 또는 Future Analysis 에서 주석으로 작성한 어떤 데이터 또는 전처리 추가/변경/삭제 등을 고려하려 했는지 작성\n",
    "\n",
    "\n"
   ]
  },
  {
   "cell_type": "markdown",
   "id": "635a0cbf",
   "metadata": {},
   "source": [
    "## 2) 1)에서 작성한 코드 활용 전체 분석 실행"
   ]
  },
  {
   "cell_type": "code",
   "execution_count": 8,
   "id": "699c2d1d",
   "metadata": {
    "execution": {
     "iopub.execute_input": "2025-05-21T17:18:45.349979Z",
     "iopub.status.busy": "2025-05-21T17:18:45.349979Z",
     "iopub.status.idle": "2025-05-21T17:18:45.357978Z",
     "shell.execute_reply": "2025-05-21T17:18:45.357978Z",
     "shell.execute_reply.started": "2025-05-21T17:18:45.349979Z"
    }
   },
   "outputs": [],
   "source": [
    "# Import Library\n",
    "\n",
    "\n",
    "# Data Loading\n",
    "\n",
    "\n",
    "# Preprocessing\n",
    "\n",
    "\n",
    "# Applying Algorithms\n",
    "\n",
    "\n",
    "# Explanation\n",
    "\n",
    "\n"
   ]
  },
  {
   "cell_type": "markdown",
   "id": "feb20686",
   "metadata": {},
   "source": [
    "# **Performance Update**\n",
    "\n",
    "- **정성적 및 정량적 접근을 통한 `예측 성능 개선`**\n",
    "\n",
    "> (1) 정성적 생각을 반영한 예측 성능 개선\n",
    "> - `Error Analysis / Future Analysis` 단계의 의견을 적용하여 성능 확인\n",
    ">\n",
    "> (2) 정량적 비지도학습 `K-means 군집화 알고리즘`을 데이터 `전처리 과정의 샘플 변환`에 적용하여 예측 성능 확인\n",
    "> <center><img src='Image/Advanced/Unsupervised_Clustering_Reduction.png' width='900'></center>\n",
    "> \n",
    "> (3) 정량적 비지도학습 `PCA 차원축소 알고리즘`을 데이터 `전처리 과정의 변수 변환`에 적용하여 예측 성능 확인\n",
    "> - `새롭게 생성된 독립변수들의 의미`와 알고리즘 반영 비율을 확인하기 위해,\n",
    "> - Train 데이터 기준, `추정된 고유벡터를 시각화`하여 `독립변수와의 상관성을 기준으로 고유벡터의 의미 주석으로 작성`\n",
    "> - `Scree Plot`으로 각 `고유벡터의 분산 설명 비율과 누적값 2가지를 시각화`\n",
    "> - 90% 분산설명비율을 기준으로, `몇개의 독립변수를 선택해야 하는지 주석으로 설명하고 새로운 독립변수 Train & Test 데이터`로 확정\n",
    ">\n",
    "> (4) 추가적인 예측 성능을 향상 시키기 위한 방법를 `조사 및 창의적으로 개발하여 자유롭게 적용`\n",
    "> - 이전 과정들을 포함하여 `예측 성능은 좋아질 수도 안좋아질 수도 있음`\n",
    "> - 동일한 문제와 데이터를 분석하더라도 `데이터분석가에 따라 성능은 달라질 수 있음`\n",
    "> - 앞선 과정들을 포함하여 기존에 존재하는 해결방법들은 `경쟁사들도 모두 사용하는 방식`이기 때문에 `미래에는 효과가 없음`\n",
    "> - 따라서 실제 현실 비즈니스에서는 여러분들이 배우지 않은 `새로운 방법을 찾고 창의적으로 개발하여 적용`해야 함\n",
    "> - 그러한 과정을 한번쯤 경험해 보기를.. \n",
    "> - `책은 지나간 과거라서 그저 참고만 될 뿐, 미래는 어떤 책에서도 항상 정답이 없고..`\n",
    "> - `따라서 여러분 인생에서 이 시험의 정답은 미래에 전혀 가치가 없고 쓸모도 없을 뿐더러..`\n",
    "> - 오로지 미래에도 쓸수 있는 것은 어떤 백지에서도 `빠르고 정확하게 + 선착순으로 + 문제를 해결하는 역량뿐!`"
   ]
  },
  {
   "cell_type": "markdown",
   "id": "103be65e-6a58-4b2b-8164-ce99a8ac3f0e",
   "metadata": {},
   "source": [
    "## (1) 정성적 생각을 반영한 예측 성능 개선"
   ]
  },
  {
   "cell_type": "code",
   "execution_count": 9,
   "id": "3bc7b65d",
   "metadata": {
    "execution": {
     "iopub.execute_input": "2025-05-21T17:18:45.360122Z",
     "iopub.status.busy": "2025-05-21T17:18:45.359098Z",
     "iopub.status.idle": "2025-05-21T17:18:45.366115Z",
     "shell.execute_reply": "2025-05-21T17:18:45.366115Z",
     "shell.execute_reply.started": "2025-05-21T17:18:45.360122Z"
    }
   },
   "outputs": [],
   "source": [
    "# Error Analysis / Future Analysis 단계의 의견을 적용하여 성능 확인\n",
    "\n",
    "\n"
   ]
  },
  {
   "cell_type": "markdown",
   "id": "8d2d689d-6ce0-4054-af40-6e725d8854c1",
   "metadata": {},
   "source": [
    "## (2) 정량적 비지도학습 K-means 군집화 알고리즘을 데이터 전처리 과정의 샘플 변환에 적용하여 예측 성능 확인"
   ]
  },
  {
   "cell_type": "code",
   "execution_count": 10,
   "id": "a7d02823-3813-43cb-badb-624a9f04ce5f",
   "metadata": {
    "execution": {
     "iopub.execute_input": "2025-05-21T17:18:45.367300Z",
     "iopub.status.busy": "2025-05-21T17:18:45.367300Z",
     "iopub.status.idle": "2025-05-21T17:18:45.374300Z",
     "shell.execute_reply": "2025-05-21T17:18:45.374300Z",
     "shell.execute_reply.started": "2025-05-21T17:18:45.367300Z"
    }
   },
   "outputs": [],
   "source": [
    "# K-means 활용 데이터 전처리\n",
    "## 이전 분석에서 사용된 전처리 데이터와 구분하기 위해\n",
    "## 전처리 완료된 데이터의 변수명을 X_train_clust, X_test_clust, Y_train, Y_test 로 반영 및 활용할 것\n",
    "\n",
    "\n"
   ]
  },
  {
   "cell_type": "code",
   "execution_count": 11,
   "id": "33ab7da0-ff61-47f6-8e2b-dda4987d12b4",
   "metadata": {
    "execution": {
     "iopub.execute_input": "2025-05-21T17:18:45.376522Z",
     "iopub.status.busy": "2025-05-21T17:18:45.375522Z",
     "iopub.status.idle": "2025-05-21T17:18:45.382545Z",
     "shell.execute_reply": "2025-05-21T17:18:45.382545Z",
     "shell.execute_reply.started": "2025-05-21T17:18:45.376522Z"
    }
   },
   "outputs": [],
   "source": [
    "# 성능 확인\n",
    "## Import Library\n",
    "\n",
    "\n",
    "## Data Loading\n",
    "\n",
    "\n",
    "## Preprocessing\n",
    "\n",
    "\n",
    "## Applying Algorithms\n",
    "\n",
    "\n",
    "## Explanation\n",
    "\n",
    "\n"
   ]
  },
  {
   "cell_type": "markdown",
   "id": "5adfb477-4654-492a-9172-c333ba6fdfcc",
   "metadata": {},
   "source": [
    "## (3) 정량적 비지도학습 PCA 차원축소 알고리즘을 데이터 전처리 과정의 변수 변환에 적용하여 예측 성능 확인"
   ]
  },
  {
   "cell_type": "code",
   "execution_count": 12,
   "id": "50384771-9c8d-4c3e-b64e-ceb2c79c1490",
   "metadata": {
    "execution": {
     "iopub.execute_input": "2025-05-21T17:18:45.383670Z",
     "iopub.status.busy": "2025-05-21T17:18:45.383670Z",
     "iopub.status.idle": "2025-05-21T17:18:45.390604Z",
     "shell.execute_reply": "2025-05-21T17:18:45.390604Z",
     "shell.execute_reply.started": "2025-05-21T17:18:45.383670Z"
    }
   },
   "outputs": [],
   "source": [
    "# PCA 활용 데이터 전처리\n",
    "## Train 데이터 기준, 추정된 고유벡터를 시각화하여 독립변수와의 상관성을 기준으로 고유벡터의 의미 주석으로 작성\n",
    "## Scree Plot으로 각 고유벡터의 분산 설명 비율과 누적값 2가지를 시각화\n",
    "\n",
    "\n"
   ]
  },
  {
   "cell_type": "code",
   "execution_count": 13,
   "id": "e2053ef8-fdc2-4131-b911-a6658750324d",
   "metadata": {
    "execution": {
     "iopub.execute_input": "2025-05-21T17:18:45.391610Z",
     "iopub.status.busy": "2025-05-21T17:18:45.391610Z",
     "iopub.status.idle": "2025-05-21T17:18:45.399080Z",
     "shell.execute_reply": "2025-05-21T17:18:45.399080Z",
     "shell.execute_reply.started": "2025-05-21T17:18:45.391610Z"
    }
   },
   "outputs": [],
   "source": [
    "## 90% 분산설명비율을 기준으로, 몇개의 독립변수를 선택해야 하는지 주석으로 설명하고 새로운 독립변수 Train & Test 데이터로 확정\n",
    "## 이전 분석에서 사용된 전처리 데이터와 구분하기 위해\n",
    "## 전처리 완료된 데이터의 변수명을 X_train_pca, X_test_pca, Y_train, Y_test 로 반영 및 활용할 것\n",
    "\n",
    "\n"
   ]
  },
  {
   "cell_type": "code",
   "execution_count": 14,
   "id": "b87fc4b6-94a6-4c1b-adeb-bf1215205df6",
   "metadata": {
    "execution": {
     "iopub.execute_input": "2025-05-21T17:18:45.400111Z",
     "iopub.status.busy": "2025-05-21T17:18:45.400111Z",
     "iopub.status.idle": "2025-05-21T17:18:45.407786Z",
     "shell.execute_reply": "2025-05-21T17:18:45.407786Z",
     "shell.execute_reply.started": "2025-05-21T17:18:45.400111Z"
    }
   },
   "outputs": [],
   "source": [
    "# 성능 확인 (90% 분산설명비율 기준)\n",
    "## Import Library\n",
    "\n",
    "\n",
    "## Data Loading\n",
    "\n",
    "\n",
    "## Preprocessing\n",
    "\n",
    "\n",
    "## Applying Algorithms\n",
    "\n",
    "\n",
    "## Explanation\n",
    "\n",
    "\n"
   ]
  },
  {
   "cell_type": "code",
   "execution_count": 15,
   "id": "835ba188-dd8e-4050-a850-a8c31adbd95f",
   "metadata": {
    "execution": {
     "iopub.execute_input": "2025-05-21T17:18:45.408791Z",
     "iopub.status.busy": "2025-05-21T17:18:45.408791Z",
     "iopub.status.idle": "2025-05-21T17:18:45.415916Z",
     "shell.execute_reply": "2025-05-21T17:18:45.415916Z",
     "shell.execute_reply.started": "2025-05-21T17:18:45.408791Z"
    }
   },
   "outputs": [],
   "source": [
    "# 성능 확인 (80% 분산설명비율로 변경하여 재실행)\n",
    "## Import Library\n",
    "\n",
    "\n",
    "## Data Loading\n",
    "\n",
    "\n",
    "## Preprocessing\n",
    "\n",
    "\n",
    "## Applying Algorithms\n",
    "\n",
    "\n",
    "## Explanation\n",
    "\n",
    "\n"
   ]
  },
  {
   "cell_type": "markdown",
   "id": "0ff21842-d302-4de6-874f-740c67c0f3c2",
   "metadata": {},
   "source": [
    "## (4) 추가적인 예측 성능을 향상 시키기 위한 방법를 조사 및 창의적으로 개발하여 자유롭게 적용"
   ]
  },
  {
   "cell_type": "code",
   "execution_count": 16,
   "id": "62012cf6-fd48-436b-b214-f1ffee51a181",
   "metadata": {
    "execution": {
     "iopub.execute_input": "2025-05-21T17:18:45.416922Z",
     "iopub.status.busy": "2025-05-21T17:18:45.416922Z",
     "iopub.status.idle": "2025-05-21T17:18:45.424731Z",
     "shell.execute_reply": "2025-05-21T17:18:45.424731Z",
     "shell.execute_reply.started": "2025-05-21T17:18:45.416922Z"
    }
   },
   "outputs": [],
   "source": [
    "# 추가적인 아이디어 제시\n",
    "\n",
    "\n"
   ]
  },
  {
   "cell_type": "code",
   "execution_count": 17,
   "id": "6162e4b1-39bb-470e-a8ff-b5812b5cf23e",
   "metadata": {
    "execution": {
     "iopub.execute_input": "2025-05-21T17:18:45.426737Z",
     "iopub.status.busy": "2025-05-21T17:18:45.425737Z",
     "iopub.status.idle": "2025-05-21T17:18:45.432737Z",
     "shell.execute_reply": "2025-05-21T17:18:45.432737Z",
     "shell.execute_reply.started": "2025-05-21T17:18:45.426737Z"
    }
   },
   "outputs": [],
   "source": [
    "# 성능 확인\n",
    "## Import Library\n",
    "\n",
    "\n",
    "## Data Loading\n",
    "\n",
    "\n",
    "## Preprocessing\n",
    "\n",
    "\n",
    "## Applying Algorithms\n",
    "\n",
    "\n",
    "## Explanation\n",
    "\n",
    "\n"
   ]
  },
  {
   "cell_type": "markdown",
   "id": "954ee93b",
   "metadata": {},
   "source": [
    "# **Best Model Summary:** 가장 예측 성능이 좋은 모델링 결과 정리\n",
    "\n",
    "\n",
    "- **4가지 분석 과정 `(1), (2), (3), (4)` 중 가장 예측 성능이 좋았던 데이터분석 결과를 정리**\n",
    "\n",
    "> - 가장 성능 좋은 `데이터분석 과정의 단계별 흐름을 주석으로 정리하여 설명`\n",
    "> - (1) -> (2) -> (3) -> (4) 과정에서 성능이 좋아질수도 나빠졌을 수도 있는데 `그 이유에 대해서 자유롭게 주석으로 작성`\n",
    "> - 전체 분석 과정을 `Best_Platform`이라는 함수명으로 구현하여 `원본 데이터를 입력하여 예측값 + 성능 + 설명력이 잘 출력되는지` 확인 \n"
   ]
  },
  {
   "cell_type": "code",
   "execution_count": 18,
   "id": "d264cc44",
   "metadata": {
    "execution": {
     "iopub.execute_input": "2025-05-21T17:18:45.433771Z",
     "iopub.status.busy": "2025-05-21T17:18:45.433771Z",
     "iopub.status.idle": "2025-05-21T17:18:45.441771Z",
     "shell.execute_reply": "2025-05-21T17:18:45.441771Z",
     "shell.execute_reply.started": "2025-05-21T17:18:45.433771Z"
    }
   },
   "outputs": [],
   "source": [
    "# 가장 성능 좋은 데이터분석 과정의 단계별 흐름을 주석으로 정리하여 설명\n",
    "## Preprocessing 과정 설명\n",
    "\n",
    "\n",
    "## Applying Algorithms + Explanation 과정 설명\n",
    "\n",
    "\n"
   ]
  },
  {
   "cell_type": "code",
   "execution_count": 19,
   "id": "d61eba0d",
   "metadata": {
    "execution": {
     "iopub.execute_input": "2025-05-21T17:18:45.443852Z",
     "iopub.status.busy": "2025-05-21T17:18:45.442854Z",
     "iopub.status.idle": "2025-05-21T17:18:45.449070Z",
     "shell.execute_reply": "2025-05-21T17:18:45.449070Z",
     "shell.execute_reply.started": "2025-05-21T17:18:45.443852Z"
    }
   },
   "outputs": [],
   "source": [
    "# (1) -> (2) -> (3) -> (4) 과정에서 성능이 좋아질수도 나빠졌을 수도 있는데 그 이유에 대해서 자유롭게 주석으로 작성\n",
    "\n",
    "\n"
   ]
  },
  {
   "cell_type": "code",
   "execution_count": 20,
   "id": "d1b16a9d-8799-4caf-8e85-90229e0687e6",
   "metadata": {
    "execution": {
     "iopub.execute_input": "2025-05-21T17:18:45.451109Z",
     "iopub.status.busy": "2025-05-21T17:18:45.450076Z",
     "iopub.status.idle": "2025-05-21T17:18:45.462598Z",
     "shell.execute_reply": "2025-05-21T17:18:45.461087Z",
     "shell.execute_reply.started": "2025-05-21T17:18:45.451109Z"
    }
   },
   "outputs": [],
   "source": [
    "# 전체 분석 과정을 Best_Platform이라는 함수명으로 구현하여 원본 데이터를 입력하여 예측값 + 성능 + 설명력이 잘 출력되는지 확인\n",
    "## 해당 입출력이 반영된 Best_Platform 함수화\n",
    "\n",
    "\n",
    "## 실제 입력을 Best_Platform에 통과시켜 출력 3종 확인\n",
    "\n",
    "\n"
   ]
  },
  {
   "cell_type": "code",
   "execution_count": 21,
   "id": "0452fd47",
   "metadata": {
    "execution": {
     "iopub.execute_input": "2025-05-21T17:18:45.463600Z",
     "iopub.status.busy": "2025-05-21T17:18:45.463600Z",
     "iopub.status.idle": "2025-05-21T17:18:45.473462Z",
     "shell.execute_reply": "2025-05-21T17:18:45.473462Z",
     "shell.execute_reply.started": "2025-05-21T17:18:45.463600Z"
    }
   },
   "outputs": [
    {
     "name": "stdout",
     "output_type": "stream",
     "text": [
      "Intel64 Family 6 Model 186 Stepping 2, GenuineIntel\n",
      "32(GB)\n",
      "Windows\n",
      "10.0.26100\n",
      "C:\\DataScience\\Lecture\\[DataScience]\n",
      "2024-12-12 00:34:16.155373\n",
      "2025-05-22 02:18:31.028821\n",
      "2025-05-22 02:18:31.028821\n",
      "2025-05-22 02:18:45.470600\n",
      "다음 출력을 파일명으로 설정하고 제출하시오: 김경원_20211011_인공지능활용디지털경제플랫폼연구_DA_Unsupervised\n"
     ]
    }
   ],
   "source": [
    "### 종료 및 본인정보 반영\n",
    "# 반드시 이 cell을 실행하시오\n",
    "# 실행하지 않을 시 직접 하지 않은 것으로 간주\n",
    "# 마지막 줄 출력으로 파일명을 설정하고 제출 필수\n",
    "import platform, psutil, os, datetime\n",
    "print(platform.processor())\n",
    "print(str(round(psutil.virtual_memory().total / (1024.0 **3)))+\"(GB)\")\n",
    "print(platform.system())\n",
    "print(platform.version())\n",
    "print(os.getcwd())\n",
    "print(datetime.datetime.fromtimestamp(os.path.getctime(os.getcwd())))\n",
    "print(datetime.datetime.fromtimestamp(os.path.getmtime(os.getcwd())))\n",
    "print(datetime.datetime.fromtimestamp(os.path.getatime(os.getcwd())))\n",
    "print(datetime.datetime.now())\n",
    "title = 'DA_Unsupervised'    # 고정값\n",
    "name = '김경원'    # 본인 이름을 작성\n",
    "studentid = '20211011'    # 본인 학번을 작성\n",
    "# 아래 강좌 명 중 본인이 수강하는 강과명 작성\n",
    "# 비즈니스데이터사이언스이해, E정보시스템, 디지털비즈니스애널리틱스, E데이터베이스, 인공지능기반의사결정, 빅데이터 등\n",
    "# 비즈니스혁신을위한데이터사이언스응용, 인공지능활용디지털경제플랫폼연구 등\n",
    "course = '인공지능활용디지털경제플랫폼연구'    \n",
    "print('다음 출력을 파일명으로 설정하고 제출하시오:', name + '_' + studentid + '_' + course + '_' + title)"
   ]
  }
 ],
 "metadata": {
  "hide_input": false,
  "kernelspec": {
   "display_name": "Python 3 (ipykernel)",
   "language": "python",
   "name": "python3"
  },
  "language_info": {
   "codemirror_mode": {
    "name": "ipython",
    "version": 3
   },
   "file_extension": ".py",
   "mimetype": "text/x-python",
   "name": "python",
   "nbconvert_exporter": "python",
   "pygments_lexer": "ipython3",
   "version": "3.12.3"
  },
  "toc": {
   "base_numbering": 1,
   "nav_menu": {},
   "number_sections": true,
   "sideBar": true,
   "skip_h1_title": false,
   "title_cell": "Table of Contents",
   "title_sidebar": "Contents",
   "toc_cell": false,
   "toc_position": {
    "height": "calc(100% - 180px)",
    "left": "10px",
    "top": "150px",
    "width": "307.198px"
   },
   "toc_section_display": true,
   "toc_window_display": true
  },
  "varInspector": {
   "cols": {
    "lenName": 16,
    "lenType": 16,
    "lenVar": 40
   },
   "kernels_config": {
    "python": {
     "delete_cmd_postfix": "",
     "delete_cmd_prefix": "del ",
     "library": "var_list.py",
     "varRefreshCmd": "print(var_dic_list())"
    },
    "r": {
     "delete_cmd_postfix": ") ",
     "delete_cmd_prefix": "rm(",
     "library": "var_list.r",
     "varRefreshCmd": "cat(var_dic_list()) "
    }
   },
   "types_to_exclude": [
    "module",
    "function",
    "builtin_function_or_method",
    "instance",
    "_Feature"
   ],
   "window_display": false
  }
 },
 "nbformat": 4,
 "nbformat_minor": 5
}
