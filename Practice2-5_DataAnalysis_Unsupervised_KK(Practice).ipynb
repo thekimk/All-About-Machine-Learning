{
 "cells": [
  {
   "cell_type": "code",
   "execution_count": 1,
   "id": "34b0abba",
   "metadata": {
    "execution": {
     "iopub.execute_input": "2025-06-18T14:41:27.782073Z",
     "iopub.status.busy": "2025-06-18T14:41:27.782073Z",
     "iopub.status.idle": "2025-06-18T14:41:27.789397Z",
     "shell.execute_reply": "2025-06-18T14:41:27.789397Z",
     "shell.execute_reply.started": "2025-06-18T14:41:27.782073Z"
    }
   },
   "outputs": [
    {
     "name": "stdout",
     "output_type": "stream",
     "text": [
      "Intel64 Family 6 Model 186 Stepping 2, GenuineIntel\n",
      "32(GB)\n",
      "Windows\n",
      "10.0.26100\n",
      "C:\\DataScience\\Lecture\\[DataScience]\n",
      "2024-12-12 00:34:16.155373\n",
      "2025-06-18 23:41:22.500377\n",
      "2025-06-18 23:41:22.500377\n",
      "2025-06-18 23:41:27.788073\n",
      "다음 출력을 파일명으로 설정하고 제출하시오: 김경원_20211011_인공지능활용디지털경제플랫폼연구_DA_Unsupervised\n"
     ]
    }
   ],
   "source": [
    "### 시작 및 본인정보 반영\n",
    "# 반드시 이 cell을 실행하시오\n",
    "# 실행하지 않을 시 직접 하지 않은 것으로 간주\n",
    "# 마지막 줄 출력으로 파일명을 설정하고 제출 필수\n",
    "import platform, psutil, os, datetime\n",
    "print(platform.processor())\n",
    "print(str(round(psutil.virtual_memory().total / (1024.0 **3)))+\"(GB)\")\n",
    "print(platform.system())\n",
    "print(platform.version())\n",
    "print(os.getcwd())\n",
    "print(datetime.datetime.fromtimestamp(os.path.getctime(os.getcwd())))\n",
    "print(datetime.datetime.fromtimestamp(os.path.getmtime(os.getcwd())))\n",
    "print(datetime.datetime.fromtimestamp(os.path.getatime(os.getcwd())))\n",
    "print(datetime.datetime.now())\n",
    "title = 'DA_Unsupervised'    # 고정값\n",
    "name = '김경원'    # 본인 이름을 작성\n",
    "studentid = '20211011'    # 본인 학번을 작성\n",
    "# 아래 강좌 명 중 본인이 수강하는 강과명 작성\n",
    "# 비즈니스데이터사이언스이해, E정보시스템, 디지털비즈니스애널리틱스, E데이터베이스, 인공지능기반의사결정, 빅데이터 등\n",
    "# 비즈니스혁신을위한데이터사이언스응용, 인공지능활용디지털경제플랫폼연구 등\n",
    "course = '인공지능활용디지털경제플랫폼연구'    \n",
    "print('다음 출력을 파일명으로 설정하고 제출하시오:', name + '_' + studentid + '_' + course + '_' + title)"
   ]
  },
  {
   "cell_type": "markdown",
   "id": "a223fe5d",
   "metadata": {},
   "source": [
    "# **Data Analysis Summary:** 기존 문제 해결 결과 정리\n",
    "\n",
    "- **`기존 문제 해결`과제의 `데이터분석 과정을 정리 및 모두 실행`**\n",
    "\n",
    "> - 수치예측 문제를 선택한 경우: `Practice2-2_DataAnalysis_SupervisedRegression_KK(Practice)` 파일에서 작성한,\n",
    "> - 분류예측 문제를 선택한 경우: `Practice2-3_DataAnalysis_SupervisedClassification_KK(Practice)` 파일에서 작성한,\n",
    "> - 가장 성능이 좋았던 분석결과의 `Import Library + Data Loading + Preprocessing + Applying Algorithms + Explanation + Error Analysis / Future Analysis` 단계를,\n",
    "> - `각 단계별로 함수로 정리`하여 하나의 셀에 실행하고 + `전체 실행 코드`를 또 하나의 셀에 실행하여 `성능 재확인`"
   ]
  },
  {
   "cell_type": "markdown",
   "id": "1dcec709",
   "metadata": {},
   "source": [
    "## (1) 가장 성능좋은 알고리즘의 분석 단계별 함수화 작성"
   ]
  },
  {
   "cell_type": "code",
   "execution_count": 2,
   "id": "79570b93-dbac-4c0f-be49-e563375f7639",
   "metadata": {
    "execution": {
     "iopub.execute_input": "2025-06-18T14:41:27.791402Z",
     "iopub.status.busy": "2025-06-18T14:41:27.791402Z",
     "iopub.status.idle": "2025-06-18T14:41:27.808254Z",
     "shell.execute_reply": "2025-06-18T14:41:27.808254Z",
     "shell.execute_reply.started": "2025-06-18T14:41:27.791402Z"
    }
   },
   "outputs": [],
   "source": [
    "# Import Library 모두 실행\n",
    "\n",
    "\n"
   ]
  },
  {
   "cell_type": "code",
   "execution_count": 3,
   "id": "2b38b33e",
   "metadata": {
    "execution": {
     "iopub.execute_input": "2025-06-18T14:41:27.809258Z",
     "iopub.status.busy": "2025-06-18T14:41:27.809258Z",
     "iopub.status.idle": "2025-06-18T14:41:27.818452Z",
     "shell.execute_reply": "2025-06-18T14:41:27.818452Z",
     "shell.execute_reply.started": "2025-06-18T14:41:27.809258Z"
    }
   },
   "outputs": [],
   "source": [
    "# Data Loading 함수\n",
    "\n",
    "\n"
   ]
  },
  {
   "cell_type": "code",
   "execution_count": 4,
   "id": "b8d45cf3",
   "metadata": {
    "execution": {
     "iopub.execute_input": "2025-06-18T14:41:27.819459Z",
     "iopub.status.busy": "2025-06-18T14:41:27.819459Z",
     "iopub.status.idle": "2025-06-18T14:41:27.829418Z",
     "shell.execute_reply": "2025-06-18T14:41:27.829418Z",
     "shell.execute_reply.started": "2025-06-18T14:41:27.819459Z"
    }
   },
   "outputs": [],
   "source": [
    "# Preprocessing 함수\n",
    "\n",
    "\n"
   ]
  },
  {
   "cell_type": "code",
   "execution_count": 5,
   "id": "3c591652-b61c-4ccb-ab2a-ff1e8f2b722c",
   "metadata": {
    "execution": {
     "iopub.execute_input": "2025-06-18T14:41:27.830423Z",
     "iopub.status.busy": "2025-06-18T14:41:27.830423Z",
     "iopub.status.idle": "2025-06-18T14:41:27.842322Z",
     "shell.execute_reply": "2025-06-18T14:41:27.842322Z",
     "shell.execute_reply.started": "2025-06-18T14:41:27.830423Z"
    }
   },
   "outputs": [],
   "source": [
    "# Applying Algorithms 함수\n",
    "\n",
    "\n"
   ]
  },
  {
   "cell_type": "code",
   "execution_count": 6,
   "id": "a036d0d4-121f-451f-95ab-2adc55fb364c",
   "metadata": {
    "execution": {
     "iopub.execute_input": "2025-06-18T14:41:27.843327Z",
     "iopub.status.busy": "2025-06-18T14:41:27.843327Z",
     "iopub.status.idle": "2025-06-18T14:41:27.855140Z",
     "shell.execute_reply": "2025-06-18T14:41:27.855140Z",
     "shell.execute_reply.started": "2025-06-18T14:41:27.843327Z"
    }
   },
   "outputs": [],
   "source": [
    "# Performance Evaluation 함수\n",
    "\n",
    "\n"
   ]
  },
  {
   "cell_type": "code",
   "execution_count": 7,
   "id": "148072c1-76f5-4637-af65-fa158220296a",
   "metadata": {
    "execution": {
     "iopub.execute_input": "2025-06-18T14:41:27.856146Z",
     "iopub.status.busy": "2025-06-18T14:41:27.856146Z",
     "iopub.status.idle": "2025-06-18T14:41:27.863145Z",
     "shell.execute_reply": "2025-06-18T14:41:27.863145Z",
     "shell.execute_reply.started": "2025-06-18T14:41:27.856146Z"
    }
   },
   "outputs": [],
   "source": [
    "# Explanation 함수\n",
    "\n",
    "\n"
   ]
  },
  {
   "cell_type": "code",
   "execution_count": 8,
   "id": "86345111-6f63-47ce-94d9-4b46dfdf169d",
   "metadata": {
    "execution": {
     "iopub.execute_input": "2025-06-18T14:41:27.864643Z",
     "iopub.status.busy": "2025-06-18T14:41:27.864643Z",
     "iopub.status.idle": "2025-06-18T14:41:27.870583Z",
     "shell.execute_reply": "2025-06-18T14:41:27.870583Z",
     "shell.execute_reply.started": "2025-06-18T14:41:27.864643Z"
    }
   },
   "outputs": [],
   "source": [
    "# Error Analysis 또는 Future Analysis 에서 주석으로 작성한 어떤 데이터 또는 전처리 추가/변경/삭제 등을 고려하려 했는지 작성\n",
    "\n",
    "\n"
   ]
  },
  {
   "cell_type": "markdown",
   "id": "635a0cbf",
   "metadata": {},
   "source": [
    "## (2) 위 \"함수\" 활용, 함수 제외 핵심코드만 실행하여 \"최고성능 재확인\"\n",
    "\n",
    "- 함수를 사용하지 않고 일일이 다시 실행시 미반영으로 간주"
   ]
  },
  {
   "cell_type": "code",
   "execution_count": 9,
   "id": "699c2d1d",
   "metadata": {
    "execution": {
     "iopub.execute_input": "2025-06-18T14:41:27.871589Z",
     "iopub.status.busy": "2025-06-18T14:41:27.871589Z",
     "iopub.status.idle": "2025-06-18T14:41:27.886096Z",
     "shell.execute_reply": "2025-06-18T14:41:27.885590Z",
     "shell.execute_reply.started": "2025-06-18T14:41:27.871589Z"
    }
   },
   "outputs": [],
   "source": [
    "# Import Library\n",
    "\n",
    "\n",
    "# Data Loading\n",
    "\n",
    "\n",
    "# Preprocessing\n",
    "\n",
    "\n",
    "# Applying Algorithms\n",
    "\n",
    "\n",
    "# Performance Evaluation\n",
    "\n",
    "\n",
    "# Explanation\n",
    "\n",
    "\n"
   ]
  },
  {
   "cell_type": "markdown",
   "id": "feb20686",
   "metadata": {},
   "source": [
    "# **Performance Update**\n",
    "\n",
    "- **목표: 정성적 및 정량적 접근을 통한 `예측 성능 개선`**\n",
    "- **`Data Analysis Summary를 Base로 (1), (2), (3), (4)를 독립적으로 각각 수행`**\n",
    "- **반드시 `Data Analysis Summary와 동일한 성능지표 종류와 갯수`로 성능 확인!`**\n",
    "\n",
    "> (1) 정성적 생각을 반영한 예측 성능 개선\n",
    "> - `Error Analysis / Future Analysis` 단계의 의견을 적용하여 성능 확인\n",
    ">\n",
    "> (2) 정량적 비지도학습 `K-means 군집화 알고리즘`을 데이터 `전처리 과정의 샘플 변환`에 적용하여 예측 성능 확인\n",
    "> <center><img src='Image/Advanced/Unsupervised_Clustering_Reduction.png' width='900'></center>\n",
    "> \n",
    "> (3) 정량적 비지도학습 `PCA 차원축소 알고리즘`을 데이터 `전처리 과정의 변수 변환`에 적용하여 예측 성능 확인\n",
    "> - `새롭게 생성된 독립변수들의 의미`와 알고리즘 반영 비율을 확인하기 위해,\n",
    "> - Train 데이터 기준, `추정된 고유벡터를 시각화`하여 `독립변수와의 상관성을 기준으로 고유벡터의 의미 주석으로 작성`\n",
    "> - `Scree Plot`으로 각 `고유벡터의 분산 설명 비율과 누적값 2가지를 시각화`\n",
    "> - 90% 분산설명비율을 기준으로, `몇개의 독립변수를 선택해야 하는지 주석으로 설명하고 새로운 독립변수 Train & Test 데이터`로 확정\n",
    ">\n",
    "> (4) 추가적인 예측 성능을 향상 시키기 위한 방법를 `조사 및 창의적으로 개발하여 자유롭게 적용`\n",
    "> - 이전 과정들을 포함하여 `예측 성능은 좋아질 수도 안좋아질 수도 있음`\n",
    "> - 동일한 문제와 데이터를 분석하더라도 `데이터분석가에 따라 성능은 달라질 수 있음`\n",
    "> - 앞선 과정들을 포함하여 기존에 존재하는 해결방법들은 `경쟁사들도 모두 사용하는 방식`이기 때문에 `미래에는 효과가 없음`\n",
    "> - 따라서 실제 현실 비즈니스에서는 여러분들이 배우지 않은 `새로운 방법을 찾고 창의적으로 개발하여 적용`해야 함\n",
    "> - 그러한 과정을 한번쯤 경험해 보기를.. \n",
    "> - `책은 지나간 과거라서 그저 참고만 될 뿐, 미래는 어떤 책에서도 항상 정답이 없고..`\n",
    "> - `따라서 여러분 인생에서 이 시험의 정답은 미래에 전혀 가치가 없고 쓸모도 없을 뿐더러..`\n",
    "> - 오로지 미래에도 쓸수 있는 것은 어떤 백지에서도 `빠르고 정확하게 + 선착순으로 + 문제를 해결하는 역량뿐!`"
   ]
  },
  {
   "cell_type": "markdown",
   "id": "103be65e-6a58-4b2b-8164-ce99a8ac3f0e",
   "metadata": {},
   "source": [
    "## (1) 정성적 생각을 반영한 예측 성능 개선\n",
    "\n",
    "- `Error Analysis / Future Analysis` 단계의 의견을 적용하여 성능 확인"
   ]
  },
  {
   "cell_type": "code",
   "execution_count": 10,
   "id": "137a0f53-6011-47b0-a543-2ba402e29fa8",
   "metadata": {
    "execution": {
     "iopub.execute_input": "2025-06-18T14:41:27.887102Z",
     "iopub.status.busy": "2025-06-18T14:41:27.887102Z",
     "iopub.status.idle": "2025-06-18T14:41:27.897323Z",
     "shell.execute_reply": "2025-06-18T14:41:27.897323Z",
     "shell.execute_reply.started": "2025-06-18T14:41:27.887102Z"
    }
   },
   "outputs": [],
   "source": [
    "# Error Analysis 또는 Future Analysis 에서 주석으로 작성한 어떤 데이터 또는 전처리 추가/변경/삭제 등을 고려하려 했는지 재작성\n",
    "\n",
    "\n"
   ]
  },
  {
   "cell_type": "code",
   "execution_count": 11,
   "id": "e89ce1e9-da25-4fff-ad7d-8a260217baf3",
   "metadata": {
    "execution": {
     "iopub.execute_input": "2025-06-18T14:41:27.898328Z",
     "iopub.status.busy": "2025-06-18T14:41:27.898328Z",
     "iopub.status.idle": "2025-06-18T14:41:27.905673Z",
     "shell.execute_reply": "2025-06-18T14:41:27.905673Z",
     "shell.execute_reply.started": "2025-06-18T14:41:27.898328Z"
    }
   },
   "outputs": [],
   "source": [
    "# Error Analysis / Future Analysis 단계의 의견을 적용하여 성능 확인\n",
    "# 위에서 언급한 \"Error Analysis 또는 Future Analysis 에서 주석으로 작성한 어떤 데이터 또는 전처리 추가/변경/삭제 등을 고려하려 했는지\"\n",
    "# 부분을 어디에서 반영된 것인지 주석으로 아래 단계들에서 명확하게 표현해야 반영 인정\n",
    "## Import Library\n",
    "## Data Analysis Summary 에서 추가하지 못한 Library 또는 함수를 정리하여 \"이 셀에만 작성!\"\n",
    "\n",
    "\n"
   ]
  },
  {
   "cell_type": "code",
   "execution_count": 12,
   "id": "3bc7b65d",
   "metadata": {
    "execution": {
     "iopub.execute_input": "2025-06-18T14:41:27.906678Z",
     "iopub.status.busy": "2025-06-18T14:41:27.906678Z",
     "iopub.status.idle": "2025-06-18T14:41:27.913725Z",
     "shell.execute_reply": "2025-06-18T14:41:27.913725Z",
     "shell.execute_reply.started": "2025-06-18T14:41:27.906678Z"
    }
   },
   "outputs": [],
   "source": [
    "# 성능 확인\n",
    "# Data Analysis Summary와 위 셀에서 반영한 함수를 사용하지 않고 일일이 다시 실행시 미반영으로 간주\n",
    "# 따라서 함수부분은 위에서 실행 후 아래 셀에는 함수를 제외한 핵심코드만으로 간략히 해결\n",
    "# Performance Ecalustion에선 반드시 Data Analysis Summary와 동일한 성능지표 종류와 갯수로 예측 성능 개선 표현!\n",
    "# 반복적인 함수작성 + 임의 셀문제 변경 + 불필요한 내용 등 가독성이 떨어져 이해안될시 감점\n",
    "## Data Loading\n",
    "\n",
    "\n",
    "## Preprocessing\n",
    "\n",
    "\n",
    "## Applying Algorithms\n",
    "\n",
    "\n",
    "## Performance Evaluation\n",
    "\n",
    "\n",
    "## Explanation\n",
    "\n",
    "\n"
   ]
  },
  {
   "cell_type": "markdown",
   "id": "8d2d689d-6ce0-4054-af40-6e725d8854c1",
   "metadata": {},
   "source": [
    "## (2) 정량적 비지도학습 K-means 군집화 알고리즘을 데이터 전처리 과정의 샘플 변환에 적용하여 예측 성능 확인\n",
    "\n",
    "<center><img src='Image/Advanced/Unsupervised_Clustering_Reduction.png' width='900'></center>"
   ]
  },
  {
   "cell_type": "code",
   "execution_count": 13,
   "id": "c77c2271-176d-449c-8928-1a84da8cf83e",
   "metadata": {
    "execution": {
     "iopub.execute_input": "2025-06-18T14:41:27.914732Z",
     "iopub.status.busy": "2025-06-18T14:41:27.914732Z",
     "iopub.status.idle": "2025-06-18T14:41:27.926897Z",
     "shell.execute_reply": "2025-06-18T14:41:27.926897Z",
     "shell.execute_reply.started": "2025-06-18T14:41:27.914732Z"
    }
   },
   "outputs": [],
   "source": [
    "# 정량적 비지도학습 K-means 군집화 알고리즘을 데이터 전처리 과정의 샘플 변환에 적용하여 예측 성능 확인을 위해,\n",
    "## Import Library\n",
    "## Data Analysis Summary 에서 추가하지 못한 Library 또는 함수를 정리하여 \"이 셀에만 작성!\"\n",
    "\n",
    "\n"
   ]
  },
  {
   "cell_type": "code",
   "execution_count": 14,
   "id": "5f07c95e-5ac2-43fa-89ae-3cb537136ca1",
   "metadata": {
    "execution": {
     "iopub.execute_input": "2025-06-18T14:41:27.927901Z",
     "iopub.status.busy": "2025-06-18T14:41:27.927901Z",
     "iopub.status.idle": "2025-06-18T14:41:27.938794Z",
     "shell.execute_reply": "2025-06-18T14:41:27.938794Z",
     "shell.execute_reply.started": "2025-06-18T14:41:27.927901Z"
    }
   },
   "outputs": [],
   "source": [
    "# 성능 확인\n",
    "# Data Analysis Summary와 위 셀에서 반영한 함수를 사용하지 않고 일일이 다시 실행시 미반영으로 간주\n",
    "# 따라서 함수부분은 위에서 실행 후 아래 셀에는 함수를 제외한 핵심코드만으로 간략히 해결\n",
    "# Performance Ecalustion에선 반드시 Data Analysis Summary와 동일한 성능지표 종류와 갯수로 예측 성능 개선 표현!\n",
    "# 반복적인 함수작성 + 임의 셀문제 변경 + 불필요한 내용 등 가독성이 떨어져 이해안될시 감점\n",
    "## Data Loading\n",
    "\n",
    "\n",
    "## Preprocessing\n",
    "## 기존 Data Analysis Summary 전처리에서 K-means 활용 데이터 전처리 추가\n",
    "## 이전 분석에서 사용된 전처리 데이터와 구분하기 위해\n",
    "## 전처리 완료된 데이터의 변수명을 X_train_clust, X_test_clust, Y_train, Y_test 로 반영 및 활용할 것\n",
    "\n",
    "\n"
   ]
  },
  {
   "cell_type": "code",
   "execution_count": 15,
   "id": "18b53627-d96b-4899-99d2-eae12a11766f",
   "metadata": {
    "execution": {
     "iopub.execute_input": "2025-06-18T14:41:27.939798Z",
     "iopub.status.busy": "2025-06-18T14:41:27.938794Z",
     "iopub.status.idle": "2025-06-18T14:41:27.948718Z",
     "shell.execute_reply": "2025-06-18T14:41:27.946710Z",
     "shell.execute_reply.started": "2025-06-18T14:41:27.939798Z"
    }
   },
   "outputs": [],
   "source": [
    "## Applying Algorithms\n",
    "\n",
    "\n",
    "## Performance Evaluation\n",
    "\n",
    "\n",
    "## Explanation\n",
    "\n",
    "\n"
   ]
  },
  {
   "cell_type": "markdown",
   "id": "5adfb477-4654-492a-9172-c333ba6fdfcc",
   "metadata": {},
   "source": [
    "## (3) 정량적 비지도학습 PCA 차원축소 알고리즘을 데이터 전처리 과정의 변수 변환에 적용하여 예측 성능 확인\n",
    "\n",
    "- `새롭게 생성된 독립변수들의 의미`와 알고리즘 반영 비율을 확인하기 위해,\n",
    "- Train 데이터 기준, `추정된 고유벡터를 시각화`하여 `독립변수와의 상관성을 기준으로 고유벡터의 의미 주석으로 작성`\n",
    "- `Scree Plot`으로 각 `고유벡터의 분산 설명 비율과 누적값 2가지를 시각화`\n",
    "- 90% 분산설명비율을 기준으로, `몇개의 독립변수를 선택해야 하는지 주석으로 설명하고 새로운 독립변수 Train & Test 데이터`로 확정"
   ]
  },
  {
   "cell_type": "code",
   "execution_count": 16,
   "id": "a44a9610-500d-42a3-b499-a81ce639d5b3",
   "metadata": {
    "execution": {
     "iopub.execute_input": "2025-06-18T14:41:27.950720Z",
     "iopub.status.busy": "2025-06-18T14:41:27.950720Z",
     "iopub.status.idle": "2025-06-18T14:41:27.959548Z",
     "shell.execute_reply": "2025-06-18T14:41:27.958541Z",
     "shell.execute_reply.started": "2025-06-18T14:41:27.950720Z"
    }
   },
   "outputs": [],
   "source": [
    "# 정량적 비지도학습 PCA 차원축소 알고리즘을 데이터 전처리 과정의 변수 변환에 적용하여 예측 성능 확인을 위해,\n",
    "## Import Library\n",
    "## Data Analysis Summary 에서 추가하지 못한 Library 또는 함수를 정리하여 \"이 셀에만 작성!\"\n",
    "\n",
    "\n"
   ]
  },
  {
   "cell_type": "code",
   "execution_count": 17,
   "id": "e22f6d96-c981-4407-8192-8128632f2b18",
   "metadata": {
    "execution": {
     "iopub.execute_input": "2025-06-18T14:41:27.960546Z",
     "iopub.status.busy": "2025-06-18T14:41:27.960546Z",
     "iopub.status.idle": "2025-06-18T14:41:27.973055Z",
     "shell.execute_reply": "2025-06-18T14:41:27.972549Z",
     "shell.execute_reply.started": "2025-06-18T14:41:27.960546Z"
    }
   },
   "outputs": [],
   "source": [
    "# 성능 확인\n",
    "# Data Analysis Summary와 위 셀에서 반영한 함수를 사용하지 않고 일일이 다시 실행시 미반영으로 간주\n",
    "# 따라서 함수부분은 위에서 실행 후 아래 셀에는 함수를 제외한 핵심코드만으로 간략히 해결\n",
    "# Performance Ecalustion에선 반드시 Data Analysis Summary와 동일한 성능지표 종류와 갯수로 예측 성능 개선 표현!\n",
    "# 반복적인 함수작성 + 임의 셀문제 변경 + 불필요한 내용 등 가독성이 떨어져 이해안될시 감점\n",
    "## Data Loading\n",
    "\n",
    "\n",
    "## Preprocessing\n",
    "## 기존 Data Analysis Summary 전처리에서 PCA 활용 데이터 전처리 추가\n",
    "## 이전 분석에서 사용된 전처리 데이터와 구분하기 위해\n",
    "## 전처리 완료된 데이터의 변수명을 X_train_pca, X_test_pca, Y_train, Y_test 로 반영 및 활용할 것\n",
    "## Train 데이터 기준, 추정된 고유벡터를 시각화하여 독립변수와의 상관성을 기준으로 고유벡터의 의미 주석으로 작성\n",
    "## Scree Plot으로 각 고유벡터의 분산 설명 비율과 누적값 2가지를 시각화\n",
    "## 90% 분산설명비율을 기준으로, 몇개의 독립변수를 선택해야 하는지 주석으로 설명하고 새로운 독립변수 Train & Test 데이터로 확정\n",
    "\n",
    "\n"
   ]
  },
  {
   "cell_type": "code",
   "execution_count": 18,
   "id": "b87fc4b6-94a6-4c1b-adeb-bf1215205df6",
   "metadata": {
    "execution": {
     "iopub.execute_input": "2025-06-18T14:41:27.975061Z",
     "iopub.status.busy": "2025-06-18T14:41:27.975061Z",
     "iopub.status.idle": "2025-06-18T14:41:27.985497Z",
     "shell.execute_reply": "2025-06-18T14:41:27.984490Z",
     "shell.execute_reply.started": "2025-06-18T14:41:27.975061Z"
    }
   },
   "outputs": [],
   "source": [
    "# 아래 과정을 실행하되 분산설명비율을 변경하며 실행하며,\n",
    "# 가장 성능이 높았을 때의 분산설명비율은 몇 퍼센트인지 그때의 독립변수의 갯수를 주석으로 작성하고\n",
    "# 최종적으로 가장 성능이 좋은 결과만 아래에 실행할 것\n",
    "## Applying Algorithms\n",
    "\n",
    "\n",
    "## Performance Evaluation\n",
    "\n",
    "\n",
    "## Explanation\n",
    "\n",
    "\n"
   ]
  },
  {
   "cell_type": "markdown",
   "id": "0ff21842-d302-4de6-874f-740c67c0f3c2",
   "metadata": {},
   "source": [
    "## (4)  동일한 모델 알고리즘에서 추가적인 예측 성능 향상을 위한 방법을 조사 및 창의적으로 개발하여 자유롭게 적용\n",
    "\n",
    "- 이전 과정들을 포함하여 `예측 성능은 좋아질 수도 안좋아질 수도 있음`\n",
    "- 동일한 문제와 데이터를 분석하더라도 `데이터분석가에 따라 성능은 달라질 수 있음`\n",
    "- 앞선 과정들을 포함하여 기존에 존재하는 해결방법들은 `경쟁사들도 모두 사용하는 방식`이기 때문에 `미래에는 효과가 없음`\n",
    "- 따라서 실제 현실 비즈니스에서는 여러분들이 배우지 않은 `새로운 방법을 찾고 창의적으로 개발하여 적용`해야 함\n",
    "- 그러한 과정을 한번쯤 경험해 보기를.. \n",
    "- `책은 지나간 과거라서 그저 참고만 될 뿐, 미래는 어떤 책에서도 항상 정답이 없고..`\n",
    "- `따라서 여러분 인생에서 이 시험의 정답은 미래에 전혀 가치가 없고 쓸모도 없을 뿐더러..`\n",
    "- 오로지 미래에도 쓸수 있는 것은 어떤 백지에서도 `빠르고 정확하게 + 선착순으로 + 문제를 해결하는 역량뿐!`"
   ]
  },
  {
   "cell_type": "code",
   "execution_count": 19,
   "id": "34addd2d-3618-41cb-ad57-f0dc500625f1",
   "metadata": {
    "execution": {
     "iopub.execute_input": "2025-06-18T14:41:27.986497Z",
     "iopub.status.busy": "2025-06-18T14:41:27.986497Z",
     "iopub.status.idle": "2025-06-18T14:41:27.994340Z",
     "shell.execute_reply": "2025-06-18T14:41:27.993333Z",
     "shell.execute_reply.started": "2025-06-18T14:41:27.986497Z"
    }
   },
   "outputs": [],
   "source": [
    "# 동일한 모델 알고리즘에서 추가적인 예측 성능 향상을 위한 방법을 조사 및 창의적으로 개발하여 자유롭게 적용을 위해,\n",
    "# 추가적인 아이디어 제시\n",
    "\n",
    "\n"
   ]
  },
  {
   "cell_type": "code",
   "execution_count": 20,
   "id": "b83ed1ef-95b9-4e2f-8385-312de89965b2",
   "metadata": {
    "execution": {
     "iopub.execute_input": "2025-06-18T14:41:27.995340Z",
     "iopub.status.busy": "2025-06-18T14:41:27.995340Z",
     "iopub.status.idle": "2025-06-18T14:41:28.005656Z",
     "shell.execute_reply": "2025-06-18T14:41:28.004653Z",
     "shell.execute_reply.started": "2025-06-18T14:41:27.995340Z"
    }
   },
   "outputs": [],
   "source": [
    "## Import Library\n",
    "## Data Analysis Summary 에서 추가하지 못한 Library 또는 함수를 정리하여 \"이 셀에만 작성!\"\n",
    "\n",
    "\n"
   ]
  },
  {
   "cell_type": "code",
   "execution_count": 21,
   "id": "6162e4b1-39bb-470e-a8ff-b5812b5cf23e",
   "metadata": {
    "execution": {
     "iopub.execute_input": "2025-06-18T14:41:28.005656Z",
     "iopub.status.busy": "2025-06-18T14:41:28.005656Z",
     "iopub.status.idle": "2025-06-18T14:41:28.016624Z",
     "shell.execute_reply": "2025-06-18T14:41:28.016624Z",
     "shell.execute_reply.started": "2025-06-18T14:41:28.005656Z"
    }
   },
   "outputs": [],
   "source": [
    "# 성능 확인\n",
    "# Data Analysis Summary와 위 셀에서 반영한 함수를 사용하지 않고 일일이 다시 실행시 미반영으로 간주\n",
    "# 따라서 함수부분은 위에서 실행 후 아래 셀에는 함수를 제외한 핵심코드만으로 간략히 해결\n",
    "# Performance Ecalustion에선 반드시 Data Analysis Summary와 동일한 성능지표 종류와 갯수로 예측 성능 개선 표현!\n",
    "# 반복적인 함수작성 + 임의 셀문제 변경 + 불필요한 내용 등 가독성이 떨어져 이해안될시 감점\n",
    "## Data Loading\n",
    "\n",
    "\n",
    "## Preprocessing\n",
    "\n",
    "\n",
    "## Applying Algorithms\n",
    "\n",
    "\n",
    "## Performance Evaluation\n",
    "\n",
    "\n",
    "## Explanation\n",
    "\n",
    "\n"
   ]
  },
  {
   "cell_type": "markdown",
   "id": "954ee93b",
   "metadata": {},
   "source": [
    "# **Best Model Summary:** 가장 예측 성능이 좋은 모델링 결과 정리\n",
    "\n",
    "\n",
    "- **4가지 분석 과정 `(1), (2), (3), (4)` 중 `Test 기준` 가장 예측 성능이 좋았던 데이터분석 결과를 정리**\n",
    "\n",
    "> - 가장 성능 좋은 `데이터분석 과정의 단계별 흐름을 주석으로 정리하여 설명`\n",
    "> - (1) -> (2) -> (3) -> (4) 과정에서 성능이 좋아질수도 나빠졌을 수도 있는데 `그 이유에 대해서 자유롭게 주석으로 작성`\n",
    "> - 전체 분석 과정을 `Best_Platform`이라는 `1개의 함수명`으로 구현하여 `원본 데이터 입력 후 예측값 + 최고성능 + 설명력 3종이 잘 출력` 확인 \n"
   ]
  },
  {
   "cell_type": "code",
   "execution_count": 22,
   "id": "1d09c709-8a04-4275-b98e-bc5428e8f919",
   "metadata": {
    "execution": {
     "iopub.execute_input": "2025-06-18T14:41:28.018630Z",
     "iopub.status.busy": "2025-06-18T14:41:28.017627Z",
     "iopub.status.idle": "2025-06-18T14:41:28.027879Z",
     "shell.execute_reply": "2025-06-18T14:41:28.027879Z",
     "shell.execute_reply.started": "2025-06-18T14:41:28.018630Z"
    }
   },
   "outputs": [],
   "source": [
    "# (1), (2), (3), (4) 들의 예측 성능이 높은거에서 낮은걸로 내림차순하여 번호를 주석으로 작성\n",
    "# ex) (1)->(2)->(3)->(4)\n",
    "\n",
    "\n"
   ]
  },
  {
   "cell_type": "code",
   "execution_count": 23,
   "id": "d61eba0d",
   "metadata": {
    "execution": {
     "iopub.execute_input": "2025-06-18T14:41:28.028882Z",
     "iopub.status.busy": "2025-06-18T14:41:28.028882Z",
     "iopub.status.idle": "2025-06-18T14:41:28.036945Z",
     "shell.execute_reply": "2025-06-18T14:41:28.035941Z",
     "shell.execute_reply.started": "2025-06-18T14:41:28.028882Z"
    }
   },
   "outputs": [],
   "source": [
    "# (1) -> (2) -> (3) -> (4) 과정에서 성능이 좋아질수도 나빠졌을 수도 있는데 그 이유에 대해서 각 과정별로 자유롭게 주석으로 작성\n",
    "\n",
    "\n"
   ]
  },
  {
   "cell_type": "code",
   "execution_count": 24,
   "id": "d1b16a9d-8799-4caf-8e85-90229e0687e6",
   "metadata": {
    "execution": {
     "iopub.execute_input": "2025-06-18T14:41:28.036945Z",
     "iopub.status.busy": "2025-06-18T14:41:28.036945Z",
     "iopub.status.idle": "2025-06-18T14:41:28.047456Z",
     "shell.execute_reply": "2025-06-18T14:41:28.046945Z",
     "shell.execute_reply.started": "2025-06-18T14:41:28.036945Z"
    }
   },
   "outputs": [],
   "source": [
    "# 가장 성능이 좋았던 코드들을 Best_Platform이라는 함수명으로 구현하여 \n",
    "# 원본 데이터를 입력하여 예측값 + 성능 + 설명력이 동일하게 잘 출력되도록 정리\n",
    "## 입출력이 반영된 Best_Platform 함수화\n",
    "\n",
    "\n",
    "## 실제 입력을 Best_Platform에 통과시켜 예측값+최고성능+설명력 재확인\n",
    "\n",
    "\n"
   ]
  },
  {
   "cell_type": "code",
   "execution_count": 25,
   "id": "0452fd47",
   "metadata": {
    "execution": {
     "iopub.execute_input": "2025-06-18T14:41:28.048461Z",
     "iopub.status.busy": "2025-06-18T14:41:28.048461Z",
     "iopub.status.idle": "2025-06-18T14:41:28.066645Z",
     "shell.execute_reply": "2025-06-18T14:41:28.066645Z",
     "shell.execute_reply.started": "2025-06-18T14:41:28.048461Z"
    }
   },
   "outputs": [
    {
     "name": "stdout",
     "output_type": "stream",
     "text": [
      "Intel64 Family 6 Model 186 Stepping 2, GenuineIntel\n",
      "32(GB)\n",
      "Windows\n",
      "10.0.26100\n",
      "C:\\DataScience\\Lecture\\[DataScience]\n",
      "2024-12-12 00:34:16.155373\n",
      "2025-06-18 23:41:22.500377\n",
      "2025-06-18 23:41:22.500377\n",
      "2025-06-18 23:41:28.064461\n",
      "다음 출력을 파일명으로 설정하고 제출하시오: 김경원_20211011_인공지능활용디지털경제플랫폼연구_DA_Unsupervised\n"
     ]
    }
   ],
   "source": [
    "### 종료 및 본인정보 반영\n",
    "# 반드시 이 cell을 실행하시오\n",
    "# 실행하지 않을 시 직접 하지 않은 것으로 간주\n",
    "# 마지막 줄 출력으로 파일명을 설정하고 제출 필수\n",
    "import platform, psutil, os, datetime\n",
    "print(platform.processor())\n",
    "print(str(round(psutil.virtual_memory().total / (1024.0 **3)))+\"(GB)\")\n",
    "print(platform.system())\n",
    "print(platform.version())\n",
    "print(os.getcwd())\n",
    "print(datetime.datetime.fromtimestamp(os.path.getctime(os.getcwd())))\n",
    "print(datetime.datetime.fromtimestamp(os.path.getmtime(os.getcwd())))\n",
    "print(datetime.datetime.fromtimestamp(os.path.getatime(os.getcwd())))\n",
    "print(datetime.datetime.now())\n",
    "title = 'DA_Unsupervised'    # 고정값\n",
    "name = '김경원'    # 본인 이름을 작성\n",
    "studentid = '20211011'    # 본인 학번을 작성\n",
    "# 아래 강좌 명 중 본인이 수강하는 강과명 작성\n",
    "# 비즈니스데이터사이언스이해, E정보시스템, 디지털비즈니스애널리틱스, E데이터베이스, 인공지능기반의사결정, 빅데이터 등\n",
    "# 비즈니스혁신을위한데이터사이언스응용, 인공지능활용디지털경제플랫폼연구 등\n",
    "course = '인공지능활용디지털경제플랫폼연구'    \n",
    "print('다음 출력을 파일명으로 설정하고 제출하시오:', name + '_' + studentid + '_' + course + '_' + title)"
   ]
  }
 ],
 "metadata": {
  "hide_input": false,
  "kernelspec": {
   "display_name": "Python 3 (ipykernel)",
   "language": "python",
   "name": "python3"
  },
  "language_info": {
   "codemirror_mode": {
    "name": "ipython",
    "version": 3
   },
   "file_extension": ".py",
   "mimetype": "text/x-python",
   "name": "python",
   "nbconvert_exporter": "python",
   "pygments_lexer": "ipython3",
   "version": "3.12.3"
  },
  "toc": {
   "base_numbering": 1,
   "nav_menu": {},
   "number_sections": true,
   "sideBar": true,
   "skip_h1_title": false,
   "title_cell": "Table of Contents",
   "title_sidebar": "Contents",
   "toc_cell": false,
   "toc_position": {
    "height": "calc(100% - 180px)",
    "left": "10px",
    "top": "150px",
    "width": "307.198px"
   },
   "toc_section_display": true,
   "toc_window_display": true
  },
  "varInspector": {
   "cols": {
    "lenName": 16,
    "lenType": 16,
    "lenVar": 40
   },
   "kernels_config": {
    "python": {
     "delete_cmd_postfix": "",
     "delete_cmd_prefix": "del ",
     "library": "var_list.py",
     "varRefreshCmd": "print(var_dic_list())"
    },
    "r": {
     "delete_cmd_postfix": ") ",
     "delete_cmd_prefix": "rm(",
     "library": "var_list.r",
     "varRefreshCmd": "cat(var_dic_list()) "
    }
   },
   "types_to_exclude": [
    "module",
    "function",
    "builtin_function_or_method",
    "instance",
    "_Feature"
   ],
   "window_display": false
  }
 },
 "nbformat": 4,
 "nbformat_minor": 5
}
