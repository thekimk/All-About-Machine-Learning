{
 "cells": [
  {
   "cell_type": "code",
   "execution_count": 1,
   "id": "34b0abba",
   "metadata": {},
   "outputs": [
    {
     "name": "stdout",
     "output_type": "stream",
     "text": [
      "Intel64 Family 6 Model 158 Stepping 10, GenuineIntel\n",
      "48(GB)\n",
      "Windows\n",
      "10.0.22000\n",
      "C:\\DataScience\\Lecture\\BusinessDataAnalytics\\Test\n",
      "2022-10-18 20:11:01.353167\n",
      "2022-10-19 12:41:05.863487\n",
      "2022-10-19 12:41:05.863487\n",
      "2022-10-19 12:41:13.548958\n",
      "다음 출력을 파일명으로 설정하고 제출하시오: 김경원_20211011_인공지능활용디지털경제플랫폼연구_LinearRegression_DTML\n"
     ]
    }
   ],
   "source": [
    "### 시작 및 본인정보 반영\n",
    "# 반드시 이 cell을 실행하시오\n",
    "# 실행하지 않을 시 직접 하지 않은 것으로 간주\n",
    "# 마지막 줄 출력으로 파일명을 설정하고 제출 필수\n",
    "import platform, psutil, os, datetime\n",
    "print(platform.processor())\n",
    "print(str(round(psutil.virtual_memory().total / (1024.0 **3)))+\"(GB)\")\n",
    "print(platform.system())\n",
    "print(platform.version())\n",
    "print(os.getcwd())\n",
    "print(datetime.datetime.fromtimestamp(os.path.getctime(os.getcwd())))\n",
    "print(datetime.datetime.fromtimestamp(os.path.getmtime(os.getcwd())))\n",
    "print(datetime.datetime.fromtimestamp(os.path.getatime(os.getcwd())))\n",
    "print(datetime.datetime.now())\n",
    "title = 'LinearRegression_DTML'    # 고정값\n",
    "name = '김경원'    # 본인 이름을 작성\n",
    "studentid = '20211011'    # 본인 학번을 작성\n",
    "course = '인공지능활용디지털경제플랫폼연구'    # 'E정보시스템', 'E데이터베이스', '빅데이터', \n",
    "                          # '비즈니스혁신을위한데이터사이언스응용', '인공지능활용디지털경제플랫폼연구'\n",
    "print('다음 출력을 파일명으로 설정하고 제출하시오:', name + '_' + studentid + '_' + course + '_' + title)"
   ]
  },
  {
   "cell_type": "markdown",
   "id": "c11d78dd",
   "metadata": {},
   "source": [
    "# **Data Loading:** 분석에 사용할 데이터 불러오기\n",
    "\n",
    "- 아래 `비즈니스 문제 대상 데이터`의 비즈니스 목적을 보고 `관심있는 데이터`를 선택하여 불러오기\n",
    "- 데이터는 `현 Jupyter Notebook`과 동일폴더에 함께 있으며 `pandas -> read_csv()`로 불러오기 가능\n",
    "- 모든 데이터는 [Kaggle Competition](https://www.kaggle.com/)에서 추출되었으며, 향후 `경진대회나 공모전 및 데이터사이언스 분야 면접이나 시험`에 대비 가능\n",
    "\n",
    "| **분야** | **비즈니스 목적** | **파일명** | **종속변수 Y** | **설명 참고링크** |\n",
    "|:---:|:---|:---|:---|:---|\n",
    "| **Sports** | 러슬링 토너먼트의 선수 순위를 정확하게   예측하여 투기 승률을 향상 | `Regression_WrestlingTournamentRank.csv` | `rank` | https://www.kaggle.com/datasets/julienjta/wrestling-world-tournament |\n",
    "| **Business** | 중고차 가격을 정확하게 예측하여   저평가된 중고차의 특징을 예측하여 구매전략 지원 | `Regression_UsedCarPrice.csv` | `price` | https://www.kaggle.com/datasets/vijayaadithyanvg/car-price-predictionused-cars |\n",
    "| **Education** | 학생들의 환경에 따른   중등학업성취도(GradeScore)를 정확하게 예측하여 교육환경 특징 파악 및 교육방향 지원 | `Regression_StudentPerformance.csv` | `GradeScore` | https://www.kaggle.com/datasets/ishandutta/student-performance-data-set |\n",
    "| **Culture** | 인기음악을 정확하게 예측하여 향후 어떤   특징의 음악이 인기음악이 될지 예측하여 기획과 전략 지원 | `Regression_SongPopularity.csv` | `song_popularity` | https://www.kaggle.com/datasets/yasserh/song-popularity-dataset |\n",
    "| **Human** | 기업 임직원들의 직업 만족도를 정확하게   예측하여 만족도를 높이기 위한 특성으로 인사전략 지원 | `Regression_JobSatisfaction.csv` | `satisfaction_level` | https://www.kaggle.com/datasets/mfaisalqureshi/hr-analytics-and-job-prediction |\n",
    "| **Finance** | 보험료를 정확하게 예측하여 보험료가   낮더라도 사고 위험이 낮은 고객의 특징을 예측 | `Regression_InsurancePremium.csv` | `charges` | https://www.kaggle.com/datasets/simranjain17/insurance |\n"
   ]
  },
  {
   "cell_type": "code",
   "execution_count": null,
   "id": "7b713a06",
   "metadata": {},
   "outputs": [],
   "source": []
  },
  {
   "cell_type": "code",
   "execution_count": null,
   "id": "a1ee9733",
   "metadata": {},
   "outputs": [],
   "source": []
  },
  {
   "cell_type": "code",
   "execution_count": null,
   "id": "0807b4e0",
   "metadata": {},
   "outputs": [],
   "source": []
  },
  {
   "cell_type": "markdown",
   "id": "a223fe5d",
   "metadata": {},
   "source": [
    "# **Import Library:** 분석에 사용할 모듈 설치\n",
    "\n",
    "- 강의에서 배운 내용이든 아니든 `자유 설치 및 사용`하되 `알고리즘은 선형회귀분석`만 사용할 것"
   ]
  },
  {
   "cell_type": "code",
   "execution_count": null,
   "id": "b86500e6",
   "metadata": {},
   "outputs": [],
   "source": []
  },
  {
   "cell_type": "code",
   "execution_count": null,
   "id": "699c2d1d",
   "metadata": {},
   "outputs": [],
   "source": []
  },
  {
   "cell_type": "code",
   "execution_count": null,
   "id": "035f3cec",
   "metadata": {},
   "outputs": [],
   "source": []
  },
  {
   "cell_type": "markdown",
   "id": "23b705fe",
   "metadata": {},
   "source": [
    "# **Preprocessing:** 데이터 정리 및 패턴 추출하기\n",
    "\n",
    "- 선택한 `데이터 및 비즈니스 목적` 달성을 위해 `알고리즘 기반 데이터분석`을 하기 위해 필요한 전처리 작업 `자유 진행`\n",
    "- `Train & Test` 데이터분리는 반드시 실행하며, Train과 Test의 비율은 각각 `80% & 20%`로 실행\n",
    "- `Scaling`도 반드시 실행하되 `종류는 자유 선택`"
   ]
  },
  {
   "cell_type": "code",
   "execution_count": null,
   "id": "24ae9632",
   "metadata": {},
   "outputs": [],
   "source": []
  },
  {
   "cell_type": "code",
   "execution_count": null,
   "id": "5d8a677f",
   "metadata": {},
   "outputs": [],
   "source": []
  },
  {
   "cell_type": "code",
   "execution_count": null,
   "id": "f6e712c5",
   "metadata": {},
   "outputs": [],
   "source": []
  },
  {
   "cell_type": "markdown",
   "id": "74e98b0f",
   "metadata": {},
   "source": [
    "# **Applying Base Algorithm:** Linear Regression\n",
    "\n",
    "- `비즈니스 목적` 달성을 위해 `선형회귀분석 알고리즘`을 사용하여 `학습(Train) 및 예측(Test)`을 모두 진행\n",
    "- `Train & Test` 데이터의 예측 결과를 `시각화로 확인`"
   ]
  },
  {
   "cell_type": "code",
   "execution_count": null,
   "id": "768491c8",
   "metadata": {},
   "outputs": [],
   "source": []
  },
  {
   "cell_type": "code",
   "execution_count": null,
   "id": "06a848b7",
   "metadata": {},
   "outputs": [],
   "source": []
  },
  {
   "cell_type": "code",
   "execution_count": null,
   "id": "8503a259",
   "metadata": {},
   "outputs": [],
   "source": []
  },
  {
   "cell_type": "markdown",
   "id": "35a40121",
   "metadata": {},
   "source": [
    "# **Evaluation:** 분석 성능 확인/평가하기 \n",
    "\n",
    "- 분석 성능을 확인하기 위해 반드시 `5가지 종류`의 `R-squared, t-검정, MAE, MSE, MAPE`를 출력하고 `주석으로 t-검정 해석 필수` 반영\n",
    "- `Train & Test`의 성능을 모두 출력하며 `3가지 MAE, MSE, MAPE`를 각각 비교하여 `어떤것이 성능이 높은지 주석으로 해석 필수` 반영"
   ]
  },
  {
   "cell_type": "code",
   "execution_count": null,
   "id": "dd676e6b",
   "metadata": {},
   "outputs": [],
   "source": []
  },
  {
   "cell_type": "code",
   "execution_count": null,
   "id": "3e6afcd9",
   "metadata": {},
   "outputs": [],
   "source": []
  },
  {
   "cell_type": "code",
   "execution_count": null,
   "id": "062396f6",
   "metadata": {},
   "outputs": [],
   "source": []
  },
  {
   "cell_type": "markdown",
   "id": "8a5703a6",
   "metadata": {},
   "source": [
    "# **Error Analysis:** 분석 성능/종료 판단하기\n",
    "\n",
    "- `잔차를 시각화`하여 데이터에 남아있는 패턴을 확인하고 `향후 모델링의 성능을 높이기 위해 필요한 것이 무엇일지 주석으로 작성`"
   ]
  },
  {
   "cell_type": "code",
   "execution_count": null,
   "id": "3ff658df",
   "metadata": {},
   "outputs": [],
   "source": []
  },
  {
   "cell_type": "code",
   "execution_count": null,
   "id": "e0932f88",
   "metadata": {},
   "outputs": [],
   "source": []
  },
  {
   "cell_type": "code",
   "execution_count": null,
   "id": "1aa1f82b",
   "metadata": {},
   "outputs": [],
   "source": []
  },
  {
   "cell_type": "markdown",
   "id": "575f95de",
   "metadata": {},
   "source": [
    "# **Business Insight and Application: 분석결과의 비즈니스 활용 기획 및 전략**\n",
    "\n",
    "- 현 분석결과를 사용하여 선택한 데이터의 `비즈니스 목적` 달성을 위해 어떻게 `비즈니스를 하면 좋을지 기획 또는 전략 주석으로 자유 작성`"
   ]
  },
  {
   "cell_type": "code",
   "execution_count": null,
   "id": "9cbfb29d",
   "metadata": {},
   "outputs": [],
   "source": []
  },
  {
   "cell_type": "code",
   "execution_count": null,
   "id": "40e26c2f",
   "metadata": {},
   "outputs": [],
   "source": []
  },
  {
   "cell_type": "code",
   "execution_count": null,
   "id": "939b24d3",
   "metadata": {},
   "outputs": [],
   "source": []
  },
  {
   "cell_type": "code",
   "execution_count": 2,
   "id": "0452fd47",
   "metadata": {},
   "outputs": [
    {
     "name": "stdout",
     "output_type": "stream",
     "text": [
      "Intel64 Family 6 Model 158 Stepping 10, GenuineIntel\n",
      "48(GB)\n",
      "Windows\n",
      "10.0.22000\n",
      "C:\\DataScience\\Lecture\\BusinessDataAnalytics\\Test\n",
      "2022-10-18 20:11:01.353167\n",
      "2022-10-19 12:41:05.863487\n",
      "2022-10-19 12:41:05.863487\n",
      "2022-10-19 12:41:13.563919\n",
      "다음 출력을 파일명으로 설정하고 제출하시오: 김경원_20211011_인공지능활용디지털경제플랫폼연구_LinearRegression_DTML\n"
     ]
    }
   ],
   "source": [
    "### 종료 및 본인정보 반영\n",
    "# 반드시 이 cell을 실행하시오\n",
    "# 실행하지 않을 시 직접 하지 않은 것으로 간주\n",
    "# 마지막 줄 출력으로 파일명을 설정하고 제출 필수\n",
    "import platform, psutil, os, datetime\n",
    "print(platform.processor())\n",
    "print(str(round(psutil.virtual_memory().total / (1024.0 **3)))+\"(GB)\")\n",
    "print(platform.system())\n",
    "print(platform.version())\n",
    "print(os.getcwd())\n",
    "print(datetime.datetime.fromtimestamp(os.path.getctime(os.getcwd())))\n",
    "print(datetime.datetime.fromtimestamp(os.path.getmtime(os.getcwd())))\n",
    "print(datetime.datetime.fromtimestamp(os.path.getatime(os.getcwd())))\n",
    "print(datetime.datetime.now())\n",
    "title = 'LinearRegression_DTML'    # 고정값\n",
    "name = '김경원'    # 본인 이름을 작성\n",
    "studentid = '20211011'    # 본인 학번을 작성\n",
    "course = '인공지능활용디지털경제플랫폼연구'    # 'E정보시스템', 'E데이터베이스', '빅데이터', \n",
    "                          # '비즈니스혁신을위한데이터사이언스응용', '인공지능활용디지털경제플랫폼연구'\n",
    "print('다음 출력을 파일명으로 설정하고 제출하시오:', name + '_' + studentid + '_' + course + '_' + title)"
   ]
  }
 ],
 "metadata": {
  "hide_input": false,
  "kernelspec": {
   "display_name": "Python 3 (ipykernel)",
   "language": "python",
   "name": "python3"
  },
  "language_info": {
   "codemirror_mode": {
    "name": "ipython",
    "version": 3
   },
   "file_extension": ".py",
   "mimetype": "text/x-python",
   "name": "python",
   "nbconvert_exporter": "python",
   "pygments_lexer": "ipython3",
   "version": "3.9.7"
  },
  "toc": {
   "base_numbering": 1,
   "nav_menu": {},
   "number_sections": true,
   "sideBar": true,
   "skip_h1_title": false,
   "title_cell": "Table of Contents",
   "title_sidebar": "Contents",
   "toc_cell": false,
   "toc_position": {},
   "toc_section_display": true,
   "toc_window_display": false
  },
  "varInspector": {
   "cols": {
    "lenName": 16,
    "lenType": 16,
    "lenVar": 40
   },
   "kernels_config": {
    "python": {
     "delete_cmd_postfix": "",
     "delete_cmd_prefix": "del ",
     "library": "var_list.py",
     "varRefreshCmd": "print(var_dic_list())"
    },
    "r": {
     "delete_cmd_postfix": ") ",
     "delete_cmd_prefix": "rm(",
     "library": "var_list.r",
     "varRefreshCmd": "cat(var_dic_list()) "
    }
   },
   "types_to_exclude": [
    "module",
    "function",
    "builtin_function_or_method",
    "instance",
    "_Feature"
   ],
   "window_display": false
  }
 },
 "nbformat": 4,
 "nbformat_minor": 5
}
