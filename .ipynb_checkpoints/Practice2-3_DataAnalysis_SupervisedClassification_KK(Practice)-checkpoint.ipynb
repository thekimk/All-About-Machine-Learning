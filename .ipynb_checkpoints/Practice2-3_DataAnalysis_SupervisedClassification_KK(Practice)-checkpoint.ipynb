{
 "cells": [
  {
   "cell_type": "code",
   "execution_count": 1,
   "id": "34b0abba",
   "metadata": {},
   "outputs": [
    {
     "name": "stdout",
     "output_type": "stream",
     "text": [
      "Intel64 Family 6 Model 154 Stepping 3, GenuineIntel\n",
      "16(GB)\n",
      "Windows\n",
      "10.0.22621\n",
      "C:\\DataScience\\Lecture\\All-About-Machine-Learning\\Test\n",
      "2023-01-04 12:28:59.787240\n",
      "2023-03-15 13:46:32.835609\n",
      "2023-03-15 13:46:32.835609\n",
      "2023-03-15 13:50:25.093549\n",
      "다음 출력을 파일명으로 설정하고 제출하시오: 김경원_20211011_인공지능활용디지털경제플랫폼연구_DA_SupervisedClassification\n"
     ]
    }
   ],
   "source": [
    "### 시작 및 본인정보 반영\n",
    "# 반드시 이 cell을 실행하시오\n",
    "# 실행하지 않을 시 직접 하지 않은 것으로 간주\n",
    "# 마지막 줄 출력으로 파일명을 설정하고 제출 필수\n",
    "import platform, psutil, os, datetime\n",
    "print(platform.processor())\n",
    "print(str(round(psutil.virtual_memory().total / (1024.0 **3)))+\"(GB)\")\n",
    "print(platform.system())\n",
    "print(platform.version())\n",
    "print(os.getcwd())\n",
    "print(datetime.datetime.fromtimestamp(os.path.getctime(os.getcwd())))\n",
    "print(datetime.datetime.fromtimestamp(os.path.getmtime(os.getcwd())))\n",
    "print(datetime.datetime.fromtimestamp(os.path.getatime(os.getcwd())))\n",
    "print(datetime.datetime.now())\n",
    "title = 'DA_SupervisedClassification'    # 고정값\n",
    "name = '김경원'    # 본인 이름을 작성\n",
    "studentid = '20211011'    # 본인 학번을 작성\n",
    "# 아래 강좌 명 중 본인이 수강하는 강과명 작성\n",
    "# 비즈니스데이터사이언스이해, E정보시스템, 디지털비즈니스애널리틱스, E데이터베이스, 인공지능기반의사결정, 빅데이터 등\n",
    "# 비즈니스혁신을위한데이터사이언스응용, 인공지능활용디지털경제플랫폼연구 등\n",
    "course = '인공지능활용디지털경제플랫폼연구'    \n",
    "print('다음 출력을 파일명으로 설정하고 제출하시오:', name + '_' + studentid + '_' + course + '_' + title)"
   ]
  },
  {
   "cell_type": "markdown",
   "id": "c11d78dd",
   "metadata": {},
   "source": [
    "# **Data Loading:** 분석에 사용할 데이터 불러오기\n",
    "\n",
    "- 아래 `비즈니스 문제 대상 데이터`의 비즈니스 목적을 보고 `관심있는 데이터`를 선택하여 불러오기\n",
    "- 모든 데이터는 [Kaggle Competition](https://www.kaggle.com/)에서 추출되었으며, `현 Jupyter Notebook`과 동일위치 `[Test] 폴더`에 있음\n",
    "- 저장된 데이터는 아래 설명 참고링크에서 다운받은 후 `일부 변경되어 저장`되어 링크데이터와 다르기 때문에 `반드시 저장된 데이터를 사용`하여 진행\n",
    "- `개인PC나 Google Colab` 중 편한 곳에서 진행 가능\n",
    "- 모든 데이터 분석 결과들은 향후 `경진대회나 공모전 및 데이터사이언스 분야 면접이나 시험`에 대비 가능\n",
    "\n",
    "| **분야** | **비즈니스 목적** | **파일명** | **종속변수 Y** | **설명 참고링크** |\n",
    "|:---:|:---|:---|:---|:---|\n",
    "| **Tour** | 고객들의 여행취소를 정확하게 예측하여   취소가 예상되는 고객을 찾고 기업의 매출손실 대비 | `Classification_TravelCustomerChurn.csv` | `Target` | https://www.kaggle.com/datasets/tejashvi14/tour-travels-customer-churn-prediction |\n",
    "| **Marketing** | 마케팅이 구매로 이어지는 관계를   정확하게 예측 및 특성을 확인하여 마케팅 효과를 높이고 매출 향상 지원 | `Classification_MarketingEfficiency.csv` | `Response` | https://www.kaggle.com/datasets/rodsaldanha/arketing-campaign |\n",
    "| **Human** | 기업 임직원들의 불만족을 정확하게   예측하여 퇴사 확률을 낮출 수 있는 인사전략 지원 | `Classification_JobSatisfaction.csv` | `satisfaction_level` | https://www.kaggle.com/datasets/mfaisalqureshi/hr-analytics-and-job-prediction |\n",
    "| **Medicine** | 심장질환 여부를 정확하게 예측하여   심장질환에 걸릴 가능성이 높은 고객의 특징을 예측 | `Classification_HeartDisease.csv` | `TenYearCHD` | https://www.kaggle.com/datasets/dileep070/heart-disease-prediction-using-logistic-regression |\n",
    "| **Ecommerce** | 이커머스 만족도를 정확하게 예측하여   만족도 향상을 위한 특성을 확인하고 고객 유입 전략 지원 | `Classification_EcommerceSatisfaction.csv` | `Customer_rating` | https://www.kaggle.com/datasets/prachi13/customer-analytics |\n",
    "| **Service** | 항공기를 이용하는 고객의 서비스   만족도를 정확하게 예측하여 특성을 확인하고 추가적인 서비스기획 지원 | `Classification_AirlineSatisfaction.csv` | `satisfaction` | https://www.kaggle.com/datasets/sjleshrac/airlines-customer-satisfaction |\n"
   ]
  },
  {
   "cell_type": "code",
   "execution_count": null,
   "id": "7b713a06",
   "metadata": {},
   "outputs": [],
   "source": []
  },
  {
   "cell_type": "code",
   "execution_count": null,
   "id": "a1ee9733",
   "metadata": {},
   "outputs": [],
   "source": []
  },
  {
   "cell_type": "code",
   "execution_count": null,
   "id": "0807b4e0",
   "metadata": {},
   "outputs": [],
   "source": []
  },
  {
   "cell_type": "markdown",
   "id": "a223fe5d",
   "metadata": {},
   "source": [
    "# **Import Library:** 분석에 사용할 모듈 설치\n",
    "\n",
    "- 강의에서 배운 내용이든 아니든 `자유 설치 및 사용`"
   ]
  },
  {
   "cell_type": "code",
   "execution_count": null,
   "id": "b86500e6",
   "metadata": {},
   "outputs": [],
   "source": []
  },
  {
   "cell_type": "code",
   "execution_count": null,
   "id": "699c2d1d",
   "metadata": {},
   "outputs": [],
   "source": []
  },
  {
   "cell_type": "code",
   "execution_count": null,
   "id": "035f3cec",
   "metadata": {},
   "outputs": [],
   "source": []
  },
  {
   "cell_type": "markdown",
   "id": "23b705fe",
   "metadata": {},
   "source": [
    "# **Preprocessing:** 데이터 정리 및 패턴 추출하기\n",
    "\n",
    "- 선택한 `데이터 및 비즈니스 목적` 달성을 위한 `알고리즘 기반 데이터분석`을 하기 위해 필요한 전처리 작업 `자유 진행`하고 `필요성 이유를 주석으로 작성`\n",
    "- `전처리 순서는 변경가능`하지만 반드시 실행하며 `필요성 이유 미작성시 안한 것으로 간주`\n",
    "\n",
    "> (1) `결측값 존재여부 확인 및 필요시 전처리`\n",
    ">\n",
    "> (2) `이상치 존재여부 확인 및 필요시 전처리`\n",
    ">\n",
    "> (3) 데이터 분리는 `Train & Test`로만 분리하며, 각각의 비율은 `80% & 20%`로 실행\n",
    ">\n",
    "> (4) 변수들의 `특성에 맞게 변주형/연속형 변환 및 알고리즘이 이해가능한 숫자 형태로 변환 전처리`\n",
    ">\n",
    "> (5) `데이터 스케일링`도 반드시 실행하되 `종류는 자유 선택 전처리`"
   ]
  },
  {
   "cell_type": "markdown",
   "id": "5fb09461",
   "metadata": {},
   "source": [
    "## (1) 결측값 존재여부 확인 및 필요시 전처리"
   ]
  },
  {
   "cell_type": "code",
   "execution_count": null,
   "id": "19c18c8f",
   "metadata": {},
   "outputs": [],
   "source": []
  },
  {
   "cell_type": "code",
   "execution_count": null,
   "id": "8f0c429f",
   "metadata": {},
   "outputs": [],
   "source": []
  },
  {
   "cell_type": "markdown",
   "id": "61f83914",
   "metadata": {},
   "source": [
    "## (2) 이상치 존재여부 확인 및 필요시 전처리"
   ]
  },
  {
   "cell_type": "code",
   "execution_count": null,
   "id": "32165866",
   "metadata": {},
   "outputs": [],
   "source": []
  },
  {
   "cell_type": "code",
   "execution_count": null,
   "id": "24ae9632",
   "metadata": {},
   "outputs": [],
   "source": []
  },
  {
   "cell_type": "markdown",
   "id": "f4744618",
   "metadata": {},
   "source": [
    "## (3) 데이터 분리는 Train & Test로만 분리하며, 각각의 비율은 80% & 20%로 실행"
   ]
  },
  {
   "cell_type": "code",
   "execution_count": null,
   "id": "f7d4a02f",
   "metadata": {},
   "outputs": [],
   "source": []
  },
  {
   "cell_type": "code",
   "execution_count": null,
   "id": "5b752cbd",
   "metadata": {},
   "outputs": [],
   "source": []
  },
  {
   "cell_type": "markdown",
   "id": "fba1005f",
   "metadata": {},
   "source": [
    "## (4) 변수들의 특성에 맞게 변주형/연속형 변환 및 알고리즘이 이해가능한 숫자 형태로 변환 전처리"
   ]
  },
  {
   "cell_type": "code",
   "execution_count": null,
   "id": "8fcb376c",
   "metadata": {},
   "outputs": [],
   "source": []
  },
  {
   "cell_type": "code",
   "execution_count": null,
   "id": "89416c5d",
   "metadata": {},
   "outputs": [],
   "source": []
  },
  {
   "cell_type": "markdown",
   "id": "cef3fa7c",
   "metadata": {},
   "source": [
    "## (5) 데이터 스케일링도 반드시 실행하되 종류는 자유 선택 전처리"
   ]
  },
  {
   "cell_type": "code",
   "execution_count": null,
   "id": "03f1f319",
   "metadata": {},
   "outputs": [],
   "source": []
  },
  {
   "cell_type": "code",
   "execution_count": null,
   "id": "f6e712c5",
   "metadata": {},
   "outputs": [],
   "source": []
  },
  {
   "cell_type": "markdown",
   "id": "74e98b0f",
   "metadata": {},
   "source": [
    "# **Applying Base Algorithm:** Logistic Regression\n",
    "\n",
    "**1)** `비즈니스 목적` 달성을 위해 `로지스틱회귀분석(Logistic Regression) 알고리즘만을` 사용하여 `학습 및 예측(Train & Test 모두)` 진행\n"
   ]
  },
  {
   "cell_type": "code",
   "execution_count": null,
   "id": "768491c8",
   "metadata": {},
   "outputs": [],
   "source": []
  },
  {
   "cell_type": "code",
   "execution_count": null,
   "id": "06a848b7",
   "metadata": {},
   "outputs": [],
   "source": []
  },
  {
   "cell_type": "code",
   "execution_count": null,
   "id": "8503a259",
   "metadata": {},
   "outputs": [],
   "source": []
  },
  {
   "cell_type": "markdown",
   "id": "35a40121",
   "metadata": {},
   "source": [
    "# **Evaluation:** 분석 성능 확인/평가하기 \n",
    "\n",
    "**1) `Train Explantion`**\n",
    "\n",
    "- 추정된 계수(Coef.)를 사용하여 `odds ratio`를 계산한 후 `1을 예측하는데 중요하다고 분석한 변수 상위 5개`를 출력하고 `해석 작성` \n",
    "\n",
    "**2) `Train & Test Performance`**\n",
    "\n",
    "- 분석 성능을 확인하기 위해 반드시 `4가지 종류`의 `Confusion Matrix, Classification Report, ROC Curve, AUC`를 출력\n",
    "- `Train & Test`의 성능을 모두 출력하고 `어떤것이 성능이 좋은지 및 그 이유`를 주석으로 작성"
   ]
  },
  {
   "cell_type": "markdown",
   "id": "1446c1b2",
   "metadata": {},
   "source": [
    "## (1) `Train Explantion`\n",
    "\n",
    "- 추정된 계수(Coef.)를 사용하여 `odds ratio`를 계산한 후 `1을 예측하는데 중요하다고 분석한 변수 상위 5개`를 출력하고 `해석 작성` "
   ]
  },
  {
   "cell_type": "code",
   "execution_count": null,
   "id": "bec59e53",
   "metadata": {},
   "outputs": [],
   "source": []
  },
  {
   "cell_type": "code",
   "execution_count": null,
   "id": "edc55380",
   "metadata": {},
   "outputs": [],
   "source": []
  },
  {
   "cell_type": "markdown",
   "id": "632b8cd6",
   "metadata": {},
   "source": [
    "## (2) `Train & Test Performance`\n",
    "\n",
    "- 분석 성능을 확인하기 위해 반드시 `4가지 종류`의 `Confusion Matrix, Classification Report, ROC Curve, AUC`를 출력\n",
    "- `Train & Test`의 성능을 모두 출력하고 `어떤것이 성능이 좋은지 및 그 이유`를 주석으로 작성"
   ]
  },
  {
   "cell_type": "code",
   "execution_count": null,
   "id": "dd676e6b",
   "metadata": {},
   "outputs": [],
   "source": []
  },
  {
   "cell_type": "code",
   "execution_count": null,
   "id": "3e6afcd9",
   "metadata": {},
   "outputs": [],
   "source": []
  },
  {
   "cell_type": "markdown",
   "id": "575f95de",
   "metadata": {},
   "source": [
    "# **Business Insight and Application: 분석결과의 비즈니스 활용 기획 및 전략**\n",
    "\n",
    "- `반드시 분석 결과를 근거`로 `비즈니스 목적` 달성을 위해 어떻게 `비즈니스를 기획 또는 전략을 구성하면 좋을지 의견을 주석으로 자유 작성`"
   ]
  },
  {
   "cell_type": "code",
   "execution_count": null,
   "id": "9cbfb29d",
   "metadata": {},
   "outputs": [],
   "source": []
  },
  {
   "cell_type": "code",
   "execution_count": null,
   "id": "40e26c2f",
   "metadata": {},
   "outputs": [],
   "source": []
  },
  {
   "cell_type": "code",
   "execution_count": null,
   "id": "939b24d3",
   "metadata": {},
   "outputs": [],
   "source": []
  },
  {
   "cell_type": "code",
   "execution_count": 2,
   "id": "0452fd47",
   "metadata": {},
   "outputs": [
    {
     "name": "stdout",
     "output_type": "stream",
     "text": [
      "Intel64 Family 6 Model 154 Stepping 3, GenuineIntel\n",
      "16(GB)\n",
      "Windows\n",
      "10.0.22621\n",
      "C:\\DataScience\\Lecture\\All-About-Machine-Learning\\Test\n",
      "2023-01-04 12:28:59.787240\n",
      "2023-03-15 13:50:25.539610\n",
      "2023-03-15 13:50:25.539610\n",
      "2023-03-15 13:50:29.373398\n",
      "다음 출력을 파일명으로 설정하고 제출하시오: 김경원_20211011_인공지능활용디지털경제플랫폼연구_DA_SupervisedClassification\n"
     ]
    }
   ],
   "source": [
    "### 종료 및 본인정보 반영\n",
    "# 반드시 이 cell을 실행하시오\n",
    "# 실행하지 않을 시 직접 하지 않은 것으로 간주\n",
    "# 마지막 줄 출력으로 파일명을 설정하고 제출 필수\n",
    "import platform, psutil, os, datetime\n",
    "print(platform.processor())\n",
    "print(str(round(psutil.virtual_memory().total / (1024.0 **3)))+\"(GB)\")\n",
    "print(platform.system())\n",
    "print(platform.version())\n",
    "print(os.getcwd())\n",
    "print(datetime.datetime.fromtimestamp(os.path.getctime(os.getcwd())))\n",
    "print(datetime.datetime.fromtimestamp(os.path.getmtime(os.getcwd())))\n",
    "print(datetime.datetime.fromtimestamp(os.path.getatime(os.getcwd())))\n",
    "print(datetime.datetime.now())\n",
    "title = 'DA_SupervisedClassification'    # 고정값\n",
    "name = '김경원'    # 본인 이름을 작성\n",
    "studentid = '20211011'    # 본인 학번을 작성\n",
    "# 아래 강좌 명 중 본인이 수강하는 강과명 작성\n",
    "# 비즈니스데이터사이언스이해, E정보시스템, 디지털비즈니스애널리틱스, E데이터베이스, 인공지능기반의사결정, 빅데이터 등\n",
    "# 비즈니스혁신을위한데이터사이언스응용, 인공지능활용디지털경제플랫폼연구 등\n",
    "course = '인공지능활용디지털경제플랫폼연구'    \n",
    "print('다음 출력을 파일명으로 설정하고 제출하시오:', name + '_' + studentid + '_' + course + '_' + title)"
   ]
  }
 ],
 "metadata": {
  "hide_input": false,
  "kernelspec": {
   "display_name": "Python 3 (ipykernel)",
   "language": "python",
   "name": "python3"
  },
  "language_info": {
   "codemirror_mode": {
    "name": "ipython",
    "version": 3
   },
   "file_extension": ".py",
   "mimetype": "text/x-python",
   "name": "python",
   "nbconvert_exporter": "python",
   "pygments_lexer": "ipython3",
   "version": "3.11.5"
  },
  "toc": {
   "base_numbering": 1,
   "nav_menu": {},
   "number_sections": true,
   "sideBar": true,
   "skip_h1_title": false,
   "title_cell": "Table of Contents",
   "title_sidebar": "Contents",
   "toc_cell": false,
   "toc_position": {
    "height": "calc(100% - 180px)",
    "left": "10px",
    "top": "150px",
    "width": "512px"
   },
   "toc_section_display": true,
   "toc_window_display": true
  },
  "varInspector": {
   "cols": {
    "lenName": 16,
    "lenType": 16,
    "lenVar": 40
   },
   "kernels_config": {
    "python": {
     "delete_cmd_postfix": "",
     "delete_cmd_prefix": "del ",
     "library": "var_list.py",
     "varRefreshCmd": "print(var_dic_list())"
    },
    "r": {
     "delete_cmd_postfix": ") ",
     "delete_cmd_prefix": "rm(",
     "library": "var_list.r",
     "varRefreshCmd": "cat(var_dic_list()) "
    }
   },
   "types_to_exclude": [
    "module",
    "function",
    "builtin_function_or_method",
    "instance",
    "_Feature"
   ],
   "window_display": false
  }
 },
 "nbformat": 4,
 "nbformat_minor": 5
}
