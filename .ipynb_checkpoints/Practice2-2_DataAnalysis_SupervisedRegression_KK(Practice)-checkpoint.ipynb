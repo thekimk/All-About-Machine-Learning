{
 "cells": [
  {
   "cell_type": "code",
   "execution_count": 1,
   "id": "34b0abba",
   "metadata": {},
   "outputs": [
    {
     "name": "stdout",
     "output_type": "stream",
     "text": [
      "Intel64 Family 6 Model 154 Stepping 3, GenuineIntel\n",
      "16(GB)\n",
      "Windows\n",
      "10.0.22621\n",
      "C:\\DataScience\\Lecture\\All-About-Machine-Learning\\Test\n",
      "2023-01-04 12:28:59.787240\n",
      "2023-03-15 13:28:17.032365\n",
      "2023-03-15 13:28:17.032365\n",
      "2023-03-15 13:28:25.394927\n",
      "다음 출력을 파일명으로 설정하고 제출하시오: 김경원_20211011_인공지능활용디지털경제플랫폼연구_DA_SupervisedRegression\n"
     ]
    }
   ],
   "source": [
    "### 시작 및 본인정보 반영\n",
    "# 반드시 이 cell을 실행하시오\n",
    "# 실행하지 않을 시 직접 하지 않은 것으로 간주\n",
    "# 마지막 줄 출력으로 파일명을 설정하고 제출 필수\n",
    "import platform, psutil, os, datetime\n",
    "print(platform.processor())\n",
    "print(str(round(psutil.virtual_memory().total / (1024.0 **3)))+\"(GB)\")\n",
    "print(platform.system())\n",
    "print(platform.version())\n",
    "print(os.getcwd())\n",
    "print(datetime.datetime.fromtimestamp(os.path.getctime(os.getcwd())))\n",
    "print(datetime.datetime.fromtimestamp(os.path.getmtime(os.getcwd())))\n",
    "print(datetime.datetime.fromtimestamp(os.path.getatime(os.getcwd())))\n",
    "print(datetime.datetime.now())\n",
    "title = 'DA_SupervisedRegression'    # 고정값\n",
    "name = '김경원'    # 본인 이름을 작성\n",
    "studentid = '20211011'    # 본인 학번을 작성\n",
    "# 아래 강좌 명 중 본인이 수강하는 강과명 작성\n",
    "# 비즈니스데이터사이언스이해, E정보시스템, 디지털비즈니스애널리틱스, E데이터베이스, 인공지능기반의사결정, 빅데이터 등\n",
    "# 비즈니스혁신을위한데이터사이언스응용, 인공지능활용디지털경제플랫폼연구 등\n",
    "course = '인공지능활용디지털경제플랫폼연구'    \n",
    "print('다음 출력을 파일명으로 설정하고 제출하시오:', name + '_' + studentid + '_' + course + '_' + title)"
   ]
  },
  {
   "cell_type": "markdown",
   "id": "c11d78dd",
   "metadata": {},
   "source": [
    "# **Data Loading:** 분석에 사용할 데이터 불러오기\n",
    "\n",
    "- 아래 `비즈니스 문제 대상 데이터`의 비즈니스 목적을 보고 `관심있는 데이터`를 선택하여 불러오기\n",
    "- 모든 데이터는 [Kaggle Competition](https://www.kaggle.com/)에서 추출되었으며, `현 Jupyter Notebook`과 동일위치 `[Test] 폴더`에 있음\n",
    "- 저장된 데이터는 아래 설명 참고링크에서 다운받은 후 `일부 변경되어 저장`되어 링크데이터와 다르기 때문에 `반드시 저장된 데이터를 사용`하여 진행\n",
    "- `개인PC나 Google Colab` 중 편한 곳에서 진행 가능\n",
    "- 모든 데이터 분석 결과들은 향후 `경진대회나 공모전 및 데이터사이언스 분야 면접이나 시험`에 대비 가능\n",
    "\n",
    "| **분야** | **비즈니스 목적** | **파일명** | **종속변수 Y** | **설명 참고링크** |\n",
    "|:---:|:---|:---|:---|:---|\n",
    "| **Sports** | 레슬링 토너먼트의 선수 순위를 정확하게   예측하여 투기 승률을 향상 | `Regression_WrestlingTournamentRank.csv` | `rank` | https://www.kaggle.com/datasets/julienjta/wrestling-world-tournament |\n",
    "| **Business** | 중고차 가격을 정확하게 예측하여   저평가된 중고차의 특징을 예측하여 구매전략 지원 | `Regression_UsedCarPrice.csv` | `price` | https://www.kaggle.com/datasets/vijayaadithyanvg/car-price-predictionused-cars |\n",
    "| **Education** | 학생들의 환경에 따른   중등학업성취도(GradeScore)를 정확하게 예측하여 교육환경 특징 파악 및 교육방향 지원 | `Regression_StudentPerformance.csv` | `GradeScore` | https://www.kaggle.com/datasets/ishandutta/student-performance-data-set |\n",
    "| **Culture** | 인기음악을 정확하게 예측하여 향후 어떤   특징의 음악이 인기음악이 될지 예측하여 기획과 전략 지원 | `Regression_SongPopularity.csv` | `song_popularity` | https://www.kaggle.com/datasets/yasserh/song-popularity-dataset |\n",
    "| **Human** | 기업 임직원들의 직업 만족도를 정확하게   예측하여 만족도를 높이기 위한 특성으로 인사전략 지원 | `Regression_JobSatisfaction.csv` | `satisfaction_level` | https://www.kaggle.com/datasets/mfaisalqureshi/hr-analytics-and-job-prediction |\n",
    "| **Finance** | 보험료를 정확하게 예측하여 보험료가   낮더라도 사고 위험이 낮은 고객의 특징을 예측 | `Regression_InsurancePremium.csv` | `charges` | https://www.kaggle.com/datasets/simranjain17/insurance |\n"
   ]
  },
  {
   "cell_type": "code",
   "execution_count": null,
   "id": "7b713a06",
   "metadata": {},
   "outputs": [],
   "source": []
  },
  {
   "cell_type": "code",
   "execution_count": null,
   "id": "a1ee9733",
   "metadata": {},
   "outputs": [],
   "source": []
  },
  {
   "cell_type": "code",
   "execution_count": null,
   "id": "0807b4e0",
   "metadata": {},
   "outputs": [],
   "source": []
  },
  {
   "cell_type": "markdown",
   "id": "a223fe5d",
   "metadata": {},
   "source": [
    "# **Import Library:** 분석에 사용할 모듈 설치\n",
    "\n",
    "- 강의에서 배운 내용이든 아니든 `자유 설치 및 사용`"
   ]
  },
  {
   "cell_type": "code",
   "execution_count": null,
   "id": "b86500e6",
   "metadata": {},
   "outputs": [],
   "source": []
  },
  {
   "cell_type": "code",
   "execution_count": null,
   "id": "699c2d1d",
   "metadata": {},
   "outputs": [],
   "source": []
  },
  {
   "cell_type": "code",
   "execution_count": null,
   "id": "035f3cec",
   "metadata": {},
   "outputs": [],
   "source": []
  },
  {
   "cell_type": "markdown",
   "id": "23b705fe",
   "metadata": {},
   "source": [
    "# **Preprocessing:** 데이터 정리 및 패턴 추출하기\n",
    "\n",
    "- 선택한 `데이터 및 비즈니스 목적` 달성을 위한 `알고리즘 기반 데이터분석`을 하기 위해 필요한 전처리 작업 `자유 진행`하고 `필요성 이유를 주석으로 작성`\n",
    "- `전처리 순서는 변경가능`하지만 반드시 실행하며 `필요성 이유 미작성시 안한 것으로 간주`\n",
    "\n",
    "> (1) `결측값 존재여부 확인 및 필요시 전처리`\n",
    ">\n",
    "> (2) `이상치 존재여부 확인 및 필요시 전처리`\n",
    ">\n",
    "> (3) 데이터 분리는 `Train & Test`로만 분리하며, 각각의 비율은 `80% & 20%`로 실행\n",
    ">\n",
    "> (4) 변수들의 `특성에 맞게 변주형/연속형 변환 및 알고리즘이 이해가능한 숫자 형태로 변환 전처리`\n",
    ">\n",
    "> (5) `데이터 스케일링`도 반드시 실행하되 `종류는 자유 선택 전처리`"
   ]
  },
  {
   "cell_type": "markdown",
   "id": "d216b81c",
   "metadata": {},
   "source": [
    "## (1) 결측값 존재여부 확인 및 필요시 전처리"
   ]
  },
  {
   "cell_type": "code",
   "execution_count": null,
   "id": "cf02e913",
   "metadata": {},
   "outputs": [],
   "source": []
  },
  {
   "cell_type": "code",
   "execution_count": null,
   "id": "5d5e82a9",
   "metadata": {},
   "outputs": [],
   "source": []
  },
  {
   "cell_type": "markdown",
   "id": "5874c880",
   "metadata": {},
   "source": [
    "## (2) 이상치 존재여부 확인 및 필요시 전처리"
   ]
  },
  {
   "cell_type": "code",
   "execution_count": null,
   "id": "24ae9632",
   "metadata": {},
   "outputs": [],
   "source": []
  },
  {
   "cell_type": "code",
   "execution_count": null,
   "id": "5d8a677f",
   "metadata": {},
   "outputs": [],
   "source": []
  },
  {
   "cell_type": "markdown",
   "id": "a9b64588",
   "metadata": {},
   "source": [
    "## (3) 데이터 분리는 Train & Test로만 분리하며, 각각의 비율은 80% & 20%로 실행"
   ]
  },
  {
   "cell_type": "code",
   "execution_count": null,
   "id": "85e0d6d1",
   "metadata": {},
   "outputs": [],
   "source": []
  },
  {
   "cell_type": "code",
   "execution_count": null,
   "id": "10068ecb",
   "metadata": {},
   "outputs": [],
   "source": []
  },
  {
   "cell_type": "markdown",
   "id": "ed40ab6d",
   "metadata": {},
   "source": [
    "## (4) 변수들의 특성에 맞게 변주형/연속형 변환 및 알고리즘이 이해가능한 숫자 형태로 변환 전처리"
   ]
  },
  {
   "cell_type": "code",
   "execution_count": null,
   "id": "d3806971",
   "metadata": {},
   "outputs": [],
   "source": []
  },
  {
   "cell_type": "code",
   "execution_count": null,
   "id": "39a0a53a",
   "metadata": {},
   "outputs": [],
   "source": []
  },
  {
   "cell_type": "markdown",
   "id": "5f348174",
   "metadata": {},
   "source": [
    "## (5) 데이터 스케일링도 반드시 실행하되 종류는 자유 선택 전처리"
   ]
  },
  {
   "cell_type": "code",
   "execution_count": null,
   "id": "a20fd38d",
   "metadata": {},
   "outputs": [],
   "source": []
  },
  {
   "cell_type": "code",
   "execution_count": null,
   "id": "f6e712c5",
   "metadata": {},
   "outputs": [],
   "source": []
  },
  {
   "cell_type": "markdown",
   "id": "74e98b0f",
   "metadata": {},
   "source": [
    "# **Applying Base Algorithm:** Linear Regression\n",
    "\n",
    "**1)** `비즈니스 목적` 달성을 위해 `선형회귀분석(Linear Regression) 알고리즘만을` 사용하여 `학습 및 예측(Train & Test 모두)` 진행\n",
    "\n",
    "**2)** `Train & Test` 데이터의 예측 결과를 `시각화로 표현`하여 얼마나 정확한지 확인\n",
    "\n",
    "**3)** 위의 예측 시각화로 `Train & Test 중 어떤 데이터가 성능이 좋은지 및 그 이유`를 주석으로 작성"
   ]
  },
  {
   "cell_type": "markdown",
   "id": "0100aba8",
   "metadata": {},
   "source": [
    "## (1) 비즈니스 목적 달성을 위해 선형회귀분석(Linear Regression) 알고리즘만을 사용하여 학습 및 예측(Train & Test 모두) 진행"
   ]
  },
  {
   "cell_type": "code",
   "execution_count": null,
   "id": "a10643bc",
   "metadata": {},
   "outputs": [],
   "source": []
  },
  {
   "cell_type": "code",
   "execution_count": null,
   "id": "21defbcc",
   "metadata": {},
   "outputs": [],
   "source": []
  },
  {
   "cell_type": "markdown",
   "id": "2619ba88",
   "metadata": {},
   "source": [
    "## (2) Train & Test 데이터의 예측 결과를 시각화로 표현하여 얼마나 정확한지 확인"
   ]
  },
  {
   "cell_type": "code",
   "execution_count": null,
   "id": "e8c58b53",
   "metadata": {},
   "outputs": [],
   "source": []
  },
  {
   "cell_type": "code",
   "execution_count": null,
   "id": "249b340d",
   "metadata": {},
   "outputs": [],
   "source": []
  },
  {
   "cell_type": "markdown",
   "id": "a6bda642",
   "metadata": {},
   "source": [
    "## (3) 위의 예측 시각화로 Train & Test 중 어떤 데이터가 성능이 좋은지 및 그 이유를 주석으로 작성"
   ]
  },
  {
   "cell_type": "code",
   "execution_count": null,
   "id": "cbacaf47",
   "metadata": {},
   "outputs": [],
   "source": []
  },
  {
   "cell_type": "code",
   "execution_count": null,
   "id": "8503a259",
   "metadata": {},
   "outputs": [],
   "source": []
  },
  {
   "cell_type": "markdown",
   "id": "35a40121",
   "metadata": {},
   "source": [
    "# **Evaluation:** 분석 성능 확인/평가하기 \n",
    "\n",
    "**1) `Train Explanation`**\n",
    "\n",
    "- `5% 유의수준을 기준`으로 `종속변수에 영향을 미치는 변수의 갯수와 이름`을 출력\n",
    "- `t-검정 결과`로 영향을 미치는 변수들이 `선택된 이유를 주석으로 설명`할 것\n",
    "\n",
    "**2) `Train & Test Performance`**\n",
    "\n",
    "- 분석 성능을 확인하기 위해 `Train & Test`의 `3가지 종류`의 `MAE, MSE, MAPE`를 출력\n",
    "- `Train & Test` 중에서 `어떤것이 성능이 좋은지 및 그 이유`를 주석으로 작성"
   ]
  },
  {
   "cell_type": "markdown",
   "id": "6837c303",
   "metadata": {},
   "source": [
    "## (1) `Train Explanation`\n",
    "\n",
    "- `5% 유의수준을 기준`으로 `종속변수에 영향을 미치는 변수의 갯수와 이릉`을 출력\n",
    "- `t-검정 결과`로 영향을 미치는 변수들이 `선택된 이유를 주석으로 설명`할 것"
   ]
  },
  {
   "cell_type": "code",
   "execution_count": null,
   "id": "5993ad3c",
   "metadata": {},
   "outputs": [],
   "source": []
  },
  {
   "cell_type": "code",
   "execution_count": null,
   "id": "841ed104",
   "metadata": {},
   "outputs": [],
   "source": []
  },
  {
   "cell_type": "markdown",
   "id": "c4ab3d5c",
   "metadata": {},
   "source": [
    "## (2) `Train & Test Performance`\n",
    "\n",
    "- 분석 성능을 확인하기 위해 `Train & Test`의 `5가지 종류`의 `R-squared, Adjusted R-squared, MAE, MSE, MAPE`를 출력\n",
    "- `Train & Test` 중에서 `어떤것이 성능이 좋은지 및 그 이유`를 주석으로 작성"
   ]
  },
  {
   "cell_type": "code",
   "execution_count": null,
   "id": "3e6afcd9",
   "metadata": {},
   "outputs": [],
   "source": []
  },
  {
   "cell_type": "code",
   "execution_count": null,
   "id": "062396f6",
   "metadata": {},
   "outputs": [],
   "source": []
  },
  {
   "cell_type": "markdown",
   "id": "8a5703a6",
   "metadata": {},
   "source": [
    "# **Error Analysis:** 분석 성능/종료 판단하기\n",
    "\n",
    "**1)** `잔차를 시각화`하여 `데이터에 남아있는 패턴이 어떤지 주석으로 설명`하고\n",
    "\n",
    "**2)** 향후 잔차를 백색잡음으로 만들어 모델링의 성능을 높이기 위해 `어떤 전처리와 모델링을 모두 고려`해 볼 수 있는지 주석으로 작성"
   ]
  },
  {
   "cell_type": "markdown",
   "id": "7ec3f234",
   "metadata": {},
   "source": [
    "## (1) 잔차를 시각화하여 데이터에 남아있는 패턴이 어떤지 주석으로 설명"
   ]
  },
  {
   "cell_type": "code",
   "execution_count": null,
   "id": "e0932f88",
   "metadata": {},
   "outputs": [],
   "source": []
  },
  {
   "cell_type": "code",
   "execution_count": null,
   "id": "1aa1f82b",
   "metadata": {},
   "outputs": [],
   "source": []
  },
  {
   "cell_type": "markdown",
   "id": "3126b222",
   "metadata": {},
   "source": [
    "## (2) 향후 잔차를 백색잡음으로 만들어 모델링의 성능을 높이기 위해 어떤 전처리와 모델링을 모두 고려해 볼 수 있는지 주석으로 작성"
   ]
  },
  {
   "cell_type": "code",
   "execution_count": null,
   "id": "f4f9e22a",
   "metadata": {},
   "outputs": [],
   "source": []
  },
  {
   "cell_type": "code",
   "execution_count": null,
   "id": "7b8e88ee",
   "metadata": {},
   "outputs": [],
   "source": []
  },
  {
   "cell_type": "markdown",
   "id": "575f95de",
   "metadata": {},
   "source": [
    "# **Business Insight and Application: 분석결과의 비즈니스 활용 기획 및 전략**\n",
    "\n",
    "- `반드시 분석 결과를 근거`로 `비즈니스 목적` 달성을 위해 어떻게 `비즈니스를 기획 또는 전략을 구성하면 좋을지 의견을 주석으로 자유 작성`"
   ]
  },
  {
   "cell_type": "code",
   "execution_count": null,
   "id": "9cbfb29d",
   "metadata": {},
   "outputs": [],
   "source": []
  },
  {
   "cell_type": "code",
   "execution_count": null,
   "id": "40e26c2f",
   "metadata": {},
   "outputs": [],
   "source": []
  },
  {
   "cell_type": "code",
   "execution_count": null,
   "id": "939b24d3",
   "metadata": {},
   "outputs": [],
   "source": []
  },
  {
   "cell_type": "code",
   "execution_count": 2,
   "id": "0452fd47",
   "metadata": {},
   "outputs": [
    {
     "name": "stdout",
     "output_type": "stream",
     "text": [
      "Intel64 Family 6 Model 154 Stepping 3, GenuineIntel\n",
      "16(GB)\n",
      "Windows\n",
      "10.0.22621\n",
      "C:\\DataScience\\Lecture\\All-About-Machine-Learning\\Test\n",
      "2023-01-04 12:28:59.787240\n",
      "2023-03-15 13:28:17.032365\n",
      "2023-03-15 13:28:17.032365\n",
      "2023-03-15 13:28:27.623224\n",
      "다음 출력을 파일명으로 설정하고 제출하시오: 김경원_20211011_인공지능활용디지털경제플랫폼연구_DA_SupervisedRegression\n"
     ]
    }
   ],
   "source": [
    "### 종료 및 본인정보 반영\n",
    "# 반드시 이 cell을 실행하시오\n",
    "# 실행하지 않을 시 직접 하지 않은 것으로 간주\n",
    "# 마지막 줄 출력으로 파일명을 설정하고 제출 필수\n",
    "import platform, psutil, os, datetime\n",
    "print(platform.processor())\n",
    "print(str(round(psutil.virtual_memory().total / (1024.0 **3)))+\"(GB)\")\n",
    "print(platform.system())\n",
    "print(platform.version())\n",
    "print(os.getcwd())\n",
    "print(datetime.datetime.fromtimestamp(os.path.getctime(os.getcwd())))\n",
    "print(datetime.datetime.fromtimestamp(os.path.getmtime(os.getcwd())))\n",
    "print(datetime.datetime.fromtimestamp(os.path.getatime(os.getcwd())))\n",
    "print(datetime.datetime.now())\n",
    "title = 'DA_SupervisedRegression'    # 고정값\n",
    "name = '김경원'    # 본인 이름을 작성\n",
    "studentid = '20211011'    # 본인 학번을 작성\n",
    "# 아래 강좌 명 중 본인이 수강하는 강과명 작성\n",
    "# 비즈니스데이터사이언스이해, E정보시스템, 디지털비즈니스애널리틱스, E데이터베이스, 인공지능기반의사결정, 빅데이터 등\n",
    "# 비즈니스혁신을위한데이터사이언스응용, 인공지능활용디지털경제플랫폼연구 등\n",
    "course = '인공지능활용디지털경제플랫폼연구'    \n",
    "print('다음 출력을 파일명으로 설정하고 제출하시오:', name + '_' + studentid + '_' + course + '_' + title)"
   ]
  }
 ],
 "metadata": {
  "hide_input": false,
  "kernelspec": {
   "display_name": "Python 3 (ipykernel)",
   "language": "python",
   "name": "python3"
  },
  "language_info": {
   "codemirror_mode": {
    "name": "ipython",
    "version": 3
   },
   "file_extension": ".py",
   "mimetype": "text/x-python",
   "name": "python",
   "nbconvert_exporter": "python",
   "pygments_lexer": "ipython3",
   "version": "3.11.5"
  },
  "toc": {
   "base_numbering": 1,
   "nav_menu": {},
   "number_sections": true,
   "sideBar": true,
   "skip_h1_title": false,
   "title_cell": "Table of Contents",
   "title_sidebar": "Contents",
   "toc_cell": false,
   "toc_position": {
    "height": "calc(100% - 180px)",
    "left": "10px",
    "top": "150px",
    "width": "307.188px"
   },
   "toc_section_display": true,
   "toc_window_display": true
  },
  "varInspector": {
   "cols": {
    "lenName": 16,
    "lenType": 16,
    "lenVar": 40
   },
   "kernels_config": {
    "python": {
     "delete_cmd_postfix": "",
     "delete_cmd_prefix": "del ",
     "library": "var_list.py",
     "varRefreshCmd": "print(var_dic_list())"
    },
    "r": {
     "delete_cmd_postfix": ") ",
     "delete_cmd_prefix": "rm(",
     "library": "var_list.r",
     "varRefreshCmd": "cat(var_dic_list()) "
    }
   },
   "types_to_exclude": [
    "module",
    "function",
    "builtin_function_or_method",
    "instance",
    "_Feature"
   ],
   "window_display": false
  }
 },
 "nbformat": 4,
 "nbformat_minor": 5
}
